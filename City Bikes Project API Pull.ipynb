{
 "cells": [
  {
   "cell_type": "markdown",
   "id": "de91942c",
   "metadata": {},
   "source": [
    "# CityBikes API Group Project"
   ]
  },
  {
   "cell_type": "code",
   "execution_count": 1,
   "id": "4e1f1463",
   "metadata": {},
   "outputs": [],
   "source": [
    "import pandas as pd\n",
    "import numpy as np"
   ]
  },
  {
   "cell_type": "code",
   "execution_count": 4,
   "id": "002362b5",
   "metadata": {},
   "outputs": [
    {
     "name": "stdout",
     "output_type": "stream",
     "text": [
      "{'networks': [{'company': ['ЗАО «СитиБайк»'], 'href': '/v2/networks/velobike-moscow', 'id': 'velobike-moscow', 'location': {'city': 'Moscow', 'country': 'RU', 'latitude': 55.75, 'longitude': 37.616667}, 'name': 'Velobike'}, {'company': ['Urban Infrastructure Partner'], 'href': '/v2/networks/baerum-bysykkel', 'id': 'baerum-bysykkel', 'location': {'city': 'Bærum', 'country': 'NO', 'latitude': 59.89455, 'longitude': 10.546343}, 'name': 'Bysykkel'}, {'company': ['Comunicare S.r.l.'], 'href': '/v2/networks/bicincitta-siena', 'id': 'bicincitta-siena', 'location': {'city': 'Siena', 'country': 'IT', 'latitude': 43.3186, 'longitude': 11.3306}, 'name': 'Bicincittà', 'source': 'https://www.bicincitta.com/frmLeStazioni.aspx?ID=202'}, {'company': ['Cyclopolis Systems'], 'href': '/v2/networks/cyclopolis-maroussi', 'id': 'cyclopolis-maroussi', 'location': {'city': 'Maroussi', 'country': 'GR', 'latitude': 38.0568722388, 'longitude': 23.8083299536}, 'name': 'Cyclopolis'}, {'company': ['Groundwork', 'Slough Borough Council', 'ITS'], 'href': '/v2/networks/cycle-hire-slough', 'id': 'cycle-hire-slough', 'location': {'city': 'Slough', 'country': 'GB', 'latitude': 51.51135, 'longitude': -0.591562}, 'name': 'Cycle Hire'}, {'company': ['Cyclopolis Systems'], 'href': '/v2/networks/cyclopolis-nafplio', 'id': 'cyclopolis-nafplio', 'location': {'city': 'Nafplio', 'country': 'GR', 'latitude': 37.5639397319, 'longitude': 22.8093402872}, 'name': 'Cyclopolis'}, {'company': ['Comunicare S.r.l.'], 'href': '/v2/networks/bicincitta-parco-dei-colli-di-bergamo', 'id': 'bicincitta-parco-dei-colli-di-bergamo', 'location': {'city': 'Parco dei Colli di Bergamo', 'country': 'IT', 'latitude': 45.72295637032245, 'longitude': 9.649230073016383}, 'name': 'Bicincittà', 'source': 'https://www.bicincitta.com/frmLeStazioni.aspx?ID=203'}, {'company': ['Cyclopolis Systems'], 'href': '/v2/networks/cyclopolis-aigialeia', 'id': 'cyclopolis-aigialeia', 'location': {'city': 'Aigialeia', 'country': 'GR', 'latitude': 38.2511101325, 'longitude': 22.0821570196}, 'name': 'Cyclopolis'}, {'company': ['Cyclopolis Systems'], 'href': '/v2/networks/cyclopolis-marathon', 'id': 'cyclopolis-marathon', 'location': {'city': 'Marathon', 'country': 'GR', 'latitude': 38.0855680022, 'longitude': 23.9776389963}, 'name': 'Cyclopolis'}, {'company': ['Comunicare S.r.l.'], 'href': '/v2/networks/bicincitta-mantova', 'id': 'bicincitta-mantova', 'location': {'city': 'Mantova', 'country': 'IT', 'latitude': 45.15866370764634, 'longitude': 10.783718973016335}, 'name': 'Bicincittà', 'source': 'https://www.bicincitta.com/frmLeStazioni.aspx?ID=204'}, {'company': ['Cyclopolis Systems'], 'href': '/v2/networks/cyclopolis-neasmyrni', 'id': 'cyclopolis-neasmyrni', 'location': {'city': 'Νea Smyrni', 'country': 'GR', 'latitude': 37.9381, 'longitude': 23.7126}, 'name': 'Cyclopolis'}, {'company': ['Cyclopolis Systems'], 'href': '/v2/networks/cyclopolis-moschatotavros', 'id': 'cyclopolis-moschatotavros', 'location': {'city': 'Μoschato-Tavros', 'country': 'GR', 'latitude': 37.9538991434, 'longitude': 23.6824746661}, 'name': 'Cyclopolis'}, {'company': ['Cyclopolis Systems'], 'href': '/v2/networks/cyclopolis-arxaiaolympia', 'id': 'cyclopolis-arxaiaolympia', 'location': {'city': 'Αrxaia Olympia', 'country': 'GR', 'latitude': 37.6419700934, 'longitude': 21.6247265179}, 'name': 'Cyclopolis'}, {'company': ['Cyclopolis Systems'], 'href': '/v2/networks/cyclopolis-kiato', 'id': 'cyclopolis-kiato', 'location': {'city': 'Kιato', 'country': 'GR', 'latitude': 38.0132674508, 'longitude': 22.7493819902}, 'name': 'Cyclopolis'}, {'company': ['Comunicare S.r.l.'], 'href': '/v2/networks/bicincitta-assemini', 'id': 'bicincitta-assemini', 'location': {'city': 'Assemini', 'country': 'IT', 'latitude': 39.28956306007679, 'longitude': 9.006601555294765}, 'name': 'Bicincittà', 'source': 'https://www.bicincitta.com/frmLeStazioni.aspx?ID=205'}, {'company': ['Cyclopolis Systems'], 'href': '/v2/networks/cyclopolis-rhodes', 'id': 'cyclopolis-rhodes', 'location': {'city': 'Rhodes', 'country': 'GR', 'latitude': 36.4509118, 'longitude': 28.2246966}, 'name': 'Cyclopolis'}, {'company': ['Cyclopolis Systems'], 'href': '/v2/networks/cyclopolis-florina', 'id': 'cyclopolis-florina', 'location': {'city': 'Florina', 'country': 'GR', 'latitude': 40.8016111, 'longitude': 21.4245222}, 'name': 'Cyclopolis'}, {'company': ['Comunicare S.r.l.'], 'href': '/v2/networks/bicincitta-tortoli', 'id': 'bicincitta-tortoli', 'location': {'city': 'Tortolì', 'country': 'IT', 'latitude': 39.92664489852196, 'longitude': 9.654953570777934}, 'name': 'Bicincittà', 'source': 'https://www.bicincitta.com/frmLeStazioni.aspx?ID=206'}, {'company': ['Cyclopolis Systems'], 'href': '/v2/networks/cyclopolis-limnos', 'id': 'cyclopolis-limnos', 'location': {'city': 'Limnos', 'country': 'GR', 'latitude': 39.8747861, 'longitude': 25.0586722}, 'name': 'Cyclopolis'}, {'company': ['Comunicare S.r.l.'], 'href': '/v2/networks/bicincitta-gaeta', 'id': 'bicincitta-gaeta', 'location': {'city': 'Gaeta', 'country': 'IT', 'latitude': 41.209620965538036, 'longitude': 13.584335125656139}, 'name': 'Bicincittà', 'source': 'https://www.bicincitta.com/frmLeStazioni.aspx?ID=207'}, {'company': ['Comunicare S.r.l.'], 'href': '/v2/networks/bicincitta-borgarello', 'id': 'bicincitta-borgarello', 'location': {'city': 'Borgarello', 'country': 'IT', 'latitude': 45.23963753440171, 'longitude': 9.136150475640875}, 'name': 'Bicincittà', 'source': 'https://www.bicincitta.com/frmLeStazioni.aspx?ID=208'}, {'company': ['Comunicare S.r.l.'], 'href': '/v2/networks/bicincitta-pizzighettone-formigara', 'id': 'bicincitta-pizzighettone-formigara', 'location': {'city': 'Pizzighettone e Formigara', 'country': 'IT', 'latitude': 45.186748819167434, 'longitude': 9.778087948479424}, 'name': 'Bicincittà', 'source': 'https://www.bicincitta.com/frmLeStazioni.aspx?ID=209'}, {'company': ['The National Transport Authority'], 'href': '/v2/networks/cork', 'id': 'cork', 'location': {'city': 'Cork', 'country': 'IE', 'latitude': 51.893604, 'longitude': -8.494174}, 'name': 'Coca-Cola Zero® Bikes'}, {'company': ['The National Transport Authority'], 'href': '/v2/networks/limerick', 'id': 'limerick', 'location': {'city': 'Limerick', 'country': 'IE', 'latitude': 52.668746, 'longitude': -8.627809}, 'name': 'Coca-Cola Zero® Bikes'}, {'company': ['BTS Group Holdings'], 'href': '/v2/networks/punpunbikeshare', 'id': 'punpunbikeshare', 'location': {'city': 'Bangkok', 'country': 'TH', 'latitude': 13.75, 'longitude': 100.516667}, 'name': 'Pun Pun Bike Share'}, {'company': ['The National Transport Authority'], 'href': '/v2/networks/galway', 'id': 'galway', 'location': {'city': 'Galway', 'country': 'IE', 'latitude': 53.2783491544, 'longitude': -9.05069143207}, 'name': 'Coca-Cola Zero® Bikes'}, {'company': ['Bike U Sp. z o.o.'], 'href': '/v2/networks/bbbike', 'id': 'bbbike', 'location': {'city': 'Bielsko-Biała', 'country': 'PL', 'latitude': 49.8225, 'longitude': 19.044444}, 'name': 'BBBike'}, {'company': ['Comunicare S.r.l.'], 'href': '/v2/networks/bicincitta-montecatini-terme', 'id': 'bicincitta-montecatini-terme', 'location': {'city': 'Montecatini Terme', 'country': 'IT', 'latitude': 43.88362791665083, 'longitude': 10.764385656591799}, 'name': 'Bicincittà', 'source': 'https://www.bicincitta.com/frmLeStazioni.aspx?ID=210'}, {'company': ['Bike U Sp. z o.o.'], 'href': '/v2/networks/bikeu-bra', 'id': 'bikeu-bra', 'location': {'city': 'Bydgoszcz', 'country': 'PL', 'latitude': 53.12193, 'longitude': 18.00038}, 'name': 'Bydgoski rower aglomeracyjny'}, {'company': ['PBSC', 'Serco Group plc'], 'href': '/v2/networks/santander-cycles', 'id': 'santander-cycles', 'location': {'city': 'London', 'country': 'GB', 'latitude': 51.51121389999999, 'longitude': -0.1198244}, 'name': 'Santander Cycles'}, {'company': ['PBSC', 'Alta Bicycle Share, Inc'], 'gbfs_href': 'https://asp.publicbikesystem.net/ube/gbfs/v1/gbfs.json', 'href': '/v2/networks/we-cycle', 'id': 'we-cycle', 'location': {'city': 'Aspen, CO', 'country': 'US', 'latitude': 39.194951, 'longitude': -106.837002}, 'name': 'WE-cycle'}, {'company': ['Comunicare S.r.l.'], 'href': '/v2/networks/bicincitta-carrara', 'id': 'bicincitta-carrara', 'location': {'city': 'Carrara', 'country': 'IT', 'latitude': 44.07731805550891, 'longitude': 10.097172450401331}, 'name': 'Bicincittà', 'source': 'https://www.bicincitta.com/frmLeStazioni.aspx?ID=211'}, {'company': ['PBSC', 'Alta Bicycle Share, Inc'], 'href': '/v2/networks/wowcycle-reykjavik', 'id': 'wowcycle-reykjavik', 'location': {'city': 'Reykjavík', 'country': 'IS', 'latitude': 64.128288, 'longitude': -21.827774}, 'name': 'WOW Citybike'}, {'company': ['Transparenzportal Hamburg'], 'href': '/v2/networks/stadtrad-hamburg', 'id': 'stadtrad-hamburg', 'license': {'name': 'Data licence Germany – attribution – version 2.0', 'url': 'https://www.govdata.de/dl-de/by-2-0'}, 'location': {'city': 'Hamburg', 'country': 'DE', 'latitude': 53.57532, 'longitude': 10.01534}, 'name': \"StadtRAD Hamburg'\"}, {'company': ['Comunicare S.r.l.'], 'href': '/v2/networks/tigullionbike', 'id': 'tigullionbike', 'location': {'city': 'Sestri Levante - Lavagna', 'country': 'IT', 'latitude': 44.272554, 'longitude': 9.395714}, 'name': 'Tigullionbike', 'source': 'https://www.bicincitta.com/frmLeStazioni.aspx?ID=80'}, {'company': ['Comunicare S.r.l.'], 'href': '/v2/networks/arbike', 'id': 'arbike', 'location': {'city': 'Arezzo', 'country': 'IT', 'latitude': 43.473333, 'longitude': 11.87}, 'name': 'ARbike', 'source': 'https://www.bicincitta.com/frmLeStazioni.aspx?ID=84'}, {'company': ['Velobike.kz, LLP', 'Smoove'], 'href': '/v2/networks/velobike', 'id': 'velobike', 'location': {'city': 'Astana', 'country': 'KZ', 'latitude': 51.166667, 'longitude': 71.416667}, 'name': 'Velobike'}, {'company': None, 'ebikes': True, 'gbfs_href': 'https://velib-metropole-opendata.smoove.pro/opendata/Velib_Metropole/gbfs.json', 'href': '/v2/networks/velib', 'id': 'velib', 'license': {'name': 'OPEN LICENCE 2.0', 'url': 'etalab.gouv.fr/wp-content/uploads/2018/11/open-licence.pdf'}, 'location': {'city': 'Paris', 'country': 'FR', 'latitude': 48.856614, 'longitude': 2.3522219}, 'name': \"Vélib' Métropole\"}, {'company': ['Comunicare S.r.l.'], 'href': '/v2/networks/ascoli-piceno', 'id': 'ascoli-piceno', 'location': {'city': 'Ascoli Piceno', 'country': 'IT', 'latitude': 42.85, 'longitude': 13.583333}, 'name': 'Ascoli Piceno', 'source': 'https://www.bicincitta.com/frmLeStazioni.aspx?ID=73'}, {'company': ['Comunicare S.r.l.'], 'href': '/v2/networks/bigi', 'id': 'bigi', 'location': {'city': 'Bergamo', 'country': 'IT', 'latitude': 45.695, 'longitude': 9.67}, 'name': 'BiGi', 'source': 'https://www.bicincitta.com/frmLeStazioni.aspx?ID=133'}, {'company': ['ICNITA S.L.'], 'href': '/v2/networks/girocleta', 'id': 'girocleta', 'location': {'city': 'Girona', 'country': 'ES', 'latitude': 41.9794005, 'longitude': 2.8214264}, 'name': 'Girocleta'}, {'company': ['Comunicare S.r.l.'], 'href': '/v2/networks/alba', 'id': 'alba', 'location': {'city': 'Alba', 'country': 'IT', 'latitude': 44.716667, 'longitude': 8.083333}, 'name': 'Alba', 'source': 'https://www.bicincitta.com/frmLeStazioni.aspx?ID=139'}, {'company': ['ClearChannel'], 'ebikes': True, 'href': '/v2/networks/bikemi', 'id': 'bikemi', 'location': {'city': 'Milano', 'country': 'IT', 'latitude': 45.4654542, 'longitude': 9.186516}, 'name': 'BikeMi'}, {'company': ['Comunicare S.r.l.'], 'href': '/v2/networks/biella', 'id': 'biella', 'location': {'city': 'Biella', 'country': 'IT', 'latitude': 45.5775, 'longitude': 8.051111}, 'name': 'Biella', 'source': 'https://www.bicincitta.com/frmLeStazioni.aspx?ID=112'}, {'company': ['Comunicare S.r.l.'], 'href': '/v2/networks/chivasso', 'id': 'chivasso', 'location': {'city': 'Chivasso', 'country': 'IT', 'latitude': 45.189765, 'longitude': 7.888935}, 'name': 'Chivasso', 'source': 'https://www.bicincitta.com/frmLeStazioni.aspx?ID=201'}, {'company': ['ClearChannel'], 'href': '/v2/networks/bizi', 'id': 'bizi', 'location': {'city': 'Zaragoza', 'country': 'ES', 'latitude': 41.6487908, 'longitude': -0.8895811}, 'name': 'Bizi'}, {'company': None, 'gbfs_href': 'https://gbfs.mex.lyftbikes.com/gbfs/gbfs.json', 'href': '/v2/networks/ecobici', 'id': 'ecobici', 'location': {'city': 'Cd de México', 'country': 'MX', 'latitude': 19.4326077, 'longitude': -99.133208}, 'name': 'EcoBici'}, {'company': ['Comunicare S.r.l.'], 'href': '/v2/networks/bici-in-busto', 'id': 'bici-in-busto', 'location': {'city': 'Busto Arsizio', 'country': 'IT', 'latitude': 45.610555, 'longitude': 8.852062}, 'name': 'Bici in Busto', 'source': 'https://www.bicincitta.com/frmLeStazioni.aspx?ID=66'}, {'company': ['ClearChannel'], 'href': '/v2/networks/velo-antwerpen', 'id': 'velo-antwerpen', 'location': {'city': 'Antwerpen', 'country': 'BE', 'latitude': 51.216667, 'longitude': 4.4}, 'name': 'Velo Antwerpen'}, {'company': ['Comunicare S.r.l.'], 'href': '/v2/networks/cuneo', 'id': 'cuneo', 'location': {'city': 'Cuneo', 'country': 'IT', 'latitude': 44.384238, 'longitude': 7.541428}, 'name': 'Cuneo', 'source': 'https://www.bicincitta.com/frmLeStazioni.aspx?ID=39'}, {'company': ['ClearChannel'], 'href': '/v2/networks/malmobybike', 'id': 'malmobybike', 'location': {'city': 'Malmö', 'country': 'SE', 'latitude': 55.605, 'longitude': 13.0038}, 'name': 'Malmö by bike'}, {'company': ['ClearChannel'], 'href': '/v2/networks/bicilascondes', 'id': 'bicilascondes', 'location': {'city': 'Las Condes', 'country': 'CL', 'latitude': -33.401944, 'longitude': -70.55}, 'name': 'Bici las Condes'}, {'company': 'Empresa Municipal de Transportes de Madrid, S.A.', 'href': '/v2/networks/bicimad', 'id': 'bicimad', 'location': {'city': 'Madrid', 'country': 'ES', 'latitude': 40.4168, 'longitude': -3.7038}, 'name': 'BiciMAD'}, {'company': ['Brainbox Technology', 'Smoove SAS'], 'href': '/v2/networks/easybike-didymoteicho', 'id': 'easybike-didymoteicho', 'location': {'city': 'Didymoteicho', 'country': 'GR', 'latitude': 41.3502539849, 'longitude': 26.4972960949}, 'name': 'EasyBike'}, {'company': ['Comunicare S.r.l.'], 'href': '/v2/networks/free-bike-sharing', 'id': 'free-bike-sharing', 'location': {'city': 'Frosinone', 'country': 'IT', 'latitude': 41.645081, 'longitude': 13.342123}, 'name': 'FRee Bike sharing', 'source': 'https://www.bicincitta.com/frmLeStazioni.aspx?ID=53'}, {'company': ['Brainbox Technology', 'Smoove SAS'], 'href': '/v2/networks/easybike-glyfada', 'id': 'easybike-glyfada', 'location': {'city': 'Glyfada', 'country': 'GR', 'latitude': 37.8715809825, 'longitude': 23.7355544376}, 'name': 'EasyBike'}, {'company': ['Brainbox Technology', 'Smoove SAS'], 'href': '/v2/networks/easybike-igoumenitsa', 'id': 'easybike-igoumenitsa', 'location': {'city': 'Igoumenitsa', 'country': 'GR', 'latitude': 39.5005770633, 'longitude': 20.2635206985}, 'name': 'EasyBike'}, {'company': ['Comunicare S.r.l.'], 'href': '/v2/networks/lecce', 'id': 'lecce', 'location': {'city': 'Lecce', 'country': 'IT', 'latitude': 40.35040350928062, 'longitude': 18.177824020385742}, 'name': 'lecce', 'source': 'https://www.bicincitta.com/frmLeStazioni.aspx?ID=159'}, {'company': ['Brainbox Technology', 'Smoove SAS'], 'href': '/v2/networks/easybike-ioannina', 'id': 'easybike-ioannina', 'location': {'city': 'Ioannina', 'country': 'GR', 'latitude': 39.6639818, 'longitude': 20.8522784}, 'name': 'EasyBike'}, {'company': ['Brainbox Technology', 'Smoove SAS'], 'href': '/v2/networks/easybike-karditsa', 'id': 'easybike-karditsa', 'location': {'city': 'Karditsa', 'country': 'GR', 'latitude': 39.3634604, 'longitude': 21.9211192}, 'name': 'EasyBike'}, {'company': ['Comunicare S.r.l.'], 'href': '/v2/networks/manerba-in-bici', 'id': 'manerba-in-bici', 'location': {'city': 'Manerba del Garda', 'country': 'IT', 'latitude': 45.561179, 'longitude': 10.559406}, 'name': 'Manerba in Bici', 'source': 'https://www.bicincitta.com/frmLeStazioni.aspx?ID=102'}, {'company': ['Brainbox Technology', 'Smoove SAS'], 'href': '/v2/networks/easybike-kavala', 'id': 'easybike-kavala', 'location': {'city': 'Kavala', 'country': 'GR', 'latitude': 40.9369068, 'longitude': 24.4122164}, 'name': 'EasyBike'}, {'company': ['Brainbox Technology', 'Smoove SAS'], 'href': '/v2/networks/easybike-kinouria', 'id': 'easybike-kinouria', 'location': {'city': 'Kinouria', 'country': 'GR', 'latitude': 37.1476704305, 'longitude': 22.8933729935}, 'name': 'EasyBike'}, {'company': ['Brainbox Technology', 'Smoove SAS'], 'href': '/v2/networks/easybike-komotini', 'id': 'easybike-komotini', 'location': {'city': 'Komotini', 'country': 'GR', 'latitude': 41.117833, 'longitude': 25.4041307}, 'name': 'EasyBike'}, {'company': ['Brainbox Technology', 'Smoove SAS'], 'href': '/v2/networks/easybike-patra', 'id': 'easybike-patra', 'location': {'city': 'Patra', 'country': 'GR', 'latitude': 38.2410966371, 'longitude': 21.7259683418}, 'name': 'EasyBike'}, {'company': ['Comunicare S.r.l.'], 'href': '/v2/networks/mar-e-bici', 'id': 'mar-e-bici', 'location': {'city': 'Marciana Marina', 'country': 'IT', 'latitude': 42.805855, 'longitude': 10.196514}, 'name': 'Mar e Bici', 'source': 'https://www.bicincitta.com/frmLeStazioni.aspx?ID=90'}, {'company': ['Brainbox Technology', 'Smoove SAS'], 'href': '/v2/networks/easybike-rethymno', 'id': 'easybike-rethymno', 'location': {'city': 'Rethymno', 'country': 'GR', 'latitude': 35.3667571777, 'longitude': 24.4832845736}, 'name': 'EasyBike'}, {'company': ['Brainbox Technology', 'Smoove SAS'], 'href': '/v2/networks/easybike-samos', 'id': 'easybike-samos', 'location': {'city': 'Samos', 'country': 'GR', 'latitude': 37.754065919, 'longitude': 26.9787850189}, 'name': 'EasyBike'}, {'company': ['Comunicare S.r.l.'], 'href': '/v2/networks/novara', 'id': 'novara', 'location': {'city': 'Novara', 'country': 'IT', 'latitude': 45.44574, 'longitude': 8.622165}, 'name': 'Novara', 'source': 'https://www.bicincitta.com/frmLeStazioni.aspx?ID=131'}, {'company': ['Brainbox Technology', 'Smoove SAS'], 'href': '/v2/networks/easybike-nicosia', 'id': 'easybike-nicosia', 'location': {'city': 'Nicosia', 'country': 'CY', 'latitude': 35.1739302, 'longitude': 33.364726}, 'name': 'EasyBike'}, {'company': ['Brainbox Technology', 'Smoove SAS'], 'href': '/v2/networks/easybike-mani', 'id': 'easybike-mani', 'location': {'city': 'Mani', 'country': 'GR', 'latitude': 41.4097472, 'longitude': 26.4024952}, 'name': 'EasyBike'}, {'company': ['Brainbox Technology', 'Smoove SAS'], 'href': '/v2/networks/easybike-irakleio', 'id': 'easybike-irakleio', 'location': {'city': 'Irakleio', 'country': 'GR', 'latitude': 35.338735, 'longitude': 25.144213}, 'name': 'EasyBike'}, {'company': ['Brainbox Technology', 'Smoove SAS'], 'href': '/v2/networks/thessbike', 'id': 'thessbike', 'location': {'city': 'Thessaloniki', 'country': 'GR', 'latitude': 40.6403167, 'longitude': 22.9352716}, 'name': 'ThessBike'}, {'company': ['Brainbox Technology', 'Smoove SAS'], 'href': '/v2/networks/athens-bikes', 'id': 'athens-bikes', 'location': {'city': 'Athens', 'country': 'GR', 'latitude': 37.9838, 'longitude': 23.7275}, 'name': 'AthensBikes'}, {'company': ['Comunicare S.r.l.'], 'href': '/v2/networks/goodbike', 'id': 'goodbike', 'location': {'city': 'Padova', 'country': 'IT', 'latitude': 45.4064349, 'longitude': 11.8767611}, 'name': 'GoodBike', 'source': 'http://www.goodbikepadova.it/frmLeStazioni.aspx?ID=59'}, {'company': ['PegBike'], 'href': '/v2/networks/ciclosampa', 'id': 'ciclosampa', 'location': {'city': 'São Paulo', 'country': 'BR', 'latitude': -23.55, 'longitude': -46.6333}, 'name': 'CicloSampa'}, {'company': None, 'gbfs_href': 'https://acoruna.publicbikesystem.net/customer/gbfs/v2/gbfs.json', 'href': '/v2/networks/bicicorunha', 'id': 'bicicorunha', 'location': {'city': 'A Coruña', 'country': 'ES', 'latitude': 43.3623, 'longitude': -8.4115}, 'name': 'Bicicoruña'}, {'company': ['Tuimil S.A.'], 'href': '/v2/networks/bici-ferrol-terra', 'id': 'bici-ferrol-terra', 'location': {'city': 'Ferrol - Narón', 'country': 'ES', 'latitude': 43.4896, 'longitude': -8.2193}, 'name': 'BiciFerrolTerra'}, {'company': ['Social Bicycles Inc.'], 'gbfs_href': 'http://curtinbikeshare.com/opendata/gbfs.json', 'href': '/v2/networks/curtin-bike-share', 'id': 'curtin-bike-share', 'location': {'city': 'Curtin University, Perth, WA', 'country': 'AU', 'latitude': -32.0034172153127, 'longitude': 115.89431270956993}, 'name': 'Curtin Bike Share'}, {'company': ['Social Bicycles Inc.'], 'gbfs_href': 'https://monashbikeshare.com/opendata/gbfs.json', 'href': '/v2/networks/monash-bikeshare', 'id': 'monash-bikeshare', 'location': {'city': 'Melbourne, AU', 'country': 'AU', 'latitude': -37.91238410208696, 'longitude': 145.1362281292677}, 'name': 'Monash BikeShare'}, {'company': ['Comunicare S.r.l.'], 'href': '/v2/networks/mimuovofe', 'id': 'mimuovofe', 'location': {'city': 'Ferrara', 'country': 'IT', 'latitude': 44.8350382, 'longitude': 11.6240562}, 'name': 'Mi Muovo in Bici', 'source': 'http://www.mimuovoinbici.it/frmLeStazioni.aspx?ID=142'}, {'company': ['Motivate International, Inc.', 'PBSC Urban Solutions', 'BIXI Montréal'], 'ebikes': True, 'gbfs_href': 'https://gbfs.velobixi.com/gbfs/gbfs.json', 'href': '/v2/networks/bixi-montreal', 'id': 'bixi-montreal', 'location': {'city': 'Montréal, QC', 'country': 'CA', 'latitude': 45.508693, 'longitude': -73.553928}, 'name': 'Bixi'}, {'company': ['Comunicare S.r.l.'], 'href': '/v2/networks/parma', 'id': 'parma', 'location': {'city': 'Parma', 'country': 'IT', 'latitude': 44.801485, 'longitude': 10.3279036}, 'name': 'Mi Muovo in Bici', 'source': 'http://www.mimuovoinbici.it/frmLeStazioni.aspx?ID=58'}, {'company': ['Motivate International, Inc.', 'PBSC Urban Solutions'], 'gbfs_href': 'https://tor.publicbikesystem.net/ube/gbfs/v1/', 'href': '/v2/networks/bixi-toronto', 'id': 'bixi-toronto', 'location': {'city': 'Toronto, ON', 'country': 'CA', 'latitude': 43.653226, 'longitude': -79.3831843}, 'name': 'Bike Share Toronto'}, {'company': ['Social Bicycles Inc.'], 'gbfs_href': 'https://hamilton.socialbicycles.com/opendata/gbfs.json', 'href': '/v2/networks/sobi-hamilton', 'id': 'sobi-hamilton', 'location': {'city': 'Hamilton, ON', 'country': 'CA', 'latitude': 43.25643601915583, 'longitude': -79.86929655075073}, 'name': 'SoBi'}, {'company': ['Clean Energy Coalition', 'BCycle, LLC'], 'gbfs_href': 'https://gbfs.bcycle.com/bcycle_arborbike/gbfs.json', 'href': '/v2/networks/arborbike', 'id': 'arborbike', 'location': {'city': 'Ann Arbor, MI', 'country': 'US', 'latitude': 42.27853, 'longitude': -83.74536}, 'name': 'ArborBike'}, {'company': ['Comunicare S.r.l.'], 'href': '/v2/networks/pavia-in-bici', 'id': 'pavia-in-bici', 'location': {'city': 'Pavia', 'country': 'IT', 'latitude': 45.1847248, 'longitude': 9.1582069}, 'name': 'Pavia in bici', 'source': 'https://www.bicincitta.com/frmLeStazioni.aspx?ID=45'}, {'company': ['Comunicare S.r.l.'], 'href': '/v2/networks/bici-perugia', 'id': 'bici-perugia', 'location': {'city': 'Perugia', 'country': 'IT', 'latitude': 43.1107168, 'longitude': 12.3908279}, 'name': 'Bici Perugia', 'source': 'https://www.bicincitta.com/frmLeStazioni.aspx?ID=122'}, {'company': ['BCycle, LLC'], 'gbfs_href': 'https://gbfs.bcycle.com/bcycle_austin/gbfs.json', 'href': '/v2/networks/austin', 'id': 'austin', 'location': {'city': 'Austin, TX', 'country': 'US', 'latitude': 30.26408, 'longitude': -97.74355}, 'name': 'Austin B-cycle'}, {'company': ['Motivate International, Inc', 'PBSC'], 'ebikes': True, 'gbfs_href': 'https://chat.publicbikesystem.net/ube/gbfs/v1/', 'href': '/v2/networks/bike-chattanooga', 'id': 'bike-chattanooga', 'location': {'city': 'Chattanooga, TN', 'country': 'US', 'latitude': 35.0456297, 'longitude': -85.3096801}, 'name': 'Bike Chattanooga'}, {'company': ['Comunicare S.r.l.'], 'href': '/v2/networks/piacenza', 'id': 'piacenza', 'location': {'city': 'Piacenza', 'country': 'IT', 'latitude': 45.0473754, 'longitude': 9.6865813}, 'name': 'Mi Muovo in Bici', 'source': 'http://www.mimuovoinbici.it/frmLeStazioni.aspx?ID=148'}, {'company': ['Comunicare S.r.l.'], 'href': '/v2/networks/pinerolo', 'id': 'pinerolo', 'location': {'city': 'Pinerolo', 'country': 'IT', 'latitude': 44.8850256, 'longitude': 7.3499953}, 'name': 'Pinerolo', 'source': 'https://www.bicincitta.com/frmLeStazioni.aspx?ID=71'}, {'company': ['Portland Bureau of Transportation (PBOT)', 'Lyft Inc.'], 'gbfs_href': 'https://gbfs.biketownpdx.com/gbfs/gbfs.json', 'href': '/v2/networks/biketown', 'id': 'biketown', 'location': {'city': 'Portland, OR', 'country': 'US', 'latitude': 45.52175423291714, 'longitude': -122.68107935786247}, 'name': 'BIKETOWN'}, {'company': ['Comunicare S.r.l.'], 'href': '/v2/networks/reggio-emilia', 'id': 'reggio-emilia', 'location': {'city': 'Reggio Emilia', 'country': 'IT', 'latitude': 44.6989932, 'longitude': 10.6296859}, 'name': 'Mi Muovo in Bici', 'source': 'http://www.mimuovoinbici.it/frmLeStazioni.aspx?ID=155'}, {'company': ['CycleHop, LLC', 'Social Bicycles Inc.'], 'gbfs_href': 'http://britebikes.socialbicycles.com/opendata/gbfs.json', 'href': '/v2/networks/britebikes', 'id': 'britebikes', 'location': {'city': 'San Ramon, CA', 'country': 'US', 'latitude': 37.759444753878, 'longitude': -121.955134881881}, 'name': 'BRiteBikes'}, {'company': ['ValleyRide', 'Social Bicycles Inc.'], 'gbfs_href': 'http://boise.greenbike.com/opendata/gbfs.json', 'href': '/v2/networks/boise-greenbike', 'id': 'boise-greenbike', 'location': {'city': 'Boise, ID', 'country': 'US', 'latitude': 43.6153060610528, 'longitude': -116.201761349309}, 'name': 'Boise GreenBike'}, {'company': ['BCycle, LLC'], 'gbfs_href': 'https://gbfs.bcycle.com/bcycle_boulder/gbfs.json', 'href': '/v2/networks/boulder', 'id': 'boulder', 'location': {'city': 'Boulder, CO', 'country': 'US', 'latitude': 40.00811, 'longitude': -105.26385}, 'name': 'Boulder B-cycle'}, {'company': ['CycleHop, LLC', 'Social Bicycles Inc.'], 'gbfs_href': 'http://santamonicabikeshare.com/opendata/gbfs.json', 'href': '/v2/networks/breeze-bike-share', 'id': 'breeze-bike-share', 'location': {'city': 'Santa Monica, CA', 'country': 'US', 'latitude': 34.01780925008178, 'longitude': -118.4965717792511}, 'name': 'Breeze Bike Share'}, {'company': ['Comunicare S.r.l.'], 'href': '/v2/networks/rimini', 'id': 'rimini', 'location': {'city': 'Rimini', 'country': 'IT', 'latitude': 44.0570817, 'longitude': 12.5646003}, 'name': 'Mi Muovo in Bici', 'source': 'http://www.mimuovoinbici.it/frmLeStazioni.aspx?ID=149'}, {'company': ['BCycle, LLC'], 'gbfs_href': 'https://gbfs.bcycle.com/bcycle_broward/gbfs.json', 'href': '/v2/networks/broward', 'id': 'broward', 'location': {'city': 'Fort Lauderdale, FL', 'country': 'US', 'latitude': 26.12026, 'longitude': -80.14819}, 'name': 'Broward B-cycle'}, {'company': ['BCycle, LLC'], 'gbfs_href': 'https://gbfs.bcycle.com/bcycle_bublr/gbfs.json', 'href': '/v2/networks/bublr-bikes', 'id': 'bublr-bikes', 'location': {'city': 'Milwaukee, WI', 'country': 'US', 'latitude': 43.0369, 'longitude': -87.89667}, 'name': 'Bublr Bikes'}, {'company': ['Shared Mobility Inc.', 'Social Bicycles Inc.'], 'gbfs_href': 'https://reddybikeshare.socialbicycles.com/opendata/gbfs.json', 'href': '/v2/networks/reddy-bike-share', 'id': 'reddy-bike-share', 'location': {'city': 'Buffalo, NY', 'country': 'US', 'latitude': 42.89373841865211, 'longitude': -78.8718044757843}, 'name': 'Reddy Bike Share'}, {'company': ['Motivate International, Inc.', 'PBSC Urban Solutions'], 'ebikes': True, 'gbfs_href': 'https://gbfs.capitalbikeshare.com/gbfs/gbfs.json', 'href': '/v2/networks/capital-bikeshare', 'id': 'capital-bikeshare', 'location': {'city': 'Washington, DC', 'country': 'US', 'latitude': 38.8967584, 'longitude': -77.03701629999999}, 'name': 'Capital BikeShare'}, {'company': ['BCycle, LLC'], 'gbfs_href': 'https://gbfs.bcycle.com/bcycle_charlotte/gbfs.json', 'href': '/v2/networks/charlotte', 'id': 'charlotte', 'location': {'city': 'Charlotte, NC', 'country': 'US', 'latitude': 35.22716, 'longitude': -80.83855}, 'name': 'Charlotte B-cycle'}, {'company': ['Comunicare S.r.l.'], 'href': '/v2/networks/saluzzo', 'id': 'saluzzo', 'location': {'city': 'Saluzzo', 'country': 'IT', 'latitude': 44.6445404, 'longitude': 7.492735499999999}, 'name': 'Saluzzo', 'source': 'https://www.bicincitta.com/frmLeStazioni.aspx?ID=51'}, {'company': ['BCycle, LLC'], 'gbfs_href': 'https://gbfs.bcycle.com/bcycle_cincyredbike/gbfs.json', 'href': '/v2/networks/cincy-red-bike', 'id': 'cincy-red-bike', 'location': {'city': 'Cincinnati, OH', 'country': 'US', 'latitude': 39.10138, 'longitude': -84.51217}, 'name': 'Cincy Red Bike'}, {'company': ['Comunicare S.r.l.'], 'href': '/v2/networks/savigliano', 'id': 'savigliano', 'location': {'city': 'Savigliano', 'country': 'IT', 'latitude': 44.6470327, 'longitude': 7.662463499999999}, 'name': 'Savigliano', 'source': 'https://www.bicincitta.com/frmLeStazioni.aspx?ID=52'}, {'company': ['NYC Bike Share, LLC', 'Motivate International, Inc.', 'PBSC Urban Solutions'], 'ebikes': True, 'gbfs_href': 'https://gbfs.citibikenyc.com/gbfs/gbfs.json', 'href': '/v2/networks/citi-bike-nyc', 'id': 'citi-bike-nyc', 'location': {'city': 'New York, NY', 'country': 'US', 'latitude': 40.7143528, 'longitude': -74.00597309999999}, 'name': 'Citi Bike'}, {'company': ['CycleHop, LLC'], 'gbfs_href': 'https://gbfs.hopr.city/api/gbfs/8/', 'href': '/v2/networks/coast-bike-share', 'id': 'coast-bike-share', 'location': {'city': 'Tampa, FL', 'country': 'US', 'latitude': 27.9627193250593, 'longitude': -82.438056400783}, 'name': 'Coast Bike Share'}, {'company': ['Comunicare S.r.l.'], 'href': '/v2/networks/terni', 'id': 'terni', 'location': {'city': 'Terni', 'country': 'IT', 'latitude': 42.5636168, 'longitude': 12.6426604}, 'name': 'Terni', 'source': 'https://www.bicincitta.com/frmLeStazioni.aspx?ID=134'}, {'company': ['Motivate International, Inc.', 'PBSC Urban Solutions'], 'ebikes': True, 'gbfs_href': 'https://gbfs.cogobikeshare.com/gbfs/gbfs.json', 'href': '/v2/networks/cogo', 'id': 'cogo', 'location': {'city': 'Columbus, OH', 'country': 'US', 'latitude': 39.983333, 'longitude': -82.983333}, 'name': 'CoGo'}, {'company': ['BCycle, LLC'], 'gbfs_href': 'https://gbfs.bcycle.com/bcycle_denver/gbfs.json', 'href': '/v2/networks/denver', 'id': 'denver', 'location': {'city': 'Denver, CO', 'country': 'US', 'latitude': 39.72055, 'longitude': -104.95253}, 'name': 'Denver B-cycle'}, {'company': ['Motivate International, Inc.', 'PBSC Urban Solutions'], 'ebikes': True, 'gbfs_href': 'https://gbfs.divvybikes.com/gbfs/gbfs.json', 'href': '/v2/networks/divvy', 'id': 'divvy', 'location': {'city': 'Chicago, IL', 'country': 'US', 'latitude': 41.8781136, 'longitude': -87.6297982}, 'name': 'Divvy'}, {'company': ['Comunicare S.r.l.'], 'href': '/v2/networks/tirano-in-bici', 'id': 'tirano-in-bici', 'location': {'city': 'Tirano', 'country': 'IT', 'latitude': 46.216168, 'longitude': 10.1696056}, 'name': 'Tirano in Bici', 'source': 'https://www.bicincitta.com/frmLeStazioni.aspx?ID=141'}, {'company': ['BCycle, LLC'], 'gbfs_href': 'https://gbfs.bcycle.com/bcycle_elpaso/gbfs.json', 'href': '/v2/networks/elpaso', 'id': 'elpaso', 'location': {'city': 'El Paso, TX', 'country': 'US', 'latitude': 31.76148, 'longitude': -106.48507}, 'name': 'El Paso B-cycle'}, {'company': ['BCycle, LLC'], 'gbfs_href': 'https://gbfs.bcycle.com/bcycle_fortworth/gbfs.json', 'href': '/v2/networks/fortworth', 'id': 'fortworth', 'location': {'city': 'Fort Worth, TX', 'country': 'US', 'latitude': 32.7516, 'longitude': -97.32888}, 'name': 'Fort Worth Bike Sharing'}, {'company': ['Comunicare S.r.l.'], 'href': '/v2/networks/udine', 'id': 'udine', 'location': {'city': 'Udine', 'country': 'IT', 'latitude': 46.0710668, 'longitude': 13.2345794}, 'name': 'Udine', 'source': 'https://www.bicincitta.com/frmLeStazioni.aspx?ID=126'}, {'company': ['BCycle, LLC'], 'gbfs_href': 'https://gbfs.bcycle.com/bcycle_greatrides/gbfs.json', 'href': '/v2/networks/greatrides', 'id': 'greatrides', 'location': {'city': 'Fargo, ND', 'country': 'US', 'latitude': 46.89248, 'longitude': -96.80095}, 'name': 'Great Rides Bike Share'}, {'company': ['BCycle, LLC'], 'gbfs_href': 'https://gbfs.bcycle.com/bcycle_greenbikeslc/gbfs.json', 'href': '/v2/networks/greenbikeslc', 'id': 'greenbikeslc', 'location': {'city': 'Salt Lake City', 'country': 'US', 'latitude': 40.76745, 'longitude': -111.88736}, 'name': 'GREENbike'}, {'company': ['CycleHop, LLC', 'Social Bicycles Inc.'], 'gbfs_href': 'https://grid.socialbicycles.com/opendata/gbfs.json', 'href': '/v2/networks/grid-bike-share', 'id': 'grid-bike-share', 'location': {'city': 'Phoenix, AZ', 'country': 'US', 'latitude': 33.4591031356657, 'longitude': -112.074010667085}, 'name': 'Grid Bike Share'}, {'company': ['BCycle, LLC'], 'gbfs_href': 'https://gbfs.bcycle.com/bcycle_heartland/gbfs.json', 'href': '/v2/networks/omaha', 'id': 'omaha', 'location': {'city': 'Omaha, NE', 'country': 'US', 'latitude': 41.25832, 'longitude': -96.00853}, 'name': 'Heartland B-cycle'}, {'company': ['BCycle, LLC'], 'gbfs_href': 'https://gbfs.bcycle.com/bcycle_houston/gbfs.json', 'href': '/v2/networks/houston', 'id': 'houston', 'location': {'city': 'Houston, TX', 'country': 'US', 'latitude': 29.75983, 'longitude': -95.36949}, 'name': 'Houston B-cycle'}, {'company': ['Motivate International, Inc.', 'PBSC Urban Solutions'], 'ebikes': True, 'gbfs_href': 'https://gbfs.bluebikes.com/gbfs/gbfs.json', 'href': '/v2/networks/blue-bikes', 'id': 'blue-bikes', 'location': {'city': 'Boston, MA', 'country': 'US', 'latitude': 42.3584308, 'longitude': -71.0597732}, 'name': 'Blue Bikes'}, {'company': ['Comunicare S.r.l.'], 'href': '/v2/networks/ustica', 'id': 'ustica', 'location': {'city': 'Ustica', 'country': 'IT', 'latitude': 38.7031179, 'longitude': 13.1682675}, 'name': 'Ustica', 'source': 'https://www.bicincitta.com/frmLeStazioni.aspx?ID=138'}, {'company': ['City of Philadelphia', 'Bicycle Transit Systems', 'BCycle, LLC'], 'gbfs_href': 'https://gbfs.bcycle.com/bcycle_indego/gbfs.json', 'href': '/v2/networks/indego', 'id': 'indego', 'location': {'city': 'Philadelphia, PA', 'country': 'US', 'latitude': 39.95378, 'longitude': -75.16374}, 'name': 'Indego'}, {'company': ['BCycle, LLC'], 'gbfs_href': 'https://gbfs.bcycle.com/bcycle_pacersbikeshare/gbfs.json', 'href': '/v2/networks/indiana-pacers-bikeshare', 'id': 'indiana-pacers-bikeshare', 'location': {'city': 'Indianapolis, IN', 'country': 'US', 'latitude': 39.76593, 'longitude': -86.16216}, 'name': 'Indiana Pacers Bikeshare'}, {'company': ['CycleHop, LLC', 'Social Bicycles Inc.'], 'gbfs_href': 'https://juicebikeshare.com/opendata/gbfs.json', 'href': '/v2/networks/juice-bike-share', 'id': 'juice-bike-share', 'location': {'city': 'Orlando, FL', 'country': 'US', 'latitude': 28.536663311743688, 'longitude': -81.37922197580338}, 'name': 'Juice'}, {'company': ['Comunicare S.r.l.'], 'href': '/v2/networks/bici-co', 'id': 'bici-co', 'location': {'city': 'Como', 'country': 'IT', 'latitude': 45.8080597, 'longitude': 9.0851765}, 'name': 'BICI&CO', 'source': 'https://www.bicincitta.com/frmLeStazioni.aspx?ID=157'}, {'company': ['BCycle, LLC'], 'gbfs_href': 'https://gbfs.bcycle.com/bcycle_kc/gbfs.json', 'href': '/v2/networks/kansascity', 'id': 'kansascity', 'location': {'city': 'Kansas City, MO', 'country': 'US', 'latitude': 39.0999, 'longitude': -94.5857}, 'name': 'B-cycle'}, {'company': ['BCycle, LLC'], 'gbfs_href': 'https://gbfs.bcycle.com/bcycle_linkdayton/gbfs.json', 'href': '/v2/networks/linkdayton', 'id': 'linkdayton', 'location': {'city': 'Dayton, OH', 'country': 'US', 'latitude': 39.75626, 'longitude': -84.21119}, 'name': 'Link'}, {'company': ['BCycle, LLC'], 'gbfs_href': 'https://gbfs.bcycle.com/bcycle_madison/gbfs.json', 'href': '/v2/networks/madison', 'id': 'madison', 'location': {'city': 'Madison, WI', 'country': 'US', 'latitude': 43.07571, 'longitude': -89.38527}, 'name': 'B-cycle'}, {'company': ['Los Angeles County Metropolitan Transportation Authority (Metro)', 'Bicycle Transit Systems', 'BCycle, LLC'], 'gbfs_href': 'https://gbfs.bcycle.com/bcycle_lametro/gbfs.json', 'href': '/v2/networks/metro-bike-share', 'id': 'metro-bike-share', 'location': {'city': 'Los Angeles, CA', 'country': 'US', 'latitude': 34.04855, 'longitude': -118.25905}, 'name': 'Metro Bike Share'}, {'company': ['Mountain Rides', 'Social Bicycles Inc.'], 'gbfs_href': 'http://mrbikeshare.org/opendata/gbfs.json', 'href': '/v2/networks/mountain-rides-bike-share', 'id': 'mountain-rides-bike-share', 'location': {'city': 'Ketchum / Sun Valley, ID', 'country': 'US', 'latitude': 43.5194695168239, 'longitude': -114.317415758737}, 'name': 'Mountain Rides Bike Share'}, {'company': ['Nice Ride Minnesota', 'Lyft'], 'gbfs_href': 'https://gbfs.niceridemn.com/gbfs/gbfs.json', 'href': '/v2/networks/nice-ride', 'id': 'nice-ride', 'location': {'city': 'Minneapolis, MN', 'country': 'US', 'latitude': 44.983334, 'longitude': -93.26666999999999}, 'name': 'Nice Ride'}, {'company': ['Comunicare S.r.l.'], 'href': '/v2/networks/speziainbici', 'id': 'speziainbici', 'location': {'city': 'La Spezia', 'country': 'IT', 'latitude': 44.1024504, 'longitude': 9.824082599999999}, 'name': 'Speziainbici', 'source': 'https://www.bicincitta.com/frmLeStazioni.aspx?ID=137'}, {'company': ['BCycle, LLC'], 'gbfs_href': 'https://gbfs.bcycle.com/bcycle_sanantonio/gbfs.json', 'href': '/v2/networks/sanantonio', 'id': 'sanantonio', 'location': {'city': 'San Antonio, TX', 'country': 'US', 'latitude': 29.43701, 'longitude': -98.48236}, 'name': 'SWell Cycle'}, {'company': ['Social Bicycles Inc.'], 'gbfs_href': 'https://usf.socialbicycles.com/opendata/gbfs.json', 'href': '/v2/networks/share-a-bull-bikes', 'id': 'share-a-bull-bikes', 'location': {'city': 'University of South Florida, FL', 'country': 'US', 'latitude': 28.060548696070995, 'longitude': -82.4076198041439}, 'name': 'Share-a-Bull Bikes'}, {'company': ['Comunicare S.r.l.'], 'href': '/v2/networks/venezia', 'id': 'venezia', 'location': {'city': 'Venezia', 'country': 'IT', 'latitude': 45.4408474, 'longitude': 12.3155151}, 'name': 'Venezia', 'source': 'https://www.bicincitta.com/frmLeStazioni.aspx?ID=93'}, {'company': ['Social Bicycles Inc.'], 'gbfs_href': 'http://sobilongbeach.com/opendata/gbfs.json', 'href': '/v2/networks/sobi-long-beach', 'id': 'sobi-long-beach', 'location': {'city': 'Long Beach, NY', 'country': 'US', 'latitude': 40.5833058203002, 'longitude': -73.6482682794673}, 'name': 'SoBi'}, {'company': ['BCycle, LLC'], 'gbfs_href': 'https://gbfs.bcycle.com/bcycle_spartanburg/gbfs.json', 'href': '/v2/networks/spartanburg', 'id': 'spartanburg', 'location': {'city': 'Spartanburg, SC', 'country': 'US', 'latitude': 34.94867, 'longitude': -81.93345}, 'name': 'Spartanburg BCycle'}, {'company': ['Topeka Metropolitan Transit Authority', 'Social Bicycles Inc.'], 'gbfs_href': 'http://topekametrobikes.org/opendata/gbfs.json', 'href': '/v2/networks/topeka-metro-bikes', 'id': 'topeka-metro-bikes', 'location': {'city': 'Topeka, KS', 'country': 'US', 'latitude': 39.0337646098385, 'longitude': -95.7027213202284}, 'name': 'Topeka Metro Bikes'}, {'company': ['Comunicare S.r.l.'], 'href': '/v2/networks/to-bike', 'id': 'to-bike', 'location': {'city': 'Torino', 'country': 'IT', 'latitude': 45.07098200000001, 'longitude': 7.685676}, 'name': '[TO]BIKE', 'source': 'http://www.tobike.it/frmLeStazioni.aspx?ID=22'}, {'company': ['Social Bicycles Inc.'], 'gbfs_href': 'http://ubike.virginia.edu/opendata/gbfs.json', 'href': '/v2/networks/ubike', 'id': 'ubike', 'location': {'city': 'University of Virginia, VA', 'country': 'US', 'latitude': 38.0357625021372, 'longitude': -78.5072994363201}, 'name': 'UBike'}, {'company': ['CycleHop, LLC', 'Social Bicycles Inc'], 'gbfs_href': 'https://relaybikeshare.socialbicycles.com/opendata/gbfs.json', 'href': '/v2/networks/relay-atlanta', 'id': 'relay-atlanta', 'location': {'city': 'Atlanta, GA', 'country': 'US', 'latitude': 33.7627941119619, 'longitude': -84.38727110624313}, 'name': 'Relay Bike Share'}, {'company': ['Tembici', 'PBSC Urban Solutions'], 'gbfs_href': 'https://rec.publicbikesystem.net/ube/gbfs/v1/', 'href': '/v2/networks/bikerecife', 'id': 'bikerecife', 'location': {'city': 'Recife', 'country': 'BR', 'latitude': -8.047129, 'longitude': -34.873437}, 'name': 'BikeRecife'}, {'company': ['Tembici', 'PBSC Urban Solutions'], 'gbfs_href': 'https://saopaulo.publicbikesystem.net/ube/gbfs/v1/', 'href': '/v2/networks/bikesampa', 'id': 'bikesampa', 'location': {'city': 'São Paulo', 'country': 'BR', 'latitude': -23.55, 'longitude': -46.6333}, 'name': 'BikeSampa'}, {'company': ['Tembici', 'PBSC Urban Solutions'], 'gbfs_href': 'https://riodejaneiro.publicbikesystem.net/ube/gbfs/v1/', 'href': '/v2/networks/bikerio', 'id': 'bikerio', 'location': {'city': 'Rio de Janeiro', 'country': 'BR', 'latitude': -22.904315, 'longitude': -43.184776}, 'name': 'BikeRio'}, {'company': ['Tembici', 'PBSC Urban Solutions'], 'gbfs_href': 'https://salvador.publicbikesystem.net/ube/gbfs/v1/', 'href': '/v2/networks/bikesalvador', 'id': 'bikesalvador', 'location': {'city': 'Salvador', 'country': 'BR', 'latitude': -12.973959, 'longitude': -38.508171}, 'name': 'BikeSalvador'}, {'company': ['Tembici', 'PBSC Urban Solutions'], 'gbfs_href': 'https://poa.publicbikesystem.net/ube/gbfs/v1/', 'href': '/v2/networks/bikepoa', 'id': 'bikepoa', 'location': {'city': 'Porto Alegre', 'country': 'BR', 'latitude': -30.033079, 'longitude': -51.23654}, 'name': 'BikePOA'}, {'company': ['BKT bici publica S.A. de C.V.', 'PBSC Urban Solutions'], 'gbfs_href': 'https://guad.publicbikesystem.net/ube/gbfs/v1/', 'href': '/v2/networks/mibici-guadalajara', 'id': 'mibici-guadalajara', 'location': {'city': 'Guadalajara', 'country': 'MX', 'latitude': 20.6737883, 'longitude': -103.3704325}, 'name': 'MIBICI'}, {'company': ['Your Bike', 'Urban Sharing'], 'gbfs_href': 'https://gbfs.urbansharing.com/edinburghcyclehire.com/gbfs.json', 'href': '/v2/networks/edinburgh-cycle-hire', 'id': 'edinburgh-cycle-hire', 'license': {'name': 'OGL v3 license', 'url': 'http://www.nationalarchives.gov.uk/doc/open-government-licence/version/3/'}, 'location': {'city': 'Edinburgh', 'country': 'UK', 'latitude': 55.9411885, 'longitude': -3.2753783}, 'name': 'Just Eat Cycles'}, {'company': ['PBSC', 'Alta Bicycle Share, Inc'], 'gbfs_href': 'https://gbfs.melbourne.8d.com/gbfs/gbfs.json', 'href': '/v2/networks/melbourne-bike-share', 'id': 'melbourne-bike-share', 'location': {'city': 'Melbourne', 'country': 'AU', 'latitude': -37.814107, 'longitude': 144.96328}, 'name': 'Melbourne Bike Share'}, {'company': ['PBSC Urban Solutions'], 'gbfs_href': 'https://valencefr.publicbikesystem.net/ube/gbfs/v1/', 'href': '/v2/networks/libelo', 'id': 'libelo', 'location': {'city': 'Valence', 'country': 'FR', 'latitude': 44.922726, 'longitude': 4.905634}, 'name': 'Libélo'}, {'company': ['Tembici', 'PBSC Urban Solutions'], 'gbfs_href': 'https://santiago.publicbikesystem.net/ube/gbfs/v1/', 'href': '/v2/networks/bikesantiago', 'id': 'bikesantiago', 'location': {'city': 'Santiago', 'country': 'CL', 'latitude': -33.45, 'longitude': -70.67}, 'name': 'BikeSantiago'}, {'company': None, 'gbfs_href': 'https://gbfs.urbansharing.com/oslobysykkel.no/gbfs.json', 'href': '/v2/networks/oslo-bysykkel', 'id': 'oslo-bysykkel', 'location': {'city': 'Oslo', 'country': 'NO', 'latitude': 59.913869, 'longitude': 10.752245}, 'name': 'Bysykkel'}, {'company': None, 'gbfs_href': 'https://gbfs.urbansharing.com/bergenbysykkel.no/gbfs.json', 'href': '/v2/networks/bergen-bysykkel', 'id': 'bergen-bysykkel', 'location': {'city': 'Bergen', 'country': 'NO', 'latitude': 60.391263, 'longitude': 5.322054}, 'name': 'Bysykkel'}, {'company': None, 'gbfs_href': 'https://gbfs.urbansharing.com/trondheimbysykkel.no/gbfs.json', 'href': '/v2/networks/trondheim-bysykkel', 'id': 'trondheim-bysykkel', 'location': {'city': 'Trondheim', 'country': 'NO', 'latitude': 63.4307238, 'longitude': 10.3936781}, 'name': 'Bysykkel'}, {'company': ['Keolis', 'Rennes Metropole'], 'href': '/v2/networks/le-velo-star', 'id': 'le-velo-star', 'location': {'city': 'Rennes', 'country': 'FR', 'latitude': 48.114167, 'longitude': -1.680833}, 'name': 'LE vélo Star', 'source': 'https://data.explore.star.fr/explore/dataset/vls-stations-etat-tr/'}, {'company': ['Keolis Bordeaux Métropole'], 'ebikes': True, 'href': '/v2/networks/v3-bordeaux', 'id': 'v3-bordeaux', 'location': {'city': 'Bordeaux', 'country': 'FR', 'latitude': 44.837789, 'longitude': -0.57918}, 'name': 'V³'}, {'company': ['Keolis'], 'href': '/v2/networks/vlille', 'id': 'vlille', 'location': {'city': 'Lille', 'country': 'FR', 'latitude': 50.62925, 'longitude': 3.057256}, 'name': \"V'Lille\", 'source': 'https://opendata.lillemetropole.fr/explore/dataset/vlille-realtime/'}, {'company': ['Keolis', 'STAP'], 'href': '/v2/networks/idecycle', 'id': 'idecycle', 'location': {'city': 'Pau', 'country': 'FR', 'latitude': 43.2951, 'longitude': -0.370797}, 'name': 'IDECycle'}, {'company': ['Labici Bicicletas Públicas SL'], 'href': '/v2/networks/bicialtea', 'id': 'bicialtea', 'location': {'city': 'Altea', 'country': 'ES', 'latitude': 38.6029075, 'longitude': -0.0450666}, 'name': 'Bicialtea'}, {'company': ['Labici Bicicletas Públicas SL'], 'href': '/v2/networks/bicidorm', 'id': 'bicidorm', 'location': {'city': 'Benidorm', 'country': 'ES', 'latitude': 38.5410566, 'longitude': -0.1224937}, 'name': 'Bicidorm'}, {'company': ['Labici Bicicletas Públicas SL'], 'href': '/v2/networks/saforbici', 'id': 'saforbici', 'location': {'city': 'Gandía', 'country': 'ES', 'latitude': 38.968032, 'longitude': -0.1844671}, 'name': 'SaforBici'}, {'company': ['Comunicare S.r.l.'], 'href': '/v2/networks/ciclopi', 'id': 'ciclopi', 'location': {'city': 'Pisa', 'country': 'IT', 'latitude': 43.7228386, 'longitude': 10.4016888}, 'name': 'Ciclopi', 'source': 'https://www.bicincitta.com/frmLeStazioni.aspx?ID=144'}, {'company': ['Labici Bicicletas Públicas SL'], 'href': '/v2/networks/gbici', 'id': 'gbici', 'location': {'city': 'Getafe', 'country': 'ES', 'latitude': 40.3082504, 'longitude': -3.7323934}, 'name': 'Gbici'}, {'company': ['Labici Bicicletas Públicas SL'], 'href': '/v2/networks/muybici', 'id': 'muybici', 'location': {'city': 'Murcia', 'country': 'ES', 'latitude': 37.9922399, 'longitude': -1.1306544}, 'name': 'MuyBici'}, {'company': ['Labici Bicicletas Públicas SL'], 'href': '/v2/networks/ponfemobi', 'id': 'ponfemobi', 'location': {'city': 'Ponferrada', 'country': 'ES', 'latitude': 42.5499958, 'longitude': -6.598259000000001}, 'name': 'PonfeMobi'}, {'company': ['Labici Bicicletas Públicas SL'], 'href': '/v2/networks/vaibike', 'id': 'vaibike', 'location': {'city': 'Vilagarcía de Arousa', 'country': 'ES', 'latitude': 42.5999265, 'longitude': -8.7885744}, 'name': 'VaiBike'}, {'company': ['Comunicare S.r.l.'], 'href': '/v2/networks/cagliari', 'id': 'cagliari', 'location': {'city': 'Cagliari', 'country': 'IT', 'latitude': 39.220817, 'longitude': 9.121399}, 'name': 'Cagliari', 'source': 'https://www.bicincitta.com/frmLeStazioni.aspx?ID=177'}, {'company': ['Buenos Aires Ciudad'], 'gbfs_href': 'https://apitransporte.buenosaires.gob.ar/ecobici/gbfs/', 'href': '/v2/networks/ecobici-buenos-aires', 'id': 'ecobici-buenos-aires', 'license': {'name': 'Open Data Commons Open Database License 1.0 (ODbL)', 'url': 'https://opendatacommons.org/licenses/odbl/'}, 'location': {'city': 'Buenos Aires', 'country': 'AR', 'latitude': -34.630665, 'longitude': -58.41156}, 'name': 'Ecobici', 'source': 'https://www.buenosaires.gob.ar/desarrollourbano/transporte/apitransporte'}, {'company': ['EMEL'], 'href': '/v2/networks/gira', 'id': 'gira', 'location': {'city': 'Lisbon', 'country': 'PT', 'latitude': 38.724954, 'longitude': -9.149334}, 'name': 'Gira'}, {'company': ['Comunicare S.r.l.'], 'href': '/v2/networks/gimme-bike', 'id': 'gimme-bike', 'location': {'city': 'Varese', 'country': 'IT', 'latitude': 45.8183902, 'longitude': 8.823913}, 'name': 'Gimme Bike', 'source': 'https://www.bicincitta.com/frmLeStazioni.aspx?ID=50'}, {'company': ['JCDecaux'], 'href': '/v2/networks/cyclic', 'id': 'cyclic', 'license': {'name': 'Open Licence', 'url': 'https://developer.jcdecaux.com/#/opendata/licence'}, 'location': {'city': 'Rouen', 'country': 'FR', 'latitude': 49.44323199999999, 'longitude': 1.099971}, 'name': \"cy'clic\", 'source': 'https://developer.jcdecaux.com'}, {'company': ['JCDecaux'], 'href': '/v2/networks/velo', 'id': 'velo', 'license': {'name': 'Open Licence', 'url': 'https://developer.jcdecaux.com/#/opendata/licence'}, 'location': {'city': 'Toulouse', 'country': 'FR', 'latitude': 43.604652, 'longitude': 1.444209}, 'name': 'Vélô', 'source': 'https://developer.jcdecaux.com'}, {'company': ['JCDecaux'], 'href': '/v2/networks/veloh', 'id': 'veloh', 'license': {'name': 'Open Licence', 'url': 'https://developer.jcdecaux.com/#/opendata/licence'}, 'location': {'city': 'Luxembourg', 'country': 'LU', 'latitude': 49.6301025, 'longitude': 6.1520185}, 'name': 'Veloh', 'source': 'https://developer.jcdecaux.com'}, {'company': ['JCDecaux'], 'href': '/v2/networks/valenbisi', 'id': 'valenbisi', 'license': {'name': 'Open Licence', 'url': 'https://developer.jcdecaux.com/#/opendata/licence'}, 'location': {'city': 'Valencia', 'country': 'ES', 'latitude': 39.4699075, 'longitude': -0.3762881}, 'name': 'Valenbisi', 'source': 'https://developer.jcdecaux.com'}, {'company': ['Comunicare S.r.l.'], 'href': '/v2/networks/sellero', 'id': 'sellero', 'location': {'city': 'Sellero', 'country': 'IT', 'latitude': 46.06304765446406, 'longitude': 10.353434085845947}, 'name': 'Sellero', 'source': 'https://www.bicincitta.com/frmLeStazioni.aspx?ID=85'}, {'company': ['JCDecaux'], 'href': '/v2/networks/lundahoj', 'id': 'lundahoj', 'license': {'name': 'Open Licence', 'url': 'https://developer.jcdecaux.com/#/opendata/licence'}, 'location': {'city': 'Lund', 'country': 'SE', 'latitude': 55.7046601, 'longitude': 13.1910073}, 'name': 'Lundahoj', 'source': 'https://developer.jcdecaux.com'}, {'company': ['Comunicare S.r.l.'], 'href': '/v2/networks/ugento', 'id': 'ugento', 'location': {'city': 'Ugento', 'country': 'IT', 'latitude': 39.9273518, 'longitude': 18.1582962}, 'name': 'Ugento', 'source': 'https://www.bicincitta.com/frmLeStazioni.aspx?ID=103'}, {'company': ['JCDecaux'], 'href': '/v2/networks/tusbic', 'id': 'tusbic', 'license': {'name': 'Open Licence', 'url': 'https://developer.jcdecaux.com/#/opendata/licence'}, 'location': {'city': 'Santander', 'country': 'ES', 'latitude': 43.46230569999999, 'longitude': -3.8099803}, 'name': 'Tusbic', 'source': 'https://developer.jcdecaux.com'}, {'company': ['JCDecaux'], 'href': '/v2/networks/velam', 'id': 'velam', 'license': {'name': 'Open Licence', 'url': 'https://developer.jcdecaux.com/#/opendata/licence'}, 'location': {'city': 'Amiens', 'country': 'FR', 'latitude': 49.894067, 'longitude': 2.295753}, 'name': 'Vélam', 'source': 'https://developer.jcdecaux.com'}, {'company': ['JCDecaux'], 'href': '/v2/networks/bysykkel-lillestrom', 'id': 'bysykkel-lillestrom', 'license': {'name': 'Open Licence', 'url': 'https://developer.jcdecaux.com/#/opendata/licence'}, 'location': {'city': 'Lillestrøm', 'country': 'NO', 'latitude': 59.9559696, 'longitude': 11.0503785}, 'name': 'Bysykkel', 'source': 'https://developer.jcdecaux.com'}, {'company': ['JCDecaux'], 'href': '/v2/networks/velocite-mulhouse', 'id': 'velocite-mulhouse', 'license': {'name': 'Open Licence', 'url': 'https://developer.jcdecaux.com/#/opendata/licence'}, 'location': {'city': 'Mulhouse', 'country': 'FR', 'latitude': 47.750839, 'longitude': 7.335888}, 'name': 'VéloCité', 'source': 'https://developer.jcdecaux.com'}, {'company': ['Comunicare S.r.l.'], 'href': '/v2/networks/prata-camportaccio', 'id': 'prata-camportaccio', 'location': {'city': 'Prata Camportaccio', 'country': 'IT', 'latitude': 46.3042146, 'longitude': 9.3964914}, 'name': 'Prata Camportaccio', 'source': 'https://www.bicincitta.com/frmLeStazioni.aspx?ID=108'}, {'company': ['JCDecaux'], 'href': '/v2/networks/velov', 'id': 'velov', 'license': {'name': 'Open Licence', 'url': 'https://developer.jcdecaux.com/#/opendata/licence'}, 'location': {'city': 'Lyon', 'country': 'FR', 'latitude': 45.764043, 'longitude': 4.835659}, 'name': \"Vélo'V\", 'source': 'https://developer.jcdecaux.com'}, {'company': ['JCDecaux'], 'href': '/v2/networks/bicikelj', 'id': 'bicikelj', 'license': {'name': 'Open Licence', 'url': 'https://developer.jcdecaux.com/#/opendata/licence'}, 'location': {'city': 'Ljubljana', 'country': 'SI', 'latitude': 46.05645089999999, 'longitude': 14.5080702}, 'name': 'Bicikelj', 'source': 'https://developer.jcdecaux.com'}, {'company': ['Comunicare S.r.l.'], 'href': '/v2/networks/civitavecchia', 'id': 'civitavecchia', 'location': {'city': 'Civitavecchia', 'country': 'IT', 'latitude': 42.0937524, 'longitude': 11.7922462}, 'name': 'Civitavecchia', 'source': 'https://www.bicincitta.com/frmLeStazioni.aspx?ID=127'}, {'company': ['JCDecaux'], 'href': '/v2/networks/sevici', 'id': 'sevici', 'license': {'name': 'Open Licence', 'url': 'https://developer.jcdecaux.com/#/opendata/licence'}, 'location': {'city': 'Sevilla', 'country': 'ES', 'latitude': 37.3880961, 'longitude': -5.9823299}, 'name': 'Sevici', 'source': 'https://developer.jcdecaux.com'}, {'company': ['Comunicare S.r.l.'], 'href': '/v2/networks/longanoinbici', 'id': 'longanoinbici', 'location': {'city': 'Barcellona Pozzo di Gotto', 'country': 'IT', 'latitude': 38.149812517944284, 'longitude': 15.212116241455078}, 'name': 'LonganoinBici', 'source': 'https://www.bicincitta.com/frmLeStazioni.aspx?ID=140'}, {'company': ['JCDecaux'], 'href': '/v2/networks/li-bia-velo', 'id': 'li-bia-velo', 'license': {'name': 'Open Licence', 'url': 'https://developer.jcdecaux.com/#/opendata/licence'}, 'location': {'city': 'Namur', 'country': 'BE', 'latitude': 50.465328, 'longitude': 4.867665}, 'name': 'Li bia velo', 'source': 'https://developer.jcdecaux.com'}, {'company': ['JCDecaux'], 'href': '/v2/networks/velostanlib', 'id': 'velostanlib', 'license': {'name': 'Open Licence', 'url': 'https://developer.jcdecaux.com/#/opendata/licence'}, 'location': {'city': 'Nancy', 'country': 'FR', 'latitude': 48.692054, 'longitude': 6.184417}, 'name': \"vélOstan'lib\", 'source': 'https://developer.jcdecaux.com'}, {'company': ['JCDecaux'], 'href': '/v2/networks/cristolib', 'id': 'cristolib', 'license': {'name': 'Open Licence', 'url': 'https://developer.jcdecaux.com/#/opendata/licence'}, 'location': {'city': 'Créteil', 'country': 'FR', 'latitude': 48.790367, 'longitude': 2.455572}, 'name': 'Cristolib', 'source': 'https://developer.jcdecaux.com'}, {'company': ['JCDecaux'], 'href': '/v2/networks/villo', 'id': 'villo', 'license': {'name': 'Open Licence', 'url': 'https://developer.jcdecaux.com/#/opendata/licence'}, 'location': {'city': 'Bruxelles', 'country': 'BE', 'latitude': 50.8503396, 'longitude': 4.3517103}, 'name': 'villo', 'source': 'https://developer.jcdecaux.com'}, {'company': ['Comunicare S.r.l.'], 'href': '/v2/networks/cassano-d-adda', 'id': 'cassano-d-adda', 'location': {'city': \"Cassano d'Adda\", 'country': 'IT', 'latitude': 45.5309616, 'longitude': 9.5155813}, 'name': \"Cassano d'Adda\", 'source': 'https://www.bicincitta.com/frmLeStazioni.aspx?ID=143'}, {'company': ['JCDecaux'], 'href': '/v2/networks/velo2', 'id': 'velo2', 'license': {'name': 'Open Licence', 'url': 'https://developer.jcdecaux.com/#/opendata/licence'}, 'location': {'city': 'Cergy', 'country': 'FR', 'latitude': 49.03561699999999, 'longitude': 2.060325}, 'name': 'Velo2', 'source': 'https://developer.jcdecaux.com'}, {'company': ['JCDecaux'], 'href': '/v2/networks/vilnius-cyclocity', 'id': 'vilnius-cyclocity', 'license': {'name': 'Open Licence', 'url': 'https://developer.jcdecaux.com/#/opendata/licence'}, 'location': {'city': 'Vilnius', 'country': 'LT', 'latitude': 54.6871555, 'longitude': 25.2796514}, 'name': 'Cyclocity', 'source': 'https://developer.jcdecaux.com'}, {'company': ['JCDecaux'], 'href': '/v2/networks/toyama-cyclocity', 'id': 'toyama-cyclocity', 'license': {'name': 'Open Licence', 'url': 'https://developer.jcdecaux.com/#/opendata/licence'}, 'location': {'city': '富山市', 'country': 'JP', 'latitude': 36.6959518, 'longitude': 137.2136768}, 'name': 'cyclocity', 'source': 'https://developer.jcdecaux.com'}, {'company': ['Comunicare S.r.l.'], 'href': '/v2/networks/bianzone-in-bici', 'id': 'bianzone-in-bici', 'location': {'city': 'Bianzone', 'country': 'IT', 'latitude': 46.188197, 'longitude': 10.109354}, 'name': 'Bianzone in Bici', 'source': 'https://www.bicincitta.com/frmLeStazioni.aspx?ID=147'}, {'company': ['LeVélo AMP Métropole', 'Ville de Marseille', 'Fifteen SAS'], 'href': '/v2/networks/le-velo', 'id': 'le-velo', 'location': {'city': 'Marseille', 'country': 'FR', 'latitude': 43.296482, 'longitude': 5.36978}, 'name': 'LeVélo'}, {'company': ['JCDecaux'], 'href': '/v2/networks/bicloo', 'id': 'bicloo', 'license': {'name': 'Open Licence', 'url': 'https://developer.jcdecaux.com/#/opendata/licence'}, 'location': {'city': 'Nantes', 'country': 'FR', 'latitude': 47.218371, 'longitude': -1.553621}, 'name': 'Bicloo', 'source': 'https://developer.jcdecaux.com'}, {'company': ['JCDecaux'], 'href': '/v2/networks/velocite-besancon', 'id': 'velocite-besancon', 'license': {'name': 'Open Licence', 'url': 'https://developer.jcdecaux.com/#/opendata/licence'}, 'location': {'city': 'Besançon', 'country': 'FR', 'latitude': 47.237829, 'longitude': 6.024053899999999}, 'name': 'VéloCité', 'source': 'https://developer.jcdecaux.com'}, {'company': ['Comunicare S.r.l.'], 'href': '/v2/networks/rietinbici', 'id': 'rietinbici', 'location': {'city': 'Rieti', 'country': 'IT', 'latitude': 42.40262397383167, 'longitude': 12.86099910736084}, 'name': 'Rietinbici', 'source': 'https://www.bicincitta.com/frmLeStazioni.aspx?ID=158'}, {'company': ['JCDecaux'], 'href': '/v2/networks/dublinbikes', 'id': 'dublinbikes', 'license': {'name': 'Open Licence', 'url': 'https://developer.jcdecaux.com/#/opendata/licence'}, 'location': {'city': 'Dublin', 'country': 'IE', 'latitude': 53.3498053, 'longitude': -6.2603097}, 'name': 'dublinbikes', 'source': 'https://developer.jcdecaux.com'}, {'company': None, 'href': '/v2/networks/bicipalma', 'id': 'bicipalma', 'location': {'city': 'Palma', 'country': 'ES', 'latitude': 39.57119, 'longitude': 2.646634}, 'name': 'Bicipalma'}, {'company': ['Cyacle Bicycle Rental LLC'], 'href': '/v2/networks/adcb-bikeshare', 'id': 'adcb-bikeshare', 'location': {'city': 'Abu Dhabi', 'country': 'AE', 'latitude': 24.450278, 'longitude': 54.39}, 'name': 'ADCB Bikeshare'}, {'company': ['Comunicare S.r.l.'], 'href': '/v2/networks/castellucchio', 'id': 'castellucchio', 'location': {'city': 'Castellucchio', 'country': 'IT', 'latitude': 45.15047821582959, 'longitude': 10.651202201843262}, 'name': 'Castellucchio', 'source': 'https://www.bicincitta.com/frmLeStazioni.aspx?ID=161'}, {'company': ['Veolia'], 'href': '/v2/networks/velobleu', 'id': 'velobleu', 'location': {'city': 'Nice', 'country': 'FR', 'latitude': 43.695949, 'longitude': 7.271413}, 'name': 'Vélo Bleu'}, {'company': ['Comunicare S.r.l.'], 'href': '/v2/networks/notoinbici', 'id': 'notoinbici', 'location': {'city': 'Noto', 'country': 'IT', 'latitude': 36.889437754839854, 'longitude': 15.074658393859863}, 'name': 'NotoinBici', 'source': 'https://www.bicincitta.com/frmLeStazioni.aspx?ID=162'}, {'company': ['Comunicare S.r.l.'], 'href': '/v2/networks/enna', 'id': 'enna', 'location': {'city': 'Enna', 'country': 'IT', 'latitude': 37.56342572664775, 'longitude': 14.27973747253418}, 'name': 'Enna', 'source': 'https://www.bicincitta.com/frmLeStazioni.aspx?ID=163'}, {'company': ['Comunicare S.r.l.'], 'href': '/v2/networks/pordenone', 'id': 'pordenone', 'location': {'city': 'Pordenone', 'country': 'IT', 'latitude': 45.94790101663391, 'longitude': 12.674491020251475}, 'name': 'Pordenone', 'source': 'https://www.bicincitta.com/frmLeStazioni.aspx?ID=164'}, {'company': ['Veolia'], 'href': '/v2/networks/vel-in', 'id': 'vel-in', 'location': {'city': 'Calais', 'country': 'FR', 'latitude': 50.95, 'longitude': 1.85}, 'name': \"Vél'in\"}, {'company': ['Comunicare S.r.l.'], 'href': '/v2/networks/carbonia', 'id': 'carbonia', 'location': {'city': 'Carbonia', 'country': 'IT', 'latitude': 39.167222, 'longitude': 8.522222}, 'name': 'Carbonia', 'source': 'https://www.bicincitta.com/frmLeStazioni.aspx?ID=173'}, {'company': ['Municipiul Cluj-Napoca'], 'href': '/v2/networks/clujbike', 'id': 'clujbike', 'location': {'city': 'Cluj-Napoca', 'country': 'RO', 'latitude': 46.775, 'longitude': 23.5975}, 'name': 'Cluj Bike'}, {'company': ['Comunicare S.r.l.'], 'href': '/v2/networks/mobike', 'id': 'mobike', 'location': {'city': 'Genova', 'country': 'IT', 'latitude': 44.40430089372731, 'longitude': 8.92908986230462}, 'name': 'MoBike', 'source': 'https://www.bicincitta.com/frmLeStazioni.aspx?ID=175'}, {'company': ['Prefeiture de Sorocaba', 'Urbes'], 'href': '/v2/networks/integrabike', 'id': 'integrabike', 'location': {'city': 'Sorocaba', 'country': 'BR', 'latitude': -23.5015, 'longitude': -47.4526}, 'name': 'Integrabike'}, {'company': ['Comunicare S.r.l.'], 'href': '/v2/networks/scegli-in-bici', 'id': 'scegli-in-bici', 'location': {'city': 'Cremona', 'country': 'IT', 'latitude': 45.134914104864116, 'longitude': 10.0222648619018}, 'name': 'Scegli in Bici', 'source': 'https://www.bicincitta.com/frmLeStazioni.aspx?ID=178'}, {'company': ['Associação dos Amigos da Riviera de São Lourenço', 'Sobloco'], 'href': '/v2/networks/rivibike', 'id': 'rivibike', 'location': {'city': 'São Lourenço', 'country': 'BR', 'latitude': -22.1124, 'longitude': -45.028}, 'name': 'RiviBike'}, {'company': ['Comunicare S.r.l.'], 'href': '/v2/networks/e-motion-trento', 'id': 'e-motion-trento', 'location': {'city': 'Trento', 'country': 'IT', 'latitude': 46.06643205823519, 'longitude': 11.122145390351879}, 'name': 'e.motion', 'source': 'https://www.bicincitta.com/frmLeStazioni.aspx?ID=187'}, {'company': ['Duke Energy Brasil', 'Governo de Ipaussu'], 'href': '/v2/networks/dukebike', 'id': 'dukebike', 'location': {'city': 'Ipaússu', 'country': 'BR', 'latitude': -23.0553, 'longitude': -49.6237}, 'name': 'DukeBike'}, {'company': ['Barcelona de Serveis Municipals, S.A. (BSM)', 'CESPA', 'PBSC'], 'gbfs_href': 'https://api.bsmsa.eu/ext/api/bsm/gbfs/v2/', 'href': '/v2/networks/bicing', 'id': 'bicing', 'location': {'city': 'Barcelona', 'country': 'ES', 'latitude': 41.3850639, 'longitude': 2.1734035}, 'name': 'Bicing'}, {'company': ['Baksi Bike Sharing System'], 'href': '/v2/networks/baksi-antalya', 'id': 'baksi-antalya', 'location': {'city': 'Antalya', 'country': 'TR', 'latitude': 36.862048, 'longitude': 30.638866}, 'name': 'Baksi'}, {'company': ['Baksi Bike Sharing System'], 'href': '/v2/networks/baksi-bisim', 'id': 'baksi-bisim', 'location': {'city': 'Izmir', 'country': 'TR', 'latitude': 38.4134047464, 'longitude': 27.0325753524}, 'name': 'Baksi'}, {'company': ['Comunicare S.r.l.'], 'href': '/v2/networks/e-motion-rovereto', 'id': 'e-motion-rovereto', 'location': {'city': 'Rovereto', 'country': 'IT', 'latitude': 45.88710661061543, 'longitude': 11.042242751867644}, 'name': 'e.motion', 'source': 'https://www.bicincitta.com/frmLeStazioni.aspx?ID=189'}, {'company': ['Baksi Bike Sharing System'], 'href': '/v2/networks/baksi-istanbul', 'id': 'baksi-istanbul', 'location': {'city': 'Istanbul', 'country': 'TR', 'latitude': 40.9696887925, 'longitude': 29.0475373717}, 'name': 'Isbike'}, {'company': ['Baksi Bike Sharing System'], 'href': '/v2/networks/baksi-kobis', 'id': 'baksi-kobis', 'location': {'city': 'Kocaeli', 'country': 'TR', 'latitude': 40.7674733342, 'longitude': 29.9755885985}, 'name': 'Baksi'}, {'company': ['Helsinki City Transport', 'Helsinki Regional Transport', 'CityBikeFinland', 'Smoove SAS', 'Moventia', 'Alepa'], 'href': '/v2/networks/citybikes-helsinki', 'id': 'citybikes-helsinki', 'location': {'city': 'Helsinki', 'country': 'FI', 'latitude': 60.16985569999999, 'longitude': 24.938379}, 'name': 'City bikes'}, {'company': ['Comunicare S.r.l.'], 'href': '/v2/networks/monopoli-bike', 'id': 'monopoli-bike', 'location': {'city': 'Monopoli', 'country': 'IT', 'latitude': 40.94519109440738, 'longitude': 17.311687995336918}, 'name': 'Monopoli BIKE', 'source': 'https://www.bicincitta.com/frmLeStazioni.aspx?ID=191'}, {'company': ['Turku Region Traffic Föli', 'Nextbike Polska'], 'href': '/v2/networks/foli', 'id': 'foli', 'location': {'city': 'Turku', 'country': 'FI', 'latitude': 60.4506, 'longitude': 22.2666}, 'name': 'Föli-fillari'}, {'company': ['Comunicare S.r.l.'], 'href': '/v2/networks/bicimia', 'id': 'bicimia', 'location': {'city': 'Brescia', 'country': 'IT', 'latitude': 45.5378, 'longitude': 10.2173}, 'name': 'bicimia', 'source': 'https://bicimia.bresciamobilita.it/frmLeStazioni.aspx?ID=40'}, {'company': ['FSM Ground Services Ltd.'], 'href': '/v2/networks/telofun', 'id': 'telofun', 'location': {'city': \"Tel Aviv-Yaffo, Giv'atayim, Ramat-Gan\", 'country': 'IL', 'latitude': 32.087053, 'longitude': 34.789776}, 'name': 'Tel-O-Fun'}, {'company': ['Comunicare S.r.l.'], 'href': '/v2/networks/andria', 'id': 'andria', 'location': {'city': 'Andria', 'country': 'IT', 'latitude': 41.224346932834, 'longitude': 16.296983922753956}, 'name': 'Andria in Bici', 'source': 'https://www.bicincitta.com/frmLeStazioni.aspx?ID=192'}, {'company': ['Open Source Bike Share'], 'href': '/v2/networks/whitebikes', 'id': 'whitebikes', 'location': {'city': 'Bratislava', 'country': 'SK', 'latitude': 48.149424, 'longitude': 17.113922}, 'name': 'WhiteBikes'}, {'company': ['Dopravný podnik Bratislava', 'Bratislavská integrovaná doprava, a.s.', 'Hlavné mesto SR Bratislava'], 'href': '/v2/networks/slovnaft-bajk', 'id': 'slovnaft-bajk', 'location': {'city': 'Bratislava', 'country': 'SK', 'latitude': 48.1356952, 'longitude': 16.9758332}, 'name': 'Slovnaft BAjk'}, {'company': ['Open Source Bike Share'], 'href': '/v2/networks/cykl', 'id': 'cykl', 'location': {'city': 'Wageningen', 'country': 'NL', 'latitude': 51.974, 'longitude': 5.6671}, 'name': 'Cykl'}, {'company': ['Open Source Bike Share'], 'href': '/v2/networks/bicyklezadobreskutky', 'id': 'bicyklezadobreskutky', 'location': {'city': 'Prešov', 'country': 'SK', 'latitude': 48.996275, 'longitude': 21.234341}, 'name': 'Bicykle za dobré skutky'}, {'company': ['Social Bicycles Inc.'], 'href': '/v2/networks/socialbicycles-wavelo', 'id': 'socialbicycles-wavelo', 'location': {'city': 'Kraków', 'country': 'PL', 'latitude': 50.06143, 'longitude': 19.93658}, 'name': 'Wavelo'}, {'company': ['Comunicare S.r.l.'], 'href': '/v2/networks/bicinquartucciu', 'id': 'bicinquartucciu', 'location': {'city': 'Quartucciu', 'country': 'IT', 'latitude': 39.25043149806156, 'longitude': 9.179296426489255}, 'name': 'BicinQuartucciu', 'source': 'https://www.bicincitta.com/frmLeStazioni.aspx?ID=193'}, {'company': ['Mainzer Verkehrsgesellschaft mbH (MVG)'], 'href': '/v2/networks/mvgmeinrad', 'id': 'mvgmeinrad', 'location': {'city': 'Mainz', 'country': 'DE', 'latitude': 49.992862, 'longitude': 8.247253}, 'name': 'MVGmeinrad'}, {'company': ['Sistema de Bicicletas Públicas del Valle de Aburrá'], 'href': '/v2/networks/encicla', 'id': 'encicla', 'location': {'city': 'Medellin', 'country': 'CO', 'latitude': 6.254942, 'longitude': -75.567982}, 'name': 'EnCicla'}, {'company': ['Comunicare S.r.l.'], 'href': '/v2/networks/olbia-bike', 'id': 'olbia-bike', 'location': {'city': 'Olbia', 'country': 'IT', 'latitude': 40.9240543, 'longitude': 9.4994397}, 'name': 'Olbia Bike', 'source': 'https://www.bicincitta.com/frmLeStazioni.aspx?ID=194'}, {'company': ['Vanncouver Bike Share Inc.', 'CycleHop LLC', 'City of Vancouver', 'Shaw Communications Inc.', 'Fifteen'], 'gbfs_href': 'https://vancouver-gbfs.smoove.pro/gbfs/2/gbfs.json', 'href': '/v2/networks/mobibikes', 'id': 'mobibikes', 'location': {'city': 'Vancouver', 'country': 'CA', 'latitude': 49.2827, 'longitude': -123.1207}, 'name': 'Mobi'}, {'company': ['Comunicare S.r.l.'], 'href': '/v2/networks/savona', 'id': 'savona', 'location': {'city': 'Savona', 'country': 'IT', 'latitude': 44.29516444397244, 'longitude': 8.463126708984431}, 'name': 'Savona', 'source': 'https://www.bicincitta.com/frmLeStazioni.aspx?ID=195'}, {'company': ['CityBike France', 'PBSC Urban Solutions'], 'gbfs_href': 'https://clermontferrand.publicbikesystem.net/customer/ube/gbfs/v1/', 'href': '/v2/networks/c-velo', 'id': 'c-velo', 'location': {'city': 'Clermont-Ferrand', 'country': 'FR', 'latitude': 45.7831, 'longitude': 3.0824}, 'name': 'C.vélo'}, {'company': ['Smoove'], 'gbfs_href': 'https://saint-etienne-fr-smoove.klervi.net/gbfs/gbfs.json', 'href': '/v2/networks/velivert', 'id': 'velivert', 'location': {'city': 'Saint-Étienne', 'country': 'FR', 'latitude': 45.396667, 'longitude': 4.290833}, 'name': 'VéliVert'}, {'company': ['Comunicare S.r.l.'], 'href': '/v2/networks/brindisi', 'id': 'brindisi', 'location': {'city': 'Brindisi', 'country': 'IT', 'latitude': 40.637580319936106, 'longitude': 17.940774547082572}, 'name': 'BrindisiByBike', 'source': 'https://www.bicincitta.com/frmLeStazioni.aspx?ID=197'}, {'company': ['TCRA Public Transport Region Avignon', 'Fifteen'], 'gbfs_href': '', 'href': '/v2/networks/velopop', 'id': 'velopop', 'location': {'city': 'Avignon', 'country': 'FR', 'latitude': 43.943689, 'longitude': 4.805833}, 'name': 'Vélopop'}, {'company': ['Smoove'], 'href': '/v2/networks/batumvelo', 'id': 'batumvelo', 'location': {'city': 'Batumi', 'country': 'GE', 'latitude': 41.660906, 'longitude': 41.678835}, 'name': 'Batumvelo'}, {'company': ['Comunicare S.r.l.'], 'href': '/v2/networks/tradate', 'id': 'tradate', 'location': {'city': 'Tradate', 'country': 'IT', 'latitude': 45.70938576720161, 'longitude': 8.915993391601548}, 'name': 'Tradate', 'source': 'https://www.bicincitta.com/frmLeStazioni.aspx?ID=198'}, {'company': ['Mobilicidade Tecnologia LTD', 'Grupo Serttel LTDA'], 'href': '/v2/networks/bikebh', 'id': 'bikebh', 'location': {'city': 'Belo Horizonte', 'country': 'BR', 'latitude': -19.920793, 'longitude': -43.922165}, 'name': 'BikeBH'}, {'company': ['Mobilicidade Tecnologia LTD', 'Grupo Serttel LTDA'], 'href': '/v2/networks/bikepetrolina', 'id': 'bikepetrolina', 'location': {'city': 'Petrolina', 'country': 'BR', 'latitude': -9.389049, 'longitude': -40.502751}, 'name': 'BikePetrolina'}, {'company': ['Comunicare S.r.l.'], 'href': '/v2/networks/jesinbici', 'id': 'jesinbici', 'location': {'city': 'Jesi', 'country': 'IT', 'latitude': 43.522601, 'longitude': 13.244448}, 'name': 'JesinBici', 'source': 'https://www.bicincitta.com/frmLeStazioni.aspx?ID=236'}, {'company': ['Comunicare S.r.l.'], 'href': '/v2/networks/nbici', 'id': 'nbici', 'location': {'city': 'Pamplona', 'country': 'ES', 'latitude': 42.8116631, 'longitude': -1.6482653}, 'name': 'nbici', 'source': 'https://www.bicincitta.com/frmLeStazioni.aspx?ID=230'}, {'company': ['Tembici'], 'gbfs_href': 'https://brasilia.publicbikesystem.net/customer/ube/gbfs/v1/', 'href': '/v2/networks/bikebrasilia', 'id': 'bikebrasilia', 'location': {'city': 'Brasília', 'country': 'BR', 'latitude': -15.795115, 'longitude': -47.887424}, 'name': 'BikeBrasilia'}, {'company': ['Mobilicidade Tecnologia LTD', 'Grupo Serttel LTDA'], 'href': '/v2/networks/debikegoiania', 'id': 'debikegoiania', 'location': {'city': 'Goiânia', 'country': 'BR', 'latitude': -16.670492, 'longitude': -49.259535}, 'name': 'GynDebike'}, {'company': ['Comunicare S.r.l.'], 'href': '/v2/networks/treviso', 'id': 'treviso', 'location': {'city': 'Treviso', 'country': 'IT', 'latitude': 45.6669011, 'longitude': 12.243039}, 'name': 'Treviso', 'source': 'https://www.bicincitta.com/frmLeStazioni.aspx?ID=179'}, {'company': ['Mobilicidade Tecnologia LTD', 'Grupo Serttel LTDA'], 'href': '/v2/networks/bicicletar', 'id': 'bicicletar', 'location': {'city': 'Fortaleza', 'country': 'BR', 'latitude': -3.7321944, 'longitude': -38.510347}, 'name': 'Bicicletar'}, {'company': ['Mobilicidade Tecnologia LTD', 'Grupo Serttel LTDA'], 'href': '/v2/networks/cajubike', 'id': 'cajubike', 'location': {'city': 'Aracajú', 'country': 'BR', 'latitude': -10.987263, 'longitude': -37.051898}, 'name': 'CajuBike'}, {'company': ['Mobilicidade Tecnologia LTD', 'Grupo Serttel LTDA'], 'href': '/v2/networks/bikebelem', 'id': 'bikebelem', 'location': {'city': 'Belém', 'country': 'BR', 'latitude': -1.4600794, 'longitude': -48.490865}, 'name': 'Bike Belém'}, {'company': ['Comunicare S.r.l.'], 'href': '/v2/networks/sondrio', 'id': 'sondrio', 'location': {'city': 'Sondrio', 'country': 'IT', 'latitude': 46.1698583, 'longitude': 9.8787674}, 'name': 'Sondrio', 'source': 'https://www.bicincitta.com/frmLeStazioni.aspx?ID=213'}, {'company': ['Mobilicidade Tecnologia LTD', 'Grupo Serttel LTDA'], 'href': '/v2/networks/bikesantos', 'id': 'bikesantos', 'location': {'city': 'Santos', 'country': 'BR', 'latitude': -23.954052, 'longitude': -46.333345}, 'name': 'BikeSantos'}, {'company': ['Comunicare S.r.l.'], 'href': '/v2/networks/vercelli', 'id': 'vercelli', 'location': {'city': 'Vercelli', 'country': 'IT', 'latitude': 45.32022720000001, 'longitude': 8.418573499999999}, 'name': 'Vercelli', 'source': 'https://www.bicincitta.com/frmLeStazioni.aspx?ID=235'}, {'company': ['Comunicare S.r.l.'], 'href': '/v2/networks/portofino-park-and-bike', 'id': 'portofino-park-and-bike', 'location': {'city': 'Santa Margherita Ligure - Portofino - Camogli', 'country': 'IT', 'latitude': 44.335084, 'longitude': 9.211264}, 'name': 'Portofino Park and Bike', 'source': 'https://www.bicincitta.com/frmLeStazioni.aspx?ID=128'}, {'company': ['Mobilicidade Tecnologia LTD', 'Municipalidad de Rosario'], 'gbfs_href': 'https://www.mibicitubici.gob.ar/opendata/gbfs.json', 'href': '/v2/networks/mibicitubici', 'id': 'mibicitubici', 'location': {'city': 'Rosario', 'country': 'AR', 'latitude': -32.95, 'longitude': -60.65}, 'name': 'Mi bici tu bici'}, {'company': ['DecoBike LLC'], 'href': '/v2/networks/decobike-miami-beach', 'id': 'decobike-miami-beach', 'location': {'city': 'Miami Beach, FL', 'country': 'US', 'latitude': 25.790654, 'longitude': -80.1300455}, 'name': 'Citi Bike Miami'}, {'company': ['DecoBike LLC'], 'href': '/v2/networks/decobike-san-diego', 'id': 'decobike-san-diego', 'location': {'city': 'San Diego, CA', 'country': 'US', 'latitude': 32.715738, 'longitude': -117.1610838}, 'name': 'Decobike San Diego'}, {'company': ['Comunicare S.r.l.'], 'href': '/v2/networks/meglio-in-bici', 'id': 'meglio-in-bici', 'location': {'city': 'Cernusco sul Naviglio - Pioltello - Carugate', 'country': 'IT', 'latitude': 45.520541, 'longitude': 9.341984}, 'name': 'Meglio in Bici', 'source': 'https://www.bicincitta.com/frmLeStazioni.aspx?ID=121'}, {'company': ['BCycle, LLC'], 'gbfs_href': 'https://gbfs.bcycle.com/bcycle_desmoines/gbfs.json', 'href': '/v2/networks/desmoines', 'id': 'desmoines', 'location': {'city': 'Des Moines, IA', 'country': 'US', 'latitude': 41.6005448, 'longitude': -93.6091064}, 'name': 'Des Moines B-cycle'}, {'company': ['Comunicare S.r.l.'], 'href': '/v2/networks/ossola', 'id': 'ossola', 'location': {'city': 'Santa Maria Maggiore - Malesco - Villette', 'country': 'IT', 'latitude': 46.127196, 'longitude': 8.499169}, 'name': \"Comunità Montana Valli dell'Ossola\", 'source': 'https://www.bicincitta.com/frmLeStazioni.aspx?ID=152'}, {'company': ['BCycle, LLC'], 'gbfs_href': 'https://gbfs.bcycle.com/bcycle_greenville/gbfs.json', 'href': '/v2/networks/greenville', 'id': 'greenville', 'location': {'city': 'Greenville, SC', 'country': 'US', 'latitude': 34.85261759999999, 'longitude': -82.3940104}, 'name': 'Greenville B-cycle'}, {'company': ['Comunicare S.r.l.'], 'href': '/v2/networks/bicincitta-mezzolombardo', 'id': 'bicincitta-mezzolombardo', 'location': {'city': 'Mezzolombardo', 'country': 'IT', 'latitude': 46.21400260000001, 'longitude': 11.0967867}, 'name': 'Bicincittà', 'source': 'https://www.bicincitta.com/frmLeStazioni.aspx?ID=228'}, {'company': ['Comunicare S.r.l.'], 'href': '/v2/networks/bicincitta-lausanne-campus-morges', 'id': 'bicincitta-lausanne-campus-morges', 'location': {'city': 'Lausanne - Morges - Campus', 'country': 'CH', 'latitude': 46.5196535, 'longitude': 6.6322734}, 'name': 'Bicincittà', 'source': 'https://www.bicincitta.com/frmLeStazioni.aspx?ID=123'}, {'company': ['Comunicare S.r.l.'], 'href': '/v2/networks/bicincitta-scafati', 'id': 'bicincitta-scafati', 'location': {'city': 'Scafati', 'country': 'IT', 'latitude': 40.7620174, 'longitude': 14.5363969}, 'name': 'Bicincittà', 'source': 'https://www.bicincitta.com/frmLeStazioni.aspx?ID=106'}, {'company': ['Comunicare S.r.l.'], 'href': '/v2/networks/bicincitta-livorno', 'id': 'bicincitta-livorno', 'location': {'city': 'Livorno', 'country': 'IT', 'latitude': 43.548473, 'longitude': 10.3105674}, 'name': 'Bicincittà', 'source': 'https://www.bicincitta.com/frmLeStazioni.aspx?ID=226'}, {'company': ['Comunicare S.r.l.'], 'href': '/v2/networks/bicincitta-valais-central', 'id': 'bicincitta-valais-central', 'location': {'city': 'Sion', 'country': 'CH', 'latitude': 46.2331221, 'longitude': 7.360625999999999}, 'name': 'Bicincittà', 'source': 'https://www.bicincitta.com/frmLeStazioni.aspx?ID=89'}, {'company': ['Comunicare S.r.l.'], 'href': '/v2/networks/bicincitta-forli', 'id': 'bicincitta-forli', 'location': {'city': 'Forlì', 'country': 'IT', 'latitude': 44.2227398, 'longitude': 12.0407312}, 'name': 'Mi Muovo in Bici', 'source': 'http://www.mimuovoinbici.it/frmLeStazioni.aspx?ID=119'}, {'company': ['Comunicare S.r.l.'], 'href': '/v2/networks/bicincitta-rivarolo-canavese', 'id': 'bicincitta-rivarolo-canavese', 'location': {'city': 'Rivarolo Canavese', 'country': 'IT', 'latitude': 45.306633, 'longitude': 7.723242}, 'name': 'Bicincittà', 'source': 'https://www.bicincitta.com/frmLeStazioni.aspx?ID=227'}, {'company': ['Comunicare S.r.l.'], 'href': '/v2/networks/bicincitta-monserrato', 'id': 'bicincitta-monserrato', 'location': {'city': 'Monserrato', 'country': 'IT', 'latitude': 39.2560191, 'longitude': 9.1453579}, 'name': 'Bicincittà', 'source': 'https://www.bicincitta.com/frmLeStazioni.aspx?ID=220'}, {'company': ['Comunicare S.r.l.'], 'href': '/v2/networks/bicincitta-mezzocorona', 'id': 'bicincitta-mezzocorona', 'location': {'city': 'Mezzocorona', 'country': 'IT', 'latitude': 46.2339047, 'longitude': 11.1277461}, 'name': 'Bicincittà', 'source': 'https://www.bicincitta.com/frmLeStazioni.aspx?ID=229'}, {'company': ['Comunicare S.r.l.'], 'href': '/v2/networks/bicincitta-san-lazzaro-di-savena', 'id': 'bicincitta-san-lazzaro-di-savena', 'location': {'city': 'San Lazzaro di Savena', 'country': 'IT', 'latitude': 44.4702725, 'longitude': 11.409399}, 'name': 'Mi Muovo in Bici', 'source': 'http://www.mimuovoinbici.it/frmLeStazioni.aspx?ID=100'}, {'company': ['Comunicare S.r.l.'], 'href': '/v2/networks/bicincitta-san-teodoro', 'id': 'bicincitta-san-teodoro', 'location': {'city': 'San Teodoro', 'country': 'IT', 'latitude': 40.7722837, 'longitude': 9.6695458}, 'name': 'Bicincittà', 'source': 'https://www.bicincitta.com/frmLeStazioni.aspx?ID=225'}, {'company': ['Comunicare S.r.l.'], 'href': '/v2/networks/bicincitta-parco-molentargius-saline', 'id': 'bicincitta-parco-molentargius-saline', 'location': {'city': 'Parco Naturale Molentargius - Saline', 'country': 'IT', 'latitude': 39.2052545, 'longitude': 9.146761099999999}, 'name': 'Bicincittà', 'source': 'https://www.bicincitta.com/frmLeStazioni.aspx?ID=151'}, {'company': ['Comunicare S.r.l.'], 'href': '/v2/networks/parkinbici', 'id': 'parkinbici', 'location': {'city': 'Parco Nazionale del Gargano', 'country': 'IT', 'latitude': 41.7817081, 'longitude': 15.8516421}, 'name': 'Parkinbici', 'source': 'https://www.bicincitta.com/frmLeStazioni.aspx?ID=105'}, {'company': ['Comunicare S.r.l.'], 'href': '/v2/networks/bicincitta-gallipoli', 'id': 'bicincitta-gallipoli', 'location': {'city': 'Gallipoli', 'country': 'IT', 'latitude': 40.0558554, 'longitude': 17.9925085}, 'name': 'Bicincittà', 'source': 'https://www.bicincitta.com/frmLeStazioni.aspx?ID=109'}, {'company': ['Comunicare S.r.l.'], 'href': '/v2/networks/bicincitta-castel-guelfo-the-style-outlets', 'id': 'bicincitta-castel-guelfo-the-style-outlets', 'location': {'city': 'Castel Guelfo di Bologna', 'country': 'IT', 'latitude': 44.4328527, 'longitude': 11.6750857}, 'name': 'Bicincittà', 'source': 'https://www.bicincitta.com/frmLeStazioni.aspx?ID=233'}, {'company': ['Comunicare S.r.l.'], 'href': '/v2/networks/bicincitta-san-michele-alladige', 'id': 'bicincitta-san-michele-alladige', 'location': {'city': \"San Michele All'adige\", 'country': 'IT', 'latitude': 46.1878653, 'longitude': 11.1330423}, 'name': 'Bicincittà', 'source': 'https://www.bicincitta.com/frmLeStazioni.aspx?ID=231'}, {'company': ['Comunicare S.r.l.'], 'href': '/v2/networks/bicincitta-agglo-fribourg', 'id': 'bicincitta-agglo-fribourg', 'location': {'city': 'Fribourg', 'country': 'CH', 'latitude': 46.8064773, 'longitude': 7.161971899999999}, 'name': 'Bicincittà', 'source': 'https://www.bicincitta.com/frmLeStazioni.aspx?ID=33'}, {'company': ['Comunicare S.r.l.'], 'href': '/v2/networks/bicincitta-modena', 'id': 'bicincitta-modena', 'location': {'city': 'Modena', 'country': 'IT', 'latitude': 44.647128, 'longitude': 10.9252269}, 'name': 'Mi Muovo in bici', 'source': 'http://www.mimuovoinbici.it/frmLeStazioni.aspx?ID=180'}, {'company': ['Comunicare S.r.l.'], 'href': '/v2/networks/bicincitta-brancaleone', 'id': 'bicincitta-brancaleone', 'location': {'city': 'Brancaleone', 'country': 'IT', 'latitude': 37.9679084, 'longitude': 16.0757749}, 'name': 'Bicincittà', 'source': 'https://www.bicincitta.com/frmLeStazioni.aspx?ID=104'}, {'company': ['Comunicare S.r.l.'], 'href': '/v2/networks/bicincitta-bulle', 'id': 'bicincitta-bulle', 'location': {'city': 'Bulle', 'country': 'CH', 'latitude': 46.6154512, 'longitude': 7.057726799999999}, 'name': 'Bicincittà', 'source': 'https://www.bicincitta.com/frmLeStazioni.aspx?ID=34'}, {'company': ['Comunicare S.r.l.'], 'href': '/v2/networks/bicincitta-riviera', 'id': 'bicincitta-riviera', 'location': {'city': \"Distretto della Riviera-Pays-d'Enhaut\", 'country': 'CH', 'latitude': 46.4628333, 'longitude': 6.8419192}, 'name': 'Bicincittà', 'source': 'https://www.bicincitta.com/frmLeStazioni.aspx?ID=129'}, {'company': ['Comunicare S.r.l.'], 'href': '/v2/networks/bicincitta-scandiano', 'id': 'bicincitta-scandiano', 'location': {'city': 'Scandiano', 'country': 'IT', 'latitude': 44.5982342, 'longitude': 10.6909273}, 'name': 'Mi Muovo in Bici', 'source': 'http://www.mimuovoinbici.it/frmLeStazioni.aspx?ID=94'}, {'company': ['Comunicare S.r.l.'], 'href': '/v2/networks/bicincitta-elmas', 'id': 'bicincitta-elmas', 'location': {'city': 'Elmas', 'country': 'IT', 'latitude': 39.2634329, 'longitude': 9.0515805}, 'name': 'Bicincittà', 'source': 'https://www.bicincitta.com/frmLeStazioni.aspx?ID=218'}, {'company': ['Comunicare S.r.l.'], 'href': '/v2/networks/bicincitta-tivat', 'id': 'bicincitta-tivat', 'location': {'city': 'TV', 'country': 'ME', 'latitude': 42.4349809, 'longitude': 18.7066398}, 'name': 'Bicincittà', 'source': 'https://www.bicincitta.com/frmLeStazioni.aspx?ID=87'}, {'company': ['Comunicare S.r.l.'], 'href': '/v2/networks/bicincitta-acquaviva-delle-fonti', 'id': 'bicincitta-acquaviva-delle-fonti', 'location': {'city': 'Acquaviva delle fonti', 'country': 'IT', 'latitude': 40.9303721, 'longitude': 16.8414374}, 'name': 'Bicincittà', 'source': 'https://www.bicincitta.com/frmLeStazioni.aspx?ID=160'}, {'company': ['Comunicare S.r.l.'], 'href': '/v2/networks/we-love-bike', 'id': 'we-love-bike', 'location': {'city': 'Lodi', 'country': 'IT', 'latitude': 45.3097228, 'longitude': 9.503715999999999}, 'name': 'We Love bike', 'source': 'https://www.bicincitta.com/frmLeStazioni.aspx?ID=190'}, {'company': ['Comunicare S.r.l.'], 'href': '/v2/networks/bicincitta-acquarica-del-capo', 'id': 'bicincitta-acquarica-del-capo', 'location': {'city': 'Acquarica del Capo', 'country': 'IT', 'latitude': 39.9144573, 'longitude': 18.2450324}, 'name': 'Bicincittà', 'source': 'https://www.bicincitta.com/frmLeStazioni.aspx?ID=146'}, {'company': ['Comunicare S.r.l.'], 'href': '/v2/networks/bicincitta-vicolungo-the-style-outlets', 'id': 'bicincitta-vicolungo-the-style-outlets', 'location': {'city': 'Vicolungo', 'country': 'IT', 'latitude': 45.47167229999999, 'longitude': 8.4633922}, 'name': 'Bicincittà', 'source': 'https://www.bicincitta.com/frmLeStazioni.aspx?ID=232'}, {'company': ['Comunicare S.r.l.'], 'href': '/v2/networks/bicincitta-porto-torres', 'id': 'bicincitta-porto-torres', 'location': {'city': 'Porto Torres', 'country': 'IT', 'latitude': 40.8333682, 'longitude': 8.402292899999999}, 'name': 'Bicincittà', 'source': 'https://www.bicincitta.com/frmLeStazioni.aspx?ID=221'}, {'company': ['Comunicare S.r.l.'], 'href': '/v2/networks/bicincitta-cisterna-di-latina', 'id': 'bicincitta-cisterna-di-latina', 'location': {'city': 'Cisterna di Latina', 'country': 'IT', 'latitude': 41.5754029, 'longitude': 12.8284772}, 'name': 'Bicincittà', 'source': 'https://www.bicincitta.com/frmLeStazioni.aspx?ID=217'}, {'company': ['Comunicare S.r.l.'], 'href': '/v2/networks/bicincitta-casaletto-spartano', 'id': 'bicincitta-casaletto-spartano', 'location': {'city': 'Casaletto Spartano', 'country': 'IT', 'latitude': 40.1532801, 'longitude': 15.6211479}, 'name': 'Bicincittà', 'source': 'https://www.bicincitta.com/frmLeStazioni.aspx?ID=199'}, {'company': ['Comunicare S.r.l.'], 'href': '/v2/networks/bicincitta-selargius', 'id': 'bicincitta-selargius', 'location': {'city': 'Selargius', 'country': 'IT', 'latitude': 39.2596768, 'longitude': 9.1629372}, 'name': 'Bicincittà', 'source': 'https://www.bicincitta.com/frmLeStazioni.aspx?ID=219'}, {'company': ['Comunicare S.r.l.'], 'href': '/v2/networks/bicincitta-yverdon-les-bains', 'id': 'bicincitta-yverdon-les-bains', 'location': {'city': 'Yverdon-les-Bains', 'country': 'CH', 'latitude': 46.7784736, 'longitude': 6.641183}, 'name': 'Bicincittà', 'source': 'https://www.bicincitta.com/frmLeStazioni.aspx?ID=116'}, {'company': ['Comunicare S.r.l.'], 'href': '/v2/networks/bicincitta-monza', 'id': 'bicincitta-monza', 'location': {'city': 'Monza', 'country': 'IT', 'latitude': 45.5845001, 'longitude': 9.2744485}, 'name': 'Bicincittà', 'source': 'https://www.bicincitta.com/frmLeStazioni.aspx?ID=224'}, {'company': ['Comunicare S.r.l.'], 'href': '/v2/networks/bicincitta-la-cote', 'id': 'bicincitta-la-cote', 'location': {'city': 'Nyon', 'country': 'CH', 'latitude': 46.3832683, 'longitude': 6.2347852}, 'name': 'Bicincittà', 'source': 'https://www.bicincitta.com/frmLeStazioni.aspx?ID=32'}, {'company': ['Comunicare S.r.l.'], 'href': '/v2/networks/bicincitta-morigerati', 'id': 'bicincitta-morigerati', 'location': {'city': 'Morigerati', 'country': 'IT', 'latitude': 40.1422031, 'longitude': 15.5298525}, 'name': 'Bicincittà', 'source': 'https://www.bicincitta.com/frmLeStazioni.aspx?ID=200'}, {'company': ['Comunicare S.r.l.'], 'href': '/v2/networks/bicincitta-san-donato-milanese', 'id': 'bicincitta-san-donato-milanese', 'location': {'city': 'San Donato Milanese', 'country': 'IT', 'latitude': 45.4092402, 'longitude': 9.2684867}, 'name': 'Bicincittà', 'source': 'https://www.bicincitta.com/frmLeStazioni.aspx?ID=234'}, {'company': ['Comunicare S.r.l.'], 'href': '/v2/networks/bicincitta-chablais', 'id': 'bicincitta-chablais', 'location': {'city': 'Monthey - Aigle', 'country': 'CH', 'latitude': 46.2521873, 'longitude': 6.9469598}, 'name': 'Bicincittà', 'source': 'https://www.bicincitta.com/frmLeStazioni.aspx?ID=60'}, {'company': ['Comunicare S.r.l.'], 'href': '/v2/networks/bicincitta-ente-parco-del-circeo', 'id': 'bicincitta-ente-parco-del-circeo', 'location': {'city': 'Parco Nazionale del Circeo', 'country': 'IT', 'latitude': 41.3151015, 'longitude': 13.0330782}, 'name': 'Bicincittà', 'source': 'https://www.bicincitta.com/frmLeStazioni.aspx?ID=135'}, {'company': ['Comunicare S.r.l.'], 'href': '/v2/networks/bicincitta-cesena', 'id': 'bicincitta-cesena', 'location': {'city': 'Cesena', 'country': 'IT', 'latitude': 44.1396438, 'longitude': 12.2464292}, 'name': 'Mi Muovo in bici', 'source': 'http://www.mimuovoinbici.it/frmLeStazioni.aspx?ID=120'}, {'company': ['Comunicare S.r.l.'], 'href': '/v2/networks/bicincitta-lugano-paradiso', 'id': 'bicincitta-lugano-paradiso', 'location': {'city': 'Paradiso', 'country': 'CH', 'latitude': 45.9907174, 'longitude': 8.945261799999999}, 'name': 'Bicincittà', 'source': 'https://www.bicincitta.com/frmLeStazioni.aspx?ID=130'}, {'company': ['Comunicare S.r.l.'], 'href': '/v2/networks/lecco', 'id': 'lecco', 'location': {'city': 'Lecco', 'country': 'IT', 'latitude': 45.8565698, 'longitude': 9.397670399999999}, 'name': 'Bicincittà', 'source': 'https://www.bicincitta.com/frmLeStazioni.aspx?ID=49'}, {'company': ['Comunicare S.r.l.'], 'href': '/v2/networks/bicincitta-alghero', 'id': 'bicincitta-alghero', 'location': {'city': 'Alghero', 'country': 'IT', 'latitude': 40.5579517, 'longitude': 8.319294900000001}, 'name': 'Bicincittà', 'source': 'https://www.bicincitta.com/frmLeStazioni.aspx?ID=237'}, {'company': ['Comunicare S.r.l.'], 'href': '/v2/networks/bicincitta-san-giovanni-in-persiceto', 'id': 'bicincitta-san-giovanni-in-persiceto', 'location': {'city': 'San Giovanni in Persiceto', 'country': 'IT', 'latitude': 44.6405433, 'longitude': 11.1893053}, 'name': 'Mi Muovo in Bici', 'source': 'http://www.mimuovoinbici.it/frmLeStazioni.aspx?ID=101'}, {'company': ['Comunicare S.r.l.'], 'href': '/v2/networks/bicincitta-ente-parco-san-rossore', 'id': 'bicincitta-ente-parco-san-rossore', 'location': {'city': 'Parco naturale Migliarino San Rossore Massaciuccoli', 'country': 'IT', 'latitude': 43.723826, 'longitude': 10.339509}, 'name': 'Bicincittà', 'source': 'https://www.bicincitta.com/frmLeStazioni.aspx?ID=145'}, {'company': ['Comunicare S.r.l.'], 'href': '/v2/networks/bicincitta-treviglio', 'id': 'bicincitta-treviglio', 'location': {'city': 'Treviglio', 'country': 'IT', 'latitude': 45.5293372, 'longitude': 9.591435899999999}, 'name': 'Bicincittà', 'source': 'https://www.bicincitta.com/frmLeStazioni.aspx?ID=174'}, {'company': ['Comunicare S.r.l.'], 'href': '/v2/networks/bicincitta-lavis', 'id': 'bicincitta-lavis', 'location': {'city': 'Lavis', 'country': 'IT', 'latitude': 46.1408423, 'longitude': 11.1124935}, 'name': 'Bicincittà', 'source': 'https://www.bicincitta.com/frmLeStazioni.aspx?ID=238'}, {'company': ['Comunicare S.r.l.'], 'href': '/v2/networks/bicincitta-les-lacs-romont', 'id': 'bicincitta-les-lacs-romont', 'location': {'city': 'Murten', 'country': 'CH', 'latitude': 46.92922110000001, 'longitude': 7.120184}, 'name': 'Bicincittà', 'source': 'https://www.bicincitta.com/frmLeStazioni.aspx?ID=35'}, {'company': ['Comunicare S.r.l.'], 'href': '/v2/networks/bicincitta-ente-parco-di-montemarcello-magra', 'id': 'bicincitta-ente-parco-di-montemarcello-magra', 'location': {'city': 'Ente Parco Montemarcello Magra', 'country': 'IT', 'latitude': 44.1143897, 'longitude': 9.9635986}, 'name': 'Bicincittà', 'source': 'https://www.bicincitta.com/frmLeStazioni.aspx?ID=132'}, {'company': ['Comunicare S.r.l.'], 'href': '/v2/networks/bicischio', 'id': 'bicischio', 'location': {'city': 'Schio', 'country': 'IT', 'latitude': 45.7170517, 'longitude': 11.3597702}, 'name': 'BiciSchio', 'source': 'https://www.bicincitta.com/frmLeStazioni.aspx?ID=91'}, {'company': ['Comunicare S.r.l.'], 'href': '/v2/networks/bicincitta-imola', 'id': 'bicincitta-imola', 'location': {'city': 'Imola', 'country': 'IT', 'latitude': 44.3559128, 'longitude': 11.7161197}, 'name': 'Mi Muovo in bici', 'source': 'http://www.mimuovoinbici.it/frmLeStazioni.aspx?ID=196'}, {'company': ['Nextbike GmbH'], 'href': '/v2/networks/nextbike-leipzig', 'id': 'nextbike-leipzig', 'location': {'city': 'Leipzig', 'country': 'DE', 'latitude': 51.3415, 'longitude': 12.3625}, 'name': 'Nextbike'}, {'company': ['Nextbike GmbH'], 'href': '/v2/networks/nextbike-wiesbaden', 'id': 'nextbike-wiesbaden', 'location': {'city': 'Wiesbaden', 'country': 'DE', 'latitude': 50.0709, 'longitude': 8.24322}, 'name': 'Nextbike'}, {'company': ['Nextbike GmbH'], 'href': '/v2/networks/visa-frankfurt', 'id': 'visa-frankfurt', 'location': {'city': 'Frankfurt', 'country': 'DE', 'latitude': 50.1072, 'longitude': 8.66375}, 'name': 'VISA'}, {'company': ['Nextbike GmbH'], 'href': '/v2/networks/kvb-rad-koln', 'id': 'kvb-rad-koln', 'location': {'city': 'Köln', 'country': 'DE', 'latitude': 50.9429, 'longitude': 6.95649}, 'name': 'KVB Rad'}, {'company': ['Nextbike GmbH'], 'href': '/v2/networks/facherrad-karlsruhe', 'id': 'facherrad-karlsruhe', 'location': {'city': 'Karlsruhe', 'country': 'DE', 'latitude': 49.0102, 'longitude': 8.41827}, 'name': 'Fächerrad'}, {'company': ['Nextbike GmbH'], 'href': '/v2/networks/burgenland-neusiedler-see', 'id': 'burgenland-neusiedler-see', 'location': {'city': 'Neusiedler See', 'country': 'AT', 'latitude': 47.839, 'longitude': 16.761}, 'name': 'Burgenland'}, {'company': ['Nextbike GmbH'], 'href': '/v2/networks/nextbike-dusseldorf', 'id': 'nextbike-dusseldorf', 'location': {'city': 'Düsseldorf', 'country': 'DE', 'latitude': 51.2243, 'longitude': 6.77204}, 'name': 'Nextbike'}, {'company': ['Nextbike GmbH'], 'href': '/v2/networks/nextbike-stpolten', 'id': 'nextbike-stpolten', 'location': {'city': 'St.Pölten', 'country': 'AT', 'latitude': 48.2058, 'longitude': 15.6232}, 'name': 'Nextbike'}, {'company': ['Nextbike GmbH'], 'href': '/v2/networks/nextbike-modling', 'id': 'nextbike-modling', 'location': {'city': 'Mödling', 'country': 'AT', 'latitude': 48.1047, 'longitude': 16.3202}, 'name': 'Nextbike'}, {'company': ['Nextbike GmbH'], 'href': '/v2/networks/nextbike-sursee', 'id': 'nextbike-sursee', 'location': {'city': 'Sursee', 'country': 'CH', 'latitude': 47.1713, 'longitude': 8.10877}, 'name': 'Nextbike'}, {'company': ['Nextbike GmbH'], 'href': '/v2/networks/nextbike-luzern', 'id': 'nextbike-luzern', 'location': {'city': 'Luzern', 'country': 'CH', 'latitude': 47.0472, 'longitude': 8.30446}, 'name': 'Nextbike'}, {'company': ['Nextbike GmbH'], 'href': '/v2/networks/sixt-riga', 'id': 'sixt-riga', 'location': {'city': 'Rīga', 'country': 'LV', 'latitude': 56.9453, 'longitude': 24.1033}, 'name': 'SiXT'}, {'company': ['Nextbike GmbH'], 'href': '/v2/networks/metropolradruhr-dortmund', 'id': 'metropolradruhr-dortmund', 'location': {'city': 'Dortmund', 'country': 'DE', 'latitude': 51.5141, 'longitude': 7.46255}, 'name': 'metropolradruhr'}, {'company': ['Nextbike GmbH'], 'href': '/v2/networks/metropolradruhr-bochum', 'id': 'metropolradruhr-bochum', 'location': {'city': 'Bochum', 'country': 'DE', 'latitude': 51.4813, 'longitude': 7.2133}, 'name': 'metropolradruhr'}, {'company': ['Nextbike GmbH'], 'href': '/v2/networks/metropolradruhr-bottrop', 'id': 'metropolradruhr-bottrop', 'location': {'city': 'Bottrop', 'country': 'DE', 'latitude': 51.5263, 'longitude': 6.94611}, 'name': 'metropolradruhr'}, {'company': ['Nextbike GmbH'], 'href': '/v2/networks/metropolradruhr-duisburg', 'id': 'metropolradruhr-duisburg', 'location': {'city': 'Duisburg', 'country': 'DE', 'latitude': 51.4487, 'longitude': 6.77513}, 'name': 'metropolradruhr'}, {'company': ['Nextbike GmbH'], 'href': '/v2/networks/metropolradruhr-essen', 'id': 'metropolradruhr-essen', 'location': {'city': 'Essen', 'country': 'DE', 'latitude': 51.4425, 'longitude': 7.02301}, 'name': 'metropolradruhr'}, {'company': ['Nextbike GmbH'], 'href': '/v2/networks/metropolradruhr-gelsenkirchen', 'id': 'metropolradruhr-gelsenkirchen', 'location': {'city': 'Gelsenkirchen', 'country': 'DE', 'latitude': 51.5404, 'longitude': 7.07039}, 'name': 'metropolradruhr'}, {'company': ['Nextbike GmbH'], 'href': '/v2/networks/metropolradruhr-hamm', 'id': 'metropolradruhr-hamm', 'location': {'city': 'Hamm', 'country': 'DE', 'latitude': 51.6775, 'longitude': 7.84836}, 'name': 'metropolradruhr'}, {'company': ['Nextbike GmbH'], 'href': '/v2/networks/metropolradruhr-herne', 'id': 'metropolradruhr-herne', 'location': {'city': 'Herne', 'country': 'DE', 'latitude': 51.5363, 'longitude': 7.21493}, 'name': 'metropolradruhr'}, {'company': ['Nextbike GmbH'], 'href': '/v2/networks/metropolradruhr-mulheim-adr', 'id': 'metropolradruhr-mulheim-adr', 'location': {'city': 'Mülheim a.d.R.', 'country': 'DE', 'latitude': 51.4308, 'longitude': 6.87401}, 'name': 'metropolradruhr'}, {'company': ['Nextbike GmbH'], 'href': '/v2/networks/metropolradruhr-oberhausen', 'id': 'metropolradruhr-oberhausen', 'location': {'city': 'Oberhausen', 'country': 'DE', 'latitude': 51.4936, 'longitude': 6.85169}, 'name': 'metropolradruhr'}, {'company': ['Nextbike GmbH'], 'href': '/v2/networks/nextbike-wachau', 'id': 'nextbike-wachau', 'location': {'city': 'Wachau', 'country': 'AT', 'latitude': 48.3188, 'longitude': 15.4166}, 'name': 'Nextbike'}, {'company': ['Nextbike GmbH'], 'href': '/v2/networks/nextbike-tulln', 'id': 'nextbike-tulln', 'location': {'city': 'Tulln', 'country': 'AT', 'latitude': 48.3269, 'longitude': 16.0569}, 'name': 'Nextbike'}, {'company': ['Nextbike GmbH'], 'href': '/v2/networks/nextbike-thermenregion', 'id': 'nextbike-thermenregion', 'location': {'city': 'Thermenregion', 'country': 'AT', 'latitude': 47.9892, 'longitude': 16.2646}, 'name': 'Nextbike'}, {'company': ['Nextbike GmbH'], 'href': '/v2/networks/wrm-wroclaw', 'id': 'wrm-wroclaw', 'location': {'city': 'Wrocław', 'country': 'PL', 'latitude': 51.1097, 'longitude': 17.0485}, 'name': 'WRM'}, {'company': ['Nextbike GmbH'], 'href': '/v2/networks/nextbike-offenburg', 'id': 'nextbike-offenburg', 'location': {'city': 'Offenburg', 'country': 'DE', 'latitude': 48.4721, 'longitude': 7.94243}, 'name': 'Nextbike'}, {'company': ['Nextbike GmbH'], 'href': '/v2/networks/nextbike-wrneustadt', 'id': 'nextbike-wrneustadt', 'location': {'city': 'Wr.Neustadt', 'country': 'AT', 'latitude': 47.8167, 'longitude': 16.2426}, 'name': 'Nextbike'}, {'company': ['Nextbike GmbH'], 'href': '/v2/networks/nextbike-potsdam', 'id': 'nextbike-potsdam', 'location': {'city': 'Potsdam', 'country': 'DE', 'latitude': 52.3997, 'longitude': 13.0676}, 'name': 'Nextbike'}, {'company': ['Nextbike GmbH'], 'href': '/v2/networks/nextbike-gutersloh', 'id': 'nextbike-gutersloh', 'location': {'city': 'Gütersloh', 'country': 'DE', 'latitude': 51.9049, 'longitude': 8.39275}, 'name': 'Nextbike'}, {'company': ['Nextbike GmbH'], 'href': '/v2/networks/nextbike-10vorwien', 'id': 'nextbike-10vorwien', 'location': {'city': '10vorWien', 'country': 'AT', 'latitude': 48.3403, 'longitude': 16.279}, 'name': 'Nextbike'}, {'company': ['Nextbike GmbH'], 'href': '/v2/networks/usedomrad-usedom', 'id': 'usedomrad-usedom', 'location': {'city': 'Usedom', 'country': 'DE', 'latitude': 53.9779, 'longitude': 13.9925}, 'name': 'UsedomRad'}, {'company': ['Nextbike GmbH'], 'href': '/v2/networks/nextbike-norderstedt', 'id': 'nextbike-norderstedt', 'location': {'city': 'Norderstedt', 'country': 'DE', 'latitude': 53.6969, 'longitude': 10.002}, 'name': 'Nextbike'}, {'company': ['Nextbike GmbH'], 'href': '/v2/networks/swa-rad-augsburg', 'id': 'swa-rad-augsburg', 'location': {'city': 'Augsburg', 'country': 'DE', 'latitude': 48.3647, 'longitude': 10.8916}, 'name': 'SWA Rad'}, {'company': ['Nextbike GmbH'], 'href': '/v2/networks/nextbike-limassol', 'id': 'nextbike-limassol', 'location': {'city': 'Limassol', 'country': 'CY', 'latitude': 34.6823, 'longitude': 33.0464}, 'name': 'Nextbike'}, {'company': ['Nextbike GmbH'], 'href': '/v2/networks/prm-poznan', 'id': 'prm-poznan', 'location': {'city': 'Poznań', 'country': 'PL', 'latitude': 52.4077, 'longitude': 16.9323}, 'name': 'PRM'}, {'company': ['Nextbike GmbH'], 'href': '/v2/networks/nextbike-christchurch', 'id': 'nextbike-christchurch', 'location': {'city': 'Christchurch', 'country': 'NZ', 'latitude': -43.5341, 'longitude': 172.621}, 'name': 'Nextbike'}, {'company': ['Nextbike GmbH'], 'href': '/v2/networks/vrn-heidelberg', 'id': 'vrn-heidelberg', 'location': {'city': 'Heidelberg', 'country': 'DE', 'latitude': 49.4023, 'longitude': 8.67577}, 'name': 'VRN'}, {'company': ['Nextbike GmbH'], 'href': '/v2/networks/vrn-mannheim', 'id': 'vrn-mannheim', 'location': {'city': 'Mannheim', 'country': 'DE', 'latitude': 49.4869, 'longitude': 8.45638}, 'name': 'VRN'}, {'company': ['Nextbike GmbH'], 'href': '/v2/networks/stadtrad-innsbruck', 'id': 'stadtrad-innsbruck', 'location': {'city': 'Innsbruck', 'country': 'AT', 'latitude': 47.2632, 'longitude': 11.3961}, 'name': 'Stadtrad'}, {'company': ['Nextbike GmbH'], 'href': '/v2/networks/nextbike-nicosia', 'id': 'nextbike-nicosia', 'location': {'city': 'Nicosia', 'country': 'CY', 'latitude': 35.1728, 'longitude': 33.3653}, 'name': 'Nextbike'}, {'company': ['Nextbike GmbH'], 'href': '/v2/networks/veturilo-warszawa', 'id': 'veturilo-warszawa', 'location': {'city': 'Warszawa', 'country': 'PL', 'latitude': 52.2265, 'longitude': 21.0127}, 'name': 'VETURILO'}, {'company': ['Nextbike GmbH'], 'href': '/v2/networks/nextbike-hollabrunn', 'id': 'nextbike-hollabrunn', 'location': {'city': 'Hollabrunn', 'country': 'AT', 'latitude': 48.562, 'longitude': 16.0785}, 'name': 'Nextbike'}, {'company': ['Nextbike GmbH'], 'href': '/v2/networks/nextbike-wienerwald', 'id': 'nextbike-wienerwald', 'location': {'city': 'WienerWald', 'country': 'AT', 'latitude': 48.1926, 'longitude': 16.141}, 'name': 'Nextbike'}, {'company': ['Nextbike GmbH'], 'href': '/v2/networks/nextbike-zagreb', 'id': 'nextbike-zagreb', 'location': {'city': 'Zagreb', 'country': 'HR', 'latitude': 45.7984, 'longitude': 15.9789}, 'name': 'Nextbike'}, {'company': ['Nextbike GmbH'], 'href': '/v2/networks/nextbike-glasgow', 'id': 'nextbike-glasgow', 'location': {'city': 'Glasgow', 'country': 'GB', 'latitude': 55.8589, 'longitude': -4.25549}, 'name': 'Nextbike'}, {'company': ['Nextbike GmbH'], 'href': '/v2/networks/belfastbikes-belfast', 'id': 'belfastbikes-belfast', 'location': {'city': 'Belfast', 'country': 'GB', 'latitude': 54.5969, 'longitude': -5.92918}, 'name': 'BelfastBikes'}, {'company': ['Nextbike GmbH'], 'href': '/v2/networks/nextbike-stirling', 'id': 'nextbike-stirling', 'location': {'city': 'Stirling', 'country': 'GB', 'latitude': 56.1165, 'longitude': -3.9369}, 'name': 'Nextbike'}, {'company': ['Nextbike GmbH'], 'href': '/v2/networks/grad-sibenik-sibenik', 'id': 'grad-sibenik-sibenik', 'location': {'city': 'Šibenik', 'country': 'HR', 'latitude': 43.733, 'longitude': 15.8982}, 'name': 'Grad Šibenik'}, {'company': ['Nextbike GmbH'], 'href': '/v2/networks/lrm-lublin-lublin', 'id': 'lrm-lublin-lublin', 'location': {'city': 'Lublin', 'country': 'PL', 'latitude': 51.2469, 'longitude': 22.5697}, 'name': 'LRM Lublin'}, {'company': ['Nextbike GmbH'], 'href': '/v2/networks/healthy-ride-pittsburgh-pittsburgh', 'id': 'healthy-ride-pittsburgh-pittsburgh', 'location': {'city': 'Pittsburgh', 'country': 'US', 'latitude': 40.4459, 'longitude': -79.9945}, 'name': 'Healthy Ride'}, {'company': ['Nextbike GmbH'], 'href': '/v2/networks/grm-grodzisk-grodzisk-mazowiecki', 'id': 'grm-grodzisk-grodzisk-mazowiecki', 'location': {'city': 'Grodzisk Mazowiecki', 'country': 'PL', 'latitude': 52.113, 'longitude': 20.6265}, 'name': 'GRM Grodzisk'}, {'company': ['Nextbike GmbH'], 'href': '/v2/networks/nextbike-quickborn', 'id': 'nextbike-quickborn', 'location': {'city': 'Quickborn', 'country': 'DE', 'latitude': 53.7333, 'longitude': 9.90272}, 'name': 'Nextbike'}, {'company': ['Nextbike GmbH'], 'href': '/v2/networks/vrn-ludwigshafen', 'id': 'vrn-ludwigshafen', 'location': {'city': 'Ludwigshafen', 'country': 'DE', 'latitude': 49.4741, 'longitude': 8.43287}, 'name': 'VRN'}, {'company': ['Nextbike GmbH'], 'href': '/v2/networks/vrn-speyer', 'id': 'vrn-speyer', 'location': {'city': 'Speyer', 'country': 'DE', 'latitude': 49.3126, 'longitude': 8.45295}, 'name': 'VRN'}, {'company': ['Nextbike GmbH'], 'href': '/v2/networks/nextbike-lviv', 'id': 'nextbike-lviv', 'location': {'city': 'Lviv', 'country': 'UA', 'latitude': 49.8402, 'longitude': 24.0182}, 'name': 'Nextbike'}, {'company': ['Nextbike GmbH'], 'href': '/v2/networks/nextbike-wurzburg', 'id': 'nextbike-wurzburg', 'location': {'city': 'Würzburg', 'country': 'DE', 'latitude': 49.8, 'longitude': 9.93333}, 'name': 'Nextbike'}, {'company': ['Nextbike GmbH'], 'href': '/v2/networks/nextbike-serfaus', 'id': 'nextbike-serfaus', 'location': {'city': 'Serfaus', 'country': 'AT', 'latitude': 47.0387, 'longitude': 10.6048}, 'name': 'Nextbike'}, {'company': ['Nextbike GmbH'], 'href': '/v2/networks/nextbike-malta', 'id': 'nextbike-malta', 'location': {'city': 'Malta', 'country': 'MT', 'latitude': 35.9192, 'longitude': 14.4889}, 'name': 'Nextbike'}, {'company': ['Nextbike GmbH'], 'href': '/v2/networks/grad-karlovac-karlovac', 'id': 'grad-karlovac-karlovac', 'location': {'city': 'Karlovac', 'country': 'HR', 'latitude': 45.4905, 'longitude': 15.5503}, 'name': 'Grad Karlovac'}, {'company': ['Nextbike GmbH'], 'href': '/v2/networks/grad-slavonski-brod-slavonski-brod', 'id': 'grad-slavonski-brod-slavonski-brod', 'location': {'city': 'Slavonski Brod', 'country': 'HR', 'latitude': 45.1656, 'longitude': 18.0183}, 'name': 'Grad Slavonski Brod'}, {'company': ['Nextbike GmbH'], 'href': '/v2/networks/santander-cycles-mk-milton-keynes', 'id': 'santander-cycles-mk-milton-keynes', 'location': {'city': 'Milton Keynes', 'country': 'GB', 'latitude': 52.0406, 'longitude': -0.759417}, 'name': 'Santander Cycles MK'}, {'company': ['Nextbike GmbH'], 'href': '/v2/networks/nextbike-hergiswil', 'id': 'nextbike-hergiswil', 'location': {'city': 'Hergiswil', 'country': 'CH', 'latitude': 46.9905, 'longitude': 8.30829}, 'name': 'Nextbike'}, {'company': ['Nextbike GmbH'], 'href': '/v2/networks/grad-makarska-makarska', 'id': 'grad-makarska-makarska', 'location': {'city': 'Makarska', 'country': 'HR', 'latitude': 43.2992, 'longitude': 17.0184}, 'name': 'Grad Makarska'}, {'company': ['Nextbike GmbH'], 'href': '/v2/networks/opcina-brinje-brinje', 'id': 'opcina-brinje-brinje', 'location': {'city': 'Brinje', 'country': 'HR', 'latitude': 44.9977, 'longitude': 15.1258}, 'name': 'Općina Brinje'}, {'company': ['Nextbike GmbH'], 'href': '/v2/networks/grad-zadar-zadar', 'id': 'grad-zadar-zadar', 'location': {'city': 'Zadar', 'country': 'HR', 'latitude': 44.0058, 'longitude': 15.2183}, 'name': 'Grad Zadar'}, {'company': ['Nextbike GmbH'], 'href': '/v2/networks/vrn-bensheim', 'id': 'vrn-bensheim', 'location': {'city': 'Bensheim', 'country': 'DE', 'latitude': 49.6803, 'longitude': 8.6189}, 'name': 'VRN'}, {'company': ['Nextbike GmbH'], 'href': '/v2/networks/grad-ivanic-grad-ivanic-grad', 'id': 'grad-ivanic-grad-ivanic-grad', 'location': {'city': 'Ivanic Grad', 'country': 'HR', 'latitude': 45.7062, 'longitude': 16.3919}, 'name': 'Grad Ivanić-Grad'}, {'company': ['Nextbike GmbH'], 'href': '/v2/networks/bike-s-srm-szczecin', 'id': 'bike-s-srm-szczecin', 'location': {'city': 'Szczecin', 'country': 'PL', 'latitude': 53.4301, 'longitude': 14.5498}, 'name': 'Bike_S SRM'}, {'company': ['Nextbike GmbH'], 'href': '/v2/networks/nextbike-sarajevo', 'id': 'nextbike-sarajevo', 'location': {'city': 'Sarajevo', 'country': 'BA', 'latitude': 43.85, 'longitude': 18.39}, 'name': 'Nextbike'}, {'company': ['Nextbike GmbH'], 'href': '/v2/networks/co-bikes-exeter', 'id': 'co-bikes-exeter', 'location': {'city': 'Exeter', 'country': 'GB', 'latitude': 50.7272, 'longitude': -3.53605}, 'name': 'Co-bikes'}, {'company': ['Nextbike GmbH'], 'href': '/v2/networks/nextbike-auckland-waterfront', 'id': 'nextbike-auckland-waterfront', 'location': {'city': 'Auckland Waterfront', 'country': 'NZ', 'latitude': -36.841, 'longitude': 174.763}, 'name': 'Nextbike'}, {'company': ['Nextbike GmbH'], 'href': '/v2/networks/nextbike-berlin', 'id': 'nextbike-berlin', 'location': {'city': 'Berlin', 'country': 'DE', 'latitude': 52.5087, 'longitude': 13.3563}, 'name': 'Nextbike'}, {'company': ['Nextbike GmbH'], 'href': '/v2/networks/veturilo-stacje-sponsorskie-nextbike-veturilo', 'id': 'veturilo-stacje-sponsorskie-nextbike-veturilo', 'location': {'city': 'Warszawa', 'country': 'PL', 'latitude': 52.2265, 'longitude': 21.0127}, 'name': 'Stacje Sponsorskie Nextbike Veturilo'}, {'company': ['Nextbike GmbH'], 'href': '/v2/networks/bike4all-byblos', 'id': 'bike4all-byblos', 'location': {'city': 'Byblos', 'country': 'LB', 'latitude': 34.1236, 'longitude': 35.6511}, 'name': 'bike4all'}, {'company': ['Nextbike GmbH'], 'href': '/v2/networks/chartered-bike-bhopal-bhopal', 'id': 'chartered-bike-bhopal-bhopal', 'location': {'city': 'Bhopal', 'country': 'IN', 'latitude': 23.2467, 'longitude': 77.411}, 'name': 'Chartered Bike'}, {'company': ['Nextbike GmbH'], 'href': '/v2/networks/wk-bike-bremen-bremen', 'id': 'wk-bike-bremen-bremen', 'location': {'city': 'Bremen', 'country': 'DE', 'latitude': 53.0781, 'longitude': 8.80132}, 'name': 'WK-Bike'}, {'company': ['Nextbike GmbH'], 'href': '/v2/networks/vrn-worms', 'id': 'vrn-worms', 'location': {'city': 'Worms', 'country': 'DE', 'latitude': 49.6394, 'longitude': 8.34618}, 'name': 'VRN'}, {'company': ['Nextbike GmbH'], 'href': '/v2/networks/nextbike-stans', 'id': 'nextbike-stans', 'location': {'city': 'Stans', 'country': 'CH', 'latitude': 46.9593, 'longitude': 8.36836}, 'name': 'Nextbike'}, {'company': ['Nextbike GmbH'], 'href': '/v2/networks/nextbike-stansstad', 'id': 'nextbike-stansstad', 'location': {'city': 'Stansstad', 'country': 'CH', 'latitude': 46.9801, 'longitude': 8.34098}, 'name': 'Nextbike'}, {'company': ['Nextbike GmbH'], 'href': '/v2/networks/nextbike-horw', 'id': 'nextbike-horw', 'location': {'city': 'Horw', 'country': 'CH', 'latitude': 47.0188, 'longitude': 8.30828}, 'name': 'Nextbike'}, {'company': ['Nextbike GmbH'], 'href': '/v2/networks/vrn-burstadt', 'id': 'vrn-burstadt', 'location': {'city': 'Bürstadt', 'country': 'DE', 'latitude': 49.6461, 'longitude': 8.44917}, 'name': 'VRN'}, {'company': ['Nextbike GmbH'], 'href': '/v2/networks/prm-stacje-sponsorskie-nextbike-prm', 'id': 'prm-stacje-sponsorskie-nextbike-prm', 'location': {'city': 'Poznań', 'country': 'PL', 'latitude': 52.4077, 'longitude': 16.9323}, 'name': 'Stacje Sponsorskie Nextbike PRM'}, {'company': ['Nextbike GmbH'], 'href': '/v2/networks/nextbike-gross-enzersdorf', 'id': 'nextbike-gross-enzersdorf', 'location': {'city': 'Groß Enzersdorf', 'country': 'AT', 'latitude': 48.1986, 'longitude': 16.5496}, 'name': 'Nextbike'}, {'company': ['Nextbike GmbH'], 'href': '/v2/networks/nextbike-klagenfurt', 'id': 'nextbike-klagenfurt', 'location': {'city': 'Klagenfurt', 'country': 'AT', 'latitude': 46.6335, 'longitude': 14.3085}, 'name': 'Nextbike'}, {'company': ['Nextbike GmbH'], 'href': '/v2/networks/vrn-kaiserslautern', 'id': 'vrn-kaiserslautern', 'location': {'city': 'Kaiserslautern', 'country': 'DE', 'latitude': 49.4413, 'longitude': 7.75566}, 'name': 'VRN'}, {'company': ['Nextbike GmbH'], 'href': '/v2/networks/sitycleta-las-palmas-las-palmas-de-gran-canaria', 'id': 'sitycleta-las-palmas-las-palmas-de-gran-canaria', 'location': {'city': 'Las Palmas de Gran Canaria', 'country': 'ES', 'latitude': 28.1236, 'longitude': -15.4366}, 'name': 'Sitycleta'}, {'company': ['Nextbike GmbH'], 'href': '/v2/networks/grad-velika-gorica-velika-gorica', 'id': 'grad-velika-gorica-velika-gorica', 'location': {'city': 'Velika Gorica', 'country': 'HR', 'latitude': 45.7161, 'longitude': 16.0683}, 'name': 'Grad Velika Gorica'}, {'company': ['Nextbike GmbH'], 'href': '/v2/networks/grad-sisak-sisak', 'id': 'grad-sisak-sisak', 'location': {'city': 'Sisak', 'country': 'HR', 'latitude': 45.4875, 'longitude': 16.3753}, 'name': 'Grad Sisak'}, {'company': ['Nextbike GmbH'], 'href': '/v2/networks/kolobrzeski-rower-miejski-kolobrzeg', 'id': 'kolobrzeski-rower-miejski-kolobrzeg', 'location': {'city': 'Kołobrzeg', 'country': 'PL', 'latitude': 54.1762, 'longitude': 15.5761}, 'name': 'Kołobrzeski Rower Miejski'}, {'company': ['Nextbike GmbH'], 'href': '/v2/networks/grad-metkovic-metkovic', 'id': 'grad-metkovic-metkovic', 'location': {'city': 'Metković', 'country': 'HR', 'latitude': 43.0654, 'longitude': 17.642}, 'name': 'Grad Metković'}, {'company': ['Nextbike GmbH'], 'href': '/v2/networks/jastrebarsko-jastrebarsko', 'id': 'jastrebarsko-jastrebarsko', 'location': {'city': 'Jastrebarsko', 'country': 'HR', 'latitude': 45.6692, 'longitude': 15.6541}, 'name': 'Nextbike'}, {'company': ['Nextbike GmbH'], 'href': '/v2/networks/grad-drnis-drnis', 'id': 'grad-drnis-drnis', 'location': {'city': 'Drniš', 'country': 'HR', 'latitude': 43.8425, 'longitude': 16.1197}, 'name': 'Nextbike'}, {'company': ['Nextbike GmbH'], 'href': '/v2/networks/nextbike-tuzla', 'id': 'nextbike-tuzla', 'location': {'city': 'Tuzla', 'country': 'BA', 'latitude': 44.5392, 'longitude': 18.675}, 'name': 'Nextbike'}, {'company': ['Nextbike GmbH'], 'href': '/v2/networks/arriva-nitra', 'id': 'arriva-nitra', 'location': {'city': 'Nitra', 'country': 'SK', 'latitude': 48.3088, 'longitude': 18.0783}, 'name': 'Arriva'}, {'company': ['Nextbike GmbH'], 'href': '/v2/networks/nextbike-marburg', 'id': 'nextbike-marburg', 'location': {'city': 'Marburg', 'country': 'DE', 'latitude': 50.8019, 'longitude': 8.76444}, 'name': 'Nextbike'}, {'company': ['Nextbike GmbH'], 'href': '/v2/networks/bubi', 'id': 'bubi', 'location': {'city': 'Budapest', 'country': 'HU', 'latitude': 47.497912, 'longitude': 19.040235}, 'name': 'MOL Bubi'}, {'company': ['Nextbike GmbH'], 'href': '/v2/networks/nextbike-russelsheim-am-main', 'id': 'nextbike-russelsheim-am-main', 'location': {'city': 'Rüsselsheim am Main', 'country': 'DE', 'latitude': 49.9881, 'longitude': 8.42142}, 'name': 'Nextbike'}, {'company': ['Nextbike GmbH'], 'href': '/v2/networks/rower-miejski-szamotuly-rms-szamotuly', 'id': 'rower-miejski-szamotuly-rms-szamotuly', 'location': {'city': 'Szamotuły', 'country': 'PL', 'latitude': 52.6112, 'longitude': 16.5819}, 'name': 'Rower Miejski Szamotuły'}, {'company': ['Nextbike GmbH'], 'href': '/v2/networks/nextbike-dordrecht', 'id': 'nextbike-dordrecht', 'location': {'city': 'Dordrecht', 'country': 'NL', 'latitude': 51.7833, 'longitude': 4.69391}, 'name': 'Nextbike'}, {'company': ['Nextbike GmbH'], 'href': '/v2/networks/vrn-heppenheim', 'id': 'vrn-heppenheim', 'location': {'city': 'Heppenheim', 'country': 'DE', 'latitude': 49.6431, 'longitude': 8.63889}, 'name': 'VRN'}, {'company': ['Nextbike GmbH'], 'href': '/v2/networks/piaseczynski-rower-miejski-piaseczno', 'id': 'piaseczynski-rower-miejski-piaseczno', 'location': {'city': 'Piaseczno', 'country': 'PL', 'latitude': 52.0733, 'longitude': 21.0269}, 'name': 'Piaseczyński Rower Miejski'}, {'company': ['Nextbike GmbH'], 'href': '/v2/networks/nextbike-kassel', 'id': 'nextbike-kassel', 'location': {'city': 'Kassel', 'country': 'DE', 'latitude': 51.3127, 'longitude': 9.47975}, 'name': 'Nextbike'}, {'company': ['Nextbike GmbH'], 'href': '/v2/networks/nextbike-sarnen', 'id': 'nextbike-sarnen', 'location': {'city': 'Sarnen', 'country': 'CH', 'latitude': 46.8963, 'longitude': 8.24614}, 'name': 'Nextbike'}, {'company': ['Nextbike GmbH'], 'href': '/v2/networks/nextbike-wolfenschiessen', 'id': 'nextbike-wolfenschiessen', 'location': {'city': 'Wolfenschiessen', 'country': 'CH', 'latitude': 46.9079, 'longitude': 8.39767}, 'name': 'Nextbike'}, {'company': ['Nextbike GmbH'], 'href': '/v2/networks/nextbike-oberdorf', 'id': 'nextbike-oberdorf', 'location': {'city': 'Oberdorf', 'country': 'CH', 'latitude': 46.9563, 'longitude': 8.3884}, 'name': 'Nextbike'}, {'company': ['Nextbike GmbH'], 'href': '/v2/networks/nextbike-giessen', 'id': 'nextbike-giessen', 'location': {'city': 'Gießen', 'country': 'DE', 'latitude': 50.5943, 'longitude': 8.68097}, 'name': 'Nextbike'}, {'company': ['Nextbike GmbH'], 'href': '/v2/networks/vrn-weinheim', 'id': 'vrn-weinheim', 'location': {'city': 'Weinheim', 'country': 'DE', 'latitude': 49.545, 'longitude': 8.66027}, 'name': 'VRN'}, {'company': ['Nextbike GmbH'], 'href': '/v2/networks/nextbike-cardiff', 'id': 'nextbike-cardiff', 'location': {'city': 'Cardiff', 'country': 'GB', 'latitude': 51.4848, 'longitude': -3.19062}, 'name': 'Nextbike'}, {'company': ['Nextbike GmbH'], 'href': '/v2/networks/vrn-hockenheim', 'id': 'vrn-hockenheim', 'location': {'city': 'Hockenheim', 'country': 'DE', 'latitude': 49.3227, 'longitude': 8.54258}, 'name': 'VRN'}, {'company': ['Nextbike GmbH'], 'href': '/v2/networks/vrn-schwetzingen', 'id': 'vrn-schwetzingen', 'location': {'city': 'Schwetzingen', 'country': 'DE', 'latitude': 49.3863, 'longitude': 8.5756}, 'name': 'VRN'}, {'company': ['Nextbike GmbH'], 'href': '/v2/networks/nextbike-ennetmoos', 'id': 'nextbike-ennetmoos', 'location': {'city': 'Ennetmoos', 'country': 'CH', 'latitude': 46.9573, 'longitude': 8.3377}, 'name': 'Nextbike'}, {'company': ['Nextbike GmbH'], 'href': '/v2/networks/vrn-eppelheim', 'id': 'vrn-eppelheim', 'location': {'city': 'Eppelheim', 'country': 'DE', 'latitude': 49.4025, 'longitude': 8.6331}, 'name': 'VRN'}, {'company': ['Nextbike GmbH'], 'href': '/v2/networks/nextbike-university-of-surrey', 'id': 'nextbike-university-of-surrey', 'location': {'city': 'Surrey', 'country': 'GB', 'latitude': 51.2422, 'longitude': -0.590594}, 'name': 'Nextbike'}, {'company': ['Nextbike GmbH'], 'href': '/v2/networks/santander-cycles-swansea-swansea-university', 'id': 'santander-cycles-swansea-swansea-university', 'location': {'city': 'Swansea', 'country': 'GB', 'latitude': 51.6106, 'longitude': -3.9764}, 'name': 'Santander Cycles'}, {'company': ['Nextbike GmbH'], 'href': '/v2/networks/nextbike-erfurt', 'id': 'nextbike-erfurt', 'location': {'city': 'Erfurt', 'country': 'DE', 'latitude': 50.9785, 'longitude': 11.0334}, 'name': 'Nextbike'}, {'company': ['Nextbike GmbH'], 'href': '/v2/networks/bl-bike-banja-luka', 'id': 'bl-bike-banja-luka', 'location': {'city': 'Banja Luka', 'country': 'BA', 'latitude': 44.775, 'longitude': 17.1994}, 'name': 'BL bike'}, {'company': ['Nextbike GmbH'], 'href': '/v2/networks/lahr-pedelecs-lahr', 'id': 'lahr-pedelecs-lahr', 'location': {'city': 'Lahr', 'country': 'DE', 'latitude': 48.3396, 'longitude': 7.87376}, 'name': 'Nextbike'}, {'company': ['Nextbike GmbH'], 'href': '/v2/networks/berlin-buch-campus-berlin-buch', 'id': 'berlin-buch-campus-berlin-buch', 'location': {'city': 'Berlin', 'country': 'DE', 'latitude': 52.6364, 'longitude': 13.5029}, 'name': 'Berlin-Buch Campus'}, {'company': ['Nextbike GmbH'], 'href': '/v2/networks/lviv-odessa', 'id': 'lviv-odessa', 'location': {'city': 'Odessa', 'country': 'UA', 'latitude': 46.463, 'longitude': 30.7042}, 'name': 'Nextbike'}, {'company': ['Nextbike GmbH'], 'href': '/v2/networks/zielonogorski-rower-miejski-zielona-gora', 'id': 'zielonogorski-rower-miejski-zielona-gora', 'location': {'city': 'Zielona Góra', 'country': 'PL', 'latitude': 51.9381, 'longitude': 15.5048}, 'name': 'Zielonogórski Rower Miejski'}, {'company': ['Nextbike GmbH'], 'href': '/v2/networks/santander-monchengladbach', 'id': 'santander-monchengladbach', 'location': {'city': 'Mönchengladbach', 'country': 'DE', 'latitude': 51.1817, 'longitude': 6.43578}, 'name': 'Santander Mönchengladbach'}, {'company': ['Nextbike GmbH'], 'href': '/v2/networks/nomagobikes-celje', 'id': 'nomagobikes-celje', 'location': {'city': 'Celje', 'country': 'SI', 'latitude': 46.2388, 'longitude': 15.2693}, 'name': 'NomagoBikes'}, {'company': ['Nextbike GmbH'], 'href': '/v2/networks/bilbon-bizi', 'id': 'bilbon-bizi', 'location': {'city': 'Bilbao', 'country': 'ES', 'latitude': 43.2752, 'longitude': -2.93528}, 'name': 'BilbonBizi'}, {'company': ['Nextbike GmbH'], 'href': '/v2/networks/nomagobikes-lasko', 'id': 'nomagobikes-lasko', 'location': {'city': 'Laško', 'country': 'SI', 'latitude': 46.1458, 'longitude': 15.2312}, 'name': 'NomagoBikes'}, {'company': ['Nextbike GmbH'], 'href': '/v2/networks/nextbike-lippstadt', 'id': 'nextbike-lippstadt', 'location': {'city': 'Lippstadt', 'country': 'DE', 'latitude': 51.6755, 'longitude': 8.34394}, 'name': 'Nextbike'}, {'company': ['Nextbike GmbH'], 'href': '/v2/networks/bikekia-zilina', 'id': 'bikekia-zilina', 'location': {'city': 'Žilina', 'country': 'SK', 'latitude': 49.2217, 'longitude': 18.7572}, 'name': 'BikeKia'}, {'company': ['Nextbike GmbH'], 'href': '/v2/networks/koninski-rower-miejski-konin', 'id': 'koninski-rower-miejski-konin', 'location': {'city': 'Konin', 'country': 'PL', 'latitude': 52.2284, 'longitude': 18.2553}, 'name': 'Koniński Rower Miejski'}, {'company': ['Nextbike GmbH'], 'href': '/v2/networks/nextbike-vinnytsia', 'id': 'nextbike-vinnytsia', 'location': {'city': 'Vinnytsia', 'country': 'UA', 'latitude': 49.2328, 'longitude': 28.4625}, 'name': 'Nextbike'}, {'company': ['Nextbike GmbH'], 'href': '/v2/networks/nextbike-bonn', 'id': 'nextbike-bonn', 'location': {'city': 'Bonn', 'country': 'DE', 'latitude': 50.7367, 'longitude': 7.09541}, 'name': 'Nextbike'}, {'company': ['Nextbike GmbH'], 'href': '/v2/networks/tarnowski-rower-miejski-tarnow', 'id': 'tarnowski-rower-miejski-tarnow', 'location': {'city': 'Tarnów', 'country': 'PL', 'latitude': 50.0113, 'longitude': 20.9728}, 'name': 'Tarnowski Rower Miejski'}, {'company': ['Nextbike GmbH'], 'href': '/v2/networks/kolo-marek-marki', 'id': 'kolo-marek-marki', 'location': {'city': 'Marki', 'country': 'PL', 'latitude': 52.3256, 'longitude': 21.1089}, 'name': 'Koło Marek'}, {'company': ['Nextbike GmbH'], 'href': '/v2/networks/rowerowe-lodzkie-rl-koluszki', 'id': 'rowerowe-lodzkie-rl-koluszki', 'location': {'city': 'Koluszki', 'country': 'PL', 'latitude': 51.7401, 'longitude': 19.835}, 'name': 'Rowerowe Łódzkie'}, {'company': ['Nextbike GmbH'], 'href': '/v2/networks/rowerowe-lodzkie-rl-lask', 'id': 'rowerowe-lodzkie-rl-lask', 'location': {'city': 'Łask', 'country': 'PL', 'latitude': 51.5893, 'longitude': 19.142}, 'name': 'Rowerowe Łódzkie'}, {'company': ['Nextbike GmbH'], 'href': '/v2/networks/rowerowe-lodzkie-rl-lowicz', 'id': 'rowerowe-lodzkie-rl-lowicz', 'location': {'city': 'Łowicz', 'country': 'PL', 'latitude': 52.1057, 'longitude': 19.9381}, 'name': 'Rowerowe Łódzkie'}, {'company': ['Nextbike GmbH'], 'href': '/v2/networks/rowerowe-lodzkie-rl-pabianice', 'id': 'rowerowe-lodzkie-rl-pabianice', 'location': {'city': 'Pabianice', 'country': 'PL', 'latitude': 51.6651, 'longitude': 19.3548}, 'name': 'Rowerowe Łódzkie'}, {'company': ['Nextbike GmbH'], 'href': '/v2/networks/rowerowe-lodzkie-rl-sieradz', 'id': 'rowerowe-lodzkie-rl-sieradz', 'location': {'city': 'Sieradz', 'country': 'PL', 'latitude': 51.5902, 'longitude': 18.7382}, 'name': 'Rowerowe Łódzkie'}, {'company': ['Nextbike GmbH'], 'href': '/v2/networks/rowerowe-lodzkie-rl-skierniewice', 'id': 'rowerowe-lodzkie-rl-skierniewice', 'location': {'city': 'Skierniewice', 'country': 'PL', 'latitude': 51.9539, 'longitude': 20.1469}, 'name': 'Rowerowe Łódzkie'}, {'company': ['Nextbike GmbH'], 'href': '/v2/networks/rowerowe-lodzkie-rl-zdunska-wola', 'id': 'rowerowe-lodzkie-rl-zdunska-wola', 'location': {'city': 'Zduńska Wola', 'country': 'PL', 'latitude': 51.6011, 'longitude': 18.938}, 'name': 'Rowerowe Łódzkie'}, {'company': ['Nextbike GmbH'], 'href': '/v2/networks/rowerowe-lodzkie-rl-zgierz', 'id': 'rowerowe-lodzkie-rl-zgierz', 'location': {'city': 'Zgierz', 'country': 'PL', 'latitude': 51.8551, 'longitude': 19.4068}, 'name': 'Rowerowe Łódzkie'}, {'company': ['Nextbike GmbH'], 'href': '/v2/networks/rowerowe-lodzkie-rl-kutno', 'id': 'rowerowe-lodzkie-rl-kutno', 'location': {'city': 'Kutno', 'country': 'PL', 'latitude': 52.2317, 'longitude': 19.3564}, 'name': 'Rowerowe Łódzkie'}, {'company': ['Nextbike GmbH'], 'href': '/v2/networks/rowerowe-lodzkie-rl-lodz-rl', 'id': 'rowerowe-lodzkie-rl-lodz-rl', 'location': {'city': 'Łódź', 'country': 'PL', 'latitude': 51.7674, 'longitude': 19.4575}, 'name': 'Rowerowe Łódzkie'}, {'company': ['Nextbike GmbH'], 'href': '/v2/networks/frelo-freiburg', 'id': 'frelo-freiburg', 'location': {'city': 'Freiburg', 'country': 'DE', 'latitude': 47.9958, 'longitude': 7.84453}, 'name': 'Frelo'}, {'company': ['Comunicare S.r.l.'], 'href': '/v2/networks/bicincitta-trieste', 'id': 'bicincitta-trieste', 'location': {'city': 'Trieste', 'country': 'IT', 'latitude': 45.6495, 'longitude': 13.7768}, 'name': 'BiTS', 'source': 'https://www.bicincitta.com/frmLeStazioni.aspx?ID=266'}, {'company': ['Nextbike GmbH'], 'href': '/v2/networks/mobibike-dresden', 'id': 'mobibike-dresden', 'location': {'city': 'Dresden', 'country': 'DE', 'latitude': 51.0535, 'longitude': 13.7387}, 'name': 'MOBIbike'}, {'company': ['ЗАО «СитиБайк»'], 'href': '/v2/networks/velobike-murmansk', 'id': 'velobike-murmansk', 'location': {'city': 'Murmansk', 'country': 'RU', 'latitude': 68.968, 'longitude': 33.074}, 'name': 'Velobike'}, {'company': ['ЗАО «СитиБайк»'], 'href': '/v2/networks/velobike-nizhniy-novgorod', 'id': 'velobike-nizhniy-novgorod', 'location': {'city': 'Nizhniy Novgorod', 'country': 'RU', 'latitude': 56.194, 'longitude': 44.003}, 'name': 'Velobike'}, {'company': ['Nextbike GmbH'], 'href': '/v2/networks/nextbike-ivano-frankivsk', 'id': 'nextbike-ivano-frankivsk', 'location': {'city': 'Ivano Frankivsk', 'country': 'UA', 'latitude': 48.9281, 'longitude': 24.7103}, 'name': 'Nextbike'}, {'company': ['Velobike.kz, LLP', 'Smoove'], 'href': '/v2/networks/almatybike', 'id': 'almatybike', 'location': {'city': 'Almaty', 'country': 'KZ', 'latitude': 43.239101, 'longitude': 76.9268076}, 'name': 'Almatybike'}, {'company': ['Velobike.kz, LLP', 'Smoove'], 'href': '/v2/networks/shymkentbike', 'id': 'shymkentbike', 'location': {'city': 'Shymkent', 'country': 'KZ', 'latitude': 42.3184, 'longitude': 69.5978}, 'name': 'Shymkentbike'}, {'company': ['Motivate LLC'], 'gbfs_href': 'https://gbfs.baywheels.com/gbfs/gbfs.json', 'href': '/v2/networks/bay-wheels', 'id': 'bay-wheels', 'location': {'city': 'San Francisco Bay Area, CA', 'country': 'US', 'latitude': 37.7141454, 'longitude': -122.25}, 'name': 'Bay Wheels'}, {'company': ['Smoove'], 'gbfs_href': 'https://vannes-gbfs.klervi.net/gbfs/gbfs.json', 'href': '/v2/networks/veloceo', 'id': 'veloceo', 'location': {'city': 'Vannes', 'country': 'FR', 'latitude': 47.6559, 'longitude': -2.7603}, 'name': 'Vélocéo'}, {'company': ['PBSC Urban Solutions'], 'gbfs_href': 'https://monaco.publicbikesystem.net/customer/ube/gbfs/v1/', 'href': '/v2/networks/monabike', 'id': 'monabike', 'location': {'city': 'Monaco', 'country': 'MC', 'latitude': 43.733333, 'longitude': 7.416667}, 'name': 'MonaBike'}, {'company': ['Ecovelo'], 'ebikes': True, 'gbfs_href': 'https://api.gbfs.v1.ecovelo.mobi/gbfs/tlpmobilites', 'href': '/v2/networks/tlp-velo', 'id': 'tlp-velo', 'location': {'city': 'Tarbes, Lourdes', 'country': 'FR', 'latitude': 43.23, 'longitude': 0.07}, 'name': 'Tarbes et Lourdes vls'}, {'company': ['Ecovelo'], 'ebikes': True, 'gbfs_href': 'https://api.gbfs.v1.ecovelo.mobi/gbfs/zebullo', 'href': '/v2/networks/zebullo', 'id': 'zebullo', 'location': {'city': 'Reims', 'country': 'FR', 'latitude': 49.2628, 'longitude': 4.0347}, 'name': 'ZébullO'}, {'company': ['Ecovelo'], 'ebikes': True, 'gbfs_href': 'https://api.gbfs.v1.ecovelo.mobi/gbfs/calais', 'href': '/v2/networks/velectin', 'id': 'velectin', 'location': {'city': 'Calais', 'country': 'FR', 'latitude': 50.948056, 'longitude': 1.856389}, 'name': 'Velect’in'}, {'company': ['Ecovelo'], 'gbfs_href': 'https://api.gbfs.v1.ecovelo.mobi/gbfs/beb', 'href': '/v2/networks/rubis-velo', 'id': 'rubis-velo', 'location': {'city': 'Bourg-en-Bresse', 'country': 'FR', 'latitude': 46.2056, 'longitude': 5.2289}, 'name': \"Rubis'Vélo\"}, {'company': ['Ecovelo'], 'ebikes': True, 'gbfs_href': 'https://api.gbfs.v1.ecovelo.mobi/gbfs/tanlib', 'href': '/v2/networks/tanlib', 'id': 'tanlib', 'location': {'city': 'Niort', 'country': 'FR', 'latitude': 46.3258, 'longitude': -0.4606}, 'name': 'Vélo tanlib'}, {'company': ['Ecovelo'], 'gbfs_href': 'https://api.gbfs.v1.ecovelo.mobi/gbfs/marseillan', 'href': '/v2/networks/marseillan', 'id': 'marseillan', 'location': {'city': 'Marseillan', 'country': 'FR', 'latitude': 43.3572, 'longitude': 3.5283}, 'name': 'Marseillan vélo libre-service'}, {'company': ['Ecovelo'], 'ebikes': True, 'gbfs_href': 'https://api.gbfs.v1.ecovelo.mobi/gbfs/via', 'href': '/v2/networks/via-velo', 'id': 'via-velo', 'location': {'city': \"Val d'Ille-Aubigné\", 'country': 'FR', 'latitude': 48.2181, 'longitude': -1.6947}, 'name': 'VIA Vélo'}, {'company': ['Ecovelo'], 'ebikes': True, 'gbfs_href': 'https://api.gbfs.v1.ecovelo.mobi/gbfs/velyceo', 'href': '/v2/networks/velyceo', 'id': 'velyceo', 'location': {'city': 'Saint-Nazaire', 'country': 'FR', 'latitude': 47.2806, 'longitude': -2.2086}, 'name': 'vélYcéo'}, {'company': ['Ecovelo'], 'ebikes': True, 'gbfs_href': 'https://api.gbfs.v1.ecovelo.mobi/gbfs/velocite', 'href': '/v2/networks/velocite-laon', 'id': 'velocite-laon', 'location': {'city': 'Laon', 'country': 'FR', 'latitude': 49.5639, 'longitude': 3.6244}, 'name': \"Vélo'Cité\"}, {'company': ['Ecovelo'], 'ebikes': True, 'gbfs_href': 'https://api.gbfs.v1.ecovelo.mobi/gbfs/labaule', 'href': '/v2/networks/velo-baulois', 'id': 'velo-baulois', 'location': {'city': 'La Baule-Escoublac', 'country': 'FR', 'latitude': 47.2867, 'longitude': -2.3908}, 'name': 'Le Vélo Baulois'}, {'company': ['Ecovelo'], 'ebikes': True, 'gbfs_href': 'https://api.gbfs.v1.ecovelo.mobi/gbfs/lemarcel', 'href': '/v2/networks/le-marcel', 'id': 'le-marcel', 'location': {'city': 'Troyes', 'country': 'FR', 'latitude': 48.2997, 'longitude': 4.0792}, 'name': 'Le Marcel'}, {'company': ['Ecovelo'], 'ebikes': True, 'gbfs_href': 'https://api.gbfs.v1.ecovelo.mobi/gbfs/tempovelo', 'href': '/v2/networks/tempo-velo', 'id': 'tempo-velo', 'location': {'city': 'Agen', 'country': 'FR', 'latitude': 44.2049, 'longitude': 0.6212}, 'name': 'Tempo Vélo'}, {'company': ['Ecovelo'], 'gbfs_href': 'https://api.gbfs.v1.ecovelo.mobi/gbfs/semo', 'href': '/v2/networks/semo', 'id': 'semo', 'location': {'city': \"Communauté d'agglomération Seine-Eure\", 'country': 'FR', 'latitude': 49.22, 'longitude': 1.17}, 'name': 'semo'}, {'company': ['Ecovelo'], 'ebikes': True, 'gbfs_href': 'https://api.gbfs.v1.ecovelo.mobi/gbfs/cyclovis', 'href': '/v2/networks/cyclovis', 'id': 'cyclovis', 'location': {'city': 'Soissons', 'country': 'FR', 'latitude': 49.3817, 'longitude': 3.3236}, 'name': 'Cyclovis'}, {'company': ['Ecovelo'], 'ebikes': True, 'gbfs_href': 'https://api.gbfs.v1.ecovelo.mobi/gbfs/chantrerie', 'href': '/v2/networks/chantrerie-captainbike', 'id': 'chantrerie-captainbike', 'location': {'city': 'La Chantrerie, Nantes', 'country': 'FR', 'latitude': 47.2868203, 'longitude': -1.5210917}, 'name': 'Chantrerie VLS (Captain Bike)'}, {'company': ['Ecovelo'], 'ebikes': True, 'gbfs_href': 'https://api.gbfs.v1.ecovelo.mobi/gbfs/saclay', 'href': '/v2/networks/saclay-captainbike', 'id': 'saclay-captainbike', 'location': {'city': 'Paris-Saclay', 'country': 'FR', 'latitude': 48.7098082, 'longitude': 2.211366}, 'name': 'Saclay VLS (Captain Bike)'}, {'company': ['CIGL ESCH'], 'ebikes': True, 'href': '/v2/networks/velok', 'id': 'velok', 'location': {'city': 'Esch-sur-alzette', 'country': 'LU', 'latitude': 49.5024, 'longitude': 5.9722}, 'name': \"Vël'Ok\", 'source': 'https://docs.api.tfl.lu/v1/en/RESTAPIs/BikePoint/'}, {'company': ['Nextbike GmbH'], 'href': '/v2/networks/wienmobil-rad', 'id': 'wienmobil-rad', 'location': {'city': 'Wien', 'country': 'AT', 'latitude': 48.2081743, 'longitude': 16.3738189}, 'name': 'WienMobil Rad'}, {'company': None, 'gbfs_href': 'https://gbfs.urbansharing.com/bikeverona.it/gbfs.json', 'href': '/v2/networks/bikeverona', 'id': 'bikeverona', 'location': {'city': 'Verona', 'country': 'IT', 'latitude': 45.438611, 'longitude': 10.992778}, 'name': 'Verona Bike'}, {'company': ['Nextbike GmbH'], 'href': '/v2/networks/sprottenflotte-kiel', 'id': 'sprottenflotte-kiel', 'location': {'city': 'Kiel', 'country': 'DE', 'latitude': 54.2837, 'longitude': 10.13213}, 'name': 'Sprottenflotte'}, {'company': ['TaM', 'Smoove'], 'gbfs_href': 'https://montpellier-fr-smoove.klervi.net/gbfs/gbfs.json', 'href': '/v2/networks/velomagg', 'id': 'velomagg', 'location': {'city': 'Montpellier', 'country': 'FR', 'latitude': 43.6119, 'longitude': 3.8772}, 'name': 'Vélomagg'}, {'company': ['Bcycle, LLC', 'RTC Southern Nevada, Inc'], 'gbfs_href': 'https://gbfs.bcycle.com/bcycle_rtcbikeshare/gbfs.json', 'href': '/v2/networks/rtc-bike-share', 'id': 'rtc-bike-share', 'location': {'city': 'Las Vegas, NV', 'country': 'US', 'latitude': 36.1438, 'longitude': -115.15682}, 'name': 'RTC Bike Share'}, {'company': ['Bcycle, LLC', 'Embark, Inc'], 'gbfs_href': 'https://gbfs.bcycle.com/bcycle_spokies/gbfs.json', 'href': '/v2/networks/spokies', 'id': 'spokies', 'location': {'city': 'Oklahoma, OK', 'country': 'US', 'latitude': 35.46436, 'longitude': -97.50888}, 'name': 'Spokies BCycle'}, {'company': ['Leonbici Nextbike Gmbh Y Autobuses Urbanos De Leon S.a. Ute'], 'href': '/v2/networks/alsa-nextbike-leon', 'id': 'alsa-nextbike-leon', 'location': {'city': 'León', 'country': 'ES', 'latitude': 42.5987263, 'longitude': -5.5670959}, 'name': 'Alsa nextbike León'}, {'company': ['Strasbourg Mobilités'], 'gbfs_href': 'https://transport.data.gouv.fr/gbfs/strasbourg/gbfs.json', 'href': '/v2/networks/velhop', 'id': 'velhop', 'location': {'city': 'Strasbourg', 'country': 'FR', 'latitude': 48.583611, 'longitude': 7.748056}, 'name': 'Vélhop'}, {'company': None, 'gbfs_href': 'https://belfort-gbfs.klervi.net/gbfs/gbfs.json', 'href': '/v2/networks/optymo', 'id': 'optymo', 'location': {'city': 'Belfort', 'country': 'FR', 'latitude': 47.641111, 'longitude': 6.849444}, 'name': 'Optymo'}, {'company': ['Nextbike GmbH'], 'href': '/v2/networks/biker-bialystok', 'id': 'biker-bialystok', 'location': {'city': 'Białystok', 'country': 'PL', 'latitude': 53.1262, 'longitude': 23.1427}, 'name': 'BIKER Białystok Poland'}, {'company': ['Nextbike GmbH'], 'href': '/v2/networks/nextbike-prostejov', 'id': 'nextbike-prostejov', 'location': {'city': 'Prostejov', 'country': 'CZ', 'latitude': 49.4722, 'longitude': 17.1055}, 'name': 'nextbike Prostejov'}, {'company': ['Nextbike GmbH'], 'href': '/v2/networks/bike-katowice', 'id': 'bike-katowice', 'location': {'city': 'Katowice', 'country': 'PL', 'latitude': 50.2594, 'longitude': 19.0215}, 'name': 'Katowice Bike Poland'}, {'company': ['Nextbike GmbH'], 'href': '/v2/networks/nextbike-focsani', 'id': 'nextbike-focsani', 'location': {'city': 'Focșani', 'country': 'RO', 'latitude': 45.6947, 'longitude': 27.1851}, 'name': 'nextbike Romania'}, {'company': ['Nextbike GmbH'], 'href': '/v2/networks/grad-vukovar', 'id': 'grad-vukovar', 'location': {'city': 'Vukovar', 'country': 'HR', 'latitude': 45.3575, 'longitude': 18.9895}, 'name': 'Grad Vukovar (Croatia)'}, {'company': ['Nextbike GmbH'], 'href': '/v2/networks/system-rowerow-miejskich-w-pszczynie-pszczyna', 'id': 'system-rowerow-miejskich-w-pszczynie-pszczyna', 'location': {'city': 'Pszczyna', 'country': 'PL', 'latitude': 49.9757, 'longitude': 18.9463}, 'name': 'System Rowerów Miejskich w Pszczynie Poland'}, {'company': ['Nextbike GmbH'], 'href': '/v2/networks/tyski-rower-miejski-tychy', 'id': 'tyski-rower-miejski-tychy', 'location': {'city': 'Tychy', 'country': 'PL', 'latitude': 50.1124, 'longitude': 18.9972}, 'name': 'Tyski Rower Miejski Poland'}, {'company': ['Nextbike GmbH'], 'href': '/v2/networks/czestochowski-rower-miejski-czestochowa', 'id': 'czestochowski-rower-miejski-czestochowa', 'location': {'city': 'Częstochowa', 'country': 'PL', 'latitude': 50.812, 'longitude': 19.1375}, 'name': 'Częstochowski Rower Miejski Poland'}, {'company': ['Nextbike GmbH'], 'href': '/v2/networks/pruszkowski-rower-miejski-pruszkow', 'id': 'pruszkowski-rower-miejski-pruszkow', 'location': {'city': 'Pruszków', 'country': 'PL', 'latitude': 52.1622, 'longitude': 20.8062}, 'name': 'Pruszkowski Rower Miejski Poland'}, {'company': ['Nextbike GmbH'], 'href': '/v2/networks/ok-bike-kedzierzyn-kozle', 'id': 'ok-bike-kedzierzyn-kozle', 'location': {'city': 'Kędzierzyn-Koźle', 'country': 'PL', 'latitude': 50.3392, 'longitude': 18.2352}, 'name': 'OK Bike Poland'}, {'company': ['Nextbike GmbH'], 'href': '/v2/networks/grad-zapresic', 'id': 'grad-zapresic', 'location': {'city': 'Zaprešić', 'country': 'HR', 'latitude': 45.8622, 'longitude': 15.8049}, 'name': 'Grad Zaprešić (Croatia)'}, {'company': ['Nextbike GmbH'], 'href': '/v2/networks/porec-bike-share-porec', 'id': 'porec-bike-share-porec', 'location': {'city': 'Poreč', 'country': 'HR', 'latitude': 45.2292, 'longitude': 13.6035}, 'name': 'Porec bike share (Croatia)'}, {'company': ['Nextbike GmbH'], 'href': '/v2/networks/kaliski-rower-miejski-kalisz', 'id': 'kaliski-rower-miejski-kalisz', 'location': {'city': 'Kalisz', 'country': 'PL', 'latitude': 51.7525, 'longitude': 18.0341}, 'name': 'Kaliski Rower Miejski Poland'}, {'company': ['Nextbike GmbH'], 'href': '/v2/networks/rower-miejski-w-ostrowie-wielkopolskim-ostrow-wielkopolski', 'id': 'rower-miejski-w-ostrowie-wielkopolskim-ostrow-wielkopolski', 'location': {'city': 'Ostrów Wielkopolski', 'country': 'PL', 'latitude': 51.65, 'longitude': 17.8253}, 'name': 'Rower Miejski w Ostrowie Wielkopolskim Poland'}, {'company': ['Nextbike GmbH'], 'href': '/v2/networks/santander-brunel', 'id': 'santander-brunel', 'location': {'city': 'Brunel University', 'country': 'GB', 'latitude': 51.5463, 'longitude': -0.48048}, 'name': 'Santander Cycles - Brunel'}, {'company': ['Nextbike GmbH'], 'href': '/v2/networks/koszalinski-rower-miejski-koszalin', 'id': 'koszalinski-rower-miejski-koszalin', 'location': {'city': 'Koszalin', 'country': 'PL', 'latitude': 54.2026, 'longitude': 16.1678}, 'name': 'Koszaliński Rower Miejski Poland'}, {'company': ['Nextbike GmbH'], 'href': '/v2/networks/ki-rower-miejski-sosnowiec', 'id': 'ki-rower-miejski-sosnowiec', 'location': {'city': 'Sosnowiec', 'country': 'PL', 'latitude': 50.278, 'longitude': 19.1345}, 'name': 'Sosnowiecki Rower Miejski Poland'}, {'company': ['Nextbike GmbH'], 'href': '/v2/networks/pobiedziski-rower-gminny-pobiedziska', 'id': 'pobiedziski-rower-gminny-pobiedziska', 'location': {'city': 'Pobiedziska', 'country': 'PL', 'latitude': 52.4765, 'longitude': 17.2866}, 'name': 'Pobiedziski Rower Gminny Poland'}, {'company': ['Nextbike GmbH'], 'href': '/v2/networks/siemianowicki-rower-miejski-siemianowice-slaskie', 'id': 'siemianowicki-rower-miejski-siemianowice-slaskie', 'location': {'city': 'Siemianowice Śląskie', 'country': 'PL', 'latitude': 50.3031, 'longitude': 19.0222}, 'name': 'Siemianowicki Rower Miejski Poland'}, {'company': ['Nextbike GmbH'], 'href': '/v2/networks/piotrkowski-rower-miejski-piotrkow-trybunalski', 'id': 'piotrkowski-rower-miejski-piotrkow-trybunalski', 'location': {'city': 'Piotrków Trybunalski', 'country': 'PL', 'latitude': 51.3975, 'longitude': 19.6779}, 'name': 'Piotrkowski Rower Miejski Poland'}, {'company': ['Nextbike GmbH'], 'href': '/v2/networks/i-rower-miejski-prm-plock', 'id': 'i-rower-miejski-prm-plock', 'location': {'city': 'Płock', 'country': 'PL', 'latitude': 52.5445, 'longitude': 19.7017}, 'name': 'Płocki Rower Miejski (PRM) Poland'}, {'company': ['Nextbike GmbH'], 'href': '/v2/networks/plocki-rower-miejski-prm-orlen-plock', 'id': 'plocki-rower-miejski-prm-orlen-plock', 'location': {'city': 'Orlen Płock', 'country': 'PL', 'latitude': 52.5466, 'longitude': 19.7047}, 'name': 'Płocki Rower Miejski (PRM) Poland'}, {'company': ['Nextbike GmbH'], 'href': '/v2/networks/i-rower-miejski-otwock', 'id': 'i-rower-miejski-otwock', 'location': {'city': 'Otwock', 'country': 'PL', 'latitude': 52.1034, 'longitude': 21.2692}, 'name': 'Otwocki Rower Miejski Poland'}, {'company': ['Nextbike GmbH'], 'href': '/v2/networks/ciechanowski-rower-miejski-ciechanow', 'id': 'ciechanowski-rower-miejski-ciechanow', 'location': {'city': 'Ciechanów', 'country': 'PL', 'latitude': 52.8763, 'longitude': 20.6102}, 'name': 'Ciechanowski Rower Miejski Poland'}, {'company': ['Nextbike GmbH'], 'href': '/v2/networks/zyrardowski-rower-miejski-zyrardow', 'id': 'zyrardowski-rower-miejski-zyrardow', 'location': {'city': 'Żyrardów', 'country': 'PL', 'latitude': 52.0503, 'longitude': 20.4464}, 'name': 'Żyrardowski Rower Miejski Poland'}, {'company': ['Nextbike GmbH'], 'href': '/v2/networks/sap-walldorf', 'id': 'sap-walldorf', 'location': {'city': 'Walldorf', 'country': 'DE', 'latitude': 49.2945, 'longitude': 8.62324}, 'name': 'SAP Walldorf'}, {'company': ['Nextbike GmbH'], 'href': '/v2/networks/opcina-dugopolje', 'id': 'opcina-dugopolje', 'location': {'city': 'Dugopolje', 'country': 'HR', 'latitude': 43.5872, 'longitude': 16.5879}, 'name': 'Općina Dugopolje (Croatia)'}, {'company': ['Nextbike GmbH'], 'href': '/v2/networks/opcina-pitomaca', 'id': 'opcina-pitomaca', 'location': {'city': 'Pitomača', 'country': 'HR', 'latitude': 45.9077, 'longitude': 17.2622}, 'name': 'Općina Pitomača (Croatia)'}, {'company': ['Nextbike GmbH'], 'href': '/v2/networks/nomago-ljubljana', 'id': 'nomago-ljubljana', 'location': {'city': 'Ljubljana', 'country': 'SI', 'latitude': 46.0577, 'longitude': 14.5013}, 'name': 'Nomago Bikes - LJUBLJANA'}, {'company': ['Nextbike GmbH'], 'href': '/v2/networks/system-roweru-gminnego-pielgrzymka', 'id': 'system-roweru-gminnego-pielgrzymka', 'location': {'city': 'Pielgrzymka', 'country': 'PL', 'latitude': 51.1185, 'longitude': 15.8153}, 'name': 'System Roweru Gminnego Poland'}, {'company': ['Nextbike GmbH'], 'href': '/v2/networks/rvk', 'id': 'rvk', 'location': {'city': 'RVK e-Bike', 'country': 'DE', 'latitude': 50.7069, 'longitude': 6.87607}, 'name': 'RVK'}, {'company': ['Nextbike GmbH'], 'href': '/v2/networks/partnerzy-nextbike-polska-wolt', 'id': 'partnerzy-nextbike-polska-wolt', 'location': {'city': 'Wolt', 'country': 'PL', 'latitude': 52.2984, 'longitude': 21.0498}, 'name': 'Partnerzy Nextbike Polska'}, {'company': ['Nextbike GmbH'], 'href': '/v2/networks/wupsi', 'id': 'wupsi', 'location': {'city': 'Leverkusen', 'country': 'DE', 'latitude': 51.0732, 'longitude': 7.00814}, 'name': 'wupsiRad Leverkusen'}, {'company': ['Nextbike GmbH'], 'href': '/v2/networks/lovesharing-canary-islands-gran-canaria', 'id': 'lovesharing-canary-islands-gran-canaria', 'location': {'city': 'Gran Canaria', 'country': 'ES', 'latitude': 27.8154, 'longitude': -15.5182}, 'name': 'Lovesharing (Canary Islands)'}, {'company': ['Nextbike GmbH'], 'href': '/v2/networks/lovesharing-canary-islands-lanzarote', 'id': 'lovesharing-canary-islands-lanzarote', 'location': {'city': 'Lanzarote', 'country': 'ES', 'latitude': 29.0491, 'longitude': -13.5729}, 'name': 'Lovesharing (Canary Islands)'}, {'company': ['Nextbike GmbH'], 'href': '/v2/networks/lovesharing-canary-islands-fuerteventura', 'id': 'lovesharing-canary-islands-fuerteventura', 'location': {'city': 'Fuerteventura', 'country': 'ES', 'latitude': 28.3584, 'longitude': -14.064}, 'name': 'Lovesharing (Canary Islands)'}, {'company': ['VAG Verkehrs-Aktiengesellschaft'], 'href': '/v2/networks/vagrad', 'id': 'vagrad', 'location': {'city': 'Nürnberg', 'country': 'DE', 'latitude': 49.4487, 'longitude': 11.0794}, 'name': 'VAG_Rad'}, {'company': ['Nextbike GmbH'], 'href': '/v2/networks/grad-split', 'id': 'grad-split', 'location': {'city': 'Split', 'country': 'HR', 'latitude': 43.5162, 'longitude': 16.4637}, 'name': 'Grad Split (Croatia)'}, {'company': ['Nextbike GmbH'], 'href': '/v2/networks/grad-split-solin', 'id': 'grad-split-solin', 'location': {'city': 'Solin', 'country': 'HR', 'latitude': 43.5441, 'longitude': 16.4833}, 'name': 'Grad Split (Croatia)'}, {'company': ['Nextbike GmbH'], 'href': '/v2/networks/grad-split-opcina-klis', 'id': 'grad-split-opcina-klis', 'location': {'city': 'Općina Klis', 'country': 'HR', 'latitude': 43.5605, 'longitude': 16.5269}, 'name': 'Grad Split (Croatia)'}, {'company': ['Nextbike GmbH'], 'href': '/v2/networks/grad-split-opcina-hrvace', 'id': 'grad-split-opcina-hrvace', 'location': {'city': 'Općina Hrvace', 'country': 'HR', 'latitude': 43.7553, 'longitude': 16.6197}, 'name': 'Grad Split (Croatia)'}, {'company': ['Nextbike GmbH'], 'href': '/v2/networks/grad-split-opcina-otok-dalmatinski', 'id': 'grad-split-opcina-otok-dalmatinski', 'location': {'city': 'Općina Otok Dalmatinski', 'country': 'HR', 'latitude': 43.6889, 'longitude': 16.7361}, 'name': 'Grad Split (Croatia)'}, {'company': ['Nextbike GmbH'], 'href': '/v2/networks/grad-split-sinj', 'id': 'grad-split-sinj', 'location': {'city': 'Sinj', 'country': 'HR', 'latitude': 43.7031, 'longitude': 16.6364}, 'name': 'Grad Split (Croatia)'}, {'company': ['Nextbike GmbH'], 'href': '/v2/networks/grad-split-hvar', 'id': 'grad-split-hvar', 'location': {'city': 'Hvar', 'country': 'HR', 'latitude': 43.1882, 'longitude': 16.6295}, 'name': 'Grad Split (Croatia)'}, {'company': ['Nextbike GmbH'], 'href': '/v2/networks/grad-split-podstrana', 'id': 'grad-split-podstrana', 'location': {'city': 'Podstrana', 'country': 'HR', 'latitude': 43.4934, 'longitude': 16.5598}, 'name': 'Grad Split (Croatia)'}, {'company': ['Nextbike GmbH'], 'href': '/v2/networks/grad-split-trogir', 'id': 'grad-split-trogir', 'location': {'city': 'Trogir', 'country': 'HR', 'latitude': 43.5234, 'longitude': 16.2476}, 'name': 'Grad Split (Croatia)'}, {'company': ['Nextbike GmbH'], 'href': '/v2/networks/nextbike-ostrava', 'id': 'nextbike-ostrava', 'location': {'city': 'Ostrava', 'country': 'CZ', 'latitude': 49.8344, 'longitude': 18.2823}, 'name': 'nextbike Ostrava'}, {'company': ['Nextbike GmbH'], 'href': '/v2/networks/nextbike-ostrava-hlucin', 'id': 'nextbike-ostrava-hlucin', 'location': {'city': 'Hlučín', 'country': 'CZ', 'latitude': 49.898, 'longitude': 18.1923}, 'name': 'nextbike Ostrava'}, {'company': ['Nextbike GmbH'], 'href': '/v2/networks/nextbike-ostrava-vresina', 'id': 'nextbike-ostrava-vresina', 'location': {'city': 'Vřesina', 'country': 'CZ', 'latitude': 49.825, 'longitude': 18.1206}, 'name': 'nextbike Ostrava'}, {'company': ['Nextbike GmbH'], 'href': '/v2/networks/ski-rower-miejski-lubon', 'id': 'ski-rower-miejski-lubon', 'location': {'city': 'Luboń', 'country': 'PL', 'latitude': 52.3461, 'longitude': 16.8765}, 'name': 'Luboński Rower Miejski Poland'}, {'company': ['Nextbike GmbH'], 'href': '/v2/networks/ibizi-ibiza-city', 'id': 'ibizi-ibiza-city', 'location': {'city': 'Ibiza-City', 'country': 'ES', 'latitude': 38.9066, 'longitude': 1.42046}, 'name': 'ibizi'}, {'company': ['Nextbike GmbH'], 'href': '/v2/networks/sprintrad', 'id': 'sprintrad', 'location': {'city': 'Hannover', 'country': 'DE', 'latitude': 52.3721, 'longitude': 9.73569}, 'name': 'sprintRAD'}, {'company': ['Nextbike GmbH'], 'href': '/v2/networks/komornicki-system-rowerowy-komorniki', 'id': 'komornicki-system-rowerowy-komorniki', 'location': {'city': 'Komorniki', 'country': 'PL', 'latitude': 52.3347, 'longitude': 16.8094}, 'name': 'Komornicki System Rowerowy Poland'}, {'company': ['Nextbike GmbH'], 'href': '/v2/networks/nextbike-havirov', 'id': 'nextbike-havirov', 'location': {'city': 'Havířov', 'country': 'CZ', 'latitude': 49.7799, 'longitude': 18.4328}, 'name': 'nextbike Havířov'}, {'company': ['Nextbike GmbH'], 'href': '/v2/networks/nextbike-berounsko', 'id': 'nextbike-berounsko', 'location': {'city': 'Berounsko', 'country': 'CZ', 'latitude': 49.9616, 'longitude': 14.064}, 'name': 'nextbike Berounsko'}, {'company': ['Nextbike GmbH'], 'href': '/v2/networks/ready4green-graben', 'id': 'ready4green-graben', 'location': {'city': 'Graben', 'country': 'DE', 'latitude': 51.1242, 'longitude': 10.8984}, 'name': 'Graben - ready4green'}, {'company': ['Nextbike GmbH'], 'href': '/v2/networks/oleski-rower-miejski-olesno', 'id': 'oleski-rower-miejski-olesno', 'location': {'city': 'Olesno', 'country': 'PL', 'latitude': 50.8773, 'longitude': 18.4212}, 'name': 'Oleski Rower Miejski Poland'}, {'company': ['Nextbike GmbH'], 'href': '/v2/networks/styr-staell-goeteborg', 'id': 'styr-staell-goeteborg', 'location': {'city': 'Göteborg', 'country': 'SE', 'latitude': 57.6902, 'longitude': 11.9881}, 'name': 'Styr & Ställ (Sweden, Göteborg)'}, {'company': ['Nextbike GmbH'], 'href': '/v2/networks/nibelungen-bike-braunschweig', 'id': 'nibelungen-bike-braunschweig', 'location': {'city': 'Braunschweig', 'country': 'DE', 'latitude': 52.2597, 'longitude': 10.5307}, 'name': 'Nibelungen-Bike'}, {'company': ['Nextbike GmbH'], 'href': '/v2/networks/nextbike-brno', 'id': 'nextbike-brno', 'location': {'city': 'Brno', 'country': 'CZ', 'latitude': 49.1911, 'longitude': 16.6148}, 'name': 'nextbike Brno'}, {'company': ['Nextbike GmbH'], 'href': '/v2/networks/nextbike-brno-kurim', 'id': 'nextbike-brno-kurim', 'location': {'city': 'Kuřim', 'country': 'CZ', 'latitude': 49.2994, 'longitude': 16.5368}, 'name': 'nextbike Brno'}, {'company': ['Nextbike GmbH'], 'href': '/v2/networks/nextbike-praha', 'id': 'nextbike-praha', 'location': {'city': 'Praha', 'country': 'CZ', 'latitude': 50.0592, 'longitude': 14.5761}, 'name': 'nextbike Praha'}, {'company': ['Nextbike GmbH'], 'href': '/v2/networks/nextbike-praha-ricany', 'id': 'nextbike-praha-ricany', 'location': {'city': 'Říčany', 'country': 'CZ', 'latitude': 49.9976, 'longitude': 14.6685}, 'name': 'nextbike Praha'}, {'company': ['Nextbike GmbH'], 'href': '/v2/networks/nextbike-olomouc', 'id': 'nextbike-olomouc', 'location': {'city': 'Olomouc', 'country': 'CZ', 'latitude': 49.5929, 'longitude': 17.2459}, 'name': 'nextbike Olomouc'}, {'company': ['Nextbike GmbH'], 'href': '/v2/networks/nextbike-kladno', 'id': 'nextbike-kladno', 'location': {'city': 'Kladno', 'country': 'CZ', 'latitude': 50.1435, 'longitude': 14.1082}, 'name': 'nextbike Kladno'}, {'company': ['Nextbike GmbH'], 'href': '/v2/networks/nextbike-opava', 'id': 'nextbike-opava', 'location': {'city': 'Opava', 'country': 'CZ', 'latitude': 49.9289, 'longitude': 18.2634}, 'name': 'nextbike Opava'}, {'company': ['Nextbike GmbH'], 'href': '/v2/networks/nextbike-bielefeld', 'id': 'nextbike-bielefeld', 'location': {'city': 'Bielefeld', 'country': 'DE', 'latitude': 52.0257, 'longitude': 8.53286}, 'name': 'meinSiggi'}, {'company': ['Nextbike GmbH'], 'href': '/v2/networks/yoy-san-luis-potosi', 'id': 'yoy-san-luis-potosi', 'location': {'city': 'San Luis Potosi', 'country': 'MX', 'latitude': 22.438, 'longitude': -100.514}, 'name': 'YOY - San Luis Potosi'}, {'company': ['Nextbike GmbH'], 'href': '/v2/networks/yoy-san-luis-potosi-cancun', 'id': 'yoy-san-luis-potosi-cancun', 'location': {'city': 'Cancún', 'country': 'MX', 'latitude': 21.1675, 'longitude': -86.8498}, 'name': 'YOY - San Luis Potosi'}, {'company': ['Nextbike GmbH'], 'href': '/v2/networks/bergisches-e-bike', 'id': 'bergisches-e-bike', 'location': {'city': 'Bergisches e-Bike', 'country': 'DE', 'latitude': 51.0192, 'longitude': 7.18025}, 'name': 'Bergisches e-Bike'}, {'company': ['Nextbike GmbH'], 'href': '/v2/networks/nextbike-pardubice', 'id': 'nextbike-pardubice', 'location': {'city': 'Pardubice', 'country': 'CZ', 'latitude': 50.0343, 'longitude': 15.7812}, 'name': 'nextbike Pardubice'}, {'company': ['Nextbike GmbH'], 'href': '/v2/networks/nextbike-hradec-kralove', 'id': 'nextbike-hradec-kralove', 'location': {'city': 'Hradec Králové', 'country': 'CZ', 'latitude': 50.2079, 'longitude': 15.8334}, 'name': 'nextbike Hradec Králové'}, {'company': ['Nextbike GmbH'], 'href': '/v2/networks/nextbike-mladoboleslavsko-mlada-boleslav', 'id': 'nextbike-mladoboleslavsko-mlada-boleslav', 'location': {'city': 'Mladá Boleslav', 'country': 'CZ', 'latitude': 50.4278, 'longitude': 14.8999}, 'name': 'nextbike Mladoboleslavsko'}, {'company': ['Nextbike GmbH'], 'href': '/v2/networks/nextbike-mladoboleslavsko-mnichovo-hradiste', 'id': 'nextbike-mladoboleslavsko-mnichovo-hradiste', 'location': {'city': 'Mnichovo Hradiště', 'country': 'CZ', 'latitude': 50.5218, 'longitude': 14.9741}, 'name': 'nextbike Mladoboleslavsko'}, {'company': ['Nextbike GmbH'], 'href': '/v2/networks/oeynrad-bad-oeynhausen', 'id': 'oeynrad-bad-oeynhausen', 'location': {'city': 'Bad Oeynhausen', 'country': 'DE', 'latitude': 52.2051, 'longitude': 8.80074}, 'name': 'Oeynrad'}, {'company': ['Nextbike GmbH'], 'href': '/v2/networks/rsvg-bike', 'id': 'rsvg-bike', 'location': {'city': 'RSVG', 'country': 'DE', 'latitude': 50.7669, 'longitude': 7.37457}, 'name': 'RSVG-Bike'}, {'company': ['Nextbike GmbH'], 'href': '/v2/networks/citybikelinz', 'id': 'citybikelinz', 'location': {'city': 'Linz', 'country': 'AT', 'latitude': 48.3003, 'longitude': 14.2843}, 'name': 'city bike Linz'}, {'company': ['Nextbike GmbH'], 'href': '/v2/networks/velopark-drobeta', 'id': 'velopark-drobeta', 'location': {'city': 'Drobeta', 'country': 'RO', 'latitude': 44.6326, 'longitude': 22.6564}, 'name': 'Drobeta Velopark'}, {'company': ['Nextbike GmbH'], 'href': '/v2/networks/nomago-gorica', 'id': 'nomago-gorica', 'location': {'city': 'Nova Gorica', 'country': 'SI', 'latitude': 45.9576, 'longitude': 13.6406}, 'name': 'Nomago Bikes - GO2GO'}, {'company': ['Nextbike GmbH'], 'href': '/v2/networks/saturn', 'id': 'saturn', 'location': {'city': 'Saturn', 'country': 'RO', 'latitude': 43.82, 'longitude': 28.7445}, 'name': 'Saturn'}, {'company': ['Nextbike GmbH'], 'href': '/v2/networks/nextbike-frydek-mistek', 'id': 'nextbike-frydek-mistek', 'location': {'city': 'Frýdek-Místek', 'country': 'CZ', 'latitude': 49.6832, 'longitude': 18.3457}, 'name': 'nextbike Frýdek-Místek'}, {'company': ['Nextbike GmbH'], 'href': '/v2/networks/nextbike-uherske-hradiste', 'id': 'nextbike-uherske-hradiste', 'location': {'city': 'Uherské Hradiště', 'country': 'CZ', 'latitude': 49.0678, 'longitude': 17.4665}, 'name': 'nextbike Uherské Hradiště'}, {'company': ['Nextbike GmbH'], 'href': '/v2/networks/nextbike-zlin', 'id': 'nextbike-zlin', 'location': {'city': 'Zlín', 'country': 'CZ', 'latitude': 49.238, 'longitude': 17.6788}, 'name': 'nextbike Zlín'}, {'company': ['Nextbike GmbH'], 'href': '/v2/networks/nextbike-krnov', 'id': 'nextbike-krnov', 'location': {'city': 'Krnov', 'country': 'CZ', 'latitude': 50.0703, 'longitude': 17.8837}, 'name': 'nextbike Krnov'}, {'company': ['Nextbike GmbH'], 'href': '/v2/networks/eifel', 'id': 'eifel', 'location': {'city': 'Eifel e-Bike', 'country': 'DE', 'latitude': 50.5771, 'longitude': 6.64673}, 'name': 'Eifel e-Bike'}, {'company': ['Nextbike GmbH'], 'href': '/v2/networks/nextbike-rychnovsko', 'id': 'nextbike-rychnovsko', 'location': {'city': 'Rychnovsko', 'country': 'CZ', 'latitude': 50.1668, 'longitude': 16.2828}, 'name': 'nextbike Rychnovsko'}, {'company': ['Nextbike GmbH'], 'href': '/v2/networks/nextbike-pisek', 'id': 'nextbike-pisek', 'location': {'city': 'Písek', 'country': 'CZ', 'latitude': 49.3051, 'longitude': 14.1463}, 'name': 'nextbike Písek'}, {'company': ['Nextbike GmbH'], 'href': '/v2/networks/nextbike-jihlava', 'id': 'nextbike-jihlava', 'location': {'city': 'Jihlava', 'country': 'CZ', 'latitude': 49.4078, 'longitude': 15.6061}, 'name': 'nextbike Jihlava'}, {'company': ['Nextbike GmbH'], 'href': '/v2/networks/nomago-zanaprej', 'id': 'nomago-zanaprej', 'location': {'city': 'Zagorje ob Savi', 'country': 'SI', 'latitude': 46.1392, 'longitude': 14.9785}, 'name': 'Nomago Bikes - ZANAPREJ'}, {'company': ['Nextbike GmbH'], 'href': '/v2/networks/rower-powiatowy-sokolow-podlaski', 'id': 'rower-powiatowy-sokolow-podlaski', 'location': {'city': 'Sokołów Podlaski', 'country': 'PL', 'latitude': 52.4082, 'longitude': 22.2525}, 'name': 'Rower Powiatowy Sokołów Podlaski'}, {'company': ['Nextbike GmbH'], 'href': '/v2/networks/nextbike-bergamo', 'id': 'nextbike-bergamo', 'location': {'city': 'Bergamo', 'country': 'IT', 'latitude': 45.6986, 'longitude': 9.67567}, 'name': 'nextbike Bergamo'}, {'company': ['Nextbike GmbH'], 'href': '/v2/networks/emobi-osijek', 'id': 'emobi-osijek', 'location': {'city': 'Osijek', 'country': 'HR', 'latitude': 45.554, 'longitude': 18.6943}, 'name': 'eMobi (Croatia)'}, {'company': ['Nextbike GmbH'], 'href': '/v2/networks/arval-scandicci', 'id': 'arval-scandicci', 'location': {'city': 'Scandicci', 'country': 'IT', 'latitude': 43.7701, 'longitude': 11.1592}, 'name': 'ARVAL'}, {'company': ['Bremer Tageszeitungen AG'], 'href': '/v2/networks/nextbike-oldenburg', 'id': 'nextbike-oldenburg', 'location': {'city': 'Oldenburg', 'country': 'DE', 'latitude': 53.1448, 'longitude': 8.22485}, 'name': 'OLi-Bike'}, {'company': ['Nextbike GmbH'], 'href': '/v2/networks/nextbike-urdaibai', 'id': 'nextbike-urdaibai', 'location': {'city': 'Urdaibai', 'country': 'ES', 'latitude': 43.395, 'longitude': -2.68815}, 'name': 'BBK Klimabizi'}, {'company': ['Nextbike GmbH'], 'href': '/v2/networks/mvrad-hq', 'id': 'mvrad-hq', 'location': {'city': 'MV-Rad', 'country': 'DE', 'latitude': 53.6707, 'longitude': 12.4255}, 'name': 'MV-Rad'}, {'company': ['Nextbike GmbH'], 'href': '/v2/networks/mvrad-anklam', 'id': 'mvrad-anklam', 'location': {'city': 'Anklam', 'country': 'DE', 'latitude': 53.8614, 'longitude': 13.6907}, 'name': 'MV-Rad'}, {'company': ['Nextbike GmbH'], 'href': '/v2/networks/greifswald', 'id': 'greifswald', 'location': {'city': 'Greifswald (StadtRad)', 'country': 'DE', 'latitude': 54.0961, 'longitude': 13.3787}, 'name': 'StadtRad Greifswald'}, {'company': ['Nextbike GmbH'], 'href': '/v2/networks/nextbike-dvur-kralove', 'id': 'nextbike-dvur-kralove', 'location': {'city': 'Dvůr Králové', 'country': 'CZ', 'latitude': 50.4278, 'longitude': 15.8162}, 'name': 'nextbike Dvůr Králové'}, {'company': ['Nextbike GmbH'], 'href': '/v2/networks/vvtregiorad-kufstein', 'id': 'vvtregiorad-kufstein', 'location': {'city': 'Kufstein', 'country': 'AT', 'latitude': 47.583, 'longitude': 12.1692}, 'name': 'VVT REGIORAD Tirol'}, {'company': ['Nextbike GmbH'], 'href': '/v2/networks/vvtregiorad-ellmau', 'id': 'vvtregiorad-ellmau', 'location': {'city': 'Ellmau', 'country': 'AT', 'latitude': 47.5134, 'longitude': 12.3025}, 'name': 'VVT REGIORAD Tirol'}, {'company': ['Nextbike GmbH'], 'href': '/v2/networks/ski-rower-chelm', 'id': 'ski-rower-chelm', 'location': {'city': 'Chełm', 'country': 'PL', 'latitude': 51.1318, 'longitude': 23.4755}, 'name': 'Chełmski Rower'}, {'company': ['Nextbike GmbH'], 'href': '/v2/networks/nextbike-vrchlabi', 'id': 'nextbike-vrchlabi', 'location': {'city': 'Vrchlabí', 'country': 'CZ', 'latitude': 50.6222, 'longitude': 15.6126}, 'name': 'nextbike Vrchlabí'}, {'company': ['Nextbike GmbH'], 'href': '/v2/networks/winsenrad', 'id': 'winsenrad', 'location': {'city': 'Winsen (Luhe)', 'country': 'DE', 'latitude': 53.3547, 'longitude': 10.2067}, 'name': 'WinsenRad'}, {'company': ['Nextbike GmbH'], 'href': '/v2/networks/loker-lomza', 'id': 'loker-lomza', 'location': {'city': 'Łomża', 'country': 'PL', 'latitude': 53.1649, 'longitude': 22.0729}, 'name': 'ŁoKeR - Łomża'}, {'company': ['Nextbike GmbH'], 'href': '/v2/networks/nomago-kranjska-gora', 'id': 'nomago-kranjska-gora', 'location': {'city': 'Kranjska Gora', 'country': 'SI', 'latitude': 46.4846, 'longitude': 13.7836}, 'name': 'Nomago Bikes - KRANJSKA GORA'}, {'company': ['Nextbike GmbH'], 'href': '/v2/networks/nomago-portoroz', 'id': 'nomago-portoroz', 'location': {'city': 'Portorož', 'country': 'SI', 'latitude': 45.5054, 'longitude': 13.5979}, 'name': 'Nomago Bikes - PORTOROZ'}, {'company': ['Nextbike GmbH'], 'href': '/v2/networks/vrn-landau', 'id': 'vrn-landau', 'location': {'city': 'Landau in der Pfalz', 'country': 'DE', 'latitude': 49.1975, 'longitude': 8.11693}, 'name': 'VRN'}, {'company': None, 'gbfs_href': 'https://nitro.openvelo.org/aachen/velocity/v2/gbfs.json', 'href': '/v2/networks/velocity-aachen', 'id': 'velocity-aachen', 'location': {'city': 'Aachen', 'country': 'DE', 'latitude': 50.776667, 'longitude': 6.083611}, 'name': 'Velocity'}, {'company': None, 'gbfs_href': 'https://quebec.publicbikesystem.net/customer/gbfs/v2/gbfs.json', 'href': '/v2/networks/avelo-quebec', 'id': 'avelo-quebec', 'location': {'city': 'Québec', 'country': 'CA', 'latitude': 46.81305, 'longitude': -71.2168}, 'name': 'àVélo'}, {'company': None, 'gbfs_href': 'https://saguenay.publicbikesystem.net/customer/gbfs/v2/gbfs.json', 'href': '/v2/networks/acces-velo-saguenay', 'id': 'acces-velo-saguenay', 'location': {'city': 'Saguenay', 'country': 'CA', 'latitude': 48.433333, 'longitude': -71.083333}, 'name': 'Accès Vélo'}, {'company': ['Vilvolt CA Épinal', \"Communauté d'agglomération Épinal\", 'Fifteen SAS'], 'href': '/v2/networks/vilvolt', 'id': 'vilvolt', 'location': {'city': 'Epinal', 'country': 'FR', 'latitude': 48.1833, 'longitude': 6.4508}, 'name': 'Vilvolt'}, {'company': ['VeloBaie', 'Fifteen SAS'], 'gbfs_href': '', 'href': '/v2/networks/velobaie', 'id': 'velobaie', 'location': {'city': 'Saint-Brieuc', 'country': 'FR', 'latitude': 48.514, 'longitude': -2.765}, 'name': 'VeloBaie'}, {'company': ['Donkey Republic'], 'gbfs_href': 'https://stables.donkey.bike/api/public/gbfs/donkey_gh/gbfs', 'href': '/v2/networks/donkey-gh', 'id': 'donkey-gh', 'location': {'city': 'Gent', 'country': 'BE', 'latitude': 51.05, 'longitude': 3.7303}, 'name': 'Donkey Republic - Gent'}, {'company': ['JCDecaux'], 'href': '/v2/networks/mbajk', 'id': 'mbajk', 'license': {'name': 'Open Licence', 'url': 'https://developer.jcdecaux.com/#/opendata/licence'}, 'location': {'city': 'Maribor', 'country': 'SI', 'latitude': 46.5547, 'longitude': 15.6459}, 'name': 'MBajk', 'source': 'https://developer.jcdecaux.com'}]}\n"
     ]
    }
   ],
   "source": [
    "import requests\n",
    "\n",
    "# import urllib library\n",
    "from urllib.request import urlopen\n",
    "  \n",
    "# import json\n",
    "import json\n",
    "# store the URL in url as \n",
    "# parameter for urlopen\n",
    "url = \"http://api.citybik.es/v2/networks/\"\n",
    "  \n",
    "# store the response of URL\n",
    "response = urlopen(url)\n",
    "  \n",
    "# storing the JSON response \n",
    "# from url in data\n",
    "data_json = json.loads(response.read())\n",
    "  \n",
    "# print the json response\n",
    "print(data_json)\n"
   ]
  },
  {
   "cell_type": "code",
   "execution_count": 59,
   "id": "03b03874",
   "metadata": {},
   "outputs": [
    {
     "data": {
      "text/html": [
       "<div>\n",
       "<style scoped>\n",
       "    .dataframe tbody tr th:only-of-type {\n",
       "        vertical-align: middle;\n",
       "    }\n",
       "\n",
       "    .dataframe tbody tr th {\n",
       "        vertical-align: top;\n",
       "    }\n",
       "\n",
       "    .dataframe thead th {\n",
       "        text-align: right;\n",
       "    }\n",
       "</style>\n",
       "<table border=\"1\" class=\"dataframe\">\n",
       "  <thead>\n",
       "    <tr style=\"text-align: right;\">\n",
       "      <th></th>\n",
       "      <th>English short name lower case</th>\n",
       "      <th>Alpha-2 code</th>\n",
       "      <th>Alpha-3 code</th>\n",
       "      <th>Available</th>\n",
       "    </tr>\n",
       "  </thead>\n",
       "  <tbody>\n",
       "    <tr>\n",
       "      <th>0</th>\n",
       "      <td>Afghanistan</td>\n",
       "      <td>AF</td>\n",
       "      <td>AFG</td>\n",
       "      <td>0</td>\n",
       "    </tr>\n",
       "    <tr>\n",
       "      <th>1</th>\n",
       "      <td>Åland Islands</td>\n",
       "      <td>AX</td>\n",
       "      <td>ALA</td>\n",
       "      <td>0</td>\n",
       "    </tr>\n",
       "    <tr>\n",
       "      <th>2</th>\n",
       "      <td>Albania</td>\n",
       "      <td>AL</td>\n",
       "      <td>ALB</td>\n",
       "      <td>0</td>\n",
       "    </tr>\n",
       "    <tr>\n",
       "      <th>3</th>\n",
       "      <td>Algeria</td>\n",
       "      <td>DZ</td>\n",
       "      <td>DZA</td>\n",
       "      <td>0</td>\n",
       "    </tr>\n",
       "    <tr>\n",
       "      <th>4</th>\n",
       "      <td>American Samoa</td>\n",
       "      <td>AS</td>\n",
       "      <td>ASM</td>\n",
       "      <td>0</td>\n",
       "    </tr>\n",
       "    <tr>\n",
       "      <th>...</th>\n",
       "      <td>...</td>\n",
       "      <td>...</td>\n",
       "      <td>...</td>\n",
       "      <td>...</td>\n",
       "    </tr>\n",
       "    <tr>\n",
       "      <th>241</th>\n",
       "      <td>Wallis and Futuna</td>\n",
       "      <td>WF</td>\n",
       "      <td>WLF</td>\n",
       "      <td>0</td>\n",
       "    </tr>\n",
       "    <tr>\n",
       "      <th>242</th>\n",
       "      <td>Western Sahara</td>\n",
       "      <td>EH</td>\n",
       "      <td>ESH</td>\n",
       "      <td>0</td>\n",
       "    </tr>\n",
       "    <tr>\n",
       "      <th>243</th>\n",
       "      <td>Yemen</td>\n",
       "      <td>YE</td>\n",
       "      <td>YEM</td>\n",
       "      <td>0</td>\n",
       "    </tr>\n",
       "    <tr>\n",
       "      <th>244</th>\n",
       "      <td>Zambia</td>\n",
       "      <td>ZM</td>\n",
       "      <td>ZMB</td>\n",
       "      <td>0</td>\n",
       "    </tr>\n",
       "    <tr>\n",
       "      <th>245</th>\n",
       "      <td>Zimbabwe</td>\n",
       "      <td>ZW</td>\n",
       "      <td>ZWE</td>\n",
       "      <td>0</td>\n",
       "    </tr>\n",
       "  </tbody>\n",
       "</table>\n",
       "<p>246 rows × 4 columns</p>\n",
       "</div>"
      ],
      "text/plain": [
       "    English short name lower case Alpha-2 code Alpha-3 code  Available\n",
       "0                     Afghanistan           AF          AFG          0\n",
       "1                   Åland Islands           AX          ALA          0\n",
       "2                         Albania           AL          ALB          0\n",
       "3                         Algeria           DZ          DZA          0\n",
       "4                  American Samoa           AS          ASM          0\n",
       "..                            ...          ...          ...        ...\n",
       "241             Wallis and Futuna           WF          WLF          0\n",
       "242                Western Sahara           EH          ESH          0\n",
       "243                         Yemen           YE          YEM          0\n",
       "244                        Zambia           ZM          ZMB          0\n",
       "245                      Zimbabwe           ZW          ZWE          0\n",
       "\n",
       "[246 rows x 4 columns]"
      ]
     },
     "execution_count": 59,
     "metadata": {},
     "output_type": "execute_result"
    }
   ],
   "source": [
    "ISO_Codes = pd.read_csv('https://gist.githubusercontent.com/radcliff/f09c0f88344a7fcef373/raw/2753c482ad091c54b1822288ad2e4811c021d8ec/wikipedia-iso-country-codes.csv')\n",
    "list_of_countries_available = []\n",
    "ISO_Codes = ISO_Codes[ISO_Codes.columns[:3]]\n",
    "\n",
    "locations = pd.DataFrame(data_json['networks'])['location']\n",
    "\n",
    "\n",
    "for i in range(len(locations)):\n",
    "    list_of_countries_available.append(locations[i]['country'])\n",
    "    \n",
    "list_of_countries_available = pd.DataFrame(list_of_countries_available,columns=['Countries_with_Networks'])['Countries_with_Networks'].unique()\n",
    "# list_of_countries_available\n",
    "ISO_Codes['Available'] = ISO_Codes['Alpha-2 code'].isin(list_of_countries_available)*1\n",
    "ISO_Codes"
   ]
  },
  {
   "cell_type": "code",
   "execution_count": 68,
   "id": "52b44b21",
   "metadata": {
    "scrolled": false
   },
   "outputs": [
    {
     "data": {
      "application/vnd.plotly.v1+json": {
       "config": {
        "plotlyServerURL": "https://plot.ly"
       },
       "data": [
        {
         "coloraxis": "coloraxis",
         "geo": "geo",
         "hovertemplate": "<b>%{hovertext}</b><br><br>Alpha-3 code=%{location}<br>Available=%{z}<extra></extra>",
         "hovertext": [
          "Afghanistan",
          "Åland Islands",
          "Albania",
          "Algeria",
          "American Samoa",
          "Andorra",
          "Angola",
          "Anguilla",
          "Antarctica",
          "Antigua and Barbuda",
          "Argentina",
          "Armenia",
          "Aruba",
          "Australia",
          "Austria",
          "Azerbaijan",
          "Bahamas",
          "Bahrain",
          "Bangladesh",
          "Barbados",
          "Belarus",
          "Belgium",
          "Belize",
          "Benin",
          "Bermuda",
          "Bhutan",
          "Bolivia, Plurinational State of",
          "Bosnia and Herzegovina",
          "Botswana",
          "Bouvet Island",
          "Brazil",
          "British Indian Ocean Territory",
          "Brunei Darussalam",
          "Bulgaria",
          "Burkina Faso",
          "Burundi",
          "Cambodia",
          "Cameroon",
          "Canada",
          "Cape Verde",
          "Cayman Islands",
          "Central African Republic",
          "Chad",
          "Chile",
          "China",
          "Christmas Island",
          "Cocos (Keeling) Islands",
          "Colombia",
          "Comoros",
          "Congo",
          "Congo, the Democratic Republic of the",
          "Cook Islands",
          "Costa Rica",
          "Côte d'Ivoire",
          "Croatia",
          "Cuba",
          "Cyprus",
          "Czech Republic",
          "Denmark",
          "Djibouti",
          "Dominica",
          "Dominican Republic",
          "Ecuador",
          "Egypt",
          "El Salvador",
          "Equatorial Guinea",
          "Eritrea",
          "Estonia",
          "Ethiopia",
          "Falkland Islands (Malvinas)",
          "Faroe Islands",
          "Fiji",
          "Finland",
          "France",
          "French Guiana",
          "French Polynesia",
          "French Southern Territories",
          "Gabon",
          "Gambia",
          "Georgia",
          "Germany",
          "Ghana",
          "Gibraltar",
          "Greece",
          "Greenland",
          "Grenada",
          "Guadeloupe",
          "Guam",
          "Guatemala",
          "Guernsey",
          "Guinea",
          "Guinea-Bissau",
          "Guyana",
          "Haiti",
          "Heard Island and McDonald Islands",
          "Holy See (Vatican City State)",
          "Honduras",
          "Hong Kong",
          "Hungary",
          "Iceland",
          "India",
          "Indonesia",
          "Iran, Islamic Republic of",
          "Iraq",
          "Ireland",
          "Isle of Man",
          "Israel",
          "Italy",
          "Jamaica",
          "Japan",
          "Jersey",
          "Jordan",
          "Kazakhstan",
          "Kenya",
          "Kiribati",
          "Korea, Democratic People's Republic of",
          "Korea, Republic of",
          "Kuwait",
          "Kyrgyzstan",
          "Lao People's Democratic Republic",
          "Latvia",
          "Lebanon",
          "Lesotho",
          "Liberia",
          "Libyan Arab Jamahiriya",
          "Liechtenstein",
          "Lithuania",
          "Luxembourg",
          "Macao",
          "Macedonia, the former Yugoslav Republic of",
          "Madagascar",
          "Malawi",
          "Malaysia",
          "Maldives",
          "Mali",
          "Malta",
          "Marshall Islands",
          "Martinique",
          "Mauritania",
          "Mauritius",
          "Mayotte",
          "Mexico",
          "Micronesia, Federated States of",
          "Moldova, Republic of",
          "Monaco",
          "Mongolia",
          "Montenegro",
          "Montserrat",
          "Morocco",
          "Mozambique",
          "Myanmar",
          "Namibia",
          "Nauru",
          "Nepal",
          "Netherlands",
          "Netherlands Antilles",
          "New Caledonia",
          "New Zealand",
          "Nicaragua",
          "Niger",
          "Nigeria",
          "Niue",
          "Norfolk Island",
          "Northern Mariana Islands",
          "Norway",
          "Oman",
          "Pakistan",
          "Palau",
          "Palestinian Territory, Occupied",
          "Panama",
          "Papua New Guinea",
          "Paraguay",
          "Peru",
          "Philippines",
          "Pitcairn",
          "Poland",
          "Portugal",
          "Puerto Rico",
          "Qatar",
          "Réunion",
          "Romania",
          "Russian Federation",
          "Rwanda",
          "Saint Barthélemy",
          "Saint Helena, Ascension and Tristan da Cunha",
          "Saint Kitts and Nevis",
          "Saint Lucia",
          "Saint Martin (French part)",
          "Saint Pierre and Miquelon",
          "Saint Vincent and the Grenadines",
          "Samoa",
          "San Marino",
          "Sao Tome and Principe",
          "Saudi Arabia",
          "Senegal",
          "Serbia",
          "Seychelles",
          "Sierra Leone",
          "Singapore",
          "Slovakia",
          "Slovenia",
          "Solomon Islands",
          "Somalia",
          "South Africa",
          "South Georgia and the South Sandwich Islands",
          "Spain",
          "Sri Lanka",
          "Sudan",
          "Suriname",
          "Svalbard and Jan Mayen",
          "Swaziland",
          "Sweden",
          "Switzerland",
          "Syrian Arab Republic",
          "Taiwan, Province of China",
          "Tajikistan",
          "Tanzania, United Republic of",
          "Thailand",
          "Timor-Leste",
          "Togo",
          "Tokelau",
          "Tonga",
          "Trinidad and Tobago",
          "Tunisia",
          "Turkey",
          "Turkmenistan",
          "Turks and Caicos Islands",
          "Tuvalu",
          "Uganda",
          "Ukraine",
          "United Arab Emirates",
          "United Kingdom",
          "United States",
          "United States Minor Outlying Islands",
          "Uruguay",
          "Uzbekistan",
          "Vanuatu",
          "Venezuela, Bolivarian Republic of",
          "Viet Nam",
          "Virgin Islands, British",
          "Virgin Islands, U.S.",
          "Wallis and Futuna",
          "Western Sahara",
          "Yemen",
          "Zambia",
          "Zimbabwe"
         ],
         "locations": [
          "AFG",
          "ALA",
          "ALB",
          "DZA",
          "ASM",
          "AND",
          "AGO",
          "AIA",
          "ATA",
          "ATG",
          "ARG",
          "ARM",
          "ABW",
          "AUS",
          "AUT",
          "AZE",
          "BHS",
          "BHR",
          "BGD",
          "BRB",
          "BLR",
          "BEL",
          "BLZ",
          "BEN",
          "BMU",
          "BTN",
          "BOL",
          "BIH",
          "BWA",
          "BVT",
          "BRA",
          "IOT",
          "BRN",
          "BGR",
          "BFA",
          "BDI",
          "KHM",
          "CMR",
          "CAN",
          "CPV",
          "CYM",
          "CAF",
          "TCD",
          "CHL",
          "CHN",
          "CXR",
          "CCK",
          "COL",
          "COM",
          "COG",
          "COD",
          "COK",
          "CRI",
          "CIV",
          "HRV",
          "CUB",
          "CYP",
          "CZE",
          "DNK",
          "DJI",
          "DMA",
          "DOM",
          "ECU",
          "EGY",
          "SLV",
          "GNQ",
          "ERI",
          "EST",
          "ETH",
          "FLK",
          "FRO",
          "FJI",
          "FIN",
          "FRA",
          "GUF",
          "PYF",
          "ATF",
          "GAB",
          "GMB",
          "GEO",
          "DEU",
          "GHA",
          "GIB",
          "GRC",
          "GRL",
          "GRD",
          "GLP",
          "GUM",
          "GTM",
          "GGY",
          "GIN",
          "GNB",
          "GUY",
          "HTI",
          "HMD",
          "VAT",
          "HND",
          "HKG",
          "HUN",
          "ISL",
          "IND",
          "IDN",
          "IRN",
          "IRQ",
          "IRL",
          "IMN",
          "ISR",
          "ITA",
          "JAM",
          "JPN",
          "JEY",
          "JOR",
          "KAZ",
          "KEN",
          "KIR",
          "PRK",
          "KOR",
          "KWT",
          "KGZ",
          "LAO",
          "LVA",
          "LBN",
          "LSO",
          "LBR",
          "LBY",
          "LIE",
          "LTU",
          "LUX",
          "MAC",
          "MKD",
          "MDG",
          "MWI",
          "MYS",
          "MDV",
          "MLI",
          "MLT",
          "MHL",
          "MTQ",
          "MRT",
          "MUS",
          "MYT",
          "MEX",
          "FSM",
          "MDA",
          "MCO",
          "MNG",
          "MNE",
          "MSR",
          "MAR",
          "MOZ",
          "MMR",
          "NAM",
          "NRU",
          "NPL",
          "NLD",
          "ANT",
          "NCL",
          "NZL",
          "NIC",
          "NER",
          "NGA",
          "NIU",
          "NFK",
          "MNP",
          "NOR",
          "OMN",
          "PAK",
          "PLW",
          "PSE",
          "PAN",
          "PNG",
          "PRY",
          "PER",
          "PHL",
          "PCN",
          "POL",
          "PRT",
          "PRI",
          "QAT",
          "REU",
          "ROU",
          "RUS",
          "RWA",
          "BLM",
          "SHN",
          "KNA",
          "LCA",
          "MAF",
          "SPM",
          "VCT",
          "WSM",
          "SMR",
          "STP",
          "SAU",
          "SEN",
          "SRB",
          "SYC",
          "SLE",
          "SGP",
          "SVK",
          "SVN",
          "SLB",
          "SOM",
          "ZAF",
          "SGS",
          "ESP",
          "LKA",
          "SDN",
          "SUR",
          "SJM",
          "SWZ",
          "SWE",
          "CHE",
          "SYR",
          "TWN",
          "TJK",
          "TZA",
          "THA",
          "TLS",
          "TGO",
          "TKL",
          "TON",
          "TTO",
          "TUN",
          "TUR",
          "TKM",
          "TCA",
          "TUV",
          "UGA",
          "UKR",
          "ARE",
          "GBR",
          "USA",
          "UMI",
          "URY",
          "UZB",
          "VUT",
          "VEN",
          "VNM",
          "VGB",
          "VIR",
          "WLF",
          "ESH",
          "YEM",
          "ZMB",
          "ZWE"
         ],
         "name": "",
         "type": "choropleth",
         "z": [
          0,
          0,
          0,
          0,
          0,
          0,
          0,
          0,
          0,
          0,
          1,
          0,
          0,
          1,
          1,
          0,
          0,
          0,
          0,
          0,
          0,
          1,
          0,
          0,
          0,
          0,
          0,
          1,
          0,
          0,
          1,
          0,
          0,
          0,
          0,
          0,
          0,
          0,
          1,
          0,
          0,
          0,
          0,
          1,
          0,
          0,
          0,
          1,
          0,
          0,
          0,
          0,
          0,
          0,
          1,
          0,
          1,
          1,
          0,
          0,
          0,
          0,
          0,
          0,
          0,
          0,
          0,
          0,
          0,
          0,
          0,
          0,
          1,
          1,
          0,
          0,
          0,
          0,
          0,
          1,
          1,
          0,
          0,
          1,
          0,
          0,
          0,
          0,
          0,
          0,
          0,
          0,
          0,
          0,
          0,
          0,
          0,
          0,
          1,
          1,
          1,
          0,
          0,
          0,
          1,
          0,
          1,
          1,
          0,
          1,
          0,
          0,
          1,
          0,
          0,
          0,
          0,
          0,
          0,
          0,
          1,
          1,
          0,
          0,
          0,
          0,
          1,
          1,
          0,
          0,
          0,
          0,
          0,
          0,
          0,
          1,
          0,
          0,
          0,
          0,
          0,
          1,
          0,
          0,
          1,
          0,
          1,
          0,
          0,
          0,
          0,
          0,
          0,
          0,
          1,
          0,
          0,
          1,
          0,
          0,
          0,
          0,
          0,
          0,
          1,
          0,
          0,
          0,
          0,
          0,
          0,
          0,
          0,
          0,
          0,
          1,
          1,
          0,
          0,
          0,
          1,
          1,
          0,
          0,
          0,
          0,
          0,
          0,
          0,
          0,
          0,
          0,
          0,
          0,
          0,
          0,
          0,
          0,
          0,
          1,
          1,
          0,
          0,
          0,
          0,
          1,
          0,
          0,
          0,
          0,
          0,
          1,
          1,
          0,
          0,
          0,
          0,
          1,
          0,
          0,
          0,
          0,
          0,
          0,
          1,
          0,
          0,
          0,
          0,
          1,
          1,
          1,
          1,
          0,
          0,
          0,
          0,
          0,
          0,
          0,
          0,
          0,
          0,
          0,
          0,
          0
         ]
        }
       ],
       "layout": {
        "coloraxis": {
         "colorbar": {
          "title": {
           "text": "Available"
          }
         },
         "colorscale": [
          [
           0,
           "rgb(255,247,251)"
          ],
          [
           0.125,
           "rgb(236,226,240)"
          ],
          [
           0.25,
           "rgb(208,209,230)"
          ],
          [
           0.375,
           "rgb(166,189,219)"
          ],
          [
           0.5,
           "rgb(103,169,207)"
          ],
          [
           0.625,
           "rgb(54,144,192)"
          ],
          [
           0.75,
           "rgb(2,129,138)"
          ],
          [
           0.875,
           "rgb(1,108,89)"
          ],
          [
           1,
           "rgb(1,70,54)"
          ]
         ]
        },
        "geo": {
         "center": {},
         "domain": {
          "x": [
           0,
           1
          ],
          "y": [
           0,
           1
          ]
         }
        },
        "legend": {
         "tracegroupgap": 0
        },
        "margin": {
         "t": 60
        },
        "template": {
         "data": {
          "bar": [
           {
            "error_x": {
             "color": "#2a3f5f"
            },
            "error_y": {
             "color": "#2a3f5f"
            },
            "marker": {
             "line": {
              "color": "#E5ECF6",
              "width": 0.5
             },
             "pattern": {
              "fillmode": "overlay",
              "size": 10,
              "solidity": 0.2
             }
            },
            "type": "bar"
           }
          ],
          "barpolar": [
           {
            "marker": {
             "line": {
              "color": "#E5ECF6",
              "width": 0.5
             },
             "pattern": {
              "fillmode": "overlay",
              "size": 10,
              "solidity": 0.2
             }
            },
            "type": "barpolar"
           }
          ],
          "carpet": [
           {
            "aaxis": {
             "endlinecolor": "#2a3f5f",
             "gridcolor": "white",
             "linecolor": "white",
             "minorgridcolor": "white",
             "startlinecolor": "#2a3f5f"
            },
            "baxis": {
             "endlinecolor": "#2a3f5f",
             "gridcolor": "white",
             "linecolor": "white",
             "minorgridcolor": "white",
             "startlinecolor": "#2a3f5f"
            },
            "type": "carpet"
           }
          ],
          "choropleth": [
           {
            "colorbar": {
             "outlinewidth": 0,
             "ticks": ""
            },
            "type": "choropleth"
           }
          ],
          "contour": [
           {
            "colorbar": {
             "outlinewidth": 0,
             "ticks": ""
            },
            "colorscale": [
             [
              0,
              "#0d0887"
             ],
             [
              0.1111111111111111,
              "#46039f"
             ],
             [
              0.2222222222222222,
              "#7201a8"
             ],
             [
              0.3333333333333333,
              "#9c179e"
             ],
             [
              0.4444444444444444,
              "#bd3786"
             ],
             [
              0.5555555555555556,
              "#d8576b"
             ],
             [
              0.6666666666666666,
              "#ed7953"
             ],
             [
              0.7777777777777778,
              "#fb9f3a"
             ],
             [
              0.8888888888888888,
              "#fdca26"
             ],
             [
              1,
              "#f0f921"
             ]
            ],
            "type": "contour"
           }
          ],
          "contourcarpet": [
           {
            "colorbar": {
             "outlinewidth": 0,
             "ticks": ""
            },
            "type": "contourcarpet"
           }
          ],
          "heatmap": [
           {
            "colorbar": {
             "outlinewidth": 0,
             "ticks": ""
            },
            "colorscale": [
             [
              0,
              "#0d0887"
             ],
             [
              0.1111111111111111,
              "#46039f"
             ],
             [
              0.2222222222222222,
              "#7201a8"
             ],
             [
              0.3333333333333333,
              "#9c179e"
             ],
             [
              0.4444444444444444,
              "#bd3786"
             ],
             [
              0.5555555555555556,
              "#d8576b"
             ],
             [
              0.6666666666666666,
              "#ed7953"
             ],
             [
              0.7777777777777778,
              "#fb9f3a"
             ],
             [
              0.8888888888888888,
              "#fdca26"
             ],
             [
              1,
              "#f0f921"
             ]
            ],
            "type": "heatmap"
           }
          ],
          "heatmapgl": [
           {
            "colorbar": {
             "outlinewidth": 0,
             "ticks": ""
            },
            "colorscale": [
             [
              0,
              "#0d0887"
             ],
             [
              0.1111111111111111,
              "#46039f"
             ],
             [
              0.2222222222222222,
              "#7201a8"
             ],
             [
              0.3333333333333333,
              "#9c179e"
             ],
             [
              0.4444444444444444,
              "#bd3786"
             ],
             [
              0.5555555555555556,
              "#d8576b"
             ],
             [
              0.6666666666666666,
              "#ed7953"
             ],
             [
              0.7777777777777778,
              "#fb9f3a"
             ],
             [
              0.8888888888888888,
              "#fdca26"
             ],
             [
              1,
              "#f0f921"
             ]
            ],
            "type": "heatmapgl"
           }
          ],
          "histogram": [
           {
            "marker": {
             "pattern": {
              "fillmode": "overlay",
              "size": 10,
              "solidity": 0.2
             }
            },
            "type": "histogram"
           }
          ],
          "histogram2d": [
           {
            "colorbar": {
             "outlinewidth": 0,
             "ticks": ""
            },
            "colorscale": [
             [
              0,
              "#0d0887"
             ],
             [
              0.1111111111111111,
              "#46039f"
             ],
             [
              0.2222222222222222,
              "#7201a8"
             ],
             [
              0.3333333333333333,
              "#9c179e"
             ],
             [
              0.4444444444444444,
              "#bd3786"
             ],
             [
              0.5555555555555556,
              "#d8576b"
             ],
             [
              0.6666666666666666,
              "#ed7953"
             ],
             [
              0.7777777777777778,
              "#fb9f3a"
             ],
             [
              0.8888888888888888,
              "#fdca26"
             ],
             [
              1,
              "#f0f921"
             ]
            ],
            "type": "histogram2d"
           }
          ],
          "histogram2dcontour": [
           {
            "colorbar": {
             "outlinewidth": 0,
             "ticks": ""
            },
            "colorscale": [
             [
              0,
              "#0d0887"
             ],
             [
              0.1111111111111111,
              "#46039f"
             ],
             [
              0.2222222222222222,
              "#7201a8"
             ],
             [
              0.3333333333333333,
              "#9c179e"
             ],
             [
              0.4444444444444444,
              "#bd3786"
             ],
             [
              0.5555555555555556,
              "#d8576b"
             ],
             [
              0.6666666666666666,
              "#ed7953"
             ],
             [
              0.7777777777777778,
              "#fb9f3a"
             ],
             [
              0.8888888888888888,
              "#fdca26"
             ],
             [
              1,
              "#f0f921"
             ]
            ],
            "type": "histogram2dcontour"
           }
          ],
          "mesh3d": [
           {
            "colorbar": {
             "outlinewidth": 0,
             "ticks": ""
            },
            "type": "mesh3d"
           }
          ],
          "parcoords": [
           {
            "line": {
             "colorbar": {
              "outlinewidth": 0,
              "ticks": ""
             }
            },
            "type": "parcoords"
           }
          ],
          "pie": [
           {
            "automargin": true,
            "type": "pie"
           }
          ],
          "scatter": [
           {
            "fillpattern": {
             "fillmode": "overlay",
             "size": 10,
             "solidity": 0.2
            },
            "type": "scatter"
           }
          ],
          "scatter3d": [
           {
            "line": {
             "colorbar": {
              "outlinewidth": 0,
              "ticks": ""
             }
            },
            "marker": {
             "colorbar": {
              "outlinewidth": 0,
              "ticks": ""
             }
            },
            "type": "scatter3d"
           }
          ],
          "scattercarpet": [
           {
            "marker": {
             "colorbar": {
              "outlinewidth": 0,
              "ticks": ""
             }
            },
            "type": "scattercarpet"
           }
          ],
          "scattergeo": [
           {
            "marker": {
             "colorbar": {
              "outlinewidth": 0,
              "ticks": ""
             }
            },
            "type": "scattergeo"
           }
          ],
          "scattergl": [
           {
            "marker": {
             "colorbar": {
              "outlinewidth": 0,
              "ticks": ""
             }
            },
            "type": "scattergl"
           }
          ],
          "scattermapbox": [
           {
            "marker": {
             "colorbar": {
              "outlinewidth": 0,
              "ticks": ""
             }
            },
            "type": "scattermapbox"
           }
          ],
          "scatterpolar": [
           {
            "marker": {
             "colorbar": {
              "outlinewidth": 0,
              "ticks": ""
             }
            },
            "type": "scatterpolar"
           }
          ],
          "scatterpolargl": [
           {
            "marker": {
             "colorbar": {
              "outlinewidth": 0,
              "ticks": ""
             }
            },
            "type": "scatterpolargl"
           }
          ],
          "scatterternary": [
           {
            "marker": {
             "colorbar": {
              "outlinewidth": 0,
              "ticks": ""
             }
            },
            "type": "scatterternary"
           }
          ],
          "surface": [
           {
            "colorbar": {
             "outlinewidth": 0,
             "ticks": ""
            },
            "colorscale": [
             [
              0,
              "#0d0887"
             ],
             [
              0.1111111111111111,
              "#46039f"
             ],
             [
              0.2222222222222222,
              "#7201a8"
             ],
             [
              0.3333333333333333,
              "#9c179e"
             ],
             [
              0.4444444444444444,
              "#bd3786"
             ],
             [
              0.5555555555555556,
              "#d8576b"
             ],
             [
              0.6666666666666666,
              "#ed7953"
             ],
             [
              0.7777777777777778,
              "#fb9f3a"
             ],
             [
              0.8888888888888888,
              "#fdca26"
             ],
             [
              1,
              "#f0f921"
             ]
            ],
            "type": "surface"
           }
          ],
          "table": [
           {
            "cells": {
             "fill": {
              "color": "#EBF0F8"
             },
             "line": {
              "color": "white"
             }
            },
            "header": {
             "fill": {
              "color": "#C8D4E3"
             },
             "line": {
              "color": "white"
             }
            },
            "type": "table"
           }
          ]
         },
         "layout": {
          "annotationdefaults": {
           "arrowcolor": "#2a3f5f",
           "arrowhead": 0,
           "arrowwidth": 1
          },
          "autotypenumbers": "strict",
          "coloraxis": {
           "colorbar": {
            "outlinewidth": 0,
            "ticks": ""
           }
          },
          "colorscale": {
           "diverging": [
            [
             0,
             "#8e0152"
            ],
            [
             0.1,
             "#c51b7d"
            ],
            [
             0.2,
             "#de77ae"
            ],
            [
             0.3,
             "#f1b6da"
            ],
            [
             0.4,
             "#fde0ef"
            ],
            [
             0.5,
             "#f7f7f7"
            ],
            [
             0.6,
             "#e6f5d0"
            ],
            [
             0.7,
             "#b8e186"
            ],
            [
             0.8,
             "#7fbc41"
            ],
            [
             0.9,
             "#4d9221"
            ],
            [
             1,
             "#276419"
            ]
           ],
           "sequential": [
            [
             0,
             "#0d0887"
            ],
            [
             0.1111111111111111,
             "#46039f"
            ],
            [
             0.2222222222222222,
             "#7201a8"
            ],
            [
             0.3333333333333333,
             "#9c179e"
            ],
            [
             0.4444444444444444,
             "#bd3786"
            ],
            [
             0.5555555555555556,
             "#d8576b"
            ],
            [
             0.6666666666666666,
             "#ed7953"
            ],
            [
             0.7777777777777778,
             "#fb9f3a"
            ],
            [
             0.8888888888888888,
             "#fdca26"
            ],
            [
             1,
             "#f0f921"
            ]
           ],
           "sequentialminus": [
            [
             0,
             "#0d0887"
            ],
            [
             0.1111111111111111,
             "#46039f"
            ],
            [
             0.2222222222222222,
             "#7201a8"
            ],
            [
             0.3333333333333333,
             "#9c179e"
            ],
            [
             0.4444444444444444,
             "#bd3786"
            ],
            [
             0.5555555555555556,
             "#d8576b"
            ],
            [
             0.6666666666666666,
             "#ed7953"
            ],
            [
             0.7777777777777778,
             "#fb9f3a"
            ],
            [
             0.8888888888888888,
             "#fdca26"
            ],
            [
             1,
             "#f0f921"
            ]
           ]
          },
          "colorway": [
           "#636efa",
           "#EF553B",
           "#00cc96",
           "#ab63fa",
           "#FFA15A",
           "#19d3f3",
           "#FF6692",
           "#B6E880",
           "#FF97FF",
           "#FECB52"
          ],
          "font": {
           "color": "#2a3f5f"
          },
          "geo": {
           "bgcolor": "white",
           "lakecolor": "white",
           "landcolor": "#E5ECF6",
           "showlakes": true,
           "showland": true,
           "subunitcolor": "white"
          },
          "hoverlabel": {
           "align": "left"
          },
          "hovermode": "closest",
          "mapbox": {
           "style": "light"
          },
          "paper_bgcolor": "white",
          "plot_bgcolor": "#E5ECF6",
          "polar": {
           "angularaxis": {
            "gridcolor": "white",
            "linecolor": "white",
            "ticks": ""
           },
           "bgcolor": "#E5ECF6",
           "radialaxis": {
            "gridcolor": "white",
            "linecolor": "white",
            "ticks": ""
           }
          },
          "scene": {
           "xaxis": {
            "backgroundcolor": "#E5ECF6",
            "gridcolor": "white",
            "gridwidth": 2,
            "linecolor": "white",
            "showbackground": true,
            "ticks": "",
            "zerolinecolor": "white"
           },
           "yaxis": {
            "backgroundcolor": "#E5ECF6",
            "gridcolor": "white",
            "gridwidth": 2,
            "linecolor": "white",
            "showbackground": true,
            "ticks": "",
            "zerolinecolor": "white"
           },
           "zaxis": {
            "backgroundcolor": "#E5ECF6",
            "gridcolor": "white",
            "gridwidth": 2,
            "linecolor": "white",
            "showbackground": true,
            "ticks": "",
            "zerolinecolor": "white"
           }
          },
          "shapedefaults": {
           "line": {
            "color": "#2a3f5f"
           }
          },
          "ternary": {
           "aaxis": {
            "gridcolor": "white",
            "linecolor": "white",
            "ticks": ""
           },
           "baxis": {
            "gridcolor": "white",
            "linecolor": "white",
            "ticks": ""
           },
           "bgcolor": "#E5ECF6",
           "caxis": {
            "gridcolor": "white",
            "linecolor": "white",
            "ticks": ""
           }
          },
          "title": {
           "x": 0.05
          },
          "xaxis": {
           "automargin": true,
           "gridcolor": "white",
           "linecolor": "white",
           "ticks": "",
           "title": {
            "standoff": 15
           },
           "zerolinecolor": "white",
           "zerolinewidth": 2
          },
          "yaxis": {
           "automargin": true,
           "gridcolor": "white",
           "linecolor": "white",
           "ticks": "",
           "title": {
            "standoff": 15
           },
           "zerolinecolor": "white",
           "zerolinewidth": 2
          }
         }
        }
       }
      },
      "text/html": [
       "<div>                            <div id=\"c9be4fb9-10e5-489b-bc86-0fec906d2f25\" class=\"plotly-graph-div\" style=\"height:525px; width:100%;\"></div>            <script type=\"text/javascript\">                require([\"plotly\"], function(Plotly) {                    window.PLOTLYENV=window.PLOTLYENV || {};                                    if (document.getElementById(\"c9be4fb9-10e5-489b-bc86-0fec906d2f25\")) {                    Plotly.newPlot(                        \"c9be4fb9-10e5-489b-bc86-0fec906d2f25\",                        [{\"coloraxis\":\"coloraxis\",\"geo\":\"geo\",\"hovertemplate\":\"<b>%{hovertext}</b><br><br>Alpha-3 code=%{location}<br>Available=%{z}<extra></extra>\",\"hovertext\":[\"Afghanistan\",\"Åland Islands\",\"Albania\",\"Algeria\",\"American Samoa\",\"Andorra\",\"Angola\",\"Anguilla\",\"Antarctica\",\"Antigua and Barbuda\",\"Argentina\",\"Armenia\",\"Aruba\",\"Australia\",\"Austria\",\"Azerbaijan\",\"Bahamas\",\"Bahrain\",\"Bangladesh\",\"Barbados\",\"Belarus\",\"Belgium\",\"Belize\",\"Benin\",\"Bermuda\",\"Bhutan\",\"Bolivia, Plurinational State of\",\"Bosnia and Herzegovina\",\"Botswana\",\"Bouvet Island\",\"Brazil\",\"British Indian Ocean Territory\",\"Brunei Darussalam\",\"Bulgaria\",\"Burkina Faso\",\"Burundi\",\"Cambodia\",\"Cameroon\",\"Canada\",\"Cape Verde\",\"Cayman Islands\",\"Central African Republic\",\"Chad\",\"Chile\",\"China\",\"Christmas Island\",\"Cocos (Keeling) Islands\",\"Colombia\",\"Comoros\",\"Congo\",\"Congo, the Democratic Republic of the\",\"Cook Islands\",\"Costa Rica\",\"Côte d'Ivoire\",\"Croatia\",\"Cuba\",\"Cyprus\",\"Czech Republic\",\"Denmark\",\"Djibouti\",\"Dominica\",\"Dominican Republic\",\"Ecuador\",\"Egypt\",\"El Salvador\",\"Equatorial Guinea\",\"Eritrea\",\"Estonia\",\"Ethiopia\",\"Falkland Islands (Malvinas)\",\"Faroe Islands\",\"Fiji\",\"Finland\",\"France\",\"French Guiana\",\"French Polynesia\",\"French Southern Territories\",\"Gabon\",\"Gambia\",\"Georgia\",\"Germany\",\"Ghana\",\"Gibraltar\",\"Greece\",\"Greenland\",\"Grenada\",\"Guadeloupe\",\"Guam\",\"Guatemala\",\"Guernsey\",\"Guinea\",\"Guinea-Bissau\",\"Guyana\",\"Haiti\",\"Heard Island and McDonald Islands\",\"Holy See (Vatican City State)\",\"Honduras\",\"Hong Kong\",\"Hungary\",\"Iceland\",\"India\",\"Indonesia\",\"Iran, Islamic Republic of\",\"Iraq\",\"Ireland\",\"Isle of Man\",\"Israel\",\"Italy\",\"Jamaica\",\"Japan\",\"Jersey\",\"Jordan\",\"Kazakhstan\",\"Kenya\",\"Kiribati\",\"Korea, Democratic People's Republic of\",\"Korea, Republic of\",\"Kuwait\",\"Kyrgyzstan\",\"Lao People's Democratic Republic\",\"Latvia\",\"Lebanon\",\"Lesotho\",\"Liberia\",\"Libyan Arab Jamahiriya\",\"Liechtenstein\",\"Lithuania\",\"Luxembourg\",\"Macao\",\"Macedonia, the former Yugoslav Republic of\",\"Madagascar\",\"Malawi\",\"Malaysia\",\"Maldives\",\"Mali\",\"Malta\",\"Marshall Islands\",\"Martinique\",\"Mauritania\",\"Mauritius\",\"Mayotte\",\"Mexico\",\"Micronesia, Federated States of\",\"Moldova, Republic of\",\"Monaco\",\"Mongolia\",\"Montenegro\",\"Montserrat\",\"Morocco\",\"Mozambique\",\"Myanmar\",\"Namibia\",\"Nauru\",\"Nepal\",\"Netherlands\",\"Netherlands Antilles\",\"New Caledonia\",\"New Zealand\",\"Nicaragua\",\"Niger\",\"Nigeria\",\"Niue\",\"Norfolk Island\",\"Northern Mariana Islands\",\"Norway\",\"Oman\",\"Pakistan\",\"Palau\",\"Palestinian Territory, Occupied\",\"Panama\",\"Papua New Guinea\",\"Paraguay\",\"Peru\",\"Philippines\",\"Pitcairn\",\"Poland\",\"Portugal\",\"Puerto Rico\",\"Qatar\",\"Réunion\",\"Romania\",\"Russian Federation\",\"Rwanda\",\"Saint Barthélemy\",\"Saint Helena, Ascension and Tristan da Cunha\",\"Saint Kitts and Nevis\",\"Saint Lucia\",\"Saint Martin (French part)\",\"Saint Pierre and Miquelon\",\"Saint Vincent and the Grenadines\",\"Samoa\",\"San Marino\",\"Sao Tome and Principe\",\"Saudi Arabia\",\"Senegal\",\"Serbia\",\"Seychelles\",\"Sierra Leone\",\"Singapore\",\"Slovakia\",\"Slovenia\",\"Solomon Islands\",\"Somalia\",\"South Africa\",\"South Georgia and the South Sandwich Islands\",\"Spain\",\"Sri Lanka\",\"Sudan\",\"Suriname\",\"Svalbard and Jan Mayen\",\"Swaziland\",\"Sweden\",\"Switzerland\",\"Syrian Arab Republic\",\"Taiwan, Province of China\",\"Tajikistan\",\"Tanzania, United Republic of\",\"Thailand\",\"Timor-Leste\",\"Togo\",\"Tokelau\",\"Tonga\",\"Trinidad and Tobago\",\"Tunisia\",\"Turkey\",\"Turkmenistan\",\"Turks and Caicos Islands\",\"Tuvalu\",\"Uganda\",\"Ukraine\",\"United Arab Emirates\",\"United Kingdom\",\"United States\",\"United States Minor Outlying Islands\",\"Uruguay\",\"Uzbekistan\",\"Vanuatu\",\"Venezuela, Bolivarian Republic of\",\"Viet Nam\",\"Virgin Islands, British\",\"Virgin Islands, U.S.\",\"Wallis and Futuna\",\"Western Sahara\",\"Yemen\",\"Zambia\",\"Zimbabwe\"],\"locations\":[\"AFG\",\"ALA\",\"ALB\",\"DZA\",\"ASM\",\"AND\",\"AGO\",\"AIA\",\"ATA\",\"ATG\",\"ARG\",\"ARM\",\"ABW\",\"AUS\",\"AUT\",\"AZE\",\"BHS\",\"BHR\",\"BGD\",\"BRB\",\"BLR\",\"BEL\",\"BLZ\",\"BEN\",\"BMU\",\"BTN\",\"BOL\",\"BIH\",\"BWA\",\"BVT\",\"BRA\",\"IOT\",\"BRN\",\"BGR\",\"BFA\",\"BDI\",\"KHM\",\"CMR\",\"CAN\",\"CPV\",\"CYM\",\"CAF\",\"TCD\",\"CHL\",\"CHN\",\"CXR\",\"CCK\",\"COL\",\"COM\",\"COG\",\"COD\",\"COK\",\"CRI\",\"CIV\",\"HRV\",\"CUB\",\"CYP\",\"CZE\",\"DNK\",\"DJI\",\"DMA\",\"DOM\",\"ECU\",\"EGY\",\"SLV\",\"GNQ\",\"ERI\",\"EST\",\"ETH\",\"FLK\",\"FRO\",\"FJI\",\"FIN\",\"FRA\",\"GUF\",\"PYF\",\"ATF\",\"GAB\",\"GMB\",\"GEO\",\"DEU\",\"GHA\",\"GIB\",\"GRC\",\"GRL\",\"GRD\",\"GLP\",\"GUM\",\"GTM\",\"GGY\",\"GIN\",\"GNB\",\"GUY\",\"HTI\",\"HMD\",\"VAT\",\"HND\",\"HKG\",\"HUN\",\"ISL\",\"IND\",\"IDN\",\"IRN\",\"IRQ\",\"IRL\",\"IMN\",\"ISR\",\"ITA\",\"JAM\",\"JPN\",\"JEY\",\"JOR\",\"KAZ\",\"KEN\",\"KIR\",\"PRK\",\"KOR\",\"KWT\",\"KGZ\",\"LAO\",\"LVA\",\"LBN\",\"LSO\",\"LBR\",\"LBY\",\"LIE\",\"LTU\",\"LUX\",\"MAC\",\"MKD\",\"MDG\",\"MWI\",\"MYS\",\"MDV\",\"MLI\",\"MLT\",\"MHL\",\"MTQ\",\"MRT\",\"MUS\",\"MYT\",\"MEX\",\"FSM\",\"MDA\",\"MCO\",\"MNG\",\"MNE\",\"MSR\",\"MAR\",\"MOZ\",\"MMR\",\"NAM\",\"NRU\",\"NPL\",\"NLD\",\"ANT\",\"NCL\",\"NZL\",\"NIC\",\"NER\",\"NGA\",\"NIU\",\"NFK\",\"MNP\",\"NOR\",\"OMN\",\"PAK\",\"PLW\",\"PSE\",\"PAN\",\"PNG\",\"PRY\",\"PER\",\"PHL\",\"PCN\",\"POL\",\"PRT\",\"PRI\",\"QAT\",\"REU\",\"ROU\",\"RUS\",\"RWA\",\"BLM\",\"SHN\",\"KNA\",\"LCA\",\"MAF\",\"SPM\",\"VCT\",\"WSM\",\"SMR\",\"STP\",\"SAU\",\"SEN\",\"SRB\",\"SYC\",\"SLE\",\"SGP\",\"SVK\",\"SVN\",\"SLB\",\"SOM\",\"ZAF\",\"SGS\",\"ESP\",\"LKA\",\"SDN\",\"SUR\",\"SJM\",\"SWZ\",\"SWE\",\"CHE\",\"SYR\",\"TWN\",\"TJK\",\"TZA\",\"THA\",\"TLS\",\"TGO\",\"TKL\",\"TON\",\"TTO\",\"TUN\",\"TUR\",\"TKM\",\"TCA\",\"TUV\",\"UGA\",\"UKR\",\"ARE\",\"GBR\",\"USA\",\"UMI\",\"URY\",\"UZB\",\"VUT\",\"VEN\",\"VNM\",\"VGB\",\"VIR\",\"WLF\",\"ESH\",\"YEM\",\"ZMB\",\"ZWE\"],\"name\":\"\",\"z\":[0,0,0,0,0,0,0,0,0,0,1,0,0,1,1,0,0,0,0,0,0,1,0,0,0,0,0,1,0,0,1,0,0,0,0,0,0,0,1,0,0,0,0,1,0,0,0,1,0,0,0,0,0,0,1,0,1,1,0,0,0,0,0,0,0,0,0,0,0,0,0,0,1,1,0,0,0,0,0,1,1,0,0,1,0,0,0,0,0,0,0,0,0,0,0,0,0,0,1,1,1,0,0,0,1,0,1,1,0,1,0,0,1,0,0,0,0,0,0,0,1,1,0,0,0,0,1,1,0,0,0,0,0,0,0,1,0,0,0,0,0,1,0,0,1,0,1,0,0,0,0,0,0,0,1,0,0,1,0,0,0,0,0,0,1,0,0,0,0,0,0,0,0,0,0,1,1,0,0,0,1,1,0,0,0,0,0,0,0,0,0,0,0,0,0,0,0,0,0,1,1,0,0,0,0,1,0,0,0,0,0,1,1,0,0,0,0,1,0,0,0,0,0,0,1,0,0,0,0,1,1,1,1,0,0,0,0,0,0,0,0,0,0,0,0,0],\"type\":\"choropleth\"}],                        {\"template\":{\"data\":{\"histogram2dcontour\":[{\"type\":\"histogram2dcontour\",\"colorbar\":{\"outlinewidth\":0,\"ticks\":\"\"},\"colorscale\":[[0.0,\"#0d0887\"],[0.1111111111111111,\"#46039f\"],[0.2222222222222222,\"#7201a8\"],[0.3333333333333333,\"#9c179e\"],[0.4444444444444444,\"#bd3786\"],[0.5555555555555556,\"#d8576b\"],[0.6666666666666666,\"#ed7953\"],[0.7777777777777778,\"#fb9f3a\"],[0.8888888888888888,\"#fdca26\"],[1.0,\"#f0f921\"]]}],\"choropleth\":[{\"type\":\"choropleth\",\"colorbar\":{\"outlinewidth\":0,\"ticks\":\"\"}}],\"histogram2d\":[{\"type\":\"histogram2d\",\"colorbar\":{\"outlinewidth\":0,\"ticks\":\"\"},\"colorscale\":[[0.0,\"#0d0887\"],[0.1111111111111111,\"#46039f\"],[0.2222222222222222,\"#7201a8\"],[0.3333333333333333,\"#9c179e\"],[0.4444444444444444,\"#bd3786\"],[0.5555555555555556,\"#d8576b\"],[0.6666666666666666,\"#ed7953\"],[0.7777777777777778,\"#fb9f3a\"],[0.8888888888888888,\"#fdca26\"],[1.0,\"#f0f921\"]]}],\"heatmap\":[{\"type\":\"heatmap\",\"colorbar\":{\"outlinewidth\":0,\"ticks\":\"\"},\"colorscale\":[[0.0,\"#0d0887\"],[0.1111111111111111,\"#46039f\"],[0.2222222222222222,\"#7201a8\"],[0.3333333333333333,\"#9c179e\"],[0.4444444444444444,\"#bd3786\"],[0.5555555555555556,\"#d8576b\"],[0.6666666666666666,\"#ed7953\"],[0.7777777777777778,\"#fb9f3a\"],[0.8888888888888888,\"#fdca26\"],[1.0,\"#f0f921\"]]}],\"heatmapgl\":[{\"type\":\"heatmapgl\",\"colorbar\":{\"outlinewidth\":0,\"ticks\":\"\"},\"colorscale\":[[0.0,\"#0d0887\"],[0.1111111111111111,\"#46039f\"],[0.2222222222222222,\"#7201a8\"],[0.3333333333333333,\"#9c179e\"],[0.4444444444444444,\"#bd3786\"],[0.5555555555555556,\"#d8576b\"],[0.6666666666666666,\"#ed7953\"],[0.7777777777777778,\"#fb9f3a\"],[0.8888888888888888,\"#fdca26\"],[1.0,\"#f0f921\"]]}],\"contourcarpet\":[{\"type\":\"contourcarpet\",\"colorbar\":{\"outlinewidth\":0,\"ticks\":\"\"}}],\"contour\":[{\"type\":\"contour\",\"colorbar\":{\"outlinewidth\":0,\"ticks\":\"\"},\"colorscale\":[[0.0,\"#0d0887\"],[0.1111111111111111,\"#46039f\"],[0.2222222222222222,\"#7201a8\"],[0.3333333333333333,\"#9c179e\"],[0.4444444444444444,\"#bd3786\"],[0.5555555555555556,\"#d8576b\"],[0.6666666666666666,\"#ed7953\"],[0.7777777777777778,\"#fb9f3a\"],[0.8888888888888888,\"#fdca26\"],[1.0,\"#f0f921\"]]}],\"surface\":[{\"type\":\"surface\",\"colorbar\":{\"outlinewidth\":0,\"ticks\":\"\"},\"colorscale\":[[0.0,\"#0d0887\"],[0.1111111111111111,\"#46039f\"],[0.2222222222222222,\"#7201a8\"],[0.3333333333333333,\"#9c179e\"],[0.4444444444444444,\"#bd3786\"],[0.5555555555555556,\"#d8576b\"],[0.6666666666666666,\"#ed7953\"],[0.7777777777777778,\"#fb9f3a\"],[0.8888888888888888,\"#fdca26\"],[1.0,\"#f0f921\"]]}],\"mesh3d\":[{\"type\":\"mesh3d\",\"colorbar\":{\"outlinewidth\":0,\"ticks\":\"\"}}],\"scatter\":[{\"fillpattern\":{\"fillmode\":\"overlay\",\"size\":10,\"solidity\":0.2},\"type\":\"scatter\"}],\"parcoords\":[{\"type\":\"parcoords\",\"line\":{\"colorbar\":{\"outlinewidth\":0,\"ticks\":\"\"}}}],\"scatterpolargl\":[{\"type\":\"scatterpolargl\",\"marker\":{\"colorbar\":{\"outlinewidth\":0,\"ticks\":\"\"}}}],\"bar\":[{\"error_x\":{\"color\":\"#2a3f5f\"},\"error_y\":{\"color\":\"#2a3f5f\"},\"marker\":{\"line\":{\"color\":\"#E5ECF6\",\"width\":0.5},\"pattern\":{\"fillmode\":\"overlay\",\"size\":10,\"solidity\":0.2}},\"type\":\"bar\"}],\"scattergeo\":[{\"type\":\"scattergeo\",\"marker\":{\"colorbar\":{\"outlinewidth\":0,\"ticks\":\"\"}}}],\"scatterpolar\":[{\"type\":\"scatterpolar\",\"marker\":{\"colorbar\":{\"outlinewidth\":0,\"ticks\":\"\"}}}],\"histogram\":[{\"marker\":{\"pattern\":{\"fillmode\":\"overlay\",\"size\":10,\"solidity\":0.2}},\"type\":\"histogram\"}],\"scattergl\":[{\"type\":\"scattergl\",\"marker\":{\"colorbar\":{\"outlinewidth\":0,\"ticks\":\"\"}}}],\"scatter3d\":[{\"type\":\"scatter3d\",\"line\":{\"colorbar\":{\"outlinewidth\":0,\"ticks\":\"\"}},\"marker\":{\"colorbar\":{\"outlinewidth\":0,\"ticks\":\"\"}}}],\"scattermapbox\":[{\"type\":\"scattermapbox\",\"marker\":{\"colorbar\":{\"outlinewidth\":0,\"ticks\":\"\"}}}],\"scatterternary\":[{\"type\":\"scatterternary\",\"marker\":{\"colorbar\":{\"outlinewidth\":0,\"ticks\":\"\"}}}],\"scattercarpet\":[{\"type\":\"scattercarpet\",\"marker\":{\"colorbar\":{\"outlinewidth\":0,\"ticks\":\"\"}}}],\"carpet\":[{\"aaxis\":{\"endlinecolor\":\"#2a3f5f\",\"gridcolor\":\"white\",\"linecolor\":\"white\",\"minorgridcolor\":\"white\",\"startlinecolor\":\"#2a3f5f\"},\"baxis\":{\"endlinecolor\":\"#2a3f5f\",\"gridcolor\":\"white\",\"linecolor\":\"white\",\"minorgridcolor\":\"white\",\"startlinecolor\":\"#2a3f5f\"},\"type\":\"carpet\"}],\"table\":[{\"cells\":{\"fill\":{\"color\":\"#EBF0F8\"},\"line\":{\"color\":\"white\"}},\"header\":{\"fill\":{\"color\":\"#C8D4E3\"},\"line\":{\"color\":\"white\"}},\"type\":\"table\"}],\"barpolar\":[{\"marker\":{\"line\":{\"color\":\"#E5ECF6\",\"width\":0.5},\"pattern\":{\"fillmode\":\"overlay\",\"size\":10,\"solidity\":0.2}},\"type\":\"barpolar\"}],\"pie\":[{\"automargin\":true,\"type\":\"pie\"}]},\"layout\":{\"autotypenumbers\":\"strict\",\"colorway\":[\"#636efa\",\"#EF553B\",\"#00cc96\",\"#ab63fa\",\"#FFA15A\",\"#19d3f3\",\"#FF6692\",\"#B6E880\",\"#FF97FF\",\"#FECB52\"],\"font\":{\"color\":\"#2a3f5f\"},\"hovermode\":\"closest\",\"hoverlabel\":{\"align\":\"left\"},\"paper_bgcolor\":\"white\",\"plot_bgcolor\":\"#E5ECF6\",\"polar\":{\"bgcolor\":\"#E5ECF6\",\"angularaxis\":{\"gridcolor\":\"white\",\"linecolor\":\"white\",\"ticks\":\"\"},\"radialaxis\":{\"gridcolor\":\"white\",\"linecolor\":\"white\",\"ticks\":\"\"}},\"ternary\":{\"bgcolor\":\"#E5ECF6\",\"aaxis\":{\"gridcolor\":\"white\",\"linecolor\":\"white\",\"ticks\":\"\"},\"baxis\":{\"gridcolor\":\"white\",\"linecolor\":\"white\",\"ticks\":\"\"},\"caxis\":{\"gridcolor\":\"white\",\"linecolor\":\"white\",\"ticks\":\"\"}},\"coloraxis\":{\"colorbar\":{\"outlinewidth\":0,\"ticks\":\"\"}},\"colorscale\":{\"sequential\":[[0.0,\"#0d0887\"],[0.1111111111111111,\"#46039f\"],[0.2222222222222222,\"#7201a8\"],[0.3333333333333333,\"#9c179e\"],[0.4444444444444444,\"#bd3786\"],[0.5555555555555556,\"#d8576b\"],[0.6666666666666666,\"#ed7953\"],[0.7777777777777778,\"#fb9f3a\"],[0.8888888888888888,\"#fdca26\"],[1.0,\"#f0f921\"]],\"sequentialminus\":[[0.0,\"#0d0887\"],[0.1111111111111111,\"#46039f\"],[0.2222222222222222,\"#7201a8\"],[0.3333333333333333,\"#9c179e\"],[0.4444444444444444,\"#bd3786\"],[0.5555555555555556,\"#d8576b\"],[0.6666666666666666,\"#ed7953\"],[0.7777777777777778,\"#fb9f3a\"],[0.8888888888888888,\"#fdca26\"],[1.0,\"#f0f921\"]],\"diverging\":[[0,\"#8e0152\"],[0.1,\"#c51b7d\"],[0.2,\"#de77ae\"],[0.3,\"#f1b6da\"],[0.4,\"#fde0ef\"],[0.5,\"#f7f7f7\"],[0.6,\"#e6f5d0\"],[0.7,\"#b8e186\"],[0.8,\"#7fbc41\"],[0.9,\"#4d9221\"],[1,\"#276419\"]]},\"xaxis\":{\"gridcolor\":\"white\",\"linecolor\":\"white\",\"ticks\":\"\",\"title\":{\"standoff\":15},\"zerolinecolor\":\"white\",\"automargin\":true,\"zerolinewidth\":2},\"yaxis\":{\"gridcolor\":\"white\",\"linecolor\":\"white\",\"ticks\":\"\",\"title\":{\"standoff\":15},\"zerolinecolor\":\"white\",\"automargin\":true,\"zerolinewidth\":2},\"scene\":{\"xaxis\":{\"backgroundcolor\":\"#E5ECF6\",\"gridcolor\":\"white\",\"linecolor\":\"white\",\"showbackground\":true,\"ticks\":\"\",\"zerolinecolor\":\"white\",\"gridwidth\":2},\"yaxis\":{\"backgroundcolor\":\"#E5ECF6\",\"gridcolor\":\"white\",\"linecolor\":\"white\",\"showbackground\":true,\"ticks\":\"\",\"zerolinecolor\":\"white\",\"gridwidth\":2},\"zaxis\":{\"backgroundcolor\":\"#E5ECF6\",\"gridcolor\":\"white\",\"linecolor\":\"white\",\"showbackground\":true,\"ticks\":\"\",\"zerolinecolor\":\"white\",\"gridwidth\":2}},\"shapedefaults\":{\"line\":{\"color\":\"#2a3f5f\"}},\"annotationdefaults\":{\"arrowcolor\":\"#2a3f5f\",\"arrowhead\":0,\"arrowwidth\":1},\"geo\":{\"bgcolor\":\"white\",\"landcolor\":\"#E5ECF6\",\"subunitcolor\":\"white\",\"showland\":true,\"showlakes\":true,\"lakecolor\":\"white\"},\"title\":{\"x\":0.05},\"mapbox\":{\"style\":\"light\"}}},\"geo\":{\"domain\":{\"x\":[0.0,1.0],\"y\":[0.0,1.0]},\"center\":{}},\"coloraxis\":{\"colorbar\":{\"title\":{\"text\":\"Available\"}},\"colorscale\":[[0.0,\"rgb(255,247,251)\"],[0.125,\"rgb(236,226,240)\"],[0.25,\"rgb(208,209,230)\"],[0.375,\"rgb(166,189,219)\"],[0.5,\"rgb(103,169,207)\"],[0.625,\"rgb(54,144,192)\"],[0.75,\"rgb(2,129,138)\"],[0.875,\"rgb(1,108,89)\"],[1.0,\"rgb(1,70,54)\"]]},\"legend\":{\"tracegroupgap\":0},\"margin\":{\"t\":60}},                        {\"responsive\": true}                    ).then(function(){\n",
       "                            \n",
       "var gd = document.getElementById('c9be4fb9-10e5-489b-bc86-0fec906d2f25');\n",
       "var x = new MutationObserver(function (mutations, observer) {{\n",
       "        var display = window.getComputedStyle(gd).display;\n",
       "        if (!display || display === 'none') {{\n",
       "            console.log([gd, 'removed!']);\n",
       "            Plotly.purge(gd);\n",
       "            observer.disconnect();\n",
       "        }}\n",
       "}});\n",
       "\n",
       "// Listen for the removal of the full notebook cells\n",
       "var notebookContainer = gd.closest('#notebook-container');\n",
       "if (notebookContainer) {{\n",
       "    x.observe(notebookContainer, {childList: true});\n",
       "}}\n",
       "\n",
       "// Listen for the clearing of the current output cell\n",
       "var outputEl = gd.closest('.output');\n",
       "if (outputEl) {{\n",
       "    x.observe(outputEl, {childList: true});\n",
       "}}\n",
       "\n",
       "                        })                };                });            </script>        </div>"
      ]
     },
     "metadata": {},
     "output_type": "display_data"
    }
   ],
   "source": [
    "import plotly.express as px\n",
    "\n",
    "# named_colorscales = px.colors.named_colorscales()\n",
    "# named_colorscales\n",
    "\n",
    "# import time\n",
    "# for color in named_colorscales:\n",
    "#     time.sleep(1) # Seconds\n",
    "#     print(color)\n",
    "# df = px.data.gapminder().query(\"year==2007\")\n",
    "ISO_Codes\n",
    "fig = px.choropleth(ISO_Codes, locations=\"Alpha-3 code\",\n",
    "                    color=\"Available\", # lifeExp is a column of gapminder\n",
    "                    hover_name=\"English short name lower case\", # column to add to hover information\n",
    "                    color_continuous_scale='pubugn')\n",
    "fig.show()"
   ]
  },
  {
   "cell_type": "code",
   "execution_count": 78,
   "id": "572edec3",
   "metadata": {},
   "outputs": [
    {
     "name": "stdout",
     "output_type": "stream",
     "text": [
      "{'networks': [{'company': ['ЗАО «СитиБайк»'], 'href': '/v2/networks/velobike-moscow', 'id': 'velobike-moscow', 'location': {'city': 'Moscow', 'country': 'RU', 'latitude': 55.75, 'longitude': 37.616667}, 'name': 'Velobike'}, {'company': ['Urban Infrastructure Partner'], 'href': '/v2/networks/baerum-bysykkel', 'id': 'baerum-bysykkel', 'location': {'city': 'Bærum', 'country': 'NO', 'latitude': 59.89455, 'longitude': 10.546343}, 'name': 'Bysykkel'}, {'company': ['Comunicare S.r.l.'], 'href': '/v2/networks/bicincitta-siena', 'id': 'bicincitta-siena', 'location': {'city': 'Siena', 'country': 'IT', 'latitude': 43.3186, 'longitude': 11.3306}, 'name': 'Bicincittà', 'source': 'https://www.bicincitta.com/frmLeStazioni.aspx?ID=202'}, {'company': ['Cyclopolis Systems'], 'href': '/v2/networks/cyclopolis-maroussi', 'id': 'cyclopolis-maroussi', 'location': {'city': 'Maroussi', 'country': 'GR', 'latitude': 38.0568722388, 'longitude': 23.8083299536}, 'name': 'Cyclopolis'}, {'company': ['Groundwork', 'Slough Borough Council', 'ITS'], 'href': '/v2/networks/cycle-hire-slough', 'id': 'cycle-hire-slough', 'location': {'city': 'Slough', 'country': 'GB', 'latitude': 51.51135, 'longitude': -0.591562}, 'name': 'Cycle Hire'}, {'company': ['Cyclopolis Systems'], 'href': '/v2/networks/cyclopolis-nafplio', 'id': 'cyclopolis-nafplio', 'location': {'city': 'Nafplio', 'country': 'GR', 'latitude': 37.5639397319, 'longitude': 22.8093402872}, 'name': 'Cyclopolis'}, {'company': ['Comunicare S.r.l.'], 'href': '/v2/networks/bicincitta-parco-dei-colli-di-bergamo', 'id': 'bicincitta-parco-dei-colli-di-bergamo', 'location': {'city': 'Parco dei Colli di Bergamo', 'country': 'IT', 'latitude': 45.72295637032245, 'longitude': 9.649230073016383}, 'name': 'Bicincittà', 'source': 'https://www.bicincitta.com/frmLeStazioni.aspx?ID=203'}, {'company': ['Cyclopolis Systems'], 'href': '/v2/networks/cyclopolis-aigialeia', 'id': 'cyclopolis-aigialeia', 'location': {'city': 'Aigialeia', 'country': 'GR', 'latitude': 38.2511101325, 'longitude': 22.0821570196}, 'name': 'Cyclopolis'}, {'company': ['Cyclopolis Systems'], 'href': '/v2/networks/cyclopolis-marathon', 'id': 'cyclopolis-marathon', 'location': {'city': 'Marathon', 'country': 'GR', 'latitude': 38.0855680022, 'longitude': 23.9776389963}, 'name': 'Cyclopolis'}, {'company': ['Comunicare S.r.l.'], 'href': '/v2/networks/bicincitta-mantova', 'id': 'bicincitta-mantova', 'location': {'city': 'Mantova', 'country': 'IT', 'latitude': 45.15866370764634, 'longitude': 10.783718973016335}, 'name': 'Bicincittà', 'source': 'https://www.bicincitta.com/frmLeStazioni.aspx?ID=204'}, {'company': ['Cyclopolis Systems'], 'href': '/v2/networks/cyclopolis-neasmyrni', 'id': 'cyclopolis-neasmyrni', 'location': {'city': 'Νea Smyrni', 'country': 'GR', 'latitude': 37.9381, 'longitude': 23.7126}, 'name': 'Cyclopolis'}, {'company': ['Cyclopolis Systems'], 'href': '/v2/networks/cyclopolis-moschatotavros', 'id': 'cyclopolis-moschatotavros', 'location': {'city': 'Μoschato-Tavros', 'country': 'GR', 'latitude': 37.9538991434, 'longitude': 23.6824746661}, 'name': 'Cyclopolis'}, {'company': ['Cyclopolis Systems'], 'href': '/v2/networks/cyclopolis-arxaiaolympia', 'id': 'cyclopolis-arxaiaolympia', 'location': {'city': 'Αrxaia Olympia', 'country': 'GR', 'latitude': 37.6419700934, 'longitude': 21.6247265179}, 'name': 'Cyclopolis'}, {'company': ['Cyclopolis Systems'], 'href': '/v2/networks/cyclopolis-kiato', 'id': 'cyclopolis-kiato', 'location': {'city': 'Kιato', 'country': 'GR', 'latitude': 38.0132674508, 'longitude': 22.7493819902}, 'name': 'Cyclopolis'}, {'company': ['Comunicare S.r.l.'], 'href': '/v2/networks/bicincitta-assemini', 'id': 'bicincitta-assemini', 'location': {'city': 'Assemini', 'country': 'IT', 'latitude': 39.28956306007679, 'longitude': 9.006601555294765}, 'name': 'Bicincittà', 'source': 'https://www.bicincitta.com/frmLeStazioni.aspx?ID=205'}, {'company': ['Cyclopolis Systems'], 'href': '/v2/networks/cyclopolis-rhodes', 'id': 'cyclopolis-rhodes', 'location': {'city': 'Rhodes', 'country': 'GR', 'latitude': 36.4509118, 'longitude': 28.2246966}, 'name': 'Cyclopolis'}, {'company': ['Cyclopolis Systems'], 'href': '/v2/networks/cyclopolis-florina', 'id': 'cyclopolis-florina', 'location': {'city': 'Florina', 'country': 'GR', 'latitude': 40.8016111, 'longitude': 21.4245222}, 'name': 'Cyclopolis'}, {'company': ['Comunicare S.r.l.'], 'href': '/v2/networks/bicincitta-tortoli', 'id': 'bicincitta-tortoli', 'location': {'city': 'Tortolì', 'country': 'IT', 'latitude': 39.92664489852196, 'longitude': 9.654953570777934}, 'name': 'Bicincittà', 'source': 'https://www.bicincitta.com/frmLeStazioni.aspx?ID=206'}, {'company': ['Cyclopolis Systems'], 'href': '/v2/networks/cyclopolis-limnos', 'id': 'cyclopolis-limnos', 'location': {'city': 'Limnos', 'country': 'GR', 'latitude': 39.8747861, 'longitude': 25.0586722}, 'name': 'Cyclopolis'}, {'company': ['Comunicare S.r.l.'], 'href': '/v2/networks/bicincitta-gaeta', 'id': 'bicincitta-gaeta', 'location': {'city': 'Gaeta', 'country': 'IT', 'latitude': 41.209620965538036, 'longitude': 13.584335125656139}, 'name': 'Bicincittà', 'source': 'https://www.bicincitta.com/frmLeStazioni.aspx?ID=207'}, {'company': ['Comunicare S.r.l.'], 'href': '/v2/networks/bicincitta-borgarello', 'id': 'bicincitta-borgarello', 'location': {'city': 'Borgarello', 'country': 'IT', 'latitude': 45.23963753440171, 'longitude': 9.136150475640875}, 'name': 'Bicincittà', 'source': 'https://www.bicincitta.com/frmLeStazioni.aspx?ID=208'}, {'company': ['Comunicare S.r.l.'], 'href': '/v2/networks/bicincitta-pizzighettone-formigara', 'id': 'bicincitta-pizzighettone-formigara', 'location': {'city': 'Pizzighettone e Formigara', 'country': 'IT', 'latitude': 45.186748819167434, 'longitude': 9.778087948479424}, 'name': 'Bicincittà', 'source': 'https://www.bicincitta.com/frmLeStazioni.aspx?ID=209'}, {'company': ['The National Transport Authority'], 'href': '/v2/networks/cork', 'id': 'cork', 'location': {'city': 'Cork', 'country': 'IE', 'latitude': 51.893604, 'longitude': -8.494174}, 'name': 'Coca-Cola Zero® Bikes'}, {'company': ['The National Transport Authority'], 'href': '/v2/networks/limerick', 'id': 'limerick', 'location': {'city': 'Limerick', 'country': 'IE', 'latitude': 52.668746, 'longitude': -8.627809}, 'name': 'Coca-Cola Zero® Bikes'}, {'company': ['BTS Group Holdings'], 'href': '/v2/networks/punpunbikeshare', 'id': 'punpunbikeshare', 'location': {'city': 'Bangkok', 'country': 'TH', 'latitude': 13.75, 'longitude': 100.516667}, 'name': 'Pun Pun Bike Share'}, {'company': ['The National Transport Authority'], 'href': '/v2/networks/galway', 'id': 'galway', 'location': {'city': 'Galway', 'country': 'IE', 'latitude': 53.2783491544, 'longitude': -9.05069143207}, 'name': 'Coca-Cola Zero® Bikes'}, {'company': ['Bike U Sp. z o.o.'], 'href': '/v2/networks/bbbike', 'id': 'bbbike', 'location': {'city': 'Bielsko-Biała', 'country': 'PL', 'latitude': 49.8225, 'longitude': 19.044444}, 'name': 'BBBike'}, {'company': ['Comunicare S.r.l.'], 'href': '/v2/networks/bicincitta-montecatini-terme', 'id': 'bicincitta-montecatini-terme', 'location': {'city': 'Montecatini Terme', 'country': 'IT', 'latitude': 43.88362791665083, 'longitude': 10.764385656591799}, 'name': 'Bicincittà', 'source': 'https://www.bicincitta.com/frmLeStazioni.aspx?ID=210'}, {'company': ['Bike U Sp. z o.o.'], 'href': '/v2/networks/bikeu-bra', 'id': 'bikeu-bra', 'location': {'city': 'Bydgoszcz', 'country': 'PL', 'latitude': 53.12193, 'longitude': 18.00038}, 'name': 'Bydgoski rower aglomeracyjny'}, {'company': ['PBSC', 'Serco Group plc'], 'href': '/v2/networks/santander-cycles', 'id': 'santander-cycles', 'location': {'city': 'London', 'country': 'GB', 'latitude': 51.51121389999999, 'longitude': -0.1198244}, 'name': 'Santander Cycles'}, {'company': ['PBSC', 'Alta Bicycle Share, Inc'], 'gbfs_href': 'https://asp.publicbikesystem.net/ube/gbfs/v1/gbfs.json', 'href': '/v2/networks/we-cycle', 'id': 'we-cycle', 'location': {'city': 'Aspen, CO', 'country': 'US', 'latitude': 39.194951, 'longitude': -106.837002}, 'name': 'WE-cycle'}, {'company': ['Comunicare S.r.l.'], 'href': '/v2/networks/bicincitta-carrara', 'id': 'bicincitta-carrara', 'location': {'city': 'Carrara', 'country': 'IT', 'latitude': 44.07731805550891, 'longitude': 10.097172450401331}, 'name': 'Bicincittà', 'source': 'https://www.bicincitta.com/frmLeStazioni.aspx?ID=211'}, {'company': ['PBSC', 'Alta Bicycle Share, Inc'], 'href': '/v2/networks/wowcycle-reykjavik', 'id': 'wowcycle-reykjavik', 'location': {'city': 'Reykjavík', 'country': 'IS', 'latitude': 64.128288, 'longitude': -21.827774}, 'name': 'WOW Citybike'}, {'company': ['Transparenzportal Hamburg'], 'href': '/v2/networks/stadtrad-hamburg', 'id': 'stadtrad-hamburg', 'license': {'name': 'Data licence Germany – attribution – version 2.0', 'url': 'https://www.govdata.de/dl-de/by-2-0'}, 'location': {'city': 'Hamburg', 'country': 'DE', 'latitude': 53.57532, 'longitude': 10.01534}, 'name': \"StadtRAD Hamburg'\"}, {'company': ['Comunicare S.r.l.'], 'href': '/v2/networks/tigullionbike', 'id': 'tigullionbike', 'location': {'city': 'Sestri Levante - Lavagna', 'country': 'IT', 'latitude': 44.272554, 'longitude': 9.395714}, 'name': 'Tigullionbike', 'source': 'https://www.bicincitta.com/frmLeStazioni.aspx?ID=80'}, {'company': ['Comunicare S.r.l.'], 'href': '/v2/networks/arbike', 'id': 'arbike', 'location': {'city': 'Arezzo', 'country': 'IT', 'latitude': 43.473333, 'longitude': 11.87}, 'name': 'ARbike', 'source': 'https://www.bicincitta.com/frmLeStazioni.aspx?ID=84'}, {'company': ['Velobike.kz, LLP', 'Smoove'], 'href': '/v2/networks/velobike', 'id': 'velobike', 'location': {'city': 'Astana', 'country': 'KZ', 'latitude': 51.166667, 'longitude': 71.416667}, 'name': 'Velobike'}, {'company': None, 'ebikes': True, 'gbfs_href': 'https://velib-metropole-opendata.smoove.pro/opendata/Velib_Metropole/gbfs.json', 'href': '/v2/networks/velib', 'id': 'velib', 'license': {'name': 'OPEN LICENCE 2.0', 'url': 'etalab.gouv.fr/wp-content/uploads/2018/11/open-licence.pdf'}, 'location': {'city': 'Paris', 'country': 'FR', 'latitude': 48.856614, 'longitude': 2.3522219}, 'name': \"Vélib' Métropole\"}, {'company': ['Comunicare S.r.l.'], 'href': '/v2/networks/ascoli-piceno', 'id': 'ascoli-piceno', 'location': {'city': 'Ascoli Piceno', 'country': 'IT', 'latitude': 42.85, 'longitude': 13.583333}, 'name': 'Ascoli Piceno', 'source': 'https://www.bicincitta.com/frmLeStazioni.aspx?ID=73'}, {'company': ['Comunicare S.r.l.'], 'href': '/v2/networks/bigi', 'id': 'bigi', 'location': {'city': 'Bergamo', 'country': 'IT', 'latitude': 45.695, 'longitude': 9.67}, 'name': 'BiGi', 'source': 'https://www.bicincitta.com/frmLeStazioni.aspx?ID=133'}, {'company': ['ICNITA S.L.'], 'href': '/v2/networks/girocleta', 'id': 'girocleta', 'location': {'city': 'Girona', 'country': 'ES', 'latitude': 41.9794005, 'longitude': 2.8214264}, 'name': 'Girocleta'}, {'company': ['Comunicare S.r.l.'], 'href': '/v2/networks/alba', 'id': 'alba', 'location': {'city': 'Alba', 'country': 'IT', 'latitude': 44.716667, 'longitude': 8.083333}, 'name': 'Alba', 'source': 'https://www.bicincitta.com/frmLeStazioni.aspx?ID=139'}, {'company': ['ClearChannel'], 'ebikes': True, 'href': '/v2/networks/bikemi', 'id': 'bikemi', 'location': {'city': 'Milano', 'country': 'IT', 'latitude': 45.4654542, 'longitude': 9.186516}, 'name': 'BikeMi'}, {'company': ['Comunicare S.r.l.'], 'href': '/v2/networks/biella', 'id': 'biella', 'location': {'city': 'Biella', 'country': 'IT', 'latitude': 45.5775, 'longitude': 8.051111}, 'name': 'Biella', 'source': 'https://www.bicincitta.com/frmLeStazioni.aspx?ID=112'}, {'company': ['Comunicare S.r.l.'], 'href': '/v2/networks/chivasso', 'id': 'chivasso', 'location': {'city': 'Chivasso', 'country': 'IT', 'latitude': 45.189765, 'longitude': 7.888935}, 'name': 'Chivasso', 'source': 'https://www.bicincitta.com/frmLeStazioni.aspx?ID=201'}, {'company': ['ClearChannel'], 'href': '/v2/networks/bizi', 'id': 'bizi', 'location': {'city': 'Zaragoza', 'country': 'ES', 'latitude': 41.6487908, 'longitude': -0.8895811}, 'name': 'Bizi'}, {'company': None, 'gbfs_href': 'https://gbfs.mex.lyftbikes.com/gbfs/gbfs.json', 'href': '/v2/networks/ecobici', 'id': 'ecobici', 'location': {'city': 'Cd de México', 'country': 'MX', 'latitude': 19.4326077, 'longitude': -99.133208}, 'name': 'EcoBici'}, {'company': ['Comunicare S.r.l.'], 'href': '/v2/networks/bici-in-busto', 'id': 'bici-in-busto', 'location': {'city': 'Busto Arsizio', 'country': 'IT', 'latitude': 45.610555, 'longitude': 8.852062}, 'name': 'Bici in Busto', 'source': 'https://www.bicincitta.com/frmLeStazioni.aspx?ID=66'}, {'company': ['ClearChannel'], 'href': '/v2/networks/velo-antwerpen', 'id': 'velo-antwerpen', 'location': {'city': 'Antwerpen', 'country': 'BE', 'latitude': 51.216667, 'longitude': 4.4}, 'name': 'Velo Antwerpen'}, {'company': ['Comunicare S.r.l.'], 'href': '/v2/networks/cuneo', 'id': 'cuneo', 'location': {'city': 'Cuneo', 'country': 'IT', 'latitude': 44.384238, 'longitude': 7.541428}, 'name': 'Cuneo', 'source': 'https://www.bicincitta.com/frmLeStazioni.aspx?ID=39'}, {'company': ['ClearChannel'], 'href': '/v2/networks/malmobybike', 'id': 'malmobybike', 'location': {'city': 'Malmö', 'country': 'SE', 'latitude': 55.605, 'longitude': 13.0038}, 'name': 'Malmö by bike'}, {'company': ['ClearChannel'], 'href': '/v2/networks/bicilascondes', 'id': 'bicilascondes', 'location': {'city': 'Las Condes', 'country': 'CL', 'latitude': -33.401944, 'longitude': -70.55}, 'name': 'Bici las Condes'}, {'company': 'Empresa Municipal de Transportes de Madrid, S.A.', 'href': '/v2/networks/bicimad', 'id': 'bicimad', 'location': {'city': 'Madrid', 'country': 'ES', 'latitude': 40.4168, 'longitude': -3.7038}, 'name': 'BiciMAD'}, {'company': ['Brainbox Technology', 'Smoove SAS'], 'href': '/v2/networks/easybike-didymoteicho', 'id': 'easybike-didymoteicho', 'location': {'city': 'Didymoteicho', 'country': 'GR', 'latitude': 41.3502539849, 'longitude': 26.4972960949}, 'name': 'EasyBike'}, {'company': ['Comunicare S.r.l.'], 'href': '/v2/networks/free-bike-sharing', 'id': 'free-bike-sharing', 'location': {'city': 'Frosinone', 'country': 'IT', 'latitude': 41.645081, 'longitude': 13.342123}, 'name': 'FRee Bike sharing', 'source': 'https://www.bicincitta.com/frmLeStazioni.aspx?ID=53'}, {'company': ['Brainbox Technology', 'Smoove SAS'], 'href': '/v2/networks/easybike-glyfada', 'id': 'easybike-glyfada', 'location': {'city': 'Glyfada', 'country': 'GR', 'latitude': 37.8715809825, 'longitude': 23.7355544376}, 'name': 'EasyBike'}, {'company': ['Brainbox Technology', 'Smoove SAS'], 'href': '/v2/networks/easybike-igoumenitsa', 'id': 'easybike-igoumenitsa', 'location': {'city': 'Igoumenitsa', 'country': 'GR', 'latitude': 39.5005770633, 'longitude': 20.2635206985}, 'name': 'EasyBike'}, {'company': ['Comunicare S.r.l.'], 'href': '/v2/networks/lecce', 'id': 'lecce', 'location': {'city': 'Lecce', 'country': 'IT', 'latitude': 40.35040350928062, 'longitude': 18.177824020385742}, 'name': 'lecce', 'source': 'https://www.bicincitta.com/frmLeStazioni.aspx?ID=159'}, {'company': ['Brainbox Technology', 'Smoove SAS'], 'href': '/v2/networks/easybike-ioannina', 'id': 'easybike-ioannina', 'location': {'city': 'Ioannina', 'country': 'GR', 'latitude': 39.6639818, 'longitude': 20.8522784}, 'name': 'EasyBike'}, {'company': ['Brainbox Technology', 'Smoove SAS'], 'href': '/v2/networks/easybike-karditsa', 'id': 'easybike-karditsa', 'location': {'city': 'Karditsa', 'country': 'GR', 'latitude': 39.3634604, 'longitude': 21.9211192}, 'name': 'EasyBike'}, {'company': ['Comunicare S.r.l.'], 'href': '/v2/networks/manerba-in-bici', 'id': 'manerba-in-bici', 'location': {'city': 'Manerba del Garda', 'country': 'IT', 'latitude': 45.561179, 'longitude': 10.559406}, 'name': 'Manerba in Bici', 'source': 'https://www.bicincitta.com/frmLeStazioni.aspx?ID=102'}, {'company': ['Brainbox Technology', 'Smoove SAS'], 'href': '/v2/networks/easybike-kavala', 'id': 'easybike-kavala', 'location': {'city': 'Kavala', 'country': 'GR', 'latitude': 40.9369068, 'longitude': 24.4122164}, 'name': 'EasyBike'}, {'company': ['Brainbox Technology', 'Smoove SAS'], 'href': '/v2/networks/easybike-kinouria', 'id': 'easybike-kinouria', 'location': {'city': 'Kinouria', 'country': 'GR', 'latitude': 37.1476704305, 'longitude': 22.8933729935}, 'name': 'EasyBike'}, {'company': ['Brainbox Technology', 'Smoove SAS'], 'href': '/v2/networks/easybike-komotini', 'id': 'easybike-komotini', 'location': {'city': 'Komotini', 'country': 'GR', 'latitude': 41.117833, 'longitude': 25.4041307}, 'name': 'EasyBike'}, {'company': ['Brainbox Technology', 'Smoove SAS'], 'href': '/v2/networks/easybike-patra', 'id': 'easybike-patra', 'location': {'city': 'Patra', 'country': 'GR', 'latitude': 38.2410966371, 'longitude': 21.7259683418}, 'name': 'EasyBike'}, {'company': ['Comunicare S.r.l.'], 'href': '/v2/networks/mar-e-bici', 'id': 'mar-e-bici', 'location': {'city': 'Marciana Marina', 'country': 'IT', 'latitude': 42.805855, 'longitude': 10.196514}, 'name': 'Mar e Bici', 'source': 'https://www.bicincitta.com/frmLeStazioni.aspx?ID=90'}, {'company': ['Brainbox Technology', 'Smoove SAS'], 'href': '/v2/networks/easybike-rethymno', 'id': 'easybike-rethymno', 'location': {'city': 'Rethymno', 'country': 'GR', 'latitude': 35.3667571777, 'longitude': 24.4832845736}, 'name': 'EasyBike'}, {'company': ['Brainbox Technology', 'Smoove SAS'], 'href': '/v2/networks/easybike-samos', 'id': 'easybike-samos', 'location': {'city': 'Samos', 'country': 'GR', 'latitude': 37.754065919, 'longitude': 26.9787850189}, 'name': 'EasyBike'}, {'company': ['Comunicare S.r.l.'], 'href': '/v2/networks/novara', 'id': 'novara', 'location': {'city': 'Novara', 'country': 'IT', 'latitude': 45.44574, 'longitude': 8.622165}, 'name': 'Novara', 'source': 'https://www.bicincitta.com/frmLeStazioni.aspx?ID=131'}, {'company': ['Brainbox Technology', 'Smoove SAS'], 'href': '/v2/networks/easybike-nicosia', 'id': 'easybike-nicosia', 'location': {'city': 'Nicosia', 'country': 'CY', 'latitude': 35.1739302, 'longitude': 33.364726}, 'name': 'EasyBike'}, {'company': ['Brainbox Technology', 'Smoove SAS'], 'href': '/v2/networks/easybike-mani', 'id': 'easybike-mani', 'location': {'city': 'Mani', 'country': 'GR', 'latitude': 41.4097472, 'longitude': 26.4024952}, 'name': 'EasyBike'}, {'company': ['Brainbox Technology', 'Smoove SAS'], 'href': '/v2/networks/easybike-irakleio', 'id': 'easybike-irakleio', 'location': {'city': 'Irakleio', 'country': 'GR', 'latitude': 35.338735, 'longitude': 25.144213}, 'name': 'EasyBike'}, {'company': ['Brainbox Technology', 'Smoove SAS'], 'href': '/v2/networks/thessbike', 'id': 'thessbike', 'location': {'city': 'Thessaloniki', 'country': 'GR', 'latitude': 40.6403167, 'longitude': 22.9352716}, 'name': 'ThessBike'}, {'company': ['Brainbox Technology', 'Smoove SAS'], 'href': '/v2/networks/athens-bikes', 'id': 'athens-bikes', 'location': {'city': 'Athens', 'country': 'GR', 'latitude': 37.9838, 'longitude': 23.7275}, 'name': 'AthensBikes'}, {'company': ['Comunicare S.r.l.'], 'href': '/v2/networks/goodbike', 'id': 'goodbike', 'location': {'city': 'Padova', 'country': 'IT', 'latitude': 45.4064349, 'longitude': 11.8767611}, 'name': 'GoodBike', 'source': 'http://www.goodbikepadova.it/frmLeStazioni.aspx?ID=59'}, {'company': ['PegBike'], 'href': '/v2/networks/ciclosampa', 'id': 'ciclosampa', 'location': {'city': 'São Paulo', 'country': 'BR', 'latitude': -23.55, 'longitude': -46.6333}, 'name': 'CicloSampa'}, {'company': None, 'gbfs_href': 'https://acoruna.publicbikesystem.net/customer/gbfs/v2/gbfs.json', 'href': '/v2/networks/bicicorunha', 'id': 'bicicorunha', 'location': {'city': 'A Coruña', 'country': 'ES', 'latitude': 43.3623, 'longitude': -8.4115}, 'name': 'Bicicoruña'}, {'company': ['Tuimil S.A.'], 'href': '/v2/networks/bici-ferrol-terra', 'id': 'bici-ferrol-terra', 'location': {'city': 'Ferrol - Narón', 'country': 'ES', 'latitude': 43.4896, 'longitude': -8.2193}, 'name': 'BiciFerrolTerra'}, {'company': ['Social Bicycles Inc.'], 'gbfs_href': 'http://curtinbikeshare.com/opendata/gbfs.json', 'href': '/v2/networks/curtin-bike-share', 'id': 'curtin-bike-share', 'location': {'city': 'Curtin University, Perth, WA', 'country': 'AU', 'latitude': -32.0034172153127, 'longitude': 115.89431270956993}, 'name': 'Curtin Bike Share'}, {'company': ['Social Bicycles Inc.'], 'gbfs_href': 'https://monashbikeshare.com/opendata/gbfs.json', 'href': '/v2/networks/monash-bikeshare', 'id': 'monash-bikeshare', 'location': {'city': 'Melbourne, AU', 'country': 'AU', 'latitude': -37.91238410208696, 'longitude': 145.1362281292677}, 'name': 'Monash BikeShare'}, {'company': ['Comunicare S.r.l.'], 'href': '/v2/networks/mimuovofe', 'id': 'mimuovofe', 'location': {'city': 'Ferrara', 'country': 'IT', 'latitude': 44.8350382, 'longitude': 11.6240562}, 'name': 'Mi Muovo in Bici', 'source': 'http://www.mimuovoinbici.it/frmLeStazioni.aspx?ID=142'}, {'company': ['Motivate International, Inc.', 'PBSC Urban Solutions', 'BIXI Montréal'], 'ebikes': True, 'gbfs_href': 'https://gbfs.velobixi.com/gbfs/gbfs.json', 'href': '/v2/networks/bixi-montreal', 'id': 'bixi-montreal', 'location': {'city': 'Montréal, QC', 'country': 'CA', 'latitude': 45.508693, 'longitude': -73.553928}, 'name': 'Bixi'}, {'company': ['Comunicare S.r.l.'], 'href': '/v2/networks/parma', 'id': 'parma', 'location': {'city': 'Parma', 'country': 'IT', 'latitude': 44.801485, 'longitude': 10.3279036}, 'name': 'Mi Muovo in Bici', 'source': 'http://www.mimuovoinbici.it/frmLeStazioni.aspx?ID=58'}, {'company': ['Motivate International, Inc.', 'PBSC Urban Solutions'], 'gbfs_href': 'https://tor.publicbikesystem.net/ube/gbfs/v1/', 'href': '/v2/networks/bixi-toronto', 'id': 'bixi-toronto', 'location': {'city': 'Toronto, ON', 'country': 'CA', 'latitude': 43.653226, 'longitude': -79.3831843}, 'name': 'Bike Share Toronto'}, {'company': ['Social Bicycles Inc.'], 'gbfs_href': 'https://hamilton.socialbicycles.com/opendata/gbfs.json', 'href': '/v2/networks/sobi-hamilton', 'id': 'sobi-hamilton', 'location': {'city': 'Hamilton, ON', 'country': 'CA', 'latitude': 43.25643601915583, 'longitude': -79.86929655075073}, 'name': 'SoBi'}, {'company': ['Clean Energy Coalition', 'BCycle, LLC'], 'gbfs_href': 'https://gbfs.bcycle.com/bcycle_arborbike/gbfs.json', 'href': '/v2/networks/arborbike', 'id': 'arborbike', 'location': {'city': 'Ann Arbor, MI', 'country': 'US', 'latitude': 42.27853, 'longitude': -83.74536}, 'name': 'ArborBike'}, {'company': ['Comunicare S.r.l.'], 'href': '/v2/networks/pavia-in-bici', 'id': 'pavia-in-bici', 'location': {'city': 'Pavia', 'country': 'IT', 'latitude': 45.1847248, 'longitude': 9.1582069}, 'name': 'Pavia in bici', 'source': 'https://www.bicincitta.com/frmLeStazioni.aspx?ID=45'}, {'company': ['Comunicare S.r.l.'], 'href': '/v2/networks/bici-perugia', 'id': 'bici-perugia', 'location': {'city': 'Perugia', 'country': 'IT', 'latitude': 43.1107168, 'longitude': 12.3908279}, 'name': 'Bici Perugia', 'source': 'https://www.bicincitta.com/frmLeStazioni.aspx?ID=122'}, {'company': ['BCycle, LLC'], 'gbfs_href': 'https://gbfs.bcycle.com/bcycle_austin/gbfs.json', 'href': '/v2/networks/austin', 'id': 'austin', 'location': {'city': 'Austin, TX', 'country': 'US', 'latitude': 30.26408, 'longitude': -97.74355}, 'name': 'Austin B-cycle'}, {'company': ['Motivate International, Inc', 'PBSC'], 'ebikes': True, 'gbfs_href': 'https://chat.publicbikesystem.net/ube/gbfs/v1/', 'href': '/v2/networks/bike-chattanooga', 'id': 'bike-chattanooga', 'location': {'city': 'Chattanooga, TN', 'country': 'US', 'latitude': 35.0456297, 'longitude': -85.3096801}, 'name': 'Bike Chattanooga'}, {'company': ['Comunicare S.r.l.'], 'href': '/v2/networks/piacenza', 'id': 'piacenza', 'location': {'city': 'Piacenza', 'country': 'IT', 'latitude': 45.0473754, 'longitude': 9.6865813}, 'name': 'Mi Muovo in Bici', 'source': 'http://www.mimuovoinbici.it/frmLeStazioni.aspx?ID=148'}, {'company': ['Comunicare S.r.l.'], 'href': '/v2/networks/pinerolo', 'id': 'pinerolo', 'location': {'city': 'Pinerolo', 'country': 'IT', 'latitude': 44.8850256, 'longitude': 7.3499953}, 'name': 'Pinerolo', 'source': 'https://www.bicincitta.com/frmLeStazioni.aspx?ID=71'}, {'company': ['Portland Bureau of Transportation (PBOT)', 'Lyft Inc.'], 'gbfs_href': 'https://gbfs.biketownpdx.com/gbfs/gbfs.json', 'href': '/v2/networks/biketown', 'id': 'biketown', 'location': {'city': 'Portland, OR', 'country': 'US', 'latitude': 45.52175423291714, 'longitude': -122.68107935786247}, 'name': 'BIKETOWN'}, {'company': ['Comunicare S.r.l.'], 'href': '/v2/networks/reggio-emilia', 'id': 'reggio-emilia', 'location': {'city': 'Reggio Emilia', 'country': 'IT', 'latitude': 44.6989932, 'longitude': 10.6296859}, 'name': 'Mi Muovo in Bici', 'source': 'http://www.mimuovoinbici.it/frmLeStazioni.aspx?ID=155'}, {'company': ['CycleHop, LLC', 'Social Bicycles Inc.'], 'gbfs_href': 'http://britebikes.socialbicycles.com/opendata/gbfs.json', 'href': '/v2/networks/britebikes', 'id': 'britebikes', 'location': {'city': 'San Ramon, CA', 'country': 'US', 'latitude': 37.759444753878, 'longitude': -121.955134881881}, 'name': 'BRiteBikes'}, {'company': ['ValleyRide', 'Social Bicycles Inc.'], 'gbfs_href': 'http://boise.greenbike.com/opendata/gbfs.json', 'href': '/v2/networks/boise-greenbike', 'id': 'boise-greenbike', 'location': {'city': 'Boise, ID', 'country': 'US', 'latitude': 43.6153060610528, 'longitude': -116.201761349309}, 'name': 'Boise GreenBike'}, {'company': ['BCycle, LLC'], 'gbfs_href': 'https://gbfs.bcycle.com/bcycle_boulder/gbfs.json', 'href': '/v2/networks/boulder', 'id': 'boulder', 'location': {'city': 'Boulder, CO', 'country': 'US', 'latitude': 40.00811, 'longitude': -105.26385}, 'name': 'Boulder B-cycle'}, {'company': ['CycleHop, LLC', 'Social Bicycles Inc.'], 'gbfs_href': 'http://santamonicabikeshare.com/opendata/gbfs.json', 'href': '/v2/networks/breeze-bike-share', 'id': 'breeze-bike-share', 'location': {'city': 'Santa Monica, CA', 'country': 'US', 'latitude': 34.01780925008178, 'longitude': -118.4965717792511}, 'name': 'Breeze Bike Share'}, {'company': ['Comunicare S.r.l.'], 'href': '/v2/networks/rimini', 'id': 'rimini', 'location': {'city': 'Rimini', 'country': 'IT', 'latitude': 44.0570817, 'longitude': 12.5646003}, 'name': 'Mi Muovo in Bici', 'source': 'http://www.mimuovoinbici.it/frmLeStazioni.aspx?ID=149'}, {'company': ['BCycle, LLC'], 'gbfs_href': 'https://gbfs.bcycle.com/bcycle_broward/gbfs.json', 'href': '/v2/networks/broward', 'id': 'broward', 'location': {'city': 'Fort Lauderdale, FL', 'country': 'US', 'latitude': 26.12026, 'longitude': -80.14819}, 'name': 'Broward B-cycle'}, {'company': ['BCycle, LLC'], 'gbfs_href': 'https://gbfs.bcycle.com/bcycle_bublr/gbfs.json', 'href': '/v2/networks/bublr-bikes', 'id': 'bublr-bikes', 'location': {'city': 'Milwaukee, WI', 'country': 'US', 'latitude': 43.0369, 'longitude': -87.89667}, 'name': 'Bublr Bikes'}, {'company': ['Shared Mobility Inc.', 'Social Bicycles Inc.'], 'gbfs_href': 'https://reddybikeshare.socialbicycles.com/opendata/gbfs.json', 'href': '/v2/networks/reddy-bike-share', 'id': 'reddy-bike-share', 'location': {'city': 'Buffalo, NY', 'country': 'US', 'latitude': 42.89373841865211, 'longitude': -78.8718044757843}, 'name': 'Reddy Bike Share'}, {'company': ['Motivate International, Inc.', 'PBSC Urban Solutions'], 'ebikes': True, 'gbfs_href': 'https://gbfs.capitalbikeshare.com/gbfs/gbfs.json', 'href': '/v2/networks/capital-bikeshare', 'id': 'capital-bikeshare', 'location': {'city': 'Washington, DC', 'country': 'US', 'latitude': 38.8967584, 'longitude': -77.03701629999999}, 'name': 'Capital BikeShare'}, {'company': ['BCycle, LLC'], 'gbfs_href': 'https://gbfs.bcycle.com/bcycle_charlotte/gbfs.json', 'href': '/v2/networks/charlotte', 'id': 'charlotte', 'location': {'city': 'Charlotte, NC', 'country': 'US', 'latitude': 35.22716, 'longitude': -80.83855}, 'name': 'Charlotte B-cycle'}, {'company': ['Comunicare S.r.l.'], 'href': '/v2/networks/saluzzo', 'id': 'saluzzo', 'location': {'city': 'Saluzzo', 'country': 'IT', 'latitude': 44.6445404, 'longitude': 7.492735499999999}, 'name': 'Saluzzo', 'source': 'https://www.bicincitta.com/frmLeStazioni.aspx?ID=51'}, {'company': ['BCycle, LLC'], 'gbfs_href': 'https://gbfs.bcycle.com/bcycle_cincyredbike/gbfs.json', 'href': '/v2/networks/cincy-red-bike', 'id': 'cincy-red-bike', 'location': {'city': 'Cincinnati, OH', 'country': 'US', 'latitude': 39.10138, 'longitude': -84.51217}, 'name': 'Cincy Red Bike'}, {'company': ['Comunicare S.r.l.'], 'href': '/v2/networks/savigliano', 'id': 'savigliano', 'location': {'city': 'Savigliano', 'country': 'IT', 'latitude': 44.6470327, 'longitude': 7.662463499999999}, 'name': 'Savigliano', 'source': 'https://www.bicincitta.com/frmLeStazioni.aspx?ID=52'}, {'company': ['NYC Bike Share, LLC', 'Motivate International, Inc.', 'PBSC Urban Solutions'], 'ebikes': True, 'gbfs_href': 'https://gbfs.citibikenyc.com/gbfs/gbfs.json', 'href': '/v2/networks/citi-bike-nyc', 'id': 'citi-bike-nyc', 'location': {'city': 'New York, NY', 'country': 'US', 'latitude': 40.7143528, 'longitude': -74.00597309999999}, 'name': 'Citi Bike'}, {'company': ['CycleHop, LLC'], 'gbfs_href': 'https://gbfs.hopr.city/api/gbfs/8/', 'href': '/v2/networks/coast-bike-share', 'id': 'coast-bike-share', 'location': {'city': 'Tampa, FL', 'country': 'US', 'latitude': 27.9627193250593, 'longitude': -82.438056400783}, 'name': 'Coast Bike Share'}, {'company': ['Comunicare S.r.l.'], 'href': '/v2/networks/terni', 'id': 'terni', 'location': {'city': 'Terni', 'country': 'IT', 'latitude': 42.5636168, 'longitude': 12.6426604}, 'name': 'Terni', 'source': 'https://www.bicincitta.com/frmLeStazioni.aspx?ID=134'}, {'company': ['Motivate International, Inc.', 'PBSC Urban Solutions'], 'ebikes': True, 'gbfs_href': 'https://gbfs.cogobikeshare.com/gbfs/gbfs.json', 'href': '/v2/networks/cogo', 'id': 'cogo', 'location': {'city': 'Columbus, OH', 'country': 'US', 'latitude': 39.983333, 'longitude': -82.983333}, 'name': 'CoGo'}, {'company': ['BCycle, LLC'], 'gbfs_href': 'https://gbfs.bcycle.com/bcycle_denver/gbfs.json', 'href': '/v2/networks/denver', 'id': 'denver', 'location': {'city': 'Denver, CO', 'country': 'US', 'latitude': 39.72055, 'longitude': -104.95253}, 'name': 'Denver B-cycle'}, {'company': ['Motivate International, Inc.', 'PBSC Urban Solutions'], 'ebikes': True, 'gbfs_href': 'https://gbfs.divvybikes.com/gbfs/gbfs.json', 'href': '/v2/networks/divvy', 'id': 'divvy', 'location': {'city': 'Chicago, IL', 'country': 'US', 'latitude': 41.8781136, 'longitude': -87.6297982}, 'name': 'Divvy'}, {'company': ['Comunicare S.r.l.'], 'href': '/v2/networks/tirano-in-bici', 'id': 'tirano-in-bici', 'location': {'city': 'Tirano', 'country': 'IT', 'latitude': 46.216168, 'longitude': 10.1696056}, 'name': 'Tirano in Bici', 'source': 'https://www.bicincitta.com/frmLeStazioni.aspx?ID=141'}, {'company': ['BCycle, LLC'], 'gbfs_href': 'https://gbfs.bcycle.com/bcycle_elpaso/gbfs.json', 'href': '/v2/networks/elpaso', 'id': 'elpaso', 'location': {'city': 'El Paso, TX', 'country': 'US', 'latitude': 31.76148, 'longitude': -106.48507}, 'name': 'El Paso B-cycle'}, {'company': ['BCycle, LLC'], 'gbfs_href': 'https://gbfs.bcycle.com/bcycle_fortworth/gbfs.json', 'href': '/v2/networks/fortworth', 'id': 'fortworth', 'location': {'city': 'Fort Worth, TX', 'country': 'US', 'latitude': 32.7516, 'longitude': -97.32888}, 'name': 'Fort Worth Bike Sharing'}, {'company': ['Comunicare S.r.l.'], 'href': '/v2/networks/udine', 'id': 'udine', 'location': {'city': 'Udine', 'country': 'IT', 'latitude': 46.0710668, 'longitude': 13.2345794}, 'name': 'Udine', 'source': 'https://www.bicincitta.com/frmLeStazioni.aspx?ID=126'}, {'company': ['BCycle, LLC'], 'gbfs_href': 'https://gbfs.bcycle.com/bcycle_greatrides/gbfs.json', 'href': '/v2/networks/greatrides', 'id': 'greatrides', 'location': {'city': 'Fargo, ND', 'country': 'US', 'latitude': 46.89248, 'longitude': -96.80095}, 'name': 'Great Rides Bike Share'}, {'company': ['BCycle, LLC'], 'gbfs_href': 'https://gbfs.bcycle.com/bcycle_greenbikeslc/gbfs.json', 'href': '/v2/networks/greenbikeslc', 'id': 'greenbikeslc', 'location': {'city': 'Salt Lake City', 'country': 'US', 'latitude': 40.76745, 'longitude': -111.88736}, 'name': 'GREENbike'}, {'company': ['CycleHop, LLC', 'Social Bicycles Inc.'], 'gbfs_href': 'https://grid.socialbicycles.com/opendata/gbfs.json', 'href': '/v2/networks/grid-bike-share', 'id': 'grid-bike-share', 'location': {'city': 'Phoenix, AZ', 'country': 'US', 'latitude': 33.4591031356657, 'longitude': -112.074010667085}, 'name': 'Grid Bike Share'}, {'company': ['BCycle, LLC'], 'gbfs_href': 'https://gbfs.bcycle.com/bcycle_heartland/gbfs.json', 'href': '/v2/networks/omaha', 'id': 'omaha', 'location': {'city': 'Omaha, NE', 'country': 'US', 'latitude': 41.25832, 'longitude': -96.00853}, 'name': 'Heartland B-cycle'}, {'company': ['BCycle, LLC'], 'gbfs_href': 'https://gbfs.bcycle.com/bcycle_houston/gbfs.json', 'href': '/v2/networks/houston', 'id': 'houston', 'location': {'city': 'Houston, TX', 'country': 'US', 'latitude': 29.75983, 'longitude': -95.36949}, 'name': 'Houston B-cycle'}, {'company': ['Motivate International, Inc.', 'PBSC Urban Solutions'], 'ebikes': True, 'gbfs_href': 'https://gbfs.bluebikes.com/gbfs/gbfs.json', 'href': '/v2/networks/blue-bikes', 'id': 'blue-bikes', 'location': {'city': 'Boston, MA', 'country': 'US', 'latitude': 42.3584308, 'longitude': -71.0597732}, 'name': 'Blue Bikes'}, {'company': ['Comunicare S.r.l.'], 'href': '/v2/networks/ustica', 'id': 'ustica', 'location': {'city': 'Ustica', 'country': 'IT', 'latitude': 38.7031179, 'longitude': 13.1682675}, 'name': 'Ustica', 'source': 'https://www.bicincitta.com/frmLeStazioni.aspx?ID=138'}, {'company': ['City of Philadelphia', 'Bicycle Transit Systems', 'BCycle, LLC'], 'gbfs_href': 'https://gbfs.bcycle.com/bcycle_indego/gbfs.json', 'href': '/v2/networks/indego', 'id': 'indego', 'location': {'city': 'Philadelphia, PA', 'country': 'US', 'latitude': 39.95378, 'longitude': -75.16374}, 'name': 'Indego'}, {'company': ['BCycle, LLC'], 'gbfs_href': 'https://gbfs.bcycle.com/bcycle_pacersbikeshare/gbfs.json', 'href': '/v2/networks/indiana-pacers-bikeshare', 'id': 'indiana-pacers-bikeshare', 'location': {'city': 'Indianapolis, IN', 'country': 'US', 'latitude': 39.76593, 'longitude': -86.16216}, 'name': 'Indiana Pacers Bikeshare'}, {'company': ['CycleHop, LLC', 'Social Bicycles Inc.'], 'gbfs_href': 'https://juicebikeshare.com/opendata/gbfs.json', 'href': '/v2/networks/juice-bike-share', 'id': 'juice-bike-share', 'location': {'city': 'Orlando, FL', 'country': 'US', 'latitude': 28.536663311743688, 'longitude': -81.37922197580338}, 'name': 'Juice'}, {'company': ['Comunicare S.r.l.'], 'href': '/v2/networks/bici-co', 'id': 'bici-co', 'location': {'city': 'Como', 'country': 'IT', 'latitude': 45.8080597, 'longitude': 9.0851765}, 'name': 'BICI&CO', 'source': 'https://www.bicincitta.com/frmLeStazioni.aspx?ID=157'}, {'company': ['BCycle, LLC'], 'gbfs_href': 'https://gbfs.bcycle.com/bcycle_kc/gbfs.json', 'href': '/v2/networks/kansascity', 'id': 'kansascity', 'location': {'city': 'Kansas City, MO', 'country': 'US', 'latitude': 39.0999, 'longitude': -94.5857}, 'name': 'B-cycle'}, {'company': ['BCycle, LLC'], 'gbfs_href': 'https://gbfs.bcycle.com/bcycle_linkdayton/gbfs.json', 'href': '/v2/networks/linkdayton', 'id': 'linkdayton', 'location': {'city': 'Dayton, OH', 'country': 'US', 'latitude': 39.75626, 'longitude': -84.21119}, 'name': 'Link'}, {'company': ['BCycle, LLC'], 'gbfs_href': 'https://gbfs.bcycle.com/bcycle_madison/gbfs.json', 'href': '/v2/networks/madison', 'id': 'madison', 'location': {'city': 'Madison, WI', 'country': 'US', 'latitude': 43.07571, 'longitude': -89.38527}, 'name': 'B-cycle'}, {'company': ['Los Angeles County Metropolitan Transportation Authority (Metro)', 'Bicycle Transit Systems', 'BCycle, LLC'], 'gbfs_href': 'https://gbfs.bcycle.com/bcycle_lametro/gbfs.json', 'href': '/v2/networks/metro-bike-share', 'id': 'metro-bike-share', 'location': {'city': 'Los Angeles, CA', 'country': 'US', 'latitude': 34.04855, 'longitude': -118.25905}, 'name': 'Metro Bike Share'}, {'company': ['Mountain Rides', 'Social Bicycles Inc.'], 'gbfs_href': 'http://mrbikeshare.org/opendata/gbfs.json', 'href': '/v2/networks/mountain-rides-bike-share', 'id': 'mountain-rides-bike-share', 'location': {'city': 'Ketchum / Sun Valley, ID', 'country': 'US', 'latitude': 43.5194695168239, 'longitude': -114.317415758737}, 'name': 'Mountain Rides Bike Share'}, {'company': ['Nice Ride Minnesota', 'Lyft'], 'gbfs_href': 'https://gbfs.niceridemn.com/gbfs/gbfs.json', 'href': '/v2/networks/nice-ride', 'id': 'nice-ride', 'location': {'city': 'Minneapolis, MN', 'country': 'US', 'latitude': 44.983334, 'longitude': -93.26666999999999}, 'name': 'Nice Ride'}, {'company': ['Comunicare S.r.l.'], 'href': '/v2/networks/speziainbici', 'id': 'speziainbici', 'location': {'city': 'La Spezia', 'country': 'IT', 'latitude': 44.1024504, 'longitude': 9.824082599999999}, 'name': 'Speziainbici', 'source': 'https://www.bicincitta.com/frmLeStazioni.aspx?ID=137'}, {'company': ['BCycle, LLC'], 'gbfs_href': 'https://gbfs.bcycle.com/bcycle_sanantonio/gbfs.json', 'href': '/v2/networks/sanantonio', 'id': 'sanantonio', 'location': {'city': 'San Antonio, TX', 'country': 'US', 'latitude': 29.43701, 'longitude': -98.48236}, 'name': 'SWell Cycle'}, {'company': ['Social Bicycles Inc.'], 'gbfs_href': 'https://usf.socialbicycles.com/opendata/gbfs.json', 'href': '/v2/networks/share-a-bull-bikes', 'id': 'share-a-bull-bikes', 'location': {'city': 'University of South Florida, FL', 'country': 'US', 'latitude': 28.060548696070995, 'longitude': -82.4076198041439}, 'name': 'Share-a-Bull Bikes'}, {'company': ['Comunicare S.r.l.'], 'href': '/v2/networks/venezia', 'id': 'venezia', 'location': {'city': 'Venezia', 'country': 'IT', 'latitude': 45.4408474, 'longitude': 12.3155151}, 'name': 'Venezia', 'source': 'https://www.bicincitta.com/frmLeStazioni.aspx?ID=93'}, {'company': ['Social Bicycles Inc.'], 'gbfs_href': 'http://sobilongbeach.com/opendata/gbfs.json', 'href': '/v2/networks/sobi-long-beach', 'id': 'sobi-long-beach', 'location': {'city': 'Long Beach, NY', 'country': 'US', 'latitude': 40.5833058203002, 'longitude': -73.6482682794673}, 'name': 'SoBi'}, {'company': ['BCycle, LLC'], 'gbfs_href': 'https://gbfs.bcycle.com/bcycle_spartanburg/gbfs.json', 'href': '/v2/networks/spartanburg', 'id': 'spartanburg', 'location': {'city': 'Spartanburg, SC', 'country': 'US', 'latitude': 34.94867, 'longitude': -81.93345}, 'name': 'Spartanburg BCycle'}, {'company': ['Topeka Metropolitan Transit Authority', 'Social Bicycles Inc.'], 'gbfs_href': 'http://topekametrobikes.org/opendata/gbfs.json', 'href': '/v2/networks/topeka-metro-bikes', 'id': 'topeka-metro-bikes', 'location': {'city': 'Topeka, KS', 'country': 'US', 'latitude': 39.0337646098385, 'longitude': -95.7027213202284}, 'name': 'Topeka Metro Bikes'}, {'company': ['Comunicare S.r.l.'], 'href': '/v2/networks/to-bike', 'id': 'to-bike', 'location': {'city': 'Torino', 'country': 'IT', 'latitude': 45.07098200000001, 'longitude': 7.685676}, 'name': '[TO]BIKE', 'source': 'http://www.tobike.it/frmLeStazioni.aspx?ID=22'}, {'company': ['Social Bicycles Inc.'], 'gbfs_href': 'http://ubike.virginia.edu/opendata/gbfs.json', 'href': '/v2/networks/ubike', 'id': 'ubike', 'location': {'city': 'University of Virginia, VA', 'country': 'US', 'latitude': 38.0357625021372, 'longitude': -78.5072994363201}, 'name': 'UBike'}, {'company': ['CycleHop, LLC', 'Social Bicycles Inc'], 'gbfs_href': 'https://relaybikeshare.socialbicycles.com/opendata/gbfs.json', 'href': '/v2/networks/relay-atlanta', 'id': 'relay-atlanta', 'location': {'city': 'Atlanta, GA', 'country': 'US', 'latitude': 33.7627941119619, 'longitude': -84.38727110624313}, 'name': 'Relay Bike Share'}, {'company': ['Tembici', 'PBSC Urban Solutions'], 'gbfs_href': 'https://rec.publicbikesystem.net/ube/gbfs/v1/', 'href': '/v2/networks/bikerecife', 'id': 'bikerecife', 'location': {'city': 'Recife', 'country': 'BR', 'latitude': -8.047129, 'longitude': -34.873437}, 'name': 'BikeRecife'}, {'company': ['Tembici', 'PBSC Urban Solutions'], 'gbfs_href': 'https://saopaulo.publicbikesystem.net/ube/gbfs/v1/', 'href': '/v2/networks/bikesampa', 'id': 'bikesampa', 'location': {'city': 'São Paulo', 'country': 'BR', 'latitude': -23.55, 'longitude': -46.6333}, 'name': 'BikeSampa'}, {'company': ['Tembici', 'PBSC Urban Solutions'], 'gbfs_href': 'https://riodejaneiro.publicbikesystem.net/ube/gbfs/v1/', 'href': '/v2/networks/bikerio', 'id': 'bikerio', 'location': {'city': 'Rio de Janeiro', 'country': 'BR', 'latitude': -22.904315, 'longitude': -43.184776}, 'name': 'BikeRio'}, {'company': ['Tembici', 'PBSC Urban Solutions'], 'gbfs_href': 'https://salvador.publicbikesystem.net/ube/gbfs/v1/', 'href': '/v2/networks/bikesalvador', 'id': 'bikesalvador', 'location': {'city': 'Salvador', 'country': 'BR', 'latitude': -12.973959, 'longitude': -38.508171}, 'name': 'BikeSalvador'}, {'company': ['Tembici', 'PBSC Urban Solutions'], 'gbfs_href': 'https://poa.publicbikesystem.net/ube/gbfs/v1/', 'href': '/v2/networks/bikepoa', 'id': 'bikepoa', 'location': {'city': 'Porto Alegre', 'country': 'BR', 'latitude': -30.033079, 'longitude': -51.23654}, 'name': 'BikePOA'}, {'company': ['BKT bici publica S.A. de C.V.', 'PBSC Urban Solutions'], 'gbfs_href': 'https://guad.publicbikesystem.net/ube/gbfs/v1/', 'href': '/v2/networks/mibici-guadalajara', 'id': 'mibici-guadalajara', 'location': {'city': 'Guadalajara', 'country': 'MX', 'latitude': 20.6737883, 'longitude': -103.3704325}, 'name': 'MIBICI'}, {'company': ['Your Bike', 'Urban Sharing'], 'gbfs_href': 'https://gbfs.urbansharing.com/edinburghcyclehire.com/gbfs.json', 'href': '/v2/networks/edinburgh-cycle-hire', 'id': 'edinburgh-cycle-hire', 'license': {'name': 'OGL v3 license', 'url': 'http://www.nationalarchives.gov.uk/doc/open-government-licence/version/3/'}, 'location': {'city': 'Edinburgh', 'country': 'UK', 'latitude': 55.9411885, 'longitude': -3.2753783}, 'name': 'Just Eat Cycles'}, {'company': ['PBSC', 'Alta Bicycle Share, Inc'], 'gbfs_href': 'https://gbfs.melbourne.8d.com/gbfs/gbfs.json', 'href': '/v2/networks/melbourne-bike-share', 'id': 'melbourne-bike-share', 'location': {'city': 'Melbourne', 'country': 'AU', 'latitude': -37.814107, 'longitude': 144.96328}, 'name': 'Melbourne Bike Share'}, {'company': ['PBSC Urban Solutions'], 'gbfs_href': 'https://valencefr.publicbikesystem.net/ube/gbfs/v1/', 'href': '/v2/networks/libelo', 'id': 'libelo', 'location': {'city': 'Valence', 'country': 'FR', 'latitude': 44.922726, 'longitude': 4.905634}, 'name': 'Libélo'}, {'company': ['Tembici', 'PBSC Urban Solutions'], 'gbfs_href': 'https://santiago.publicbikesystem.net/ube/gbfs/v1/', 'href': '/v2/networks/bikesantiago', 'id': 'bikesantiago', 'location': {'city': 'Santiago', 'country': 'CL', 'latitude': -33.45, 'longitude': -70.67}, 'name': 'BikeSantiago'}, {'company': None, 'gbfs_href': 'https://gbfs.urbansharing.com/oslobysykkel.no/gbfs.json', 'href': '/v2/networks/oslo-bysykkel', 'id': 'oslo-bysykkel', 'location': {'city': 'Oslo', 'country': 'NO', 'latitude': 59.913869, 'longitude': 10.752245}, 'name': 'Bysykkel'}, {'company': None, 'gbfs_href': 'https://gbfs.urbansharing.com/bergenbysykkel.no/gbfs.json', 'href': '/v2/networks/bergen-bysykkel', 'id': 'bergen-bysykkel', 'location': {'city': 'Bergen', 'country': 'NO', 'latitude': 60.391263, 'longitude': 5.322054}, 'name': 'Bysykkel'}, {'company': None, 'gbfs_href': 'https://gbfs.urbansharing.com/trondheimbysykkel.no/gbfs.json', 'href': '/v2/networks/trondheim-bysykkel', 'id': 'trondheim-bysykkel', 'location': {'city': 'Trondheim', 'country': 'NO', 'latitude': 63.4307238, 'longitude': 10.3936781}, 'name': 'Bysykkel'}, {'company': ['Keolis', 'Rennes Metropole'], 'href': '/v2/networks/le-velo-star', 'id': 'le-velo-star', 'location': {'city': 'Rennes', 'country': 'FR', 'latitude': 48.114167, 'longitude': -1.680833}, 'name': 'LE vélo Star', 'source': 'https://data.explore.star.fr/explore/dataset/vls-stations-etat-tr/'}, {'company': ['Keolis Bordeaux Métropole'], 'ebikes': True, 'href': '/v2/networks/v3-bordeaux', 'id': 'v3-bordeaux', 'location': {'city': 'Bordeaux', 'country': 'FR', 'latitude': 44.837789, 'longitude': -0.57918}, 'name': 'V³'}, {'company': ['Keolis'], 'href': '/v2/networks/vlille', 'id': 'vlille', 'location': {'city': 'Lille', 'country': 'FR', 'latitude': 50.62925, 'longitude': 3.057256}, 'name': \"V'Lille\", 'source': 'https://opendata.lillemetropole.fr/explore/dataset/vlille-realtime/'}, {'company': ['Keolis', 'STAP'], 'href': '/v2/networks/idecycle', 'id': 'idecycle', 'location': {'city': 'Pau', 'country': 'FR', 'latitude': 43.2951, 'longitude': -0.370797}, 'name': 'IDECycle'}, {'company': ['Labici Bicicletas Públicas SL'], 'href': '/v2/networks/bicialtea', 'id': 'bicialtea', 'location': {'city': 'Altea', 'country': 'ES', 'latitude': 38.6029075, 'longitude': -0.0450666}, 'name': 'Bicialtea'}, {'company': ['Labici Bicicletas Públicas SL'], 'href': '/v2/networks/bicidorm', 'id': 'bicidorm', 'location': {'city': 'Benidorm', 'country': 'ES', 'latitude': 38.5410566, 'longitude': -0.1224937}, 'name': 'Bicidorm'}, {'company': ['Labici Bicicletas Públicas SL'], 'href': '/v2/networks/saforbici', 'id': 'saforbici', 'location': {'city': 'Gandía', 'country': 'ES', 'latitude': 38.968032, 'longitude': -0.1844671}, 'name': 'SaforBici'}, {'company': ['Comunicare S.r.l.'], 'href': '/v2/networks/ciclopi', 'id': 'ciclopi', 'location': {'city': 'Pisa', 'country': 'IT', 'latitude': 43.7228386, 'longitude': 10.4016888}, 'name': 'Ciclopi', 'source': 'https://www.bicincitta.com/frmLeStazioni.aspx?ID=144'}, {'company': ['Labici Bicicletas Públicas SL'], 'href': '/v2/networks/gbici', 'id': 'gbici', 'location': {'city': 'Getafe', 'country': 'ES', 'latitude': 40.3082504, 'longitude': -3.7323934}, 'name': 'Gbici'}, {'company': ['Labici Bicicletas Públicas SL'], 'href': '/v2/networks/muybici', 'id': 'muybici', 'location': {'city': 'Murcia', 'country': 'ES', 'latitude': 37.9922399, 'longitude': -1.1306544}, 'name': 'MuyBici'}, {'company': ['Labici Bicicletas Públicas SL'], 'href': '/v2/networks/ponfemobi', 'id': 'ponfemobi', 'location': {'city': 'Ponferrada', 'country': 'ES', 'latitude': 42.5499958, 'longitude': -6.598259000000001}, 'name': 'PonfeMobi'}, {'company': ['Labici Bicicletas Públicas SL'], 'href': '/v2/networks/vaibike', 'id': 'vaibike', 'location': {'city': 'Vilagarcía de Arousa', 'country': 'ES', 'latitude': 42.5999265, 'longitude': -8.7885744}, 'name': 'VaiBike'}, {'company': ['Comunicare S.r.l.'], 'href': '/v2/networks/cagliari', 'id': 'cagliari', 'location': {'city': 'Cagliari', 'country': 'IT', 'latitude': 39.220817, 'longitude': 9.121399}, 'name': 'Cagliari', 'source': 'https://www.bicincitta.com/frmLeStazioni.aspx?ID=177'}, {'company': ['Buenos Aires Ciudad'], 'gbfs_href': 'https://apitransporte.buenosaires.gob.ar/ecobici/gbfs/', 'href': '/v2/networks/ecobici-buenos-aires', 'id': 'ecobici-buenos-aires', 'license': {'name': 'Open Data Commons Open Database License 1.0 (ODbL)', 'url': 'https://opendatacommons.org/licenses/odbl/'}, 'location': {'city': 'Buenos Aires', 'country': 'AR', 'latitude': -34.630665, 'longitude': -58.41156}, 'name': 'Ecobici', 'source': 'https://www.buenosaires.gob.ar/desarrollourbano/transporte/apitransporte'}, {'company': ['EMEL'], 'href': '/v2/networks/gira', 'id': 'gira', 'location': {'city': 'Lisbon', 'country': 'PT', 'latitude': 38.724954, 'longitude': -9.149334}, 'name': 'Gira'}, {'company': ['Comunicare S.r.l.'], 'href': '/v2/networks/gimme-bike', 'id': 'gimme-bike', 'location': {'city': 'Varese', 'country': 'IT', 'latitude': 45.8183902, 'longitude': 8.823913}, 'name': 'Gimme Bike', 'source': 'https://www.bicincitta.com/frmLeStazioni.aspx?ID=50'}, {'company': ['JCDecaux'], 'href': '/v2/networks/cyclic', 'id': 'cyclic', 'license': {'name': 'Open Licence', 'url': 'https://developer.jcdecaux.com/#/opendata/licence'}, 'location': {'city': 'Rouen', 'country': 'FR', 'latitude': 49.44323199999999, 'longitude': 1.099971}, 'name': \"cy'clic\", 'source': 'https://developer.jcdecaux.com'}, {'company': ['JCDecaux'], 'href': '/v2/networks/velo', 'id': 'velo', 'license': {'name': 'Open Licence', 'url': 'https://developer.jcdecaux.com/#/opendata/licence'}, 'location': {'city': 'Toulouse', 'country': 'FR', 'latitude': 43.604652, 'longitude': 1.444209}, 'name': 'Vélô', 'source': 'https://developer.jcdecaux.com'}, {'company': ['JCDecaux'], 'href': '/v2/networks/veloh', 'id': 'veloh', 'license': {'name': 'Open Licence', 'url': 'https://developer.jcdecaux.com/#/opendata/licence'}, 'location': {'city': 'Luxembourg', 'country': 'LU', 'latitude': 49.6301025, 'longitude': 6.1520185}, 'name': 'Veloh', 'source': 'https://developer.jcdecaux.com'}, {'company': ['JCDecaux'], 'href': '/v2/networks/valenbisi', 'id': 'valenbisi', 'license': {'name': 'Open Licence', 'url': 'https://developer.jcdecaux.com/#/opendata/licence'}, 'location': {'city': 'Valencia', 'country': 'ES', 'latitude': 39.4699075, 'longitude': -0.3762881}, 'name': 'Valenbisi', 'source': 'https://developer.jcdecaux.com'}, {'company': ['Comunicare S.r.l.'], 'href': '/v2/networks/sellero', 'id': 'sellero', 'location': {'city': 'Sellero', 'country': 'IT', 'latitude': 46.06304765446406, 'longitude': 10.353434085845947}, 'name': 'Sellero', 'source': 'https://www.bicincitta.com/frmLeStazioni.aspx?ID=85'}, {'company': ['JCDecaux'], 'href': '/v2/networks/lundahoj', 'id': 'lundahoj', 'license': {'name': 'Open Licence', 'url': 'https://developer.jcdecaux.com/#/opendata/licence'}, 'location': {'city': 'Lund', 'country': 'SE', 'latitude': 55.7046601, 'longitude': 13.1910073}, 'name': 'Lundahoj', 'source': 'https://developer.jcdecaux.com'}, {'company': ['Comunicare S.r.l.'], 'href': '/v2/networks/ugento', 'id': 'ugento', 'location': {'city': 'Ugento', 'country': 'IT', 'latitude': 39.9273518, 'longitude': 18.1582962}, 'name': 'Ugento', 'source': 'https://www.bicincitta.com/frmLeStazioni.aspx?ID=103'}, {'company': ['JCDecaux'], 'href': '/v2/networks/tusbic', 'id': 'tusbic', 'license': {'name': 'Open Licence', 'url': 'https://developer.jcdecaux.com/#/opendata/licence'}, 'location': {'city': 'Santander', 'country': 'ES', 'latitude': 43.46230569999999, 'longitude': -3.8099803}, 'name': 'Tusbic', 'source': 'https://developer.jcdecaux.com'}, {'company': ['JCDecaux'], 'href': '/v2/networks/velam', 'id': 'velam', 'license': {'name': 'Open Licence', 'url': 'https://developer.jcdecaux.com/#/opendata/licence'}, 'location': {'city': 'Amiens', 'country': 'FR', 'latitude': 49.894067, 'longitude': 2.295753}, 'name': 'Vélam', 'source': 'https://developer.jcdecaux.com'}, {'company': ['JCDecaux'], 'href': '/v2/networks/bysykkel-lillestrom', 'id': 'bysykkel-lillestrom', 'license': {'name': 'Open Licence', 'url': 'https://developer.jcdecaux.com/#/opendata/licence'}, 'location': {'city': 'Lillestrøm', 'country': 'NO', 'latitude': 59.9559696, 'longitude': 11.0503785}, 'name': 'Bysykkel', 'source': 'https://developer.jcdecaux.com'}, {'company': ['JCDecaux'], 'href': '/v2/networks/velocite-mulhouse', 'id': 'velocite-mulhouse', 'license': {'name': 'Open Licence', 'url': 'https://developer.jcdecaux.com/#/opendata/licence'}, 'location': {'city': 'Mulhouse', 'country': 'FR', 'latitude': 47.750839, 'longitude': 7.335888}, 'name': 'VéloCité', 'source': 'https://developer.jcdecaux.com'}, {'company': ['Comunicare S.r.l.'], 'href': '/v2/networks/prata-camportaccio', 'id': 'prata-camportaccio', 'location': {'city': 'Prata Camportaccio', 'country': 'IT', 'latitude': 46.3042146, 'longitude': 9.3964914}, 'name': 'Prata Camportaccio', 'source': 'https://www.bicincitta.com/frmLeStazioni.aspx?ID=108'}, {'company': ['JCDecaux'], 'href': '/v2/networks/velov', 'id': 'velov', 'license': {'name': 'Open Licence', 'url': 'https://developer.jcdecaux.com/#/opendata/licence'}, 'location': {'city': 'Lyon', 'country': 'FR', 'latitude': 45.764043, 'longitude': 4.835659}, 'name': \"Vélo'V\", 'source': 'https://developer.jcdecaux.com'}, {'company': ['JCDecaux'], 'href': '/v2/networks/bicikelj', 'id': 'bicikelj', 'license': {'name': 'Open Licence', 'url': 'https://developer.jcdecaux.com/#/opendata/licence'}, 'location': {'city': 'Ljubljana', 'country': 'SI', 'latitude': 46.05645089999999, 'longitude': 14.5080702}, 'name': 'Bicikelj', 'source': 'https://developer.jcdecaux.com'}, {'company': ['Comunicare S.r.l.'], 'href': '/v2/networks/civitavecchia', 'id': 'civitavecchia', 'location': {'city': 'Civitavecchia', 'country': 'IT', 'latitude': 42.0937524, 'longitude': 11.7922462}, 'name': 'Civitavecchia', 'source': 'https://www.bicincitta.com/frmLeStazioni.aspx?ID=127'}, {'company': ['JCDecaux'], 'href': '/v2/networks/sevici', 'id': 'sevici', 'license': {'name': 'Open Licence', 'url': 'https://developer.jcdecaux.com/#/opendata/licence'}, 'location': {'city': 'Sevilla', 'country': 'ES', 'latitude': 37.3880961, 'longitude': -5.9823299}, 'name': 'Sevici', 'source': 'https://developer.jcdecaux.com'}, {'company': ['Comunicare S.r.l.'], 'href': '/v2/networks/longanoinbici', 'id': 'longanoinbici', 'location': {'city': 'Barcellona Pozzo di Gotto', 'country': 'IT', 'latitude': 38.149812517944284, 'longitude': 15.212116241455078}, 'name': 'LonganoinBici', 'source': 'https://www.bicincitta.com/frmLeStazioni.aspx?ID=140'}, {'company': ['JCDecaux'], 'href': '/v2/networks/li-bia-velo', 'id': 'li-bia-velo', 'license': {'name': 'Open Licence', 'url': 'https://developer.jcdecaux.com/#/opendata/licence'}, 'location': {'city': 'Namur', 'country': 'BE', 'latitude': 50.465328, 'longitude': 4.867665}, 'name': 'Li bia velo', 'source': 'https://developer.jcdecaux.com'}, {'company': ['JCDecaux'], 'href': '/v2/networks/velostanlib', 'id': 'velostanlib', 'license': {'name': 'Open Licence', 'url': 'https://developer.jcdecaux.com/#/opendata/licence'}, 'location': {'city': 'Nancy', 'country': 'FR', 'latitude': 48.692054, 'longitude': 6.184417}, 'name': \"vélOstan'lib\", 'source': 'https://developer.jcdecaux.com'}, {'company': ['JCDecaux'], 'href': '/v2/networks/cristolib', 'id': 'cristolib', 'license': {'name': 'Open Licence', 'url': 'https://developer.jcdecaux.com/#/opendata/licence'}, 'location': {'city': 'Créteil', 'country': 'FR', 'latitude': 48.790367, 'longitude': 2.455572}, 'name': 'Cristolib', 'source': 'https://developer.jcdecaux.com'}, {'company': ['JCDecaux'], 'href': '/v2/networks/villo', 'id': 'villo', 'license': {'name': 'Open Licence', 'url': 'https://developer.jcdecaux.com/#/opendata/licence'}, 'location': {'city': 'Bruxelles', 'country': 'BE', 'latitude': 50.8503396, 'longitude': 4.3517103}, 'name': 'villo', 'source': 'https://developer.jcdecaux.com'}, {'company': ['Comunicare S.r.l.'], 'href': '/v2/networks/cassano-d-adda', 'id': 'cassano-d-adda', 'location': {'city': \"Cassano d'Adda\", 'country': 'IT', 'latitude': 45.5309616, 'longitude': 9.5155813}, 'name': \"Cassano d'Adda\", 'source': 'https://www.bicincitta.com/frmLeStazioni.aspx?ID=143'}, {'company': ['JCDecaux'], 'href': '/v2/networks/velo2', 'id': 'velo2', 'license': {'name': 'Open Licence', 'url': 'https://developer.jcdecaux.com/#/opendata/licence'}, 'location': {'city': 'Cergy', 'country': 'FR', 'latitude': 49.03561699999999, 'longitude': 2.060325}, 'name': 'Velo2', 'source': 'https://developer.jcdecaux.com'}, {'company': ['JCDecaux'], 'href': '/v2/networks/vilnius-cyclocity', 'id': 'vilnius-cyclocity', 'license': {'name': 'Open Licence', 'url': 'https://developer.jcdecaux.com/#/opendata/licence'}, 'location': {'city': 'Vilnius', 'country': 'LT', 'latitude': 54.6871555, 'longitude': 25.2796514}, 'name': 'Cyclocity', 'source': 'https://developer.jcdecaux.com'}, {'company': ['JCDecaux'], 'href': '/v2/networks/toyama-cyclocity', 'id': 'toyama-cyclocity', 'license': {'name': 'Open Licence', 'url': 'https://developer.jcdecaux.com/#/opendata/licence'}, 'location': {'city': '富山市', 'country': 'JP', 'latitude': 36.6959518, 'longitude': 137.2136768}, 'name': 'cyclocity', 'source': 'https://developer.jcdecaux.com'}, {'company': ['Comunicare S.r.l.'], 'href': '/v2/networks/bianzone-in-bici', 'id': 'bianzone-in-bici', 'location': {'city': 'Bianzone', 'country': 'IT', 'latitude': 46.188197, 'longitude': 10.109354}, 'name': 'Bianzone in Bici', 'source': 'https://www.bicincitta.com/frmLeStazioni.aspx?ID=147'}, {'company': ['LeVélo AMP Métropole', 'Ville de Marseille', 'Fifteen SAS'], 'href': '/v2/networks/le-velo', 'id': 'le-velo', 'location': {'city': 'Marseille', 'country': 'FR', 'latitude': 43.296482, 'longitude': 5.36978}, 'name': 'LeVélo'}, {'company': ['JCDecaux'], 'href': '/v2/networks/bicloo', 'id': 'bicloo', 'license': {'name': 'Open Licence', 'url': 'https://developer.jcdecaux.com/#/opendata/licence'}, 'location': {'city': 'Nantes', 'country': 'FR', 'latitude': 47.218371, 'longitude': -1.553621}, 'name': 'Bicloo', 'source': 'https://developer.jcdecaux.com'}, {'company': ['JCDecaux'], 'href': '/v2/networks/velocite-besancon', 'id': 'velocite-besancon', 'license': {'name': 'Open Licence', 'url': 'https://developer.jcdecaux.com/#/opendata/licence'}, 'location': {'city': 'Besançon', 'country': 'FR', 'latitude': 47.237829, 'longitude': 6.024053899999999}, 'name': 'VéloCité', 'source': 'https://developer.jcdecaux.com'}, {'company': ['Comunicare S.r.l.'], 'href': '/v2/networks/rietinbici', 'id': 'rietinbici', 'location': {'city': 'Rieti', 'country': 'IT', 'latitude': 42.40262397383167, 'longitude': 12.86099910736084}, 'name': 'Rietinbici', 'source': 'https://www.bicincitta.com/frmLeStazioni.aspx?ID=158'}, {'company': ['JCDecaux'], 'href': '/v2/networks/dublinbikes', 'id': 'dublinbikes', 'license': {'name': 'Open Licence', 'url': 'https://developer.jcdecaux.com/#/opendata/licence'}, 'location': {'city': 'Dublin', 'country': 'IE', 'latitude': 53.3498053, 'longitude': -6.2603097}, 'name': 'dublinbikes', 'source': 'https://developer.jcdecaux.com'}, {'company': None, 'href': '/v2/networks/bicipalma', 'id': 'bicipalma', 'location': {'city': 'Palma', 'country': 'ES', 'latitude': 39.57119, 'longitude': 2.646634}, 'name': 'Bicipalma'}, {'company': ['Cyacle Bicycle Rental LLC'], 'href': '/v2/networks/adcb-bikeshare', 'id': 'adcb-bikeshare', 'location': {'city': 'Abu Dhabi', 'country': 'AE', 'latitude': 24.450278, 'longitude': 54.39}, 'name': 'ADCB Bikeshare'}, {'company': ['Comunicare S.r.l.'], 'href': '/v2/networks/castellucchio', 'id': 'castellucchio', 'location': {'city': 'Castellucchio', 'country': 'IT', 'latitude': 45.15047821582959, 'longitude': 10.651202201843262}, 'name': 'Castellucchio', 'source': 'https://www.bicincitta.com/frmLeStazioni.aspx?ID=161'}, {'company': ['Veolia'], 'href': '/v2/networks/velobleu', 'id': 'velobleu', 'location': {'city': 'Nice', 'country': 'FR', 'latitude': 43.695949, 'longitude': 7.271413}, 'name': 'Vélo Bleu'}, {'company': ['Comunicare S.r.l.'], 'href': '/v2/networks/notoinbici', 'id': 'notoinbici', 'location': {'city': 'Noto', 'country': 'IT', 'latitude': 36.889437754839854, 'longitude': 15.074658393859863}, 'name': 'NotoinBici', 'source': 'https://www.bicincitta.com/frmLeStazioni.aspx?ID=162'}, {'company': ['Comunicare S.r.l.'], 'href': '/v2/networks/enna', 'id': 'enna', 'location': {'city': 'Enna', 'country': 'IT', 'latitude': 37.56342572664775, 'longitude': 14.27973747253418}, 'name': 'Enna', 'source': 'https://www.bicincitta.com/frmLeStazioni.aspx?ID=163'}, {'company': ['Comunicare S.r.l.'], 'href': '/v2/networks/pordenone', 'id': 'pordenone', 'location': {'city': 'Pordenone', 'country': 'IT', 'latitude': 45.94790101663391, 'longitude': 12.674491020251475}, 'name': 'Pordenone', 'source': 'https://www.bicincitta.com/frmLeStazioni.aspx?ID=164'}, {'company': ['Veolia'], 'href': '/v2/networks/vel-in', 'id': 'vel-in', 'location': {'city': 'Calais', 'country': 'FR', 'latitude': 50.95, 'longitude': 1.85}, 'name': \"Vél'in\"}, {'company': ['Comunicare S.r.l.'], 'href': '/v2/networks/carbonia', 'id': 'carbonia', 'location': {'city': 'Carbonia', 'country': 'IT', 'latitude': 39.167222, 'longitude': 8.522222}, 'name': 'Carbonia', 'source': 'https://www.bicincitta.com/frmLeStazioni.aspx?ID=173'}, {'company': ['Municipiul Cluj-Napoca'], 'href': '/v2/networks/clujbike', 'id': 'clujbike', 'location': {'city': 'Cluj-Napoca', 'country': 'RO', 'latitude': 46.775, 'longitude': 23.5975}, 'name': 'Cluj Bike'}, {'company': ['Comunicare S.r.l.'], 'href': '/v2/networks/mobike', 'id': 'mobike', 'location': {'city': 'Genova', 'country': 'IT', 'latitude': 44.40430089372731, 'longitude': 8.92908986230462}, 'name': 'MoBike', 'source': 'https://www.bicincitta.com/frmLeStazioni.aspx?ID=175'}, {'company': ['Prefeiture de Sorocaba', 'Urbes'], 'href': '/v2/networks/integrabike', 'id': 'integrabike', 'location': {'city': 'Sorocaba', 'country': 'BR', 'latitude': -23.5015, 'longitude': -47.4526}, 'name': 'Integrabike'}, {'company': ['Comunicare S.r.l.'], 'href': '/v2/networks/scegli-in-bici', 'id': 'scegli-in-bici', 'location': {'city': 'Cremona', 'country': 'IT', 'latitude': 45.134914104864116, 'longitude': 10.0222648619018}, 'name': 'Scegli in Bici', 'source': 'https://www.bicincitta.com/frmLeStazioni.aspx?ID=178'}, {'company': ['Associação dos Amigos da Riviera de São Lourenço', 'Sobloco'], 'href': '/v2/networks/rivibike', 'id': 'rivibike', 'location': {'city': 'São Lourenço', 'country': 'BR', 'latitude': -22.1124, 'longitude': -45.028}, 'name': 'RiviBike'}, {'company': ['Comunicare S.r.l.'], 'href': '/v2/networks/e-motion-trento', 'id': 'e-motion-trento', 'location': {'city': 'Trento', 'country': 'IT', 'latitude': 46.06643205823519, 'longitude': 11.122145390351879}, 'name': 'e.motion', 'source': 'https://www.bicincitta.com/frmLeStazioni.aspx?ID=187'}, {'company': ['Duke Energy Brasil', 'Governo de Ipaussu'], 'href': '/v2/networks/dukebike', 'id': 'dukebike', 'location': {'city': 'Ipaússu', 'country': 'BR', 'latitude': -23.0553, 'longitude': -49.6237}, 'name': 'DukeBike'}, {'company': ['Barcelona de Serveis Municipals, S.A. (BSM)', 'CESPA', 'PBSC'], 'gbfs_href': 'https://api.bsmsa.eu/ext/api/bsm/gbfs/v2/', 'href': '/v2/networks/bicing', 'id': 'bicing', 'location': {'city': 'Barcelona', 'country': 'ES', 'latitude': 41.3850639, 'longitude': 2.1734035}, 'name': 'Bicing'}, {'company': ['Baksi Bike Sharing System'], 'href': '/v2/networks/baksi-antalya', 'id': 'baksi-antalya', 'location': {'city': 'Antalya', 'country': 'TR', 'latitude': 36.862048, 'longitude': 30.638866}, 'name': 'Baksi'}, {'company': ['Baksi Bike Sharing System'], 'href': '/v2/networks/baksi-bisim', 'id': 'baksi-bisim', 'location': {'city': 'Izmir', 'country': 'TR', 'latitude': 38.4134047464, 'longitude': 27.0325753524}, 'name': 'Baksi'}, {'company': ['Comunicare S.r.l.'], 'href': '/v2/networks/e-motion-rovereto', 'id': 'e-motion-rovereto', 'location': {'city': 'Rovereto', 'country': 'IT', 'latitude': 45.88710661061543, 'longitude': 11.042242751867644}, 'name': 'e.motion', 'source': 'https://www.bicincitta.com/frmLeStazioni.aspx?ID=189'}, {'company': ['Baksi Bike Sharing System'], 'href': '/v2/networks/baksi-istanbul', 'id': 'baksi-istanbul', 'location': {'city': 'Istanbul', 'country': 'TR', 'latitude': 40.9696887925, 'longitude': 29.0475373717}, 'name': 'Isbike'}, {'company': ['Baksi Bike Sharing System'], 'href': '/v2/networks/baksi-kobis', 'id': 'baksi-kobis', 'location': {'city': 'Kocaeli', 'country': 'TR', 'latitude': 40.7674733342, 'longitude': 29.9755885985}, 'name': 'Baksi'}, {'company': ['Helsinki City Transport', 'Helsinki Regional Transport', 'CityBikeFinland', 'Smoove SAS', 'Moventia', 'Alepa'], 'href': '/v2/networks/citybikes-helsinki', 'id': 'citybikes-helsinki', 'location': {'city': 'Helsinki', 'country': 'FI', 'latitude': 60.16985569999999, 'longitude': 24.938379}, 'name': 'City bikes'}, {'company': ['Comunicare S.r.l.'], 'href': '/v2/networks/monopoli-bike', 'id': 'monopoli-bike', 'location': {'city': 'Monopoli', 'country': 'IT', 'latitude': 40.94519109440738, 'longitude': 17.311687995336918}, 'name': 'Monopoli BIKE', 'source': 'https://www.bicincitta.com/frmLeStazioni.aspx?ID=191'}, {'company': ['Turku Region Traffic Föli', 'Nextbike Polska'], 'href': '/v2/networks/foli', 'id': 'foli', 'location': {'city': 'Turku', 'country': 'FI', 'latitude': 60.4506, 'longitude': 22.2666}, 'name': 'Föli-fillari'}, {'company': ['Comunicare S.r.l.'], 'href': '/v2/networks/bicimia', 'id': 'bicimia', 'location': {'city': 'Brescia', 'country': 'IT', 'latitude': 45.5378, 'longitude': 10.2173}, 'name': 'bicimia', 'source': 'https://bicimia.bresciamobilita.it/frmLeStazioni.aspx?ID=40'}, {'company': ['FSM Ground Services Ltd.'], 'href': '/v2/networks/telofun', 'id': 'telofun', 'location': {'city': \"Tel Aviv-Yaffo, Giv'atayim, Ramat-Gan\", 'country': 'IL', 'latitude': 32.087053, 'longitude': 34.789776}, 'name': 'Tel-O-Fun'}, {'company': ['Comunicare S.r.l.'], 'href': '/v2/networks/andria', 'id': 'andria', 'location': {'city': 'Andria', 'country': 'IT', 'latitude': 41.224346932834, 'longitude': 16.296983922753956}, 'name': 'Andria in Bici', 'source': 'https://www.bicincitta.com/frmLeStazioni.aspx?ID=192'}, {'company': ['Open Source Bike Share'], 'href': '/v2/networks/whitebikes', 'id': 'whitebikes', 'location': {'city': 'Bratislava', 'country': 'SK', 'latitude': 48.149424, 'longitude': 17.113922}, 'name': 'WhiteBikes'}, {'company': ['Dopravný podnik Bratislava', 'Bratislavská integrovaná doprava, a.s.', 'Hlavné mesto SR Bratislava'], 'href': '/v2/networks/slovnaft-bajk', 'id': 'slovnaft-bajk', 'location': {'city': 'Bratislava', 'country': 'SK', 'latitude': 48.1356952, 'longitude': 16.9758332}, 'name': 'Slovnaft BAjk'}, {'company': ['Open Source Bike Share'], 'href': '/v2/networks/cykl', 'id': 'cykl', 'location': {'city': 'Wageningen', 'country': 'NL', 'latitude': 51.974, 'longitude': 5.6671}, 'name': 'Cykl'}, {'company': ['Open Source Bike Share'], 'href': '/v2/networks/bicyklezadobreskutky', 'id': 'bicyklezadobreskutky', 'location': {'city': 'Prešov', 'country': 'SK', 'latitude': 48.996275, 'longitude': 21.234341}, 'name': 'Bicykle za dobré skutky'}, {'company': ['Social Bicycles Inc.'], 'href': '/v2/networks/socialbicycles-wavelo', 'id': 'socialbicycles-wavelo', 'location': {'city': 'Kraków', 'country': 'PL', 'latitude': 50.06143, 'longitude': 19.93658}, 'name': 'Wavelo'}, {'company': ['Comunicare S.r.l.'], 'href': '/v2/networks/bicinquartucciu', 'id': 'bicinquartucciu', 'location': {'city': 'Quartucciu', 'country': 'IT', 'latitude': 39.25043149806156, 'longitude': 9.179296426489255}, 'name': 'BicinQuartucciu', 'source': 'https://www.bicincitta.com/frmLeStazioni.aspx?ID=193'}, {'company': ['Mainzer Verkehrsgesellschaft mbH (MVG)'], 'href': '/v2/networks/mvgmeinrad', 'id': 'mvgmeinrad', 'location': {'city': 'Mainz', 'country': 'DE', 'latitude': 49.992862, 'longitude': 8.247253}, 'name': 'MVGmeinrad'}, {'company': ['Sistema de Bicicletas Públicas del Valle de Aburrá'], 'href': '/v2/networks/encicla', 'id': 'encicla', 'location': {'city': 'Medellin', 'country': 'CO', 'latitude': 6.254942, 'longitude': -75.567982}, 'name': 'EnCicla'}, {'company': ['Comunicare S.r.l.'], 'href': '/v2/networks/olbia-bike', 'id': 'olbia-bike', 'location': {'city': 'Olbia', 'country': 'IT', 'latitude': 40.9240543, 'longitude': 9.4994397}, 'name': 'Olbia Bike', 'source': 'https://www.bicincitta.com/frmLeStazioni.aspx?ID=194'}, {'company': ['Vanncouver Bike Share Inc.', 'CycleHop LLC', 'City of Vancouver', 'Shaw Communications Inc.', 'Fifteen'], 'gbfs_href': 'https://vancouver-gbfs.smoove.pro/gbfs/2/gbfs.json', 'href': '/v2/networks/mobibikes', 'id': 'mobibikes', 'location': {'city': 'Vancouver', 'country': 'CA', 'latitude': 49.2827, 'longitude': -123.1207}, 'name': 'Mobi'}, {'company': ['Comunicare S.r.l.'], 'href': '/v2/networks/savona', 'id': 'savona', 'location': {'city': 'Savona', 'country': 'IT', 'latitude': 44.29516444397244, 'longitude': 8.463126708984431}, 'name': 'Savona', 'source': 'https://www.bicincitta.com/frmLeStazioni.aspx?ID=195'}, {'company': ['CityBike France', 'PBSC Urban Solutions'], 'gbfs_href': 'https://clermontferrand.publicbikesystem.net/customer/ube/gbfs/v1/', 'href': '/v2/networks/c-velo', 'id': 'c-velo', 'location': {'city': 'Clermont-Ferrand', 'country': 'FR', 'latitude': 45.7831, 'longitude': 3.0824}, 'name': 'C.vélo'}, {'company': ['Smoove'], 'gbfs_href': 'https://saint-etienne-fr-smoove.klervi.net/gbfs/gbfs.json', 'href': '/v2/networks/velivert', 'id': 'velivert', 'location': {'city': 'Saint-Étienne', 'country': 'FR', 'latitude': 45.396667, 'longitude': 4.290833}, 'name': 'VéliVert'}, {'company': ['Comunicare S.r.l.'], 'href': '/v2/networks/brindisi', 'id': 'brindisi', 'location': {'city': 'Brindisi', 'country': 'IT', 'latitude': 40.637580319936106, 'longitude': 17.940774547082572}, 'name': 'BrindisiByBike', 'source': 'https://www.bicincitta.com/frmLeStazioni.aspx?ID=197'}, {'company': ['TCRA Public Transport Region Avignon', 'Fifteen'], 'gbfs_href': '', 'href': '/v2/networks/velopop', 'id': 'velopop', 'location': {'city': 'Avignon', 'country': 'FR', 'latitude': 43.943689, 'longitude': 4.805833}, 'name': 'Vélopop'}, {'company': ['Smoove'], 'href': '/v2/networks/batumvelo', 'id': 'batumvelo', 'location': {'city': 'Batumi', 'country': 'GE', 'latitude': 41.660906, 'longitude': 41.678835}, 'name': 'Batumvelo'}, {'company': ['Comunicare S.r.l.'], 'href': '/v2/networks/tradate', 'id': 'tradate', 'location': {'city': 'Tradate', 'country': 'IT', 'latitude': 45.70938576720161, 'longitude': 8.915993391601548}, 'name': 'Tradate', 'source': 'https://www.bicincitta.com/frmLeStazioni.aspx?ID=198'}, {'company': ['Mobilicidade Tecnologia LTD', 'Grupo Serttel LTDA'], 'href': '/v2/networks/bikebh', 'id': 'bikebh', 'location': {'city': 'Belo Horizonte', 'country': 'BR', 'latitude': -19.920793, 'longitude': -43.922165}, 'name': 'BikeBH'}, {'company': ['Mobilicidade Tecnologia LTD', 'Grupo Serttel LTDA'], 'href': '/v2/networks/bikepetrolina', 'id': 'bikepetrolina', 'location': {'city': 'Petrolina', 'country': 'BR', 'latitude': -9.389049, 'longitude': -40.502751}, 'name': 'BikePetrolina'}, {'company': ['Comunicare S.r.l.'], 'href': '/v2/networks/jesinbici', 'id': 'jesinbici', 'location': {'city': 'Jesi', 'country': 'IT', 'latitude': 43.522601, 'longitude': 13.244448}, 'name': 'JesinBici', 'source': 'https://www.bicincitta.com/frmLeStazioni.aspx?ID=236'}, {'company': ['Comunicare S.r.l.'], 'href': '/v2/networks/nbici', 'id': 'nbici', 'location': {'city': 'Pamplona', 'country': 'ES', 'latitude': 42.8116631, 'longitude': -1.6482653}, 'name': 'nbici', 'source': 'https://www.bicincitta.com/frmLeStazioni.aspx?ID=230'}, {'company': ['Tembici'], 'gbfs_href': 'https://brasilia.publicbikesystem.net/customer/ube/gbfs/v1/', 'href': '/v2/networks/bikebrasilia', 'id': 'bikebrasilia', 'location': {'city': 'Brasília', 'country': 'BR', 'latitude': -15.795115, 'longitude': -47.887424}, 'name': 'BikeBrasilia'}, {'company': ['Mobilicidade Tecnologia LTD', 'Grupo Serttel LTDA'], 'href': '/v2/networks/debikegoiania', 'id': 'debikegoiania', 'location': {'city': 'Goiânia', 'country': 'BR', 'latitude': -16.670492, 'longitude': -49.259535}, 'name': 'GynDebike'}, {'company': ['Comunicare S.r.l.'], 'href': '/v2/networks/treviso', 'id': 'treviso', 'location': {'city': 'Treviso', 'country': 'IT', 'latitude': 45.6669011, 'longitude': 12.243039}, 'name': 'Treviso', 'source': 'https://www.bicincitta.com/frmLeStazioni.aspx?ID=179'}, {'company': ['Mobilicidade Tecnologia LTD', 'Grupo Serttel LTDA'], 'href': '/v2/networks/bicicletar', 'id': 'bicicletar', 'location': {'city': 'Fortaleza', 'country': 'BR', 'latitude': -3.7321944, 'longitude': -38.510347}, 'name': 'Bicicletar'}, {'company': ['Mobilicidade Tecnologia LTD', 'Grupo Serttel LTDA'], 'href': '/v2/networks/cajubike', 'id': 'cajubike', 'location': {'city': 'Aracajú', 'country': 'BR', 'latitude': -10.987263, 'longitude': -37.051898}, 'name': 'CajuBike'}, {'company': ['Mobilicidade Tecnologia LTD', 'Grupo Serttel LTDA'], 'href': '/v2/networks/bikebelem', 'id': 'bikebelem', 'location': {'city': 'Belém', 'country': 'BR', 'latitude': -1.4600794, 'longitude': -48.490865}, 'name': 'Bike Belém'}, {'company': ['Comunicare S.r.l.'], 'href': '/v2/networks/sondrio', 'id': 'sondrio', 'location': {'city': 'Sondrio', 'country': 'IT', 'latitude': 46.1698583, 'longitude': 9.8787674}, 'name': 'Sondrio', 'source': 'https://www.bicincitta.com/frmLeStazioni.aspx?ID=213'}, {'company': ['Mobilicidade Tecnologia LTD', 'Grupo Serttel LTDA'], 'href': '/v2/networks/bikesantos', 'id': 'bikesantos', 'location': {'city': 'Santos', 'country': 'BR', 'latitude': -23.954052, 'longitude': -46.333345}, 'name': 'BikeSantos'}, {'company': ['Comunicare S.r.l.'], 'href': '/v2/networks/vercelli', 'id': 'vercelli', 'location': {'city': 'Vercelli', 'country': 'IT', 'latitude': 45.32022720000001, 'longitude': 8.418573499999999}, 'name': 'Vercelli', 'source': 'https://www.bicincitta.com/frmLeStazioni.aspx?ID=235'}, {'company': ['Comunicare S.r.l.'], 'href': '/v2/networks/portofino-park-and-bike', 'id': 'portofino-park-and-bike', 'location': {'city': 'Santa Margherita Ligure - Portofino - Camogli', 'country': 'IT', 'latitude': 44.335084, 'longitude': 9.211264}, 'name': 'Portofino Park and Bike', 'source': 'https://www.bicincitta.com/frmLeStazioni.aspx?ID=128'}, {'company': ['Mobilicidade Tecnologia LTD', 'Municipalidad de Rosario'], 'gbfs_href': 'https://www.mibicitubici.gob.ar/opendata/gbfs.json', 'href': '/v2/networks/mibicitubici', 'id': 'mibicitubici', 'location': {'city': 'Rosario', 'country': 'AR', 'latitude': -32.95, 'longitude': -60.65}, 'name': 'Mi bici tu bici'}, {'company': ['DecoBike LLC'], 'href': '/v2/networks/decobike-miami-beach', 'id': 'decobike-miami-beach', 'location': {'city': 'Miami Beach, FL', 'country': 'US', 'latitude': 25.790654, 'longitude': -80.1300455}, 'name': 'Citi Bike Miami'}, {'company': ['DecoBike LLC'], 'href': '/v2/networks/decobike-san-diego', 'id': 'decobike-san-diego', 'location': {'city': 'San Diego, CA', 'country': 'US', 'latitude': 32.715738, 'longitude': -117.1610838}, 'name': 'Decobike San Diego'}, {'company': ['Comunicare S.r.l.'], 'href': '/v2/networks/meglio-in-bici', 'id': 'meglio-in-bici', 'location': {'city': 'Cernusco sul Naviglio - Pioltello - Carugate', 'country': 'IT', 'latitude': 45.520541, 'longitude': 9.341984}, 'name': 'Meglio in Bici', 'source': 'https://www.bicincitta.com/frmLeStazioni.aspx?ID=121'}, {'company': ['BCycle, LLC'], 'gbfs_href': 'https://gbfs.bcycle.com/bcycle_desmoines/gbfs.json', 'href': '/v2/networks/desmoines', 'id': 'desmoines', 'location': {'city': 'Des Moines, IA', 'country': 'US', 'latitude': 41.6005448, 'longitude': -93.6091064}, 'name': 'Des Moines B-cycle'}, {'company': ['Comunicare S.r.l.'], 'href': '/v2/networks/ossola', 'id': 'ossola', 'location': {'city': 'Santa Maria Maggiore - Malesco - Villette', 'country': 'IT', 'latitude': 46.127196, 'longitude': 8.499169}, 'name': \"Comunità Montana Valli dell'Ossola\", 'source': 'https://www.bicincitta.com/frmLeStazioni.aspx?ID=152'}, {'company': ['BCycle, LLC'], 'gbfs_href': 'https://gbfs.bcycle.com/bcycle_greenville/gbfs.json', 'href': '/v2/networks/greenville', 'id': 'greenville', 'location': {'city': 'Greenville, SC', 'country': 'US', 'latitude': 34.85261759999999, 'longitude': -82.3940104}, 'name': 'Greenville B-cycle'}, {'company': ['Comunicare S.r.l.'], 'href': '/v2/networks/bicincitta-mezzolombardo', 'id': 'bicincitta-mezzolombardo', 'location': {'city': 'Mezzolombardo', 'country': 'IT', 'latitude': 46.21400260000001, 'longitude': 11.0967867}, 'name': 'Bicincittà', 'source': 'https://www.bicincitta.com/frmLeStazioni.aspx?ID=228'}, {'company': ['Comunicare S.r.l.'], 'href': '/v2/networks/bicincitta-lausanne-campus-morges', 'id': 'bicincitta-lausanne-campus-morges', 'location': {'city': 'Lausanne - Morges - Campus', 'country': 'CH', 'latitude': 46.5196535, 'longitude': 6.6322734}, 'name': 'Bicincittà', 'source': 'https://www.bicincitta.com/frmLeStazioni.aspx?ID=123'}, {'company': ['Comunicare S.r.l.'], 'href': '/v2/networks/bicincitta-scafati', 'id': 'bicincitta-scafati', 'location': {'city': 'Scafati', 'country': 'IT', 'latitude': 40.7620174, 'longitude': 14.5363969}, 'name': 'Bicincittà', 'source': 'https://www.bicincitta.com/frmLeStazioni.aspx?ID=106'}, {'company': ['Comunicare S.r.l.'], 'href': '/v2/networks/bicincitta-livorno', 'id': 'bicincitta-livorno', 'location': {'city': 'Livorno', 'country': 'IT', 'latitude': 43.548473, 'longitude': 10.3105674}, 'name': 'Bicincittà', 'source': 'https://www.bicincitta.com/frmLeStazioni.aspx?ID=226'}, {'company': ['Comunicare S.r.l.'], 'href': '/v2/networks/bicincitta-valais-central', 'id': 'bicincitta-valais-central', 'location': {'city': 'Sion', 'country': 'CH', 'latitude': 46.2331221, 'longitude': 7.360625999999999}, 'name': 'Bicincittà', 'source': 'https://www.bicincitta.com/frmLeStazioni.aspx?ID=89'}, {'company': ['Comunicare S.r.l.'], 'href': '/v2/networks/bicincitta-forli', 'id': 'bicincitta-forli', 'location': {'city': 'Forlì', 'country': 'IT', 'latitude': 44.2227398, 'longitude': 12.0407312}, 'name': 'Mi Muovo in Bici', 'source': 'http://www.mimuovoinbici.it/frmLeStazioni.aspx?ID=119'}, {'company': ['Comunicare S.r.l.'], 'href': '/v2/networks/bicincitta-rivarolo-canavese', 'id': 'bicincitta-rivarolo-canavese', 'location': {'city': 'Rivarolo Canavese', 'country': 'IT', 'latitude': 45.306633, 'longitude': 7.723242}, 'name': 'Bicincittà', 'source': 'https://www.bicincitta.com/frmLeStazioni.aspx?ID=227'}, {'company': ['Comunicare S.r.l.'], 'href': '/v2/networks/bicincitta-monserrato', 'id': 'bicincitta-monserrato', 'location': {'city': 'Monserrato', 'country': 'IT', 'latitude': 39.2560191, 'longitude': 9.1453579}, 'name': 'Bicincittà', 'source': 'https://www.bicincitta.com/frmLeStazioni.aspx?ID=220'}, {'company': ['Comunicare S.r.l.'], 'href': '/v2/networks/bicincitta-mezzocorona', 'id': 'bicincitta-mezzocorona', 'location': {'city': 'Mezzocorona', 'country': 'IT', 'latitude': 46.2339047, 'longitude': 11.1277461}, 'name': 'Bicincittà', 'source': 'https://www.bicincitta.com/frmLeStazioni.aspx?ID=229'}, {'company': ['Comunicare S.r.l.'], 'href': '/v2/networks/bicincitta-san-lazzaro-di-savena', 'id': 'bicincitta-san-lazzaro-di-savena', 'location': {'city': 'San Lazzaro di Savena', 'country': 'IT', 'latitude': 44.4702725, 'longitude': 11.409399}, 'name': 'Mi Muovo in Bici', 'source': 'http://www.mimuovoinbici.it/frmLeStazioni.aspx?ID=100'}, {'company': ['Comunicare S.r.l.'], 'href': '/v2/networks/bicincitta-san-teodoro', 'id': 'bicincitta-san-teodoro', 'location': {'city': 'San Teodoro', 'country': 'IT', 'latitude': 40.7722837, 'longitude': 9.6695458}, 'name': 'Bicincittà', 'source': 'https://www.bicincitta.com/frmLeStazioni.aspx?ID=225'}, {'company': ['Comunicare S.r.l.'], 'href': '/v2/networks/bicincitta-parco-molentargius-saline', 'id': 'bicincitta-parco-molentargius-saline', 'location': {'city': 'Parco Naturale Molentargius - Saline', 'country': 'IT', 'latitude': 39.2052545, 'longitude': 9.146761099999999}, 'name': 'Bicincittà', 'source': 'https://www.bicincitta.com/frmLeStazioni.aspx?ID=151'}, {'company': ['Comunicare S.r.l.'], 'href': '/v2/networks/parkinbici', 'id': 'parkinbici', 'location': {'city': 'Parco Nazionale del Gargano', 'country': 'IT', 'latitude': 41.7817081, 'longitude': 15.8516421}, 'name': 'Parkinbici', 'source': 'https://www.bicincitta.com/frmLeStazioni.aspx?ID=105'}, {'company': ['Comunicare S.r.l.'], 'href': '/v2/networks/bicincitta-gallipoli', 'id': 'bicincitta-gallipoli', 'location': {'city': 'Gallipoli', 'country': 'IT', 'latitude': 40.0558554, 'longitude': 17.9925085}, 'name': 'Bicincittà', 'source': 'https://www.bicincitta.com/frmLeStazioni.aspx?ID=109'}, {'company': ['Comunicare S.r.l.'], 'href': '/v2/networks/bicincitta-castel-guelfo-the-style-outlets', 'id': 'bicincitta-castel-guelfo-the-style-outlets', 'location': {'city': 'Castel Guelfo di Bologna', 'country': 'IT', 'latitude': 44.4328527, 'longitude': 11.6750857}, 'name': 'Bicincittà', 'source': 'https://www.bicincitta.com/frmLeStazioni.aspx?ID=233'}, {'company': ['Comunicare S.r.l.'], 'href': '/v2/networks/bicincitta-san-michele-alladige', 'id': 'bicincitta-san-michele-alladige', 'location': {'city': \"San Michele All'adige\", 'country': 'IT', 'latitude': 46.1878653, 'longitude': 11.1330423}, 'name': 'Bicincittà', 'source': 'https://www.bicincitta.com/frmLeStazioni.aspx?ID=231'}, {'company': ['Comunicare S.r.l.'], 'href': '/v2/networks/bicincitta-agglo-fribourg', 'id': 'bicincitta-agglo-fribourg', 'location': {'city': 'Fribourg', 'country': 'CH', 'latitude': 46.8064773, 'longitude': 7.161971899999999}, 'name': 'Bicincittà', 'source': 'https://www.bicincitta.com/frmLeStazioni.aspx?ID=33'}, {'company': ['Comunicare S.r.l.'], 'href': '/v2/networks/bicincitta-modena', 'id': 'bicincitta-modena', 'location': {'city': 'Modena', 'country': 'IT', 'latitude': 44.647128, 'longitude': 10.9252269}, 'name': 'Mi Muovo in bici', 'source': 'http://www.mimuovoinbici.it/frmLeStazioni.aspx?ID=180'}, {'company': ['Comunicare S.r.l.'], 'href': '/v2/networks/bicincitta-brancaleone', 'id': 'bicincitta-brancaleone', 'location': {'city': 'Brancaleone', 'country': 'IT', 'latitude': 37.9679084, 'longitude': 16.0757749}, 'name': 'Bicincittà', 'source': 'https://www.bicincitta.com/frmLeStazioni.aspx?ID=104'}, {'company': ['Comunicare S.r.l.'], 'href': '/v2/networks/bicincitta-bulle', 'id': 'bicincitta-bulle', 'location': {'city': 'Bulle', 'country': 'CH', 'latitude': 46.6154512, 'longitude': 7.057726799999999}, 'name': 'Bicincittà', 'source': 'https://www.bicincitta.com/frmLeStazioni.aspx?ID=34'}, {'company': ['Comunicare S.r.l.'], 'href': '/v2/networks/bicincitta-riviera', 'id': 'bicincitta-riviera', 'location': {'city': \"Distretto della Riviera-Pays-d'Enhaut\", 'country': 'CH', 'latitude': 46.4628333, 'longitude': 6.8419192}, 'name': 'Bicincittà', 'source': 'https://www.bicincitta.com/frmLeStazioni.aspx?ID=129'}, {'company': ['Comunicare S.r.l.'], 'href': '/v2/networks/bicincitta-scandiano', 'id': 'bicincitta-scandiano', 'location': {'city': 'Scandiano', 'country': 'IT', 'latitude': 44.5982342, 'longitude': 10.6909273}, 'name': 'Mi Muovo in Bici', 'source': 'http://www.mimuovoinbici.it/frmLeStazioni.aspx?ID=94'}, {'company': ['Comunicare S.r.l.'], 'href': '/v2/networks/bicincitta-elmas', 'id': 'bicincitta-elmas', 'location': {'city': 'Elmas', 'country': 'IT', 'latitude': 39.2634329, 'longitude': 9.0515805}, 'name': 'Bicincittà', 'source': 'https://www.bicincitta.com/frmLeStazioni.aspx?ID=218'}, {'company': ['Comunicare S.r.l.'], 'href': '/v2/networks/bicincitta-tivat', 'id': 'bicincitta-tivat', 'location': {'city': 'TV', 'country': 'ME', 'latitude': 42.4349809, 'longitude': 18.7066398}, 'name': 'Bicincittà', 'source': 'https://www.bicincitta.com/frmLeStazioni.aspx?ID=87'}, {'company': ['Comunicare S.r.l.'], 'href': '/v2/networks/bicincitta-acquaviva-delle-fonti', 'id': 'bicincitta-acquaviva-delle-fonti', 'location': {'city': 'Acquaviva delle fonti', 'country': 'IT', 'latitude': 40.9303721, 'longitude': 16.8414374}, 'name': 'Bicincittà', 'source': 'https://www.bicincitta.com/frmLeStazioni.aspx?ID=160'}, {'company': ['Comunicare S.r.l.'], 'href': '/v2/networks/we-love-bike', 'id': 'we-love-bike', 'location': {'city': 'Lodi', 'country': 'IT', 'latitude': 45.3097228, 'longitude': 9.503715999999999}, 'name': 'We Love bike', 'source': 'https://www.bicincitta.com/frmLeStazioni.aspx?ID=190'}, {'company': ['Comunicare S.r.l.'], 'href': '/v2/networks/bicincitta-acquarica-del-capo', 'id': 'bicincitta-acquarica-del-capo', 'location': {'city': 'Acquarica del Capo', 'country': 'IT', 'latitude': 39.9144573, 'longitude': 18.2450324}, 'name': 'Bicincittà', 'source': 'https://www.bicincitta.com/frmLeStazioni.aspx?ID=146'}, {'company': ['Comunicare S.r.l.'], 'href': '/v2/networks/bicincitta-vicolungo-the-style-outlets', 'id': 'bicincitta-vicolungo-the-style-outlets', 'location': {'city': 'Vicolungo', 'country': 'IT', 'latitude': 45.47167229999999, 'longitude': 8.4633922}, 'name': 'Bicincittà', 'source': 'https://www.bicincitta.com/frmLeStazioni.aspx?ID=232'}, {'company': ['Comunicare S.r.l.'], 'href': '/v2/networks/bicincitta-porto-torres', 'id': 'bicincitta-porto-torres', 'location': {'city': 'Porto Torres', 'country': 'IT', 'latitude': 40.8333682, 'longitude': 8.402292899999999}, 'name': 'Bicincittà', 'source': 'https://www.bicincitta.com/frmLeStazioni.aspx?ID=221'}, {'company': ['Comunicare S.r.l.'], 'href': '/v2/networks/bicincitta-cisterna-di-latina', 'id': 'bicincitta-cisterna-di-latina', 'location': {'city': 'Cisterna di Latina', 'country': 'IT', 'latitude': 41.5754029, 'longitude': 12.8284772}, 'name': 'Bicincittà', 'source': 'https://www.bicincitta.com/frmLeStazioni.aspx?ID=217'}, {'company': ['Comunicare S.r.l.'], 'href': '/v2/networks/bicincitta-casaletto-spartano', 'id': 'bicincitta-casaletto-spartano', 'location': {'city': 'Casaletto Spartano', 'country': 'IT', 'latitude': 40.1532801, 'longitude': 15.6211479}, 'name': 'Bicincittà', 'source': 'https://www.bicincitta.com/frmLeStazioni.aspx?ID=199'}, {'company': ['Comunicare S.r.l.'], 'href': '/v2/networks/bicincitta-selargius', 'id': 'bicincitta-selargius', 'location': {'city': 'Selargius', 'country': 'IT', 'latitude': 39.2596768, 'longitude': 9.1629372}, 'name': 'Bicincittà', 'source': 'https://www.bicincitta.com/frmLeStazioni.aspx?ID=219'}, {'company': ['Comunicare S.r.l.'], 'href': '/v2/networks/bicincitta-yverdon-les-bains', 'id': 'bicincitta-yverdon-les-bains', 'location': {'city': 'Yverdon-les-Bains', 'country': 'CH', 'latitude': 46.7784736, 'longitude': 6.641183}, 'name': 'Bicincittà', 'source': 'https://www.bicincitta.com/frmLeStazioni.aspx?ID=116'}, {'company': ['Comunicare S.r.l.'], 'href': '/v2/networks/bicincitta-monza', 'id': 'bicincitta-monza', 'location': {'city': 'Monza', 'country': 'IT', 'latitude': 45.5845001, 'longitude': 9.2744485}, 'name': 'Bicincittà', 'source': 'https://www.bicincitta.com/frmLeStazioni.aspx?ID=224'}, {'company': ['Comunicare S.r.l.'], 'href': '/v2/networks/bicincitta-la-cote', 'id': 'bicincitta-la-cote', 'location': {'city': 'Nyon', 'country': 'CH', 'latitude': 46.3832683, 'longitude': 6.2347852}, 'name': 'Bicincittà', 'source': 'https://www.bicincitta.com/frmLeStazioni.aspx?ID=32'}, {'company': ['Comunicare S.r.l.'], 'href': '/v2/networks/bicincitta-morigerati', 'id': 'bicincitta-morigerati', 'location': {'city': 'Morigerati', 'country': 'IT', 'latitude': 40.1422031, 'longitude': 15.5298525}, 'name': 'Bicincittà', 'source': 'https://www.bicincitta.com/frmLeStazioni.aspx?ID=200'}, {'company': ['Comunicare S.r.l.'], 'href': '/v2/networks/bicincitta-san-donato-milanese', 'id': 'bicincitta-san-donato-milanese', 'location': {'city': 'San Donato Milanese', 'country': 'IT', 'latitude': 45.4092402, 'longitude': 9.2684867}, 'name': 'Bicincittà', 'source': 'https://www.bicincitta.com/frmLeStazioni.aspx?ID=234'}, {'company': ['Comunicare S.r.l.'], 'href': '/v2/networks/bicincitta-chablais', 'id': 'bicincitta-chablais', 'location': {'city': 'Monthey - Aigle', 'country': 'CH', 'latitude': 46.2521873, 'longitude': 6.9469598}, 'name': 'Bicincittà', 'source': 'https://www.bicincitta.com/frmLeStazioni.aspx?ID=60'}, {'company': ['Comunicare S.r.l.'], 'href': '/v2/networks/bicincitta-ente-parco-del-circeo', 'id': 'bicincitta-ente-parco-del-circeo', 'location': {'city': 'Parco Nazionale del Circeo', 'country': 'IT', 'latitude': 41.3151015, 'longitude': 13.0330782}, 'name': 'Bicincittà', 'source': 'https://www.bicincitta.com/frmLeStazioni.aspx?ID=135'}, {'company': ['Comunicare S.r.l.'], 'href': '/v2/networks/bicincitta-cesena', 'id': 'bicincitta-cesena', 'location': {'city': 'Cesena', 'country': 'IT', 'latitude': 44.1396438, 'longitude': 12.2464292}, 'name': 'Mi Muovo in bici', 'source': 'http://www.mimuovoinbici.it/frmLeStazioni.aspx?ID=120'}, {'company': ['Comunicare S.r.l.'], 'href': '/v2/networks/bicincitta-lugano-paradiso', 'id': 'bicincitta-lugano-paradiso', 'location': {'city': 'Paradiso', 'country': 'CH', 'latitude': 45.9907174, 'longitude': 8.945261799999999}, 'name': 'Bicincittà', 'source': 'https://www.bicincitta.com/frmLeStazioni.aspx?ID=130'}, {'company': ['Comunicare S.r.l.'], 'href': '/v2/networks/lecco', 'id': 'lecco', 'location': {'city': 'Lecco', 'country': 'IT', 'latitude': 45.8565698, 'longitude': 9.397670399999999}, 'name': 'Bicincittà', 'source': 'https://www.bicincitta.com/frmLeStazioni.aspx?ID=49'}, {'company': ['Comunicare S.r.l.'], 'href': '/v2/networks/bicincitta-alghero', 'id': 'bicincitta-alghero', 'location': {'city': 'Alghero', 'country': 'IT', 'latitude': 40.5579517, 'longitude': 8.319294900000001}, 'name': 'Bicincittà', 'source': 'https://www.bicincitta.com/frmLeStazioni.aspx?ID=237'}, {'company': ['Comunicare S.r.l.'], 'href': '/v2/networks/bicincitta-san-giovanni-in-persiceto', 'id': 'bicincitta-san-giovanni-in-persiceto', 'location': {'city': 'San Giovanni in Persiceto', 'country': 'IT', 'latitude': 44.6405433, 'longitude': 11.1893053}, 'name': 'Mi Muovo in Bici', 'source': 'http://www.mimuovoinbici.it/frmLeStazioni.aspx?ID=101'}, {'company': ['Comunicare S.r.l.'], 'href': '/v2/networks/bicincitta-ente-parco-san-rossore', 'id': 'bicincitta-ente-parco-san-rossore', 'location': {'city': 'Parco naturale Migliarino San Rossore Massaciuccoli', 'country': 'IT', 'latitude': 43.723826, 'longitude': 10.339509}, 'name': 'Bicincittà', 'source': 'https://www.bicincitta.com/frmLeStazioni.aspx?ID=145'}, {'company': ['Comunicare S.r.l.'], 'href': '/v2/networks/bicincitta-treviglio', 'id': 'bicincitta-treviglio', 'location': {'city': 'Treviglio', 'country': 'IT', 'latitude': 45.5293372, 'longitude': 9.591435899999999}, 'name': 'Bicincittà', 'source': 'https://www.bicincitta.com/frmLeStazioni.aspx?ID=174'}, {'company': ['Comunicare S.r.l.'], 'href': '/v2/networks/bicincitta-lavis', 'id': 'bicincitta-lavis', 'location': {'city': 'Lavis', 'country': 'IT', 'latitude': 46.1408423, 'longitude': 11.1124935}, 'name': 'Bicincittà', 'source': 'https://www.bicincitta.com/frmLeStazioni.aspx?ID=238'}, {'company': ['Comunicare S.r.l.'], 'href': '/v2/networks/bicincitta-les-lacs-romont', 'id': 'bicincitta-les-lacs-romont', 'location': {'city': 'Murten', 'country': 'CH', 'latitude': 46.92922110000001, 'longitude': 7.120184}, 'name': 'Bicincittà', 'source': 'https://www.bicincitta.com/frmLeStazioni.aspx?ID=35'}, {'company': ['Comunicare S.r.l.'], 'href': '/v2/networks/bicincitta-ente-parco-di-montemarcello-magra', 'id': 'bicincitta-ente-parco-di-montemarcello-magra', 'location': {'city': 'Ente Parco Montemarcello Magra', 'country': 'IT', 'latitude': 44.1143897, 'longitude': 9.9635986}, 'name': 'Bicincittà', 'source': 'https://www.bicincitta.com/frmLeStazioni.aspx?ID=132'}, {'company': ['Comunicare S.r.l.'], 'href': '/v2/networks/bicischio', 'id': 'bicischio', 'location': {'city': 'Schio', 'country': 'IT', 'latitude': 45.7170517, 'longitude': 11.3597702}, 'name': 'BiciSchio', 'source': 'https://www.bicincitta.com/frmLeStazioni.aspx?ID=91'}, {'company': ['Comunicare S.r.l.'], 'href': '/v2/networks/bicincitta-imola', 'id': 'bicincitta-imola', 'location': {'city': 'Imola', 'country': 'IT', 'latitude': 44.3559128, 'longitude': 11.7161197}, 'name': 'Mi Muovo in bici', 'source': 'http://www.mimuovoinbici.it/frmLeStazioni.aspx?ID=196'}, {'company': ['Nextbike GmbH'], 'href': '/v2/networks/nextbike-leipzig', 'id': 'nextbike-leipzig', 'location': {'city': 'Leipzig', 'country': 'DE', 'latitude': 51.3415, 'longitude': 12.3625}, 'name': 'Nextbike'}, {'company': ['Nextbike GmbH'], 'href': '/v2/networks/nextbike-wiesbaden', 'id': 'nextbike-wiesbaden', 'location': {'city': 'Wiesbaden', 'country': 'DE', 'latitude': 50.0709, 'longitude': 8.24322}, 'name': 'Nextbike'}, {'company': ['Nextbike GmbH'], 'href': '/v2/networks/visa-frankfurt', 'id': 'visa-frankfurt', 'location': {'city': 'Frankfurt', 'country': 'DE', 'latitude': 50.1072, 'longitude': 8.66375}, 'name': 'VISA'}, {'company': ['Nextbike GmbH'], 'href': '/v2/networks/kvb-rad-koln', 'id': 'kvb-rad-koln', 'location': {'city': 'Köln', 'country': 'DE', 'latitude': 50.9429, 'longitude': 6.95649}, 'name': 'KVB Rad'}, {'company': ['Nextbike GmbH'], 'href': '/v2/networks/facherrad-karlsruhe', 'id': 'facherrad-karlsruhe', 'location': {'city': 'Karlsruhe', 'country': 'DE', 'latitude': 49.0102, 'longitude': 8.41827}, 'name': 'Fächerrad'}, {'company': ['Nextbike GmbH'], 'href': '/v2/networks/burgenland-neusiedler-see', 'id': 'burgenland-neusiedler-see', 'location': {'city': 'Neusiedler See', 'country': 'AT', 'latitude': 47.839, 'longitude': 16.761}, 'name': 'Burgenland'}, {'company': ['Nextbike GmbH'], 'href': '/v2/networks/nextbike-dusseldorf', 'id': 'nextbike-dusseldorf', 'location': {'city': 'Düsseldorf', 'country': 'DE', 'latitude': 51.2243, 'longitude': 6.77204}, 'name': 'Nextbike'}, {'company': ['Nextbike GmbH'], 'href': '/v2/networks/nextbike-stpolten', 'id': 'nextbike-stpolten', 'location': {'city': 'St.Pölten', 'country': 'AT', 'latitude': 48.2058, 'longitude': 15.6232}, 'name': 'Nextbike'}, {'company': ['Nextbike GmbH'], 'href': '/v2/networks/nextbike-modling', 'id': 'nextbike-modling', 'location': {'city': 'Mödling', 'country': 'AT', 'latitude': 48.1047, 'longitude': 16.3202}, 'name': 'Nextbike'}, {'company': ['Nextbike GmbH'], 'href': '/v2/networks/nextbike-sursee', 'id': 'nextbike-sursee', 'location': {'city': 'Sursee', 'country': 'CH', 'latitude': 47.1713, 'longitude': 8.10877}, 'name': 'Nextbike'}, {'company': ['Nextbike GmbH'], 'href': '/v2/networks/nextbike-luzern', 'id': 'nextbike-luzern', 'location': {'city': 'Luzern', 'country': 'CH', 'latitude': 47.0472, 'longitude': 8.30446}, 'name': 'Nextbike'}, {'company': ['Nextbike GmbH'], 'href': '/v2/networks/sixt-riga', 'id': 'sixt-riga', 'location': {'city': 'Rīga', 'country': 'LV', 'latitude': 56.9453, 'longitude': 24.1033}, 'name': 'SiXT'}, {'company': ['Nextbike GmbH'], 'href': '/v2/networks/metropolradruhr-dortmund', 'id': 'metropolradruhr-dortmund', 'location': {'city': 'Dortmund', 'country': 'DE', 'latitude': 51.5141, 'longitude': 7.46255}, 'name': 'metropolradruhr'}, {'company': ['Nextbike GmbH'], 'href': '/v2/networks/metropolradruhr-bochum', 'id': 'metropolradruhr-bochum', 'location': {'city': 'Bochum', 'country': 'DE', 'latitude': 51.4813, 'longitude': 7.2133}, 'name': 'metropolradruhr'}, {'company': ['Nextbike GmbH'], 'href': '/v2/networks/metropolradruhr-bottrop', 'id': 'metropolradruhr-bottrop', 'location': {'city': 'Bottrop', 'country': 'DE', 'latitude': 51.5263, 'longitude': 6.94611}, 'name': 'metropolradruhr'}, {'company': ['Nextbike GmbH'], 'href': '/v2/networks/metropolradruhr-duisburg', 'id': 'metropolradruhr-duisburg', 'location': {'city': 'Duisburg', 'country': 'DE', 'latitude': 51.4487, 'longitude': 6.77513}, 'name': 'metropolradruhr'}, {'company': ['Nextbike GmbH'], 'href': '/v2/networks/metropolradruhr-essen', 'id': 'metropolradruhr-essen', 'location': {'city': 'Essen', 'country': 'DE', 'latitude': 51.4425, 'longitude': 7.02301}, 'name': 'metropolradruhr'}, {'company': ['Nextbike GmbH'], 'href': '/v2/networks/metropolradruhr-gelsenkirchen', 'id': 'metropolradruhr-gelsenkirchen', 'location': {'city': 'Gelsenkirchen', 'country': 'DE', 'latitude': 51.5404, 'longitude': 7.07039}, 'name': 'metropolradruhr'}, {'company': ['Nextbike GmbH'], 'href': '/v2/networks/metropolradruhr-hamm', 'id': 'metropolradruhr-hamm', 'location': {'city': 'Hamm', 'country': 'DE', 'latitude': 51.6775, 'longitude': 7.84836}, 'name': 'metropolradruhr'}, {'company': ['Nextbike GmbH'], 'href': '/v2/networks/metropolradruhr-herne', 'id': 'metropolradruhr-herne', 'location': {'city': 'Herne', 'country': 'DE', 'latitude': 51.5363, 'longitude': 7.21493}, 'name': 'metropolradruhr'}, {'company': ['Nextbike GmbH'], 'href': '/v2/networks/metropolradruhr-mulheim-adr', 'id': 'metropolradruhr-mulheim-adr', 'location': {'city': 'Mülheim a.d.R.', 'country': 'DE', 'latitude': 51.4308, 'longitude': 6.87401}, 'name': 'metropolradruhr'}, {'company': ['Nextbike GmbH'], 'href': '/v2/networks/metropolradruhr-oberhausen', 'id': 'metropolradruhr-oberhausen', 'location': {'city': 'Oberhausen', 'country': 'DE', 'latitude': 51.4936, 'longitude': 6.85169}, 'name': 'metropolradruhr'}, {'company': ['Nextbike GmbH'], 'href': '/v2/networks/nextbike-wachau', 'id': 'nextbike-wachau', 'location': {'city': 'Wachau', 'country': 'AT', 'latitude': 48.3188, 'longitude': 15.4166}, 'name': 'Nextbike'}, {'company': ['Nextbike GmbH'], 'href': '/v2/networks/nextbike-tulln', 'id': 'nextbike-tulln', 'location': {'city': 'Tulln', 'country': 'AT', 'latitude': 48.3269, 'longitude': 16.0569}, 'name': 'Nextbike'}, {'company': ['Nextbike GmbH'], 'href': '/v2/networks/nextbike-thermenregion', 'id': 'nextbike-thermenregion', 'location': {'city': 'Thermenregion', 'country': 'AT', 'latitude': 47.9892, 'longitude': 16.2646}, 'name': 'Nextbike'}, {'company': ['Nextbike GmbH'], 'href': '/v2/networks/wrm-wroclaw', 'id': 'wrm-wroclaw', 'location': {'city': 'Wrocław', 'country': 'PL', 'latitude': 51.1097, 'longitude': 17.0485}, 'name': 'WRM'}, {'company': ['Nextbike GmbH'], 'href': '/v2/networks/nextbike-offenburg', 'id': 'nextbike-offenburg', 'location': {'city': 'Offenburg', 'country': 'DE', 'latitude': 48.4721, 'longitude': 7.94243}, 'name': 'Nextbike'}, {'company': ['Nextbike GmbH'], 'href': '/v2/networks/nextbike-wrneustadt', 'id': 'nextbike-wrneustadt', 'location': {'city': 'Wr.Neustadt', 'country': 'AT', 'latitude': 47.8167, 'longitude': 16.2426}, 'name': 'Nextbike'}, {'company': ['Nextbike GmbH'], 'href': '/v2/networks/nextbike-potsdam', 'id': 'nextbike-potsdam', 'location': {'city': 'Potsdam', 'country': 'DE', 'latitude': 52.3997, 'longitude': 13.0676}, 'name': 'Nextbike'}, {'company': ['Nextbike GmbH'], 'href': '/v2/networks/nextbike-gutersloh', 'id': 'nextbike-gutersloh', 'location': {'city': 'Gütersloh', 'country': 'DE', 'latitude': 51.9049, 'longitude': 8.39275}, 'name': 'Nextbike'}, {'company': ['Nextbike GmbH'], 'href': '/v2/networks/nextbike-10vorwien', 'id': 'nextbike-10vorwien', 'location': {'city': '10vorWien', 'country': 'AT', 'latitude': 48.3403, 'longitude': 16.279}, 'name': 'Nextbike'}, {'company': ['Nextbike GmbH'], 'href': '/v2/networks/usedomrad-usedom', 'id': 'usedomrad-usedom', 'location': {'city': 'Usedom', 'country': 'DE', 'latitude': 53.9779, 'longitude': 13.9925}, 'name': 'UsedomRad'}, {'company': ['Nextbike GmbH'], 'href': '/v2/networks/nextbike-norderstedt', 'id': 'nextbike-norderstedt', 'location': {'city': 'Norderstedt', 'country': 'DE', 'latitude': 53.6969, 'longitude': 10.002}, 'name': 'Nextbike'}, {'company': ['Nextbike GmbH'], 'href': '/v2/networks/swa-rad-augsburg', 'id': 'swa-rad-augsburg', 'location': {'city': 'Augsburg', 'country': 'DE', 'latitude': 48.3647, 'longitude': 10.8916}, 'name': 'SWA Rad'}, {'company': ['Nextbike GmbH'], 'href': '/v2/networks/nextbike-limassol', 'id': 'nextbike-limassol', 'location': {'city': 'Limassol', 'country': 'CY', 'latitude': 34.6823, 'longitude': 33.0464}, 'name': 'Nextbike'}, {'company': ['Nextbike GmbH'], 'href': '/v2/networks/prm-poznan', 'id': 'prm-poznan', 'location': {'city': 'Poznań', 'country': 'PL', 'latitude': 52.4077, 'longitude': 16.9323}, 'name': 'PRM'}, {'company': ['Nextbike GmbH'], 'href': '/v2/networks/nextbike-christchurch', 'id': 'nextbike-christchurch', 'location': {'city': 'Christchurch', 'country': 'NZ', 'latitude': -43.5341, 'longitude': 172.621}, 'name': 'Nextbike'}, {'company': ['Nextbike GmbH'], 'href': '/v2/networks/vrn-heidelberg', 'id': 'vrn-heidelberg', 'location': {'city': 'Heidelberg', 'country': 'DE', 'latitude': 49.4023, 'longitude': 8.67577}, 'name': 'VRN'}, {'company': ['Nextbike GmbH'], 'href': '/v2/networks/vrn-mannheim', 'id': 'vrn-mannheim', 'location': {'city': 'Mannheim', 'country': 'DE', 'latitude': 49.4869, 'longitude': 8.45638}, 'name': 'VRN'}, {'company': ['Nextbike GmbH'], 'href': '/v2/networks/stadtrad-innsbruck', 'id': 'stadtrad-innsbruck', 'location': {'city': 'Innsbruck', 'country': 'AT', 'latitude': 47.2632, 'longitude': 11.3961}, 'name': 'Stadtrad'}, {'company': ['Nextbike GmbH'], 'href': '/v2/networks/nextbike-nicosia', 'id': 'nextbike-nicosia', 'location': {'city': 'Nicosia', 'country': 'CY', 'latitude': 35.1728, 'longitude': 33.3653}, 'name': 'Nextbike'}, {'company': ['Nextbike GmbH'], 'href': '/v2/networks/veturilo-warszawa', 'id': 'veturilo-warszawa', 'location': {'city': 'Warszawa', 'country': 'PL', 'latitude': 52.2265, 'longitude': 21.0127}, 'name': 'VETURILO'}, {'company': ['Nextbike GmbH'], 'href': '/v2/networks/nextbike-hollabrunn', 'id': 'nextbike-hollabrunn', 'location': {'city': 'Hollabrunn', 'country': 'AT', 'latitude': 48.562, 'longitude': 16.0785}, 'name': 'Nextbike'}, {'company': ['Nextbike GmbH'], 'href': '/v2/networks/nextbike-wienerwald', 'id': 'nextbike-wienerwald', 'location': {'city': 'WienerWald', 'country': 'AT', 'latitude': 48.1926, 'longitude': 16.141}, 'name': 'Nextbike'}, {'company': ['Nextbike GmbH'], 'href': '/v2/networks/nextbike-zagreb', 'id': 'nextbike-zagreb', 'location': {'city': 'Zagreb', 'country': 'HR', 'latitude': 45.7984, 'longitude': 15.9789}, 'name': 'Nextbike'}, {'company': ['Nextbike GmbH'], 'href': '/v2/networks/nextbike-glasgow', 'id': 'nextbike-glasgow', 'location': {'city': 'Glasgow', 'country': 'GB', 'latitude': 55.8589, 'longitude': -4.25549}, 'name': 'Nextbike'}, {'company': ['Nextbike GmbH'], 'href': '/v2/networks/belfastbikes-belfast', 'id': 'belfastbikes-belfast', 'location': {'city': 'Belfast', 'country': 'GB', 'latitude': 54.5969, 'longitude': -5.92918}, 'name': 'BelfastBikes'}, {'company': ['Nextbike GmbH'], 'href': '/v2/networks/nextbike-stirling', 'id': 'nextbike-stirling', 'location': {'city': 'Stirling', 'country': 'GB', 'latitude': 56.1165, 'longitude': -3.9369}, 'name': 'Nextbike'}, {'company': ['Nextbike GmbH'], 'href': '/v2/networks/grad-sibenik-sibenik', 'id': 'grad-sibenik-sibenik', 'location': {'city': 'Šibenik', 'country': 'HR', 'latitude': 43.733, 'longitude': 15.8982}, 'name': 'Grad Šibenik'}, {'company': ['Nextbike GmbH'], 'href': '/v2/networks/lrm-lublin-lublin', 'id': 'lrm-lublin-lublin', 'location': {'city': 'Lublin', 'country': 'PL', 'latitude': 51.2469, 'longitude': 22.5697}, 'name': 'LRM Lublin'}, {'company': ['Nextbike GmbH'], 'href': '/v2/networks/healthy-ride-pittsburgh-pittsburgh', 'id': 'healthy-ride-pittsburgh-pittsburgh', 'location': {'city': 'Pittsburgh', 'country': 'US', 'latitude': 40.4459, 'longitude': -79.9945}, 'name': 'Healthy Ride'}, {'company': ['Nextbike GmbH'], 'href': '/v2/networks/grm-grodzisk-grodzisk-mazowiecki', 'id': 'grm-grodzisk-grodzisk-mazowiecki', 'location': {'city': 'Grodzisk Mazowiecki', 'country': 'PL', 'latitude': 52.113, 'longitude': 20.6265}, 'name': 'GRM Grodzisk'}, {'company': ['Nextbike GmbH'], 'href': '/v2/networks/nextbike-quickborn', 'id': 'nextbike-quickborn', 'location': {'city': 'Quickborn', 'country': 'DE', 'latitude': 53.7333, 'longitude': 9.90272}, 'name': 'Nextbike'}, {'company': ['Nextbike GmbH'], 'href': '/v2/networks/vrn-ludwigshafen', 'id': 'vrn-ludwigshafen', 'location': {'city': 'Ludwigshafen', 'country': 'DE', 'latitude': 49.4741, 'longitude': 8.43287}, 'name': 'VRN'}, {'company': ['Nextbike GmbH'], 'href': '/v2/networks/vrn-speyer', 'id': 'vrn-speyer', 'location': {'city': 'Speyer', 'country': 'DE', 'latitude': 49.3126, 'longitude': 8.45295}, 'name': 'VRN'}, {'company': ['Nextbike GmbH'], 'href': '/v2/networks/nextbike-lviv', 'id': 'nextbike-lviv', 'location': {'city': 'Lviv', 'country': 'UA', 'latitude': 49.8402, 'longitude': 24.0182}, 'name': 'Nextbike'}, {'company': ['Nextbike GmbH'], 'href': '/v2/networks/nextbike-wurzburg', 'id': 'nextbike-wurzburg', 'location': {'city': 'Würzburg', 'country': 'DE', 'latitude': 49.8, 'longitude': 9.93333}, 'name': 'Nextbike'}, {'company': ['Nextbike GmbH'], 'href': '/v2/networks/nextbike-serfaus', 'id': 'nextbike-serfaus', 'location': {'city': 'Serfaus', 'country': 'AT', 'latitude': 47.0387, 'longitude': 10.6048}, 'name': 'Nextbike'}, {'company': ['Nextbike GmbH'], 'href': '/v2/networks/nextbike-malta', 'id': 'nextbike-malta', 'location': {'city': 'Malta', 'country': 'MT', 'latitude': 35.9192, 'longitude': 14.4889}, 'name': 'Nextbike'}, {'company': ['Nextbike GmbH'], 'href': '/v2/networks/grad-karlovac-karlovac', 'id': 'grad-karlovac-karlovac', 'location': {'city': 'Karlovac', 'country': 'HR', 'latitude': 45.4905, 'longitude': 15.5503}, 'name': 'Grad Karlovac'}, {'company': ['Nextbike GmbH'], 'href': '/v2/networks/grad-slavonski-brod-slavonski-brod', 'id': 'grad-slavonski-brod-slavonski-brod', 'location': {'city': 'Slavonski Brod', 'country': 'HR', 'latitude': 45.1656, 'longitude': 18.0183}, 'name': 'Grad Slavonski Brod'}, {'company': ['Nextbike GmbH'], 'href': '/v2/networks/santander-cycles-mk-milton-keynes', 'id': 'santander-cycles-mk-milton-keynes', 'location': {'city': 'Milton Keynes', 'country': 'GB', 'latitude': 52.0406, 'longitude': -0.759417}, 'name': 'Santander Cycles MK'}, {'company': ['Nextbike GmbH'], 'href': '/v2/networks/nextbike-hergiswil', 'id': 'nextbike-hergiswil', 'location': {'city': 'Hergiswil', 'country': 'CH', 'latitude': 46.9905, 'longitude': 8.30829}, 'name': 'Nextbike'}, {'company': ['Nextbike GmbH'], 'href': '/v2/networks/grad-makarska-makarska', 'id': 'grad-makarska-makarska', 'location': {'city': 'Makarska', 'country': 'HR', 'latitude': 43.2992, 'longitude': 17.0184}, 'name': 'Grad Makarska'}, {'company': ['Nextbike GmbH'], 'href': '/v2/networks/opcina-brinje-brinje', 'id': 'opcina-brinje-brinje', 'location': {'city': 'Brinje', 'country': 'HR', 'latitude': 44.9977, 'longitude': 15.1258}, 'name': 'Općina Brinje'}, {'company': ['Nextbike GmbH'], 'href': '/v2/networks/grad-zadar-zadar', 'id': 'grad-zadar-zadar', 'location': {'city': 'Zadar', 'country': 'HR', 'latitude': 44.0058, 'longitude': 15.2183}, 'name': 'Grad Zadar'}, {'company': ['Nextbike GmbH'], 'href': '/v2/networks/vrn-bensheim', 'id': 'vrn-bensheim', 'location': {'city': 'Bensheim', 'country': 'DE', 'latitude': 49.6803, 'longitude': 8.6189}, 'name': 'VRN'}, {'company': ['Nextbike GmbH'], 'href': '/v2/networks/grad-ivanic-grad-ivanic-grad', 'id': 'grad-ivanic-grad-ivanic-grad', 'location': {'city': 'Ivanic Grad', 'country': 'HR', 'latitude': 45.7062, 'longitude': 16.3919}, 'name': 'Grad Ivanić-Grad'}, {'company': ['Nextbike GmbH'], 'href': '/v2/networks/bike-s-srm-szczecin', 'id': 'bike-s-srm-szczecin', 'location': {'city': 'Szczecin', 'country': 'PL', 'latitude': 53.4301, 'longitude': 14.5498}, 'name': 'Bike_S SRM'}, {'company': ['Nextbike GmbH'], 'href': '/v2/networks/nextbike-sarajevo', 'id': 'nextbike-sarajevo', 'location': {'city': 'Sarajevo', 'country': 'BA', 'latitude': 43.85, 'longitude': 18.39}, 'name': 'Nextbike'}, {'company': ['Nextbike GmbH'], 'href': '/v2/networks/co-bikes-exeter', 'id': 'co-bikes-exeter', 'location': {'city': 'Exeter', 'country': 'GB', 'latitude': 50.7272, 'longitude': -3.53605}, 'name': 'Co-bikes'}, {'company': ['Nextbike GmbH'], 'href': '/v2/networks/nextbike-auckland-waterfront', 'id': 'nextbike-auckland-waterfront', 'location': {'city': 'Auckland Waterfront', 'country': 'NZ', 'latitude': -36.841, 'longitude': 174.763}, 'name': 'Nextbike'}, {'company': ['Nextbike GmbH'], 'href': '/v2/networks/nextbike-berlin', 'id': 'nextbike-berlin', 'location': {'city': 'Berlin', 'country': 'DE', 'latitude': 52.5087, 'longitude': 13.3563}, 'name': 'Nextbike'}, {'company': ['Nextbike GmbH'], 'href': '/v2/networks/veturilo-stacje-sponsorskie-nextbike-veturilo', 'id': 'veturilo-stacje-sponsorskie-nextbike-veturilo', 'location': {'city': 'Warszawa', 'country': 'PL', 'latitude': 52.2265, 'longitude': 21.0127}, 'name': 'Stacje Sponsorskie Nextbike Veturilo'}, {'company': ['Nextbike GmbH'], 'href': '/v2/networks/bike4all-byblos', 'id': 'bike4all-byblos', 'location': {'city': 'Byblos', 'country': 'LB', 'latitude': 34.1236, 'longitude': 35.6511}, 'name': 'bike4all'}, {'company': ['Nextbike GmbH'], 'href': '/v2/networks/chartered-bike-bhopal-bhopal', 'id': 'chartered-bike-bhopal-bhopal', 'location': {'city': 'Bhopal', 'country': 'IN', 'latitude': 23.2467, 'longitude': 77.411}, 'name': 'Chartered Bike'}, {'company': ['Nextbike GmbH'], 'href': '/v2/networks/wk-bike-bremen-bremen', 'id': 'wk-bike-bremen-bremen', 'location': {'city': 'Bremen', 'country': 'DE', 'latitude': 53.0781, 'longitude': 8.80132}, 'name': 'WK-Bike'}, {'company': ['Nextbike GmbH'], 'href': '/v2/networks/vrn-worms', 'id': 'vrn-worms', 'location': {'city': 'Worms', 'country': 'DE', 'latitude': 49.6394, 'longitude': 8.34618}, 'name': 'VRN'}, {'company': ['Nextbike GmbH'], 'href': '/v2/networks/nextbike-stans', 'id': 'nextbike-stans', 'location': {'city': 'Stans', 'country': 'CH', 'latitude': 46.9593, 'longitude': 8.36836}, 'name': 'Nextbike'}, {'company': ['Nextbike GmbH'], 'href': '/v2/networks/nextbike-stansstad', 'id': 'nextbike-stansstad', 'location': {'city': 'Stansstad', 'country': 'CH', 'latitude': 46.9801, 'longitude': 8.34098}, 'name': 'Nextbike'}, {'company': ['Nextbike GmbH'], 'href': '/v2/networks/nextbike-horw', 'id': 'nextbike-horw', 'location': {'city': 'Horw', 'country': 'CH', 'latitude': 47.0188, 'longitude': 8.30828}, 'name': 'Nextbike'}, {'company': ['Nextbike GmbH'], 'href': '/v2/networks/vrn-burstadt', 'id': 'vrn-burstadt', 'location': {'city': 'Bürstadt', 'country': 'DE', 'latitude': 49.6461, 'longitude': 8.44917}, 'name': 'VRN'}, {'company': ['Nextbike GmbH'], 'href': '/v2/networks/prm-stacje-sponsorskie-nextbike-prm', 'id': 'prm-stacje-sponsorskie-nextbike-prm', 'location': {'city': 'Poznań', 'country': 'PL', 'latitude': 52.4077, 'longitude': 16.9323}, 'name': 'Stacje Sponsorskie Nextbike PRM'}, {'company': ['Nextbike GmbH'], 'href': '/v2/networks/nextbike-gross-enzersdorf', 'id': 'nextbike-gross-enzersdorf', 'location': {'city': 'Groß Enzersdorf', 'country': 'AT', 'latitude': 48.1986, 'longitude': 16.5496}, 'name': 'Nextbike'}, {'company': ['Nextbike GmbH'], 'href': '/v2/networks/nextbike-klagenfurt', 'id': 'nextbike-klagenfurt', 'location': {'city': 'Klagenfurt', 'country': 'AT', 'latitude': 46.6335, 'longitude': 14.3085}, 'name': 'Nextbike'}, {'company': ['Nextbike GmbH'], 'href': '/v2/networks/vrn-kaiserslautern', 'id': 'vrn-kaiserslautern', 'location': {'city': 'Kaiserslautern', 'country': 'DE', 'latitude': 49.4413, 'longitude': 7.75566}, 'name': 'VRN'}, {'company': ['Nextbike GmbH'], 'href': '/v2/networks/sitycleta-las-palmas-las-palmas-de-gran-canaria', 'id': 'sitycleta-las-palmas-las-palmas-de-gran-canaria', 'location': {'city': 'Las Palmas de Gran Canaria', 'country': 'ES', 'latitude': 28.1236, 'longitude': -15.4366}, 'name': 'Sitycleta'}, {'company': ['Nextbike GmbH'], 'href': '/v2/networks/grad-velika-gorica-velika-gorica', 'id': 'grad-velika-gorica-velika-gorica', 'location': {'city': 'Velika Gorica', 'country': 'HR', 'latitude': 45.7161, 'longitude': 16.0683}, 'name': 'Grad Velika Gorica'}, {'company': ['Nextbike GmbH'], 'href': '/v2/networks/grad-sisak-sisak', 'id': 'grad-sisak-sisak', 'location': {'city': 'Sisak', 'country': 'HR', 'latitude': 45.4875, 'longitude': 16.3753}, 'name': 'Grad Sisak'}, {'company': ['Nextbike GmbH'], 'href': '/v2/networks/kolobrzeski-rower-miejski-kolobrzeg', 'id': 'kolobrzeski-rower-miejski-kolobrzeg', 'location': {'city': 'Kołobrzeg', 'country': 'PL', 'latitude': 54.1762, 'longitude': 15.5761}, 'name': 'Kołobrzeski Rower Miejski'}, {'company': ['Nextbike GmbH'], 'href': '/v2/networks/grad-metkovic-metkovic', 'id': 'grad-metkovic-metkovic', 'location': {'city': 'Metković', 'country': 'HR', 'latitude': 43.0654, 'longitude': 17.642}, 'name': 'Grad Metković'}, {'company': ['Nextbike GmbH'], 'href': '/v2/networks/jastrebarsko-jastrebarsko', 'id': 'jastrebarsko-jastrebarsko', 'location': {'city': 'Jastrebarsko', 'country': 'HR', 'latitude': 45.6692, 'longitude': 15.6541}, 'name': 'Nextbike'}, {'company': ['Nextbike GmbH'], 'href': '/v2/networks/grad-drnis-drnis', 'id': 'grad-drnis-drnis', 'location': {'city': 'Drniš', 'country': 'HR', 'latitude': 43.8425, 'longitude': 16.1197}, 'name': 'Nextbike'}, {'company': ['Nextbike GmbH'], 'href': '/v2/networks/nextbike-tuzla', 'id': 'nextbike-tuzla', 'location': {'city': 'Tuzla', 'country': 'BA', 'latitude': 44.5392, 'longitude': 18.675}, 'name': 'Nextbike'}, {'company': ['Nextbike GmbH'], 'href': '/v2/networks/arriva-nitra', 'id': 'arriva-nitra', 'location': {'city': 'Nitra', 'country': 'SK', 'latitude': 48.3088, 'longitude': 18.0783}, 'name': 'Arriva'}, {'company': ['Nextbike GmbH'], 'href': '/v2/networks/nextbike-marburg', 'id': 'nextbike-marburg', 'location': {'city': 'Marburg', 'country': 'DE', 'latitude': 50.8019, 'longitude': 8.76444}, 'name': 'Nextbike'}, {'company': ['Nextbike GmbH'], 'href': '/v2/networks/bubi', 'id': 'bubi', 'location': {'city': 'Budapest', 'country': 'HU', 'latitude': 47.497912, 'longitude': 19.040235}, 'name': 'MOL Bubi'}, {'company': ['Nextbike GmbH'], 'href': '/v2/networks/nextbike-russelsheim-am-main', 'id': 'nextbike-russelsheim-am-main', 'location': {'city': 'Rüsselsheim am Main', 'country': 'DE', 'latitude': 49.9881, 'longitude': 8.42142}, 'name': 'Nextbike'}, {'company': ['Nextbike GmbH'], 'href': '/v2/networks/rower-miejski-szamotuly-rms-szamotuly', 'id': 'rower-miejski-szamotuly-rms-szamotuly', 'location': {'city': 'Szamotuły', 'country': 'PL', 'latitude': 52.6112, 'longitude': 16.5819}, 'name': 'Rower Miejski Szamotuły'}, {'company': ['Nextbike GmbH'], 'href': '/v2/networks/nextbike-dordrecht', 'id': 'nextbike-dordrecht', 'location': {'city': 'Dordrecht', 'country': 'NL', 'latitude': 51.7833, 'longitude': 4.69391}, 'name': 'Nextbike'}, {'company': ['Nextbike GmbH'], 'href': '/v2/networks/vrn-heppenheim', 'id': 'vrn-heppenheim', 'location': {'city': 'Heppenheim', 'country': 'DE', 'latitude': 49.6431, 'longitude': 8.63889}, 'name': 'VRN'}, {'company': ['Nextbike GmbH'], 'href': '/v2/networks/piaseczynski-rower-miejski-piaseczno', 'id': 'piaseczynski-rower-miejski-piaseczno', 'location': {'city': 'Piaseczno', 'country': 'PL', 'latitude': 52.0733, 'longitude': 21.0269}, 'name': 'Piaseczyński Rower Miejski'}, {'company': ['Nextbike GmbH'], 'href': '/v2/networks/nextbike-kassel', 'id': 'nextbike-kassel', 'location': {'city': 'Kassel', 'country': 'DE', 'latitude': 51.3127, 'longitude': 9.47975}, 'name': 'Nextbike'}, {'company': ['Nextbike GmbH'], 'href': '/v2/networks/nextbike-sarnen', 'id': 'nextbike-sarnen', 'location': {'city': 'Sarnen', 'country': 'CH', 'latitude': 46.8963, 'longitude': 8.24614}, 'name': 'Nextbike'}, {'company': ['Nextbike GmbH'], 'href': '/v2/networks/nextbike-wolfenschiessen', 'id': 'nextbike-wolfenschiessen', 'location': {'city': 'Wolfenschiessen', 'country': 'CH', 'latitude': 46.9079, 'longitude': 8.39767}, 'name': 'Nextbike'}, {'company': ['Nextbike GmbH'], 'href': '/v2/networks/nextbike-oberdorf', 'id': 'nextbike-oberdorf', 'location': {'city': 'Oberdorf', 'country': 'CH', 'latitude': 46.9563, 'longitude': 8.3884}, 'name': 'Nextbike'}, {'company': ['Nextbike GmbH'], 'href': '/v2/networks/nextbike-giessen', 'id': 'nextbike-giessen', 'location': {'city': 'Gießen', 'country': 'DE', 'latitude': 50.5943, 'longitude': 8.68097}, 'name': 'Nextbike'}, {'company': ['Nextbike GmbH'], 'href': '/v2/networks/vrn-weinheim', 'id': 'vrn-weinheim', 'location': {'city': 'Weinheim', 'country': 'DE', 'latitude': 49.545, 'longitude': 8.66027}, 'name': 'VRN'}, {'company': ['Nextbike GmbH'], 'href': '/v2/networks/nextbike-cardiff', 'id': 'nextbike-cardiff', 'location': {'city': 'Cardiff', 'country': 'GB', 'latitude': 51.4848, 'longitude': -3.19062}, 'name': 'Nextbike'}, {'company': ['Nextbike GmbH'], 'href': '/v2/networks/vrn-hockenheim', 'id': 'vrn-hockenheim', 'location': {'city': 'Hockenheim', 'country': 'DE', 'latitude': 49.3227, 'longitude': 8.54258}, 'name': 'VRN'}, {'company': ['Nextbike GmbH'], 'href': '/v2/networks/vrn-schwetzingen', 'id': 'vrn-schwetzingen', 'location': {'city': 'Schwetzingen', 'country': 'DE', 'latitude': 49.3863, 'longitude': 8.5756}, 'name': 'VRN'}, {'company': ['Nextbike GmbH'], 'href': '/v2/networks/nextbike-ennetmoos', 'id': 'nextbike-ennetmoos', 'location': {'city': 'Ennetmoos', 'country': 'CH', 'latitude': 46.9573, 'longitude': 8.3377}, 'name': 'Nextbike'}, {'company': ['Nextbike GmbH'], 'href': '/v2/networks/vrn-eppelheim', 'id': 'vrn-eppelheim', 'location': {'city': 'Eppelheim', 'country': 'DE', 'latitude': 49.4025, 'longitude': 8.6331}, 'name': 'VRN'}, {'company': ['Nextbike GmbH'], 'href': '/v2/networks/nextbike-university-of-surrey', 'id': 'nextbike-university-of-surrey', 'location': {'city': 'Surrey', 'country': 'GB', 'latitude': 51.2422, 'longitude': -0.590594}, 'name': 'Nextbike'}, {'company': ['Nextbike GmbH'], 'href': '/v2/networks/santander-cycles-swansea-swansea-university', 'id': 'santander-cycles-swansea-swansea-university', 'location': {'city': 'Swansea', 'country': 'GB', 'latitude': 51.6106, 'longitude': -3.9764}, 'name': 'Santander Cycles'}, {'company': ['Nextbike GmbH'], 'href': '/v2/networks/nextbike-erfurt', 'id': 'nextbike-erfurt', 'location': {'city': 'Erfurt', 'country': 'DE', 'latitude': 50.9785, 'longitude': 11.0334}, 'name': 'Nextbike'}, {'company': ['Nextbike GmbH'], 'href': '/v2/networks/bl-bike-banja-luka', 'id': 'bl-bike-banja-luka', 'location': {'city': 'Banja Luka', 'country': 'BA', 'latitude': 44.775, 'longitude': 17.1994}, 'name': 'BL bike'}, {'company': ['Nextbike GmbH'], 'href': '/v2/networks/lahr-pedelecs-lahr', 'id': 'lahr-pedelecs-lahr', 'location': {'city': 'Lahr', 'country': 'DE', 'latitude': 48.3396, 'longitude': 7.87376}, 'name': 'Nextbike'}, {'company': ['Nextbike GmbH'], 'href': '/v2/networks/berlin-buch-campus-berlin-buch', 'id': 'berlin-buch-campus-berlin-buch', 'location': {'city': 'Berlin', 'country': 'DE', 'latitude': 52.6364, 'longitude': 13.5029}, 'name': 'Berlin-Buch Campus'}, {'company': ['Nextbike GmbH'], 'href': '/v2/networks/lviv-odessa', 'id': 'lviv-odessa', 'location': {'city': 'Odessa', 'country': 'UA', 'latitude': 46.463, 'longitude': 30.7042}, 'name': 'Nextbike'}, {'company': ['Nextbike GmbH'], 'href': '/v2/networks/zielonogorski-rower-miejski-zielona-gora', 'id': 'zielonogorski-rower-miejski-zielona-gora', 'location': {'city': 'Zielona Góra', 'country': 'PL', 'latitude': 51.9381, 'longitude': 15.5048}, 'name': 'Zielonogórski Rower Miejski'}, {'company': ['Nextbike GmbH'], 'href': '/v2/networks/santander-monchengladbach', 'id': 'santander-monchengladbach', 'location': {'city': 'Mönchengladbach', 'country': 'DE', 'latitude': 51.1817, 'longitude': 6.43578}, 'name': 'Santander Mönchengladbach'}, {'company': ['Nextbike GmbH'], 'href': '/v2/networks/nomagobikes-celje', 'id': 'nomagobikes-celje', 'location': {'city': 'Celje', 'country': 'SI', 'latitude': 46.2388, 'longitude': 15.2693}, 'name': 'NomagoBikes'}, {'company': ['Nextbike GmbH'], 'href': '/v2/networks/bilbon-bizi', 'id': 'bilbon-bizi', 'location': {'city': 'Bilbao', 'country': 'ES', 'latitude': 43.2752, 'longitude': -2.93528}, 'name': 'BilbonBizi'}, {'company': ['Nextbike GmbH'], 'href': '/v2/networks/nomagobikes-lasko', 'id': 'nomagobikes-lasko', 'location': {'city': 'Laško', 'country': 'SI', 'latitude': 46.1458, 'longitude': 15.2312}, 'name': 'NomagoBikes'}, {'company': ['Nextbike GmbH'], 'href': '/v2/networks/nextbike-lippstadt', 'id': 'nextbike-lippstadt', 'location': {'city': 'Lippstadt', 'country': 'DE', 'latitude': 51.6755, 'longitude': 8.34394}, 'name': 'Nextbike'}, {'company': ['Nextbike GmbH'], 'href': '/v2/networks/bikekia-zilina', 'id': 'bikekia-zilina', 'location': {'city': 'Žilina', 'country': 'SK', 'latitude': 49.2217, 'longitude': 18.7572}, 'name': 'BikeKia'}, {'company': ['Nextbike GmbH'], 'href': '/v2/networks/koninski-rower-miejski-konin', 'id': 'koninski-rower-miejski-konin', 'location': {'city': 'Konin', 'country': 'PL', 'latitude': 52.2284, 'longitude': 18.2553}, 'name': 'Koniński Rower Miejski'}, {'company': ['Nextbike GmbH'], 'href': '/v2/networks/nextbike-vinnytsia', 'id': 'nextbike-vinnytsia', 'location': {'city': 'Vinnytsia', 'country': 'UA', 'latitude': 49.2328, 'longitude': 28.4625}, 'name': 'Nextbike'}, {'company': ['Nextbike GmbH'], 'href': '/v2/networks/nextbike-bonn', 'id': 'nextbike-bonn', 'location': {'city': 'Bonn', 'country': 'DE', 'latitude': 50.7367, 'longitude': 7.09541}, 'name': 'Nextbike'}, {'company': ['Nextbike GmbH'], 'href': '/v2/networks/tarnowski-rower-miejski-tarnow', 'id': 'tarnowski-rower-miejski-tarnow', 'location': {'city': 'Tarnów', 'country': 'PL', 'latitude': 50.0113, 'longitude': 20.9728}, 'name': 'Tarnowski Rower Miejski'}, {'company': ['Nextbike GmbH'], 'href': '/v2/networks/kolo-marek-marki', 'id': 'kolo-marek-marki', 'location': {'city': 'Marki', 'country': 'PL', 'latitude': 52.3256, 'longitude': 21.1089}, 'name': 'Koło Marek'}, {'company': ['Nextbike GmbH'], 'href': '/v2/networks/rowerowe-lodzkie-rl-koluszki', 'id': 'rowerowe-lodzkie-rl-koluszki', 'location': {'city': 'Koluszki', 'country': 'PL', 'latitude': 51.7401, 'longitude': 19.835}, 'name': 'Rowerowe Łódzkie'}, {'company': ['Nextbike GmbH'], 'href': '/v2/networks/rowerowe-lodzkie-rl-lask', 'id': 'rowerowe-lodzkie-rl-lask', 'location': {'city': 'Łask', 'country': 'PL', 'latitude': 51.5893, 'longitude': 19.142}, 'name': 'Rowerowe Łódzkie'}, {'company': ['Nextbike GmbH'], 'href': '/v2/networks/rowerowe-lodzkie-rl-lowicz', 'id': 'rowerowe-lodzkie-rl-lowicz', 'location': {'city': 'Łowicz', 'country': 'PL', 'latitude': 52.1057, 'longitude': 19.9381}, 'name': 'Rowerowe Łódzkie'}, {'company': ['Nextbike GmbH'], 'href': '/v2/networks/rowerowe-lodzkie-rl-pabianice', 'id': 'rowerowe-lodzkie-rl-pabianice', 'location': {'city': 'Pabianice', 'country': 'PL', 'latitude': 51.6651, 'longitude': 19.3548}, 'name': 'Rowerowe Łódzkie'}, {'company': ['Nextbike GmbH'], 'href': '/v2/networks/rowerowe-lodzkie-rl-sieradz', 'id': 'rowerowe-lodzkie-rl-sieradz', 'location': {'city': 'Sieradz', 'country': 'PL', 'latitude': 51.5902, 'longitude': 18.7382}, 'name': 'Rowerowe Łódzkie'}, {'company': ['Nextbike GmbH'], 'href': '/v2/networks/rowerowe-lodzkie-rl-skierniewice', 'id': 'rowerowe-lodzkie-rl-skierniewice', 'location': {'city': 'Skierniewice', 'country': 'PL', 'latitude': 51.9539, 'longitude': 20.1469}, 'name': 'Rowerowe Łódzkie'}, {'company': ['Nextbike GmbH'], 'href': '/v2/networks/rowerowe-lodzkie-rl-zdunska-wola', 'id': 'rowerowe-lodzkie-rl-zdunska-wola', 'location': {'city': 'Zduńska Wola', 'country': 'PL', 'latitude': 51.6011, 'longitude': 18.938}, 'name': 'Rowerowe Łódzkie'}, {'company': ['Nextbike GmbH'], 'href': '/v2/networks/rowerowe-lodzkie-rl-zgierz', 'id': 'rowerowe-lodzkie-rl-zgierz', 'location': {'city': 'Zgierz', 'country': 'PL', 'latitude': 51.8551, 'longitude': 19.4068}, 'name': 'Rowerowe Łódzkie'}, {'company': ['Nextbike GmbH'], 'href': '/v2/networks/rowerowe-lodzkie-rl-kutno', 'id': 'rowerowe-lodzkie-rl-kutno', 'location': {'city': 'Kutno', 'country': 'PL', 'latitude': 52.2317, 'longitude': 19.3564}, 'name': 'Rowerowe Łódzkie'}, {'company': ['Nextbike GmbH'], 'href': '/v2/networks/rowerowe-lodzkie-rl-lodz-rl', 'id': 'rowerowe-lodzkie-rl-lodz-rl', 'location': {'city': 'Łódź', 'country': 'PL', 'latitude': 51.7674, 'longitude': 19.4575}, 'name': 'Rowerowe Łódzkie'}, {'company': ['Nextbike GmbH'], 'href': '/v2/networks/frelo-freiburg', 'id': 'frelo-freiburg', 'location': {'city': 'Freiburg', 'country': 'DE', 'latitude': 47.9958, 'longitude': 7.84453}, 'name': 'Frelo'}, {'company': ['Comunicare S.r.l.'], 'href': '/v2/networks/bicincitta-trieste', 'id': 'bicincitta-trieste', 'location': {'city': 'Trieste', 'country': 'IT', 'latitude': 45.6495, 'longitude': 13.7768}, 'name': 'BiTS', 'source': 'https://www.bicincitta.com/frmLeStazioni.aspx?ID=266'}, {'company': ['Nextbike GmbH'], 'href': '/v2/networks/mobibike-dresden', 'id': 'mobibike-dresden', 'location': {'city': 'Dresden', 'country': 'DE', 'latitude': 51.0535, 'longitude': 13.7387}, 'name': 'MOBIbike'}, {'company': ['ЗАО «СитиБайк»'], 'href': '/v2/networks/velobike-murmansk', 'id': 'velobike-murmansk', 'location': {'city': 'Murmansk', 'country': 'RU', 'latitude': 68.968, 'longitude': 33.074}, 'name': 'Velobike'}, {'company': ['ЗАО «СитиБайк»'], 'href': '/v2/networks/velobike-nizhniy-novgorod', 'id': 'velobike-nizhniy-novgorod', 'location': {'city': 'Nizhniy Novgorod', 'country': 'RU', 'latitude': 56.194, 'longitude': 44.003}, 'name': 'Velobike'}, {'company': ['Nextbike GmbH'], 'href': '/v2/networks/nextbike-ivano-frankivsk', 'id': 'nextbike-ivano-frankivsk', 'location': {'city': 'Ivano Frankivsk', 'country': 'UA', 'latitude': 48.9281, 'longitude': 24.7103}, 'name': 'Nextbike'}, {'company': ['Velobike.kz, LLP', 'Smoove'], 'href': '/v2/networks/almatybike', 'id': 'almatybike', 'location': {'city': 'Almaty', 'country': 'KZ', 'latitude': 43.239101, 'longitude': 76.9268076}, 'name': 'Almatybike'}, {'company': ['Velobike.kz, LLP', 'Smoove'], 'href': '/v2/networks/shymkentbike', 'id': 'shymkentbike', 'location': {'city': 'Shymkent', 'country': 'KZ', 'latitude': 42.3184, 'longitude': 69.5978}, 'name': 'Shymkentbike'}, {'company': ['Motivate LLC'], 'gbfs_href': 'https://gbfs.baywheels.com/gbfs/gbfs.json', 'href': '/v2/networks/bay-wheels', 'id': 'bay-wheels', 'location': {'city': 'San Francisco Bay Area, CA', 'country': 'US', 'latitude': 37.7141454, 'longitude': -122.25}, 'name': 'Bay Wheels'}, {'company': ['Smoove'], 'gbfs_href': 'https://vannes-gbfs.klervi.net/gbfs/gbfs.json', 'href': '/v2/networks/veloceo', 'id': 'veloceo', 'location': {'city': 'Vannes', 'country': 'FR', 'latitude': 47.6559, 'longitude': -2.7603}, 'name': 'Vélocéo'}, {'company': ['PBSC Urban Solutions'], 'gbfs_href': 'https://monaco.publicbikesystem.net/customer/ube/gbfs/v1/', 'href': '/v2/networks/monabike', 'id': 'monabike', 'location': {'city': 'Monaco', 'country': 'MC', 'latitude': 43.733333, 'longitude': 7.416667}, 'name': 'MonaBike'}, {'company': ['Ecovelo'], 'ebikes': True, 'gbfs_href': 'https://api.gbfs.v1.ecovelo.mobi/gbfs/tlpmobilites', 'href': '/v2/networks/tlp-velo', 'id': 'tlp-velo', 'location': {'city': 'Tarbes, Lourdes', 'country': 'FR', 'latitude': 43.23, 'longitude': 0.07}, 'name': 'Tarbes et Lourdes vls'}, {'company': ['Ecovelo'], 'ebikes': True, 'gbfs_href': 'https://api.gbfs.v1.ecovelo.mobi/gbfs/zebullo', 'href': '/v2/networks/zebullo', 'id': 'zebullo', 'location': {'city': 'Reims', 'country': 'FR', 'latitude': 49.2628, 'longitude': 4.0347}, 'name': 'ZébullO'}, {'company': ['Ecovelo'], 'ebikes': True, 'gbfs_href': 'https://api.gbfs.v1.ecovelo.mobi/gbfs/calais', 'href': '/v2/networks/velectin', 'id': 'velectin', 'location': {'city': 'Calais', 'country': 'FR', 'latitude': 50.948056, 'longitude': 1.856389}, 'name': 'Velect’in'}, {'company': ['Ecovelo'], 'gbfs_href': 'https://api.gbfs.v1.ecovelo.mobi/gbfs/beb', 'href': '/v2/networks/rubis-velo', 'id': 'rubis-velo', 'location': {'city': 'Bourg-en-Bresse', 'country': 'FR', 'latitude': 46.2056, 'longitude': 5.2289}, 'name': \"Rubis'Vélo\"}, {'company': ['Ecovelo'], 'ebikes': True, 'gbfs_href': 'https://api.gbfs.v1.ecovelo.mobi/gbfs/tanlib', 'href': '/v2/networks/tanlib', 'id': 'tanlib', 'location': {'city': 'Niort', 'country': 'FR', 'latitude': 46.3258, 'longitude': -0.4606}, 'name': 'Vélo tanlib'}, {'company': ['Ecovelo'], 'gbfs_href': 'https://api.gbfs.v1.ecovelo.mobi/gbfs/marseillan', 'href': '/v2/networks/marseillan', 'id': 'marseillan', 'location': {'city': 'Marseillan', 'country': 'FR', 'latitude': 43.3572, 'longitude': 3.5283}, 'name': 'Marseillan vélo libre-service'}, {'company': ['Ecovelo'], 'ebikes': True, 'gbfs_href': 'https://api.gbfs.v1.ecovelo.mobi/gbfs/via', 'href': '/v2/networks/via-velo', 'id': 'via-velo', 'location': {'city': \"Val d'Ille-Aubigné\", 'country': 'FR', 'latitude': 48.2181, 'longitude': -1.6947}, 'name': 'VIA Vélo'}, {'company': ['Ecovelo'], 'ebikes': True, 'gbfs_href': 'https://api.gbfs.v1.ecovelo.mobi/gbfs/velyceo', 'href': '/v2/networks/velyceo', 'id': 'velyceo', 'location': {'city': 'Saint-Nazaire', 'country': 'FR', 'latitude': 47.2806, 'longitude': -2.2086}, 'name': 'vélYcéo'}, {'company': ['Ecovelo'], 'ebikes': True, 'gbfs_href': 'https://api.gbfs.v1.ecovelo.mobi/gbfs/velocite', 'href': '/v2/networks/velocite-laon', 'id': 'velocite-laon', 'location': {'city': 'Laon', 'country': 'FR', 'latitude': 49.5639, 'longitude': 3.6244}, 'name': \"Vélo'Cité\"}, {'company': ['Ecovelo'], 'ebikes': True, 'gbfs_href': 'https://api.gbfs.v1.ecovelo.mobi/gbfs/labaule', 'href': '/v2/networks/velo-baulois', 'id': 'velo-baulois', 'location': {'city': 'La Baule-Escoublac', 'country': 'FR', 'latitude': 47.2867, 'longitude': -2.3908}, 'name': 'Le Vélo Baulois'}, {'company': ['Ecovelo'], 'ebikes': True, 'gbfs_href': 'https://api.gbfs.v1.ecovelo.mobi/gbfs/lemarcel', 'href': '/v2/networks/le-marcel', 'id': 'le-marcel', 'location': {'city': 'Troyes', 'country': 'FR', 'latitude': 48.2997, 'longitude': 4.0792}, 'name': 'Le Marcel'}, {'company': ['Ecovelo'], 'ebikes': True, 'gbfs_href': 'https://api.gbfs.v1.ecovelo.mobi/gbfs/tempovelo', 'href': '/v2/networks/tempo-velo', 'id': 'tempo-velo', 'location': {'city': 'Agen', 'country': 'FR', 'latitude': 44.2049, 'longitude': 0.6212}, 'name': 'Tempo Vélo'}, {'company': ['Ecovelo'], 'gbfs_href': 'https://api.gbfs.v1.ecovelo.mobi/gbfs/semo', 'href': '/v2/networks/semo', 'id': 'semo', 'location': {'city': \"Communauté d'agglomération Seine-Eure\", 'country': 'FR', 'latitude': 49.22, 'longitude': 1.17}, 'name': 'semo'}, {'company': ['Ecovelo'], 'ebikes': True, 'gbfs_href': 'https://api.gbfs.v1.ecovelo.mobi/gbfs/cyclovis', 'href': '/v2/networks/cyclovis', 'id': 'cyclovis', 'location': {'city': 'Soissons', 'country': 'FR', 'latitude': 49.3817, 'longitude': 3.3236}, 'name': 'Cyclovis'}, {'company': ['Ecovelo'], 'ebikes': True, 'gbfs_href': 'https://api.gbfs.v1.ecovelo.mobi/gbfs/chantrerie', 'href': '/v2/networks/chantrerie-captainbike', 'id': 'chantrerie-captainbike', 'location': {'city': 'La Chantrerie, Nantes', 'country': 'FR', 'latitude': 47.2868203, 'longitude': -1.5210917}, 'name': 'Chantrerie VLS (Captain Bike)'}, {'company': ['Ecovelo'], 'ebikes': True, 'gbfs_href': 'https://api.gbfs.v1.ecovelo.mobi/gbfs/saclay', 'href': '/v2/networks/saclay-captainbike', 'id': 'saclay-captainbike', 'location': {'city': 'Paris-Saclay', 'country': 'FR', 'latitude': 48.7098082, 'longitude': 2.211366}, 'name': 'Saclay VLS (Captain Bike)'}, {'company': ['CIGL ESCH'], 'ebikes': True, 'href': '/v2/networks/velok', 'id': 'velok', 'location': {'city': 'Esch-sur-alzette', 'country': 'LU', 'latitude': 49.5024, 'longitude': 5.9722}, 'name': \"Vël'Ok\", 'source': 'https://docs.api.tfl.lu/v1/en/RESTAPIs/BikePoint/'}, {'company': ['Nextbike GmbH'], 'href': '/v2/networks/wienmobil-rad', 'id': 'wienmobil-rad', 'location': {'city': 'Wien', 'country': 'AT', 'latitude': 48.2081743, 'longitude': 16.3738189}, 'name': 'WienMobil Rad'}, {'company': None, 'gbfs_href': 'https://gbfs.urbansharing.com/bikeverona.it/gbfs.json', 'href': '/v2/networks/bikeverona', 'id': 'bikeverona', 'location': {'city': 'Verona', 'country': 'IT', 'latitude': 45.438611, 'longitude': 10.992778}, 'name': 'Verona Bike'}, {'company': ['Nextbike GmbH'], 'href': '/v2/networks/sprottenflotte-kiel', 'id': 'sprottenflotte-kiel', 'location': {'city': 'Kiel', 'country': 'DE', 'latitude': 54.2837, 'longitude': 10.13213}, 'name': 'Sprottenflotte'}, {'company': ['TaM', 'Smoove'], 'gbfs_href': 'https://montpellier-fr-smoove.klervi.net/gbfs/gbfs.json', 'href': '/v2/networks/velomagg', 'id': 'velomagg', 'location': {'city': 'Montpellier', 'country': 'FR', 'latitude': 43.6119, 'longitude': 3.8772}, 'name': 'Vélomagg'}, {'company': ['Bcycle, LLC', 'RTC Southern Nevada, Inc'], 'gbfs_href': 'https://gbfs.bcycle.com/bcycle_rtcbikeshare/gbfs.json', 'href': '/v2/networks/rtc-bike-share', 'id': 'rtc-bike-share', 'location': {'city': 'Las Vegas, NV', 'country': 'US', 'latitude': 36.1438, 'longitude': -115.15682}, 'name': 'RTC Bike Share'}, {'company': ['Bcycle, LLC', 'Embark, Inc'], 'gbfs_href': 'https://gbfs.bcycle.com/bcycle_spokies/gbfs.json', 'href': '/v2/networks/spokies', 'id': 'spokies', 'location': {'city': 'Oklahoma, OK', 'country': 'US', 'latitude': 35.46436, 'longitude': -97.50888}, 'name': 'Spokies BCycle'}, {'company': ['Leonbici Nextbike Gmbh Y Autobuses Urbanos De Leon S.a. Ute'], 'href': '/v2/networks/alsa-nextbike-leon', 'id': 'alsa-nextbike-leon', 'location': {'city': 'León', 'country': 'ES', 'latitude': 42.5987263, 'longitude': -5.5670959}, 'name': 'Alsa nextbike León'}, {'company': ['Strasbourg Mobilités'], 'gbfs_href': 'https://transport.data.gouv.fr/gbfs/strasbourg/gbfs.json', 'href': '/v2/networks/velhop', 'id': 'velhop', 'location': {'city': 'Strasbourg', 'country': 'FR', 'latitude': 48.583611, 'longitude': 7.748056}, 'name': 'Vélhop'}, {'company': None, 'gbfs_href': 'https://belfort-gbfs.klervi.net/gbfs/gbfs.json', 'href': '/v2/networks/optymo', 'id': 'optymo', 'location': {'city': 'Belfort', 'country': 'FR', 'latitude': 47.641111, 'longitude': 6.849444}, 'name': 'Optymo'}, {'company': ['Nextbike GmbH'], 'href': '/v2/networks/biker-bialystok', 'id': 'biker-bialystok', 'location': {'city': 'Białystok', 'country': 'PL', 'latitude': 53.1262, 'longitude': 23.1427}, 'name': 'BIKER Białystok Poland'}, {'company': ['Nextbike GmbH'], 'href': '/v2/networks/nextbike-prostejov', 'id': 'nextbike-prostejov', 'location': {'city': 'Prostejov', 'country': 'CZ', 'latitude': 49.4722, 'longitude': 17.1055}, 'name': 'nextbike Prostejov'}, {'company': ['Nextbike GmbH'], 'href': '/v2/networks/bike-katowice', 'id': 'bike-katowice', 'location': {'city': 'Katowice', 'country': 'PL', 'latitude': 50.2594, 'longitude': 19.0215}, 'name': 'Katowice Bike Poland'}, {'company': ['Nextbike GmbH'], 'href': '/v2/networks/nextbike-focsani', 'id': 'nextbike-focsani', 'location': {'city': 'Focșani', 'country': 'RO', 'latitude': 45.6947, 'longitude': 27.1851}, 'name': 'nextbike Romania'}, {'company': ['Nextbike GmbH'], 'href': '/v2/networks/grad-vukovar', 'id': 'grad-vukovar', 'location': {'city': 'Vukovar', 'country': 'HR', 'latitude': 45.3575, 'longitude': 18.9895}, 'name': 'Grad Vukovar (Croatia)'}, {'company': ['Nextbike GmbH'], 'href': '/v2/networks/system-rowerow-miejskich-w-pszczynie-pszczyna', 'id': 'system-rowerow-miejskich-w-pszczynie-pszczyna', 'location': {'city': 'Pszczyna', 'country': 'PL', 'latitude': 49.9757, 'longitude': 18.9463}, 'name': 'System Rowerów Miejskich w Pszczynie Poland'}, {'company': ['Nextbike GmbH'], 'href': '/v2/networks/tyski-rower-miejski-tychy', 'id': 'tyski-rower-miejski-tychy', 'location': {'city': 'Tychy', 'country': 'PL', 'latitude': 50.1124, 'longitude': 18.9972}, 'name': 'Tyski Rower Miejski Poland'}, {'company': ['Nextbike GmbH'], 'href': '/v2/networks/czestochowski-rower-miejski-czestochowa', 'id': 'czestochowski-rower-miejski-czestochowa', 'location': {'city': 'Częstochowa', 'country': 'PL', 'latitude': 50.812, 'longitude': 19.1375}, 'name': 'Częstochowski Rower Miejski Poland'}, {'company': ['Nextbike GmbH'], 'href': '/v2/networks/pruszkowski-rower-miejski-pruszkow', 'id': 'pruszkowski-rower-miejski-pruszkow', 'location': {'city': 'Pruszków', 'country': 'PL', 'latitude': 52.1622, 'longitude': 20.8062}, 'name': 'Pruszkowski Rower Miejski Poland'}, {'company': ['Nextbike GmbH'], 'href': '/v2/networks/ok-bike-kedzierzyn-kozle', 'id': 'ok-bike-kedzierzyn-kozle', 'location': {'city': 'Kędzierzyn-Koźle', 'country': 'PL', 'latitude': 50.3392, 'longitude': 18.2352}, 'name': 'OK Bike Poland'}, {'company': ['Nextbike GmbH'], 'href': '/v2/networks/grad-zapresic', 'id': 'grad-zapresic', 'location': {'city': 'Zaprešić', 'country': 'HR', 'latitude': 45.8622, 'longitude': 15.8049}, 'name': 'Grad Zaprešić (Croatia)'}, {'company': ['Nextbike GmbH'], 'href': '/v2/networks/porec-bike-share-porec', 'id': 'porec-bike-share-porec', 'location': {'city': 'Poreč', 'country': 'HR', 'latitude': 45.2292, 'longitude': 13.6035}, 'name': 'Porec bike share (Croatia)'}, {'company': ['Nextbike GmbH'], 'href': '/v2/networks/kaliski-rower-miejski-kalisz', 'id': 'kaliski-rower-miejski-kalisz', 'location': {'city': 'Kalisz', 'country': 'PL', 'latitude': 51.7525, 'longitude': 18.0341}, 'name': 'Kaliski Rower Miejski Poland'}, {'company': ['Nextbike GmbH'], 'href': '/v2/networks/rower-miejski-w-ostrowie-wielkopolskim-ostrow-wielkopolski', 'id': 'rower-miejski-w-ostrowie-wielkopolskim-ostrow-wielkopolski', 'location': {'city': 'Ostrów Wielkopolski', 'country': 'PL', 'latitude': 51.65, 'longitude': 17.8253}, 'name': 'Rower Miejski w Ostrowie Wielkopolskim Poland'}, {'company': ['Nextbike GmbH'], 'href': '/v2/networks/santander-brunel', 'id': 'santander-brunel', 'location': {'city': 'Brunel University', 'country': 'GB', 'latitude': 51.5463, 'longitude': -0.48048}, 'name': 'Santander Cycles - Brunel'}, {'company': ['Nextbike GmbH'], 'href': '/v2/networks/koszalinski-rower-miejski-koszalin', 'id': 'koszalinski-rower-miejski-koszalin', 'location': {'city': 'Koszalin', 'country': 'PL', 'latitude': 54.2026, 'longitude': 16.1678}, 'name': 'Koszaliński Rower Miejski Poland'}, {'company': ['Nextbike GmbH'], 'href': '/v2/networks/ki-rower-miejski-sosnowiec', 'id': 'ki-rower-miejski-sosnowiec', 'location': {'city': 'Sosnowiec', 'country': 'PL', 'latitude': 50.278, 'longitude': 19.1345}, 'name': 'Sosnowiecki Rower Miejski Poland'}, {'company': ['Nextbike GmbH'], 'href': '/v2/networks/pobiedziski-rower-gminny-pobiedziska', 'id': 'pobiedziski-rower-gminny-pobiedziska', 'location': {'city': 'Pobiedziska', 'country': 'PL', 'latitude': 52.4765, 'longitude': 17.2866}, 'name': 'Pobiedziski Rower Gminny Poland'}, {'company': ['Nextbike GmbH'], 'href': '/v2/networks/siemianowicki-rower-miejski-siemianowice-slaskie', 'id': 'siemianowicki-rower-miejski-siemianowice-slaskie', 'location': {'city': 'Siemianowice Śląskie', 'country': 'PL', 'latitude': 50.3031, 'longitude': 19.0222}, 'name': 'Siemianowicki Rower Miejski Poland'}, {'company': ['Nextbike GmbH'], 'href': '/v2/networks/piotrkowski-rower-miejski-piotrkow-trybunalski', 'id': 'piotrkowski-rower-miejski-piotrkow-trybunalski', 'location': {'city': 'Piotrków Trybunalski', 'country': 'PL', 'latitude': 51.3975, 'longitude': 19.6779}, 'name': 'Piotrkowski Rower Miejski Poland'}, {'company': ['Nextbike GmbH'], 'href': '/v2/networks/i-rower-miejski-prm-plock', 'id': 'i-rower-miejski-prm-plock', 'location': {'city': 'Płock', 'country': 'PL', 'latitude': 52.5445, 'longitude': 19.7017}, 'name': 'Płocki Rower Miejski (PRM) Poland'}, {'company': ['Nextbike GmbH'], 'href': '/v2/networks/plocki-rower-miejski-prm-orlen-plock', 'id': 'plocki-rower-miejski-prm-orlen-plock', 'location': {'city': 'Orlen Płock', 'country': 'PL', 'latitude': 52.5466, 'longitude': 19.7047}, 'name': 'Płocki Rower Miejski (PRM) Poland'}, {'company': ['Nextbike GmbH'], 'href': '/v2/networks/i-rower-miejski-otwock', 'id': 'i-rower-miejski-otwock', 'location': {'city': 'Otwock', 'country': 'PL', 'latitude': 52.1034, 'longitude': 21.2692}, 'name': 'Otwocki Rower Miejski Poland'}, {'company': ['Nextbike GmbH'], 'href': '/v2/networks/ciechanowski-rower-miejski-ciechanow', 'id': 'ciechanowski-rower-miejski-ciechanow', 'location': {'city': 'Ciechanów', 'country': 'PL', 'latitude': 52.8763, 'longitude': 20.6102}, 'name': 'Ciechanowski Rower Miejski Poland'}, {'company': ['Nextbike GmbH'], 'href': '/v2/networks/zyrardowski-rower-miejski-zyrardow', 'id': 'zyrardowski-rower-miejski-zyrardow', 'location': {'city': 'Żyrardów', 'country': 'PL', 'latitude': 52.0503, 'longitude': 20.4464}, 'name': 'Żyrardowski Rower Miejski Poland'}, {'company': ['Nextbike GmbH'], 'href': '/v2/networks/sap-walldorf', 'id': 'sap-walldorf', 'location': {'city': 'Walldorf', 'country': 'DE', 'latitude': 49.2945, 'longitude': 8.62324}, 'name': 'SAP Walldorf'}, {'company': ['Nextbike GmbH'], 'href': '/v2/networks/opcina-dugopolje', 'id': 'opcina-dugopolje', 'location': {'city': 'Dugopolje', 'country': 'HR', 'latitude': 43.5872, 'longitude': 16.5879}, 'name': 'Općina Dugopolje (Croatia)'}, {'company': ['Nextbike GmbH'], 'href': '/v2/networks/opcina-pitomaca', 'id': 'opcina-pitomaca', 'location': {'city': 'Pitomača', 'country': 'HR', 'latitude': 45.9077, 'longitude': 17.2622}, 'name': 'Općina Pitomača (Croatia)'}, {'company': ['Nextbike GmbH'], 'href': '/v2/networks/nomago-ljubljana', 'id': 'nomago-ljubljana', 'location': {'city': 'Ljubljana', 'country': 'SI', 'latitude': 46.0577, 'longitude': 14.5013}, 'name': 'Nomago Bikes - LJUBLJANA'}, {'company': ['Nextbike GmbH'], 'href': '/v2/networks/system-roweru-gminnego-pielgrzymka', 'id': 'system-roweru-gminnego-pielgrzymka', 'location': {'city': 'Pielgrzymka', 'country': 'PL', 'latitude': 51.1185, 'longitude': 15.8153}, 'name': 'System Roweru Gminnego Poland'}, {'company': ['Nextbike GmbH'], 'href': '/v2/networks/rvk', 'id': 'rvk', 'location': {'city': 'RVK e-Bike', 'country': 'DE', 'latitude': 50.7069, 'longitude': 6.87607}, 'name': 'RVK'}, {'company': ['Nextbike GmbH'], 'href': '/v2/networks/partnerzy-nextbike-polska-wolt', 'id': 'partnerzy-nextbike-polska-wolt', 'location': {'city': 'Wolt', 'country': 'PL', 'latitude': 52.2984, 'longitude': 21.0498}, 'name': 'Partnerzy Nextbike Polska'}, {'company': ['Nextbike GmbH'], 'href': '/v2/networks/wupsi', 'id': 'wupsi', 'location': {'city': 'Leverkusen', 'country': 'DE', 'latitude': 51.0732, 'longitude': 7.00814}, 'name': 'wupsiRad Leverkusen'}, {'company': ['Nextbike GmbH'], 'href': '/v2/networks/lovesharing-canary-islands-gran-canaria', 'id': 'lovesharing-canary-islands-gran-canaria', 'location': {'city': 'Gran Canaria', 'country': 'ES', 'latitude': 27.8154, 'longitude': -15.5182}, 'name': 'Lovesharing (Canary Islands)'}, {'company': ['Nextbike GmbH'], 'href': '/v2/networks/lovesharing-canary-islands-lanzarote', 'id': 'lovesharing-canary-islands-lanzarote', 'location': {'city': 'Lanzarote', 'country': 'ES', 'latitude': 29.0491, 'longitude': -13.5729}, 'name': 'Lovesharing (Canary Islands)'}, {'company': ['Nextbike GmbH'], 'href': '/v2/networks/lovesharing-canary-islands-fuerteventura', 'id': 'lovesharing-canary-islands-fuerteventura', 'location': {'city': 'Fuerteventura', 'country': 'ES', 'latitude': 28.3584, 'longitude': -14.064}, 'name': 'Lovesharing (Canary Islands)'}, {'company': ['VAG Verkehrs-Aktiengesellschaft'], 'href': '/v2/networks/vagrad', 'id': 'vagrad', 'location': {'city': 'Nürnberg', 'country': 'DE', 'latitude': 49.4487, 'longitude': 11.0794}, 'name': 'VAG_Rad'}, {'company': ['Nextbike GmbH'], 'href': '/v2/networks/grad-split', 'id': 'grad-split', 'location': {'city': 'Split', 'country': 'HR', 'latitude': 43.5162, 'longitude': 16.4637}, 'name': 'Grad Split (Croatia)'}, {'company': ['Nextbike GmbH'], 'href': '/v2/networks/grad-split-solin', 'id': 'grad-split-solin', 'location': {'city': 'Solin', 'country': 'HR', 'latitude': 43.5441, 'longitude': 16.4833}, 'name': 'Grad Split (Croatia)'}, {'company': ['Nextbike GmbH'], 'href': '/v2/networks/grad-split-opcina-klis', 'id': 'grad-split-opcina-klis', 'location': {'city': 'Općina Klis', 'country': 'HR', 'latitude': 43.5605, 'longitude': 16.5269}, 'name': 'Grad Split (Croatia)'}, {'company': ['Nextbike GmbH'], 'href': '/v2/networks/grad-split-opcina-hrvace', 'id': 'grad-split-opcina-hrvace', 'location': {'city': 'Općina Hrvace', 'country': 'HR', 'latitude': 43.7553, 'longitude': 16.6197}, 'name': 'Grad Split (Croatia)'}, {'company': ['Nextbike GmbH'], 'href': '/v2/networks/grad-split-opcina-otok-dalmatinski', 'id': 'grad-split-opcina-otok-dalmatinski', 'location': {'city': 'Općina Otok Dalmatinski', 'country': 'HR', 'latitude': 43.6889, 'longitude': 16.7361}, 'name': 'Grad Split (Croatia)'}, {'company': ['Nextbike GmbH'], 'href': '/v2/networks/grad-split-sinj', 'id': 'grad-split-sinj', 'location': {'city': 'Sinj', 'country': 'HR', 'latitude': 43.7031, 'longitude': 16.6364}, 'name': 'Grad Split (Croatia)'}, {'company': ['Nextbike GmbH'], 'href': '/v2/networks/grad-split-hvar', 'id': 'grad-split-hvar', 'location': {'city': 'Hvar', 'country': 'HR', 'latitude': 43.1882, 'longitude': 16.6295}, 'name': 'Grad Split (Croatia)'}, {'company': ['Nextbike GmbH'], 'href': '/v2/networks/grad-split-podstrana', 'id': 'grad-split-podstrana', 'location': {'city': 'Podstrana', 'country': 'HR', 'latitude': 43.4934, 'longitude': 16.5598}, 'name': 'Grad Split (Croatia)'}, {'company': ['Nextbike GmbH'], 'href': '/v2/networks/grad-split-trogir', 'id': 'grad-split-trogir', 'location': {'city': 'Trogir', 'country': 'HR', 'latitude': 43.5234, 'longitude': 16.2476}, 'name': 'Grad Split (Croatia)'}, {'company': ['Nextbike GmbH'], 'href': '/v2/networks/nextbike-ostrava', 'id': 'nextbike-ostrava', 'location': {'city': 'Ostrava', 'country': 'CZ', 'latitude': 49.8344, 'longitude': 18.2823}, 'name': 'nextbike Ostrava'}, {'company': ['Nextbike GmbH'], 'href': '/v2/networks/nextbike-ostrava-hlucin', 'id': 'nextbike-ostrava-hlucin', 'location': {'city': 'Hlučín', 'country': 'CZ', 'latitude': 49.898, 'longitude': 18.1923}, 'name': 'nextbike Ostrava'}, {'company': ['Nextbike GmbH'], 'href': '/v2/networks/nextbike-ostrava-vresina', 'id': 'nextbike-ostrava-vresina', 'location': {'city': 'Vřesina', 'country': 'CZ', 'latitude': 49.825, 'longitude': 18.1206}, 'name': 'nextbike Ostrava'}, {'company': ['Nextbike GmbH'], 'href': '/v2/networks/ski-rower-miejski-lubon', 'id': 'ski-rower-miejski-lubon', 'location': {'city': 'Luboń', 'country': 'PL', 'latitude': 52.3461, 'longitude': 16.8765}, 'name': 'Luboński Rower Miejski Poland'}, {'company': ['Nextbike GmbH'], 'href': '/v2/networks/ibizi-ibiza-city', 'id': 'ibizi-ibiza-city', 'location': {'city': 'Ibiza-City', 'country': 'ES', 'latitude': 38.9066, 'longitude': 1.42046}, 'name': 'ibizi'}, {'company': ['Nextbike GmbH'], 'href': '/v2/networks/sprintrad', 'id': 'sprintrad', 'location': {'city': 'Hannover', 'country': 'DE', 'latitude': 52.3721, 'longitude': 9.73569}, 'name': 'sprintRAD'}, {'company': ['Nextbike GmbH'], 'href': '/v2/networks/komornicki-system-rowerowy-komorniki', 'id': 'komornicki-system-rowerowy-komorniki', 'location': {'city': 'Komorniki', 'country': 'PL', 'latitude': 52.3347, 'longitude': 16.8094}, 'name': 'Komornicki System Rowerowy Poland'}, {'company': ['Nextbike GmbH'], 'href': '/v2/networks/nextbike-havirov', 'id': 'nextbike-havirov', 'location': {'city': 'Havířov', 'country': 'CZ', 'latitude': 49.7799, 'longitude': 18.4328}, 'name': 'nextbike Havířov'}, {'company': ['Nextbike GmbH'], 'href': '/v2/networks/nextbike-berounsko', 'id': 'nextbike-berounsko', 'location': {'city': 'Berounsko', 'country': 'CZ', 'latitude': 49.9616, 'longitude': 14.064}, 'name': 'nextbike Berounsko'}, {'company': ['Nextbike GmbH'], 'href': '/v2/networks/ready4green-graben', 'id': 'ready4green-graben', 'location': {'city': 'Graben', 'country': 'DE', 'latitude': 51.1242, 'longitude': 10.8984}, 'name': 'Graben - ready4green'}, {'company': ['Nextbike GmbH'], 'href': '/v2/networks/oleski-rower-miejski-olesno', 'id': 'oleski-rower-miejski-olesno', 'location': {'city': 'Olesno', 'country': 'PL', 'latitude': 50.8773, 'longitude': 18.4212}, 'name': 'Oleski Rower Miejski Poland'}, {'company': ['Nextbike GmbH'], 'href': '/v2/networks/styr-staell-goeteborg', 'id': 'styr-staell-goeteborg', 'location': {'city': 'Göteborg', 'country': 'SE', 'latitude': 57.6902, 'longitude': 11.9881}, 'name': 'Styr & Ställ (Sweden, Göteborg)'}, {'company': ['Nextbike GmbH'], 'href': '/v2/networks/nibelungen-bike-braunschweig', 'id': 'nibelungen-bike-braunschweig', 'location': {'city': 'Braunschweig', 'country': 'DE', 'latitude': 52.2597, 'longitude': 10.5307}, 'name': 'Nibelungen-Bike'}, {'company': ['Nextbike GmbH'], 'href': '/v2/networks/nextbike-brno', 'id': 'nextbike-brno', 'location': {'city': 'Brno', 'country': 'CZ', 'latitude': 49.1911, 'longitude': 16.6148}, 'name': 'nextbike Brno'}, {'company': ['Nextbike GmbH'], 'href': '/v2/networks/nextbike-brno-kurim', 'id': 'nextbike-brno-kurim', 'location': {'city': 'Kuřim', 'country': 'CZ', 'latitude': 49.2994, 'longitude': 16.5368}, 'name': 'nextbike Brno'}, {'company': ['Nextbike GmbH'], 'href': '/v2/networks/nextbike-praha', 'id': 'nextbike-praha', 'location': {'city': 'Praha', 'country': 'CZ', 'latitude': 50.0592, 'longitude': 14.5761}, 'name': 'nextbike Praha'}, {'company': ['Nextbike GmbH'], 'href': '/v2/networks/nextbike-praha-ricany', 'id': 'nextbike-praha-ricany', 'location': {'city': 'Říčany', 'country': 'CZ', 'latitude': 49.9976, 'longitude': 14.6685}, 'name': 'nextbike Praha'}, {'company': ['Nextbike GmbH'], 'href': '/v2/networks/nextbike-olomouc', 'id': 'nextbike-olomouc', 'location': {'city': 'Olomouc', 'country': 'CZ', 'latitude': 49.5929, 'longitude': 17.2459}, 'name': 'nextbike Olomouc'}, {'company': ['Nextbike GmbH'], 'href': '/v2/networks/nextbike-kladno', 'id': 'nextbike-kladno', 'location': {'city': 'Kladno', 'country': 'CZ', 'latitude': 50.1435, 'longitude': 14.1082}, 'name': 'nextbike Kladno'}, {'company': ['Nextbike GmbH'], 'href': '/v2/networks/nextbike-opava', 'id': 'nextbike-opava', 'location': {'city': 'Opava', 'country': 'CZ', 'latitude': 49.9289, 'longitude': 18.2634}, 'name': 'nextbike Opava'}, {'company': ['Nextbike GmbH'], 'href': '/v2/networks/nextbike-bielefeld', 'id': 'nextbike-bielefeld', 'location': {'city': 'Bielefeld', 'country': 'DE', 'latitude': 52.0257, 'longitude': 8.53286}, 'name': 'meinSiggi'}, {'company': ['Nextbike GmbH'], 'href': '/v2/networks/yoy-san-luis-potosi', 'id': 'yoy-san-luis-potosi', 'location': {'city': 'San Luis Potosi', 'country': 'MX', 'latitude': 22.438, 'longitude': -100.514}, 'name': 'YOY - San Luis Potosi'}, {'company': ['Nextbike GmbH'], 'href': '/v2/networks/yoy-san-luis-potosi-cancun', 'id': 'yoy-san-luis-potosi-cancun', 'location': {'city': 'Cancún', 'country': 'MX', 'latitude': 21.1675, 'longitude': -86.8498}, 'name': 'YOY - San Luis Potosi'}, {'company': ['Nextbike GmbH'], 'href': '/v2/networks/bergisches-e-bike', 'id': 'bergisches-e-bike', 'location': {'city': 'Bergisches e-Bike', 'country': 'DE', 'latitude': 51.0192, 'longitude': 7.18025}, 'name': 'Bergisches e-Bike'}, {'company': ['Nextbike GmbH'], 'href': '/v2/networks/nextbike-pardubice', 'id': 'nextbike-pardubice', 'location': {'city': 'Pardubice', 'country': 'CZ', 'latitude': 50.0343, 'longitude': 15.7812}, 'name': 'nextbike Pardubice'}, {'company': ['Nextbike GmbH'], 'href': '/v2/networks/nextbike-hradec-kralove', 'id': 'nextbike-hradec-kralove', 'location': {'city': 'Hradec Králové', 'country': 'CZ', 'latitude': 50.2079, 'longitude': 15.8334}, 'name': 'nextbike Hradec Králové'}, {'company': ['Nextbike GmbH'], 'href': '/v2/networks/nextbike-mladoboleslavsko-mlada-boleslav', 'id': 'nextbike-mladoboleslavsko-mlada-boleslav', 'location': {'city': 'Mladá Boleslav', 'country': 'CZ', 'latitude': 50.4278, 'longitude': 14.8999}, 'name': 'nextbike Mladoboleslavsko'}, {'company': ['Nextbike GmbH'], 'href': '/v2/networks/nextbike-mladoboleslavsko-mnichovo-hradiste', 'id': 'nextbike-mladoboleslavsko-mnichovo-hradiste', 'location': {'city': 'Mnichovo Hradiště', 'country': 'CZ', 'latitude': 50.5218, 'longitude': 14.9741}, 'name': 'nextbike Mladoboleslavsko'}, {'company': ['Nextbike GmbH'], 'href': '/v2/networks/oeynrad-bad-oeynhausen', 'id': 'oeynrad-bad-oeynhausen', 'location': {'city': 'Bad Oeynhausen', 'country': 'DE', 'latitude': 52.2051, 'longitude': 8.80074}, 'name': 'Oeynrad'}, {'company': ['Nextbike GmbH'], 'href': '/v2/networks/rsvg-bike', 'id': 'rsvg-bike', 'location': {'city': 'RSVG', 'country': 'DE', 'latitude': 50.7669, 'longitude': 7.37457}, 'name': 'RSVG-Bike'}, {'company': ['Nextbike GmbH'], 'href': '/v2/networks/citybikelinz', 'id': 'citybikelinz', 'location': {'city': 'Linz', 'country': 'AT', 'latitude': 48.3003, 'longitude': 14.2843}, 'name': 'city bike Linz'}, {'company': ['Nextbike GmbH'], 'href': '/v2/networks/velopark-drobeta', 'id': 'velopark-drobeta', 'location': {'city': 'Drobeta', 'country': 'RO', 'latitude': 44.6326, 'longitude': 22.6564}, 'name': 'Drobeta Velopark'}, {'company': ['Nextbike GmbH'], 'href': '/v2/networks/nomago-gorica', 'id': 'nomago-gorica', 'location': {'city': 'Nova Gorica', 'country': 'SI', 'latitude': 45.9576, 'longitude': 13.6406}, 'name': 'Nomago Bikes - GO2GO'}, {'company': ['Nextbike GmbH'], 'href': '/v2/networks/saturn', 'id': 'saturn', 'location': {'city': 'Saturn', 'country': 'RO', 'latitude': 43.82, 'longitude': 28.7445}, 'name': 'Saturn'}, {'company': ['Nextbike GmbH'], 'href': '/v2/networks/nextbike-frydek-mistek', 'id': 'nextbike-frydek-mistek', 'location': {'city': 'Frýdek-Místek', 'country': 'CZ', 'latitude': 49.6832, 'longitude': 18.3457}, 'name': 'nextbike Frýdek-Místek'}, {'company': ['Nextbike GmbH'], 'href': '/v2/networks/nextbike-uherske-hradiste', 'id': 'nextbike-uherske-hradiste', 'location': {'city': 'Uherské Hradiště', 'country': 'CZ', 'latitude': 49.0678, 'longitude': 17.4665}, 'name': 'nextbike Uherské Hradiště'}, {'company': ['Nextbike GmbH'], 'href': '/v2/networks/nextbike-zlin', 'id': 'nextbike-zlin', 'location': {'city': 'Zlín', 'country': 'CZ', 'latitude': 49.238, 'longitude': 17.6788}, 'name': 'nextbike Zlín'}, {'company': ['Nextbike GmbH'], 'href': '/v2/networks/nextbike-krnov', 'id': 'nextbike-krnov', 'location': {'city': 'Krnov', 'country': 'CZ', 'latitude': 50.0703, 'longitude': 17.8837}, 'name': 'nextbike Krnov'}, {'company': ['Nextbike GmbH'], 'href': '/v2/networks/eifel', 'id': 'eifel', 'location': {'city': 'Eifel e-Bike', 'country': 'DE', 'latitude': 50.5771, 'longitude': 6.64673}, 'name': 'Eifel e-Bike'}, {'company': ['Nextbike GmbH'], 'href': '/v2/networks/nextbike-rychnovsko', 'id': 'nextbike-rychnovsko', 'location': {'city': 'Rychnovsko', 'country': 'CZ', 'latitude': 50.1668, 'longitude': 16.2828}, 'name': 'nextbike Rychnovsko'}, {'company': ['Nextbike GmbH'], 'href': '/v2/networks/nextbike-pisek', 'id': 'nextbike-pisek', 'location': {'city': 'Písek', 'country': 'CZ', 'latitude': 49.3051, 'longitude': 14.1463}, 'name': 'nextbike Písek'}, {'company': ['Nextbike GmbH'], 'href': '/v2/networks/nextbike-jihlava', 'id': 'nextbike-jihlava', 'location': {'city': 'Jihlava', 'country': 'CZ', 'latitude': 49.4078, 'longitude': 15.6061}, 'name': 'nextbike Jihlava'}, {'company': ['Nextbike GmbH'], 'href': '/v2/networks/nomago-zanaprej', 'id': 'nomago-zanaprej', 'location': {'city': 'Zagorje ob Savi', 'country': 'SI', 'latitude': 46.1392, 'longitude': 14.9785}, 'name': 'Nomago Bikes - ZANAPREJ'}, {'company': ['Nextbike GmbH'], 'href': '/v2/networks/rower-powiatowy-sokolow-podlaski', 'id': 'rower-powiatowy-sokolow-podlaski', 'location': {'city': 'Sokołów Podlaski', 'country': 'PL', 'latitude': 52.4082, 'longitude': 22.2525}, 'name': 'Rower Powiatowy Sokołów Podlaski'}, {'company': ['Nextbike GmbH'], 'href': '/v2/networks/nextbike-bergamo', 'id': 'nextbike-bergamo', 'location': {'city': 'Bergamo', 'country': 'IT', 'latitude': 45.6986, 'longitude': 9.67567}, 'name': 'nextbike Bergamo'}, {'company': ['Nextbike GmbH'], 'href': '/v2/networks/emobi-osijek', 'id': 'emobi-osijek', 'location': {'city': 'Osijek', 'country': 'HR', 'latitude': 45.554, 'longitude': 18.6943}, 'name': 'eMobi (Croatia)'}, {'company': ['Nextbike GmbH'], 'href': '/v2/networks/arval-scandicci', 'id': 'arval-scandicci', 'location': {'city': 'Scandicci', 'country': 'IT', 'latitude': 43.7701, 'longitude': 11.1592}, 'name': 'ARVAL'}, {'company': ['Bremer Tageszeitungen AG'], 'href': '/v2/networks/nextbike-oldenburg', 'id': 'nextbike-oldenburg', 'location': {'city': 'Oldenburg', 'country': 'DE', 'latitude': 53.1448, 'longitude': 8.22485}, 'name': 'OLi-Bike'}, {'company': ['Nextbike GmbH'], 'href': '/v2/networks/nextbike-urdaibai', 'id': 'nextbike-urdaibai', 'location': {'city': 'Urdaibai', 'country': 'ES', 'latitude': 43.395, 'longitude': -2.68815}, 'name': 'BBK Klimabizi'}, {'company': ['Nextbike GmbH'], 'href': '/v2/networks/mvrad-hq', 'id': 'mvrad-hq', 'location': {'city': 'MV-Rad', 'country': 'DE', 'latitude': 53.6707, 'longitude': 12.4255}, 'name': 'MV-Rad'}, {'company': ['Nextbike GmbH'], 'href': '/v2/networks/mvrad-anklam', 'id': 'mvrad-anklam', 'location': {'city': 'Anklam', 'country': 'DE', 'latitude': 53.8614, 'longitude': 13.6907}, 'name': 'MV-Rad'}, {'company': ['Nextbike GmbH'], 'href': '/v2/networks/greifswald', 'id': 'greifswald', 'location': {'city': 'Greifswald (StadtRad)', 'country': 'DE', 'latitude': 54.0961, 'longitude': 13.3787}, 'name': 'StadtRad Greifswald'}, {'company': ['Nextbike GmbH'], 'href': '/v2/networks/nextbike-dvur-kralove', 'id': 'nextbike-dvur-kralove', 'location': {'city': 'Dvůr Králové', 'country': 'CZ', 'latitude': 50.4278, 'longitude': 15.8162}, 'name': 'nextbike Dvůr Králové'}, {'company': ['Nextbike GmbH'], 'href': '/v2/networks/vvtregiorad-kufstein', 'id': 'vvtregiorad-kufstein', 'location': {'city': 'Kufstein', 'country': 'AT', 'latitude': 47.583, 'longitude': 12.1692}, 'name': 'VVT REGIORAD Tirol'}, {'company': ['Nextbike GmbH'], 'href': '/v2/networks/vvtregiorad-ellmau', 'id': 'vvtregiorad-ellmau', 'location': {'city': 'Ellmau', 'country': 'AT', 'latitude': 47.5134, 'longitude': 12.3025}, 'name': 'VVT REGIORAD Tirol'}, {'company': ['Nextbike GmbH'], 'href': '/v2/networks/ski-rower-chelm', 'id': 'ski-rower-chelm', 'location': {'city': 'Chełm', 'country': 'PL', 'latitude': 51.1318, 'longitude': 23.4755}, 'name': 'Chełmski Rower'}, {'company': ['Nextbike GmbH'], 'href': '/v2/networks/nextbike-vrchlabi', 'id': 'nextbike-vrchlabi', 'location': {'city': 'Vrchlabí', 'country': 'CZ', 'latitude': 50.6222, 'longitude': 15.6126}, 'name': 'nextbike Vrchlabí'}, {'company': ['Nextbike GmbH'], 'href': '/v2/networks/winsenrad', 'id': 'winsenrad', 'location': {'city': 'Winsen (Luhe)', 'country': 'DE', 'latitude': 53.3547, 'longitude': 10.2067}, 'name': 'WinsenRad'}, {'company': ['Nextbike GmbH'], 'href': '/v2/networks/loker-lomza', 'id': 'loker-lomza', 'location': {'city': 'Łomża', 'country': 'PL', 'latitude': 53.1649, 'longitude': 22.0729}, 'name': 'ŁoKeR - Łomża'}, {'company': ['Nextbike GmbH'], 'href': '/v2/networks/nomago-kranjska-gora', 'id': 'nomago-kranjska-gora', 'location': {'city': 'Kranjska Gora', 'country': 'SI', 'latitude': 46.4846, 'longitude': 13.7836}, 'name': 'Nomago Bikes - KRANJSKA GORA'}, {'company': ['Nextbike GmbH'], 'href': '/v2/networks/nomago-portoroz', 'id': 'nomago-portoroz', 'location': {'city': 'Portorož', 'country': 'SI', 'latitude': 45.5054, 'longitude': 13.5979}, 'name': 'Nomago Bikes - PORTOROZ'}, {'company': ['Nextbike GmbH'], 'href': '/v2/networks/vrn-landau', 'id': 'vrn-landau', 'location': {'city': 'Landau in der Pfalz', 'country': 'DE', 'latitude': 49.1975, 'longitude': 8.11693}, 'name': 'VRN'}, {'company': None, 'gbfs_href': 'https://nitro.openvelo.org/aachen/velocity/v2/gbfs.json', 'href': '/v2/networks/velocity-aachen', 'id': 'velocity-aachen', 'location': {'city': 'Aachen', 'country': 'DE', 'latitude': 50.776667, 'longitude': 6.083611}, 'name': 'Velocity'}, {'company': None, 'gbfs_href': 'https://quebec.publicbikesystem.net/customer/gbfs/v2/gbfs.json', 'href': '/v2/networks/avelo-quebec', 'id': 'avelo-quebec', 'location': {'city': 'Québec', 'country': 'CA', 'latitude': 46.81305, 'longitude': -71.2168}, 'name': 'àVélo'}, {'company': None, 'gbfs_href': 'https://saguenay.publicbikesystem.net/customer/gbfs/v2/gbfs.json', 'href': '/v2/networks/acces-velo-saguenay', 'id': 'acces-velo-saguenay', 'location': {'city': 'Saguenay', 'country': 'CA', 'latitude': 48.433333, 'longitude': -71.083333}, 'name': 'Accès Vélo'}, {'company': ['Vilvolt CA Épinal', \"Communauté d'agglomération Épinal\", 'Fifteen SAS'], 'href': '/v2/networks/vilvolt', 'id': 'vilvolt', 'location': {'city': 'Epinal', 'country': 'FR', 'latitude': 48.1833, 'longitude': 6.4508}, 'name': 'Vilvolt'}, {'company': ['VeloBaie', 'Fifteen SAS'], 'gbfs_href': '', 'href': '/v2/networks/velobaie', 'id': 'velobaie', 'location': {'city': 'Saint-Brieuc', 'country': 'FR', 'latitude': 48.514, 'longitude': -2.765}, 'name': 'VeloBaie'}, {'company': ['Donkey Republic'], 'gbfs_href': 'https://stables.donkey.bike/api/public/gbfs/donkey_gh/gbfs', 'href': '/v2/networks/donkey-gh', 'id': 'donkey-gh', 'location': {'city': 'Gent', 'country': 'BE', 'latitude': 51.05, 'longitude': 3.7303}, 'name': 'Donkey Republic - Gent'}, {'company': ['JCDecaux'], 'href': '/v2/networks/mbajk', 'id': 'mbajk', 'license': {'name': 'Open Licence', 'url': 'https://developer.jcdecaux.com/#/opendata/licence'}, 'location': {'city': 'Maribor', 'country': 'SI', 'latitude': 46.5547, 'longitude': 15.6459}, 'name': 'MBajk', 'source': 'https://developer.jcdecaux.com'}]}\n"
     ]
    }
   ],
   "source": [
    "import requests\n",
    "\n",
    "# import urllib library\n",
    "from urllib.request import urlopen\n",
    "  \n",
    "# import json\n",
    "import json\n",
    "# store the URL in url as \n",
    "# parameter for urlopen\n",
    "url = \"http://api.citybik.es/v2/networks\"\n",
    "  \n",
    "# store the response of URL\n",
    "response = urlopen(url)\n",
    "  \n",
    "# storing the JSON response \n",
    "# from url in data\n",
    "data_json = json.loads(response.read())\n",
    "  \n",
    "# print the json response\n",
    "print(data_json)\n"
   ]
  },
  {
   "cell_type": "code",
   "execution_count": 88,
   "id": "6e478d69",
   "metadata": {},
   "outputs": [],
   "source": [
    "cities_available = []\n",
    "for i in range(len(data_json['networks'])):\n",
    "    cities_available.append(data_json['networks'][i]['location']['city'])"
   ]
  },
  {
   "cell_type": "code",
   "execution_count": 159,
   "id": "615d8706",
   "metadata": {},
   "outputs": [
    {
     "data": {
      "text/html": [
       "<div>\n",
       "<style scoped>\n",
       "    .dataframe tbody tr th:only-of-type {\n",
       "        vertical-align: middle;\n",
       "    }\n",
       "\n",
       "    .dataframe tbody tr th {\n",
       "        vertical-align: top;\n",
       "    }\n",
       "\n",
       "    .dataframe thead th {\n",
       "        text-align: right;\n",
       "    }\n",
       "</style>\n",
       "<table border=\"1\" class=\"dataframe\">\n",
       "  <thead>\n",
       "    <tr style=\"text-align: right;\">\n",
       "      <th></th>\n",
       "      <th>Cities_with_Networks</th>\n",
       "    </tr>\n",
       "  </thead>\n",
       "  <tbody>\n",
       "    <tr>\n",
       "      <th>0</th>\n",
       "      <td>moscow</td>\n",
       "    </tr>\n",
       "    <tr>\n",
       "      <th>1</th>\n",
       "      <td>baerum</td>\n",
       "    </tr>\n",
       "    <tr>\n",
       "      <th>2</th>\n",
       "      <td>siena</td>\n",
       "    </tr>\n",
       "    <tr>\n",
       "      <th>3</th>\n",
       "      <td>maroussi</td>\n",
       "    </tr>\n",
       "    <tr>\n",
       "      <th>4</th>\n",
       "      <td>slough</td>\n",
       "    </tr>\n",
       "    <tr>\n",
       "      <th>...</th>\n",
       "      <td>...</td>\n",
       "    </tr>\n",
       "    <tr>\n",
       "      <th>610</th>\n",
       "      <td>saguenay</td>\n",
       "    </tr>\n",
       "    <tr>\n",
       "      <th>611</th>\n",
       "      <td>epinal</td>\n",
       "    </tr>\n",
       "    <tr>\n",
       "      <th>612</th>\n",
       "      <td>saint-brieuc</td>\n",
       "    </tr>\n",
       "    <tr>\n",
       "      <th>613</th>\n",
       "      <td>gent</td>\n",
       "    </tr>\n",
       "    <tr>\n",
       "      <th>614</th>\n",
       "      <td>maribor</td>\n",
       "    </tr>\n",
       "  </tbody>\n",
       "</table>\n",
       "<p>615 rows × 1 columns</p>\n",
       "</div>"
      ],
      "text/plain": [
       "    Cities_with_Networks\n",
       "0                 moscow\n",
       "1                 baerum\n",
       "2                  siena\n",
       "3               maroussi\n",
       "4                 slough\n",
       "..                   ...\n",
       "610             saguenay\n",
       "611               epinal\n",
       "612         saint-brieuc\n",
       "613                 gent\n",
       "614              maribor\n",
       "\n",
       "[615 rows x 1 columns]"
      ]
     },
     "execution_count": 159,
     "metadata": {},
     "output_type": "execute_result"
    }
   ],
   "source": [
    "from unidecode import unidecode\n",
    "list_of_cities_available = pd.DataFrame(cities_available,columns=['Cities_with_Networks'])['Cities_with_Networks'].unique()\n",
    "list_of_cities_available = pd.DataFrame(cities_available,columns=['Cities_with_Networks'])\n",
    "list_of_cities_available['Cities_with_Networks'] = list_of_cities_available['Cities_with_Networks'].str.lower()\n",
    "list_of_cities_available['Cities_with_Networks'] = [unidecode(x) for x in list_of_cities_available['Cities_with_Networks']]\n",
    "list_of_cities_available"
   ]
  },
  {
   "cell_type": "code",
   "execution_count": 160,
   "id": "3a841b03",
   "metadata": {},
   "outputs": [],
   "source": [
    "from unidecode import unidecode\n",
    "major_cities = pd.read_csv('World_Population_By_City.csv')\n",
    "major_cities['city'] = major_cities['city'].str.lower()\n",
    "major_cities['city'] = [unidecode(x) for x in major_cities['city']]\n",
    "final_cities = major_cities.merge(list_of_cities_available,left_on='city',right_on='Cities_with_Networks', how='left')\n",
    "# final_cities"
   ]
  },
  {
   "cell_type": "code",
   "execution_count": 176,
   "id": "58726755",
   "metadata": {},
   "outputs": [
    {
     "data": {
      "text/html": [
       "<div>\n",
       "<style scoped>\n",
       "    .dataframe tbody tr th:only-of-type {\n",
       "        vertical-align: middle;\n",
       "    }\n",
       "\n",
       "    .dataframe tbody tr th {\n",
       "        vertical-align: top;\n",
       "    }\n",
       "\n",
       "    .dataframe thead th {\n",
       "        text-align: right;\n",
       "    }\n",
       "</style>\n",
       "<table border=\"1\" class=\"dataframe\">\n",
       "  <thead>\n",
       "    <tr style=\"text-align: right;\">\n",
       "      <th></th>\n",
       "      <th>Distance</th>\n",
       "      <th>MajorCity</th>\n",
       "      <th>BikeCity</th>\n",
       "    </tr>\n",
       "  </thead>\n",
       "  <tbody>\n",
       "    <tr>\n",
       "      <th>22684</th>\n",
       "      <td>0</td>\n",
       "      <td>london</td>\n",
       "      <td>london</td>\n",
       "    </tr>\n",
       "    <tr>\n",
       "      <th>24</th>\n",
       "      <td>0</td>\n",
       "      <td>moscow</td>\n",
       "      <td>moscow</td>\n",
       "    </tr>\n",
       "    <tr>\n",
       "      <th>114920</th>\n",
       "      <td>0</td>\n",
       "      <td>salvador</td>\n",
       "      <td>salvador</td>\n",
       "    </tr>\n",
       "    <tr>\n",
       "      <th>32954</th>\n",
       "      <td>1</td>\n",
       "      <td>milan</td>\n",
       "      <td>milano</td>\n",
       "    </tr>\n",
       "    <tr>\n",
       "      <th>116444</th>\n",
       "      <td>0</td>\n",
       "      <td>guadalajara</td>\n",
       "      <td>guadalajara</td>\n",
       "    </tr>\n",
       "    <tr>\n",
       "      <th>289408</th>\n",
       "      <td>1</td>\n",
       "      <td>dublin</td>\n",
       "      <td>lublin</td>\n",
       "    </tr>\n",
       "    <tr>\n",
       "      <th>200040</th>\n",
       "      <td>0</td>\n",
       "      <td>fortaleza</td>\n",
       "      <td>fortaleza</td>\n",
       "    </tr>\n",
       "    <tr>\n",
       "      <th>158981</th>\n",
       "      <td>0</td>\n",
       "      <td>dublin</td>\n",
       "      <td>dublin</td>\n",
       "    </tr>\n",
       "    <tr>\n",
       "      <th>461438</th>\n",
       "      <td>0</td>\n",
       "      <td>bergamo</td>\n",
       "      <td>bergamo</td>\n",
       "    </tr>\n",
       "    <tr>\n",
       "      <th>185074</th>\n",
       "      <td>0</td>\n",
       "      <td>krakow</td>\n",
       "      <td>krakow</td>\n",
       "    </tr>\n",
       "    <tr>\n",
       "      <th>201267</th>\n",
       "      <td>0</td>\n",
       "      <td>aracaju</td>\n",
       "      <td>aracaju</td>\n",
       "    </tr>\n",
       "    <tr>\n",
       "      <th>197678</th>\n",
       "      <td>0</td>\n",
       "      <td>brasilia</td>\n",
       "      <td>brasilia</td>\n",
       "    </tr>\n",
       "    <tr>\n",
       "      <th>198551</th>\n",
       "      <td>0</td>\n",
       "      <td>goiania</td>\n",
       "      <td>goiania</td>\n",
       "    </tr>\n",
       "    <tr>\n",
       "      <th>133716</th>\n",
       "      <td>0</td>\n",
       "      <td>lisbon</td>\n",
       "      <td>lisbon</td>\n",
       "    </tr>\n",
       "    <tr>\n",
       "      <th>123977</th>\n",
       "      <td>0</td>\n",
       "      <td>bordeaux</td>\n",
       "      <td>bordeaux</td>\n",
       "    </tr>\n",
       "    <tr>\n",
       "      <th>56946</th>\n",
       "      <td>0</td>\n",
       "      <td>thessaloniki</td>\n",
       "      <td>thessaloniki</td>\n",
       "    </tr>\n",
       "    <tr>\n",
       "      <th>112565</th>\n",
       "      <td>0</td>\n",
       "      <td>recife</td>\n",
       "      <td>recife</td>\n",
       "    </tr>\n",
       "    <tr>\n",
       "      <th>50182</th>\n",
       "      <td>1</td>\n",
       "      <td>patna</td>\n",
       "      <td>patra</td>\n",
       "    </tr>\n",
       "    <tr>\n",
       "      <th>138153</th>\n",
       "      <td>0</td>\n",
       "      <td>valencia</td>\n",
       "      <td>valencia</td>\n",
       "    </tr>\n",
       "    <tr>\n",
       "      <th>26063</th>\n",
       "      <td>0</td>\n",
       "      <td>hamburg</td>\n",
       "      <td>hamburg</td>\n",
       "    </tr>\n",
       "    <tr>\n",
       "      <th>367566</th>\n",
       "      <td>1</td>\n",
       "      <td>shimkent</td>\n",
       "      <td>shymkent</td>\n",
       "    </tr>\n",
       "    <tr>\n",
       "      <th>376738</th>\n",
       "      <td>1</td>\n",
       "      <td>lyon</td>\n",
       "      <td>laon</td>\n",
       "    </tr>\n",
       "    <tr>\n",
       "      <th>113249</th>\n",
       "      <td>0</td>\n",
       "      <td>sao paulo</td>\n",
       "      <td>sao paulo</td>\n",
       "    </tr>\n",
       "    <tr>\n",
       "      <th>173538</th>\n",
       "      <td>0</td>\n",
       "      <td>izmir</td>\n",
       "      <td>izmir</td>\n",
       "    </tr>\n",
       "    <tr>\n",
       "      <th>160448</th>\n",
       "      <td>0</td>\n",
       "      <td>abu dhabi</td>\n",
       "      <td>abu dhabi</td>\n",
       "    </tr>\n",
       "    <tr>\n",
       "      <th>307064</th>\n",
       "      <td>0</td>\n",
       "      <td>berlin</td>\n",
       "      <td>berlin</td>\n",
       "    </tr>\n",
       "    <tr>\n",
       "      <th>379321</th>\n",
       "      <td>1</td>\n",
       "      <td>aden</td>\n",
       "      <td>agen</td>\n",
       "    </tr>\n",
       "    <tr>\n",
       "      <th>309475</th>\n",
       "      <td>0</td>\n",
       "      <td>bhopal</td>\n",
       "      <td>bhopal</td>\n",
       "    </tr>\n",
       "    <tr>\n",
       "      <th>186767</th>\n",
       "      <td>0</td>\n",
       "      <td>medellin</td>\n",
       "      <td>medellin</td>\n",
       "    </tr>\n",
       "    <tr>\n",
       "      <th>155746</th>\n",
       "      <td>0</td>\n",
       "      <td>marseille</td>\n",
       "      <td>marseille</td>\n",
       "    </tr>\n",
       "  </tbody>\n",
       "</table>\n",
       "</div>"
      ],
      "text/plain": [
       "        Distance     MajorCity      BikeCity\n",
       "22684          0        london        london\n",
       "24             0        moscow        moscow\n",
       "114920         0      salvador      salvador\n",
       "32954          1         milan        milano\n",
       "116444         0   guadalajara   guadalajara\n",
       "289408         1        dublin        lublin\n",
       "200040         0     fortaleza     fortaleza\n",
       "158981         0        dublin        dublin\n",
       "461438         0       bergamo       bergamo\n",
       "185074         0        krakow        krakow\n",
       "201267         0       aracaju       aracaju\n",
       "197678         0      brasilia      brasilia\n",
       "198551         0       goiania       goiania\n",
       "133716         0        lisbon        lisbon\n",
       "123977         0      bordeaux      bordeaux\n",
       "56946          0  thessaloniki  thessaloniki\n",
       "112565         0        recife        recife\n",
       "50182          1         patna         patra\n",
       "138153         0      valencia      valencia\n",
       "26063          0       hamburg       hamburg\n",
       "367566         1      shimkent      shymkent\n",
       "376738         1          lyon          laon\n",
       "113249         0     sao paulo     sao paulo\n",
       "173538         0         izmir         izmir\n",
       "160448         0     abu dhabi     abu dhabi\n",
       "307064         0        berlin        berlin\n",
       "379321         1          aden          agen\n",
       "309475         0        bhopal        bhopal\n",
       "186767         0      medellin      medellin\n",
       "155746         0     marseille     marseille"
      ]
     },
     "execution_count": 176,
     "metadata": {},
     "output_type": "execute_result"
    }
   ],
   "source": [
    "import Levenshtein\n",
    "\n",
    "full_fuzzy = []\n",
    "for city in list_of_cities_available['Cities_with_Networks']:\n",
    "    for i in range(len(major_cities)):\n",
    "        distance = Levenshtein.distance(major_cities['city'][i],city)\n",
    "        major_city = major_cities['city'][i]\n",
    "        bike_city = city\n",
    "        full_fuzzy.append([distance,major_city,bike_city])\n",
    "        \n",
    "full_fuzzy = pd.DataFrame(full_fuzzy,columns=['Distance','MajorCity','BikeCity'])\n",
    "full_fuzzy[(full_fuzzy['Distance']<2)].sample(30)"
   ]
  },
  {
   "cell_type": "markdown",
   "id": "315d7cf7",
   "metadata": {},
   "source": [
    "# MF Notes:\n",
    "Potential population APIS\n",
    "- pop by country: https://raw.githubusercontent.com/datasets/population/master/data/population.csv\n",
    "- world population review by city https://worldpopulationreview.com/world-cities\n",
    "- used unidecode to standardized names of cities to account for any discrepancies between nomenclatures\n",
    "\n"
   ]
  },
  {
   "cell_type": "code",
   "execution_count": null,
   "id": "d97e259f",
   "metadata": {},
   "outputs": [],
   "source": []
  }
 ],
 "metadata": {
  "kernelspec": {
   "display_name": "Python 3 (ipykernel)",
   "language": "python",
   "name": "python3"
  },
  "language_info": {
   "codemirror_mode": {
    "name": "ipython",
    "version": 3
   },
   "file_extension": ".py",
   "mimetype": "text/x-python",
   "name": "python",
   "nbconvert_exporter": "python",
   "pygments_lexer": "ipython3",
   "version": "3.10.2"
  }
 },
 "nbformat": 4,
 "nbformat_minor": 5
}
